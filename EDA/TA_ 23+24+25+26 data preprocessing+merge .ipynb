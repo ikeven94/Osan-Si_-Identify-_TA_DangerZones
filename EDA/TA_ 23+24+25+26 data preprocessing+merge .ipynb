{
 "cells": [
  {
   "cell_type": "markdown",
   "metadata": {},
   "source": [
    "### 추정교통량 + 혼잡빈도강도 + 혼잡시간강도"
   ]
  },
  {
   "cell_type": "code",
   "execution_count": 1,
   "metadata": {},
   "outputs": [],
   "source": [
    "import pathlib\n",
    "import pandas as pd\n",
    "import geopandas as gpd\n",
    "import json"
   ]
  },
  {
   "cell_type": "code",
   "execution_count": 2,
   "metadata": {},
   "outputs": [],
   "source": [
    "import folium\n",
    "#from folium import Choropleth, Circle, Marker\n",
    "from folium.plugins import HeatMap, MarkerCluster\n",
    "import numpy as np\n",
    "import pandas as pd\n",
    "import matplotlib.pyplot as plt\n",
    "from shapely.geometry import Point\n",
    "from sklearn.cluster import KMeans\n",
    "import seaborn as sns\n",
    "import shapely\n",
    "import pydeck as pdk"
   ]
  },
  {
   "cell_type": "code",
   "execution_count": 3,
   "metadata": {},
   "outputs": [
    {
     "name": "stderr",
     "output_type": "stream",
     "text": [
      "/opt/app-root/lib/python3.6/site-packages/IPython/core/interactiveshell.py:3072: DtypeWarning: Columns (7) have mixed types. Specify dtype option on import or set low_memory=False.\n",
      "  interactivity=interactivity, compiler=compiler, result=result)\n"
     ]
    }
   ],
   "source": [
    "input_path = pathlib.Path('./data')\n",
    "주정차단속 = pd.read_csv(input_path.joinpath('1.오산시_주정차단속(2018~2020).csv'),encoding=\"utf-8\")\n",
    "어린이교통사고_격자 = gpd.read_file(input_path.joinpath('2.오산시_어린이교통사고_격자.geojson'),encoding=\"utf-8\")\n",
    "차량등록현황_격자 = gpd.read_file(input_path.joinpath('3.오산시_차량등록현황_격자.geojson'),encoding=\"utf-8\")\n",
    "거주인구격자_총인구 = gpd.read_file(input_path.joinpath('4.오산시_연령별_거주인구격자(총인구).geojson'),encoding=\"utf-8\")\n",
    "거주인구격자_유소년 = gpd.read_file(input_path.joinpath('5.오산시_연령별_거주인구격자(유소년).geojson'),encoding=\"utf-8\")\n",
    "거주인구격자_생산가능 = gpd.read_file(input_path.joinpath('6.오산시_연령별_거주인구격자(생산가능인구).geojson'),encoding=\"utf-8\")\n",
    "거주인구격자_고령 = gpd.read_file(input_path.joinpath('7.오산시_연령별_거주인구격자(고령).geojson'),encoding=\"utf-8\")\n",
    "유동인구 = pd.read_csv(input_path.joinpath('8.오산시_유동인구(2019).csv'),encoding=\"utf-8\")\n",
    "어린이보호구역 = pd.read_csv(input_path.joinpath('9.오산시_어린이보호구역.csv'),encoding=\"utf-8\")\n",
    "학교위치정보 = pd.read_csv(input_path.joinpath('10.오산시_학교위치정보.csv'),encoding=\"utf-8\")\n",
    "초등학교_통학구 = gpd.read_file(input_path.joinpath('11.오산시_초등학교_통학구.geojson'),encoding=\"utf-8\")\n",
    "중학교_학군 = gpd.read_file(input_path.joinpath('12.오산시_중학교_학군.geojson'),encoding=\"utf-8\")\n",
    "어린이집_유치원현황 = pd.read_csv(input_path.joinpath('13.오산시_어린이집_유치원현황.csv'),encoding=\"utf-8\")\n",
    "기상데이터 = pd.read_csv(input_path.joinpath('14.오산시_기상데이터(2010~2019).csv'),encoding=\"utf-8\")\n",
    "무인교통단속카메라 = pd.read_csv(input_path.joinpath('15.오산시_무인교통단속카메라.csv'),encoding=\"utf-8\")\n",
    "도로안전표지 = pd.read_csv(input_path.joinpath('16.오산시_도로안전표지표준데이터.csv'),encoding=\"utf-8\")\n",
    "횡단보도 = gpd.read_file(input_path.joinpath('17.오산시_횡단보도.geojson'),encoding=\"utf-8\")\n",
    "과속방지턱 = pd.read_csv(input_path.joinpath('18.오산시_과속방지턱표준데이터.csv'),encoding=\"utf-8\")\n",
    "신호등 = gpd.read_file(input_path.joinpath('19.오산시_신호등.geojson'),encoding=\"utf-8\")\n",
    "CCTV설치현황 = pd.read_csv(input_path.joinpath('20.오산시_CCTV설치현황.csv'),encoding=\"utf-8\")\n",
    "인도 = gpd.read_file(input_path.joinpath('21.오산시_인도.geojson'),encoding=\"utf-8\")\n",
    "버스정류장 = pd.read_csv(input_path.joinpath('22.오산시_버스정류장.csv'),encoding=\"utf-8\")\n",
    "상세도로망 = gpd.read_file(input_path.joinpath('23.오산시_상세도로망_LV6.geojson'),encoding=\"utf-8\")\n",
    "시간대별_추정교통량 = pd.read_csv(input_path.joinpath('24.평일_전일,시간대별_오산시_추정교통량_Level6.csv'),encoding=\"utf-8\")\n",
    "혼잡빈도강도 = pd.read_csv(input_path.joinpath('25.평일_전일_오산시_혼잡빈도강도_Level6.csv'),encoding=\"utf-8\")\n",
    "혼잡시간강도 = pd.read_csv(input_path.joinpath('26.평일_전일_오산시_혼잡시간강도_Level6.csv'),encoding=\"utf-8\")\n",
    "도로명주소_건물 = gpd.read_file(input_path.joinpath('27.오산시_도로명주소_건물.geojson'),encoding=\"utf-8\")\n",
    "건물연면적_격자 = gpd.read_file(input_path.joinpath('28.오산시_건물연면적_격자.geojson'),encoding=\"utf-8\")\n",
    "체육시설현황 = pd.read_csv(input_path.joinpath('29.오산시_체육시설현황.csv'),encoding=\"utf-8\")\n",
    "학원_및_교습소_현황 = pd.read_csv(input_path.joinpath('30.오산시_학원_및_교습소_현황.csv'),encoding=\"utf-8\")\n",
    "법정경계_시군구 = gpd.read_file(input_path.joinpath('31.오산시_법정경계(시군구).geojson'),encoding=\"utf-8\")\n",
    "행정경계_읍면동 = gpd.read_file(input_path.joinpath('32.오산시_행정경계(읍면동).geojson'),encoding=\"utf-8\")\n",
    "법정경계_읍면동 = gpd.read_file(input_path.joinpath('33.오산시_법정경계(읍면동).geojson'),encoding=\"utf-8\")\n",
    "지적도 = gpd.read_file(input_path.joinpath('34.오산시_지적도.geojson'),encoding=\"utf-8\")\n",
    "코드정의서 =  pd.read_excel(input_path.joinpath('35.코드정의서.xlsx'))"
   ]
  },
  {
   "cell_type": "markdown",
   "metadata": {},
   "source": [
    "- 24.시간대별 추정교통량 (24번 data)"
   ]
  },
  {
   "cell_type": "code",
   "execution_count": 4,
   "metadata": {},
   "outputs": [
    {
     "name": "stdout",
     "output_type": "stream",
     "text": [
      "<class 'pandas.core.frame.DataFrame'>\n",
      "RangeIndex: 81975 entries, 0 to 81974\n",
      "Data columns (total 13 columns):\n",
      "상세도로망_LinkID    81975 non-null int64\n",
      "도로등급            81975 non-null int64\n",
      "링크길이            81975 non-null float64\n",
      "도로명             69075 non-null object\n",
      "시도명             81975 non-null object\n",
      "시군구명            81975 non-null object\n",
      "읍면동명            81975 non-null object\n",
      "시간적범위           81975 non-null object\n",
      "평일주말            81975 non-null object\n",
      "전체 추정교통량        81975 non-null float64\n",
      "승용차 추정교통량       81975 non-null float64\n",
      "버스 추정교통량        81975 non-null float64\n",
      "화물차 추정교통량       81975 non-null float64\n",
      "dtypes: float64(5), int64(2), object(6)\n",
      "memory usage: 8.1+ MB\n"
     ]
    },
    {
     "data": {
      "text/html": [
       "<div>\n",
       "<style scoped>\n",
       "    .dataframe tbody tr th:only-of-type {\n",
       "        vertical-align: middle;\n",
       "    }\n",
       "\n",
       "    .dataframe tbody tr th {\n",
       "        vertical-align: top;\n",
       "    }\n",
       "\n",
       "    .dataframe thead th {\n",
       "        text-align: right;\n",
       "    }\n",
       "</style>\n",
       "<table border=\"1\" class=\"dataframe\">\n",
       "  <thead>\n",
       "    <tr style=\"text-align: right;\">\n",
       "      <th></th>\n",
       "      <th>상세도로망_LinkID</th>\n",
       "      <th>도로등급</th>\n",
       "      <th>링크길이</th>\n",
       "      <th>전체 추정교통량</th>\n",
       "      <th>승용차 추정교통량</th>\n",
       "      <th>버스 추정교통량</th>\n",
       "      <th>화물차 추정교통량</th>\n",
       "    </tr>\n",
       "  </thead>\n",
       "  <tbody>\n",
       "    <tr>\n",
       "      <th>count</th>\n",
       "      <td>8.197500e+04</td>\n",
       "      <td>81975.000000</td>\n",
       "      <td>81975.000000</td>\n",
       "      <td>81975.000000</td>\n",
       "      <td>81975.000000</td>\n",
       "      <td>81975.000000</td>\n",
       "      <td>81975.000000</td>\n",
       "    </tr>\n",
       "    <tr>\n",
       "      <th>mean</th>\n",
       "      <td>5.712641e+10</td>\n",
       "      <td>106.608112</td>\n",
       "      <td>0.120636</td>\n",
       "      <td>483.963280</td>\n",
       "      <td>405.490657</td>\n",
       "      <td>8.755831</td>\n",
       "      <td>69.716644</td>\n",
       "    </tr>\n",
       "    <tr>\n",
       "      <th>std</th>\n",
       "      <td>9.326520e+08</td>\n",
       "      <td>1.101092</td>\n",
       "      <td>0.153740</td>\n",
       "      <td>2069.872552</td>\n",
       "      <td>1676.803712</td>\n",
       "      <td>66.802921</td>\n",
       "      <td>347.093994</td>\n",
       "    </tr>\n",
       "    <tr>\n",
       "      <th>min</th>\n",
       "      <td>4.783447e+10</td>\n",
       "      <td>101.000000</td>\n",
       "      <td>0.004000</td>\n",
       "      <td>0.000000</td>\n",
       "      <td>0.000000</td>\n",
       "      <td>0.000000</td>\n",
       "      <td>0.000000</td>\n",
       "    </tr>\n",
       "    <tr>\n",
       "      <th>25%</th>\n",
       "      <td>5.712450e+10</td>\n",
       "      <td>107.000000</td>\n",
       "      <td>0.036000</td>\n",
       "      <td>24.470000</td>\n",
       "      <td>20.850000</td>\n",
       "      <td>0.030000</td>\n",
       "      <td>1.450000</td>\n",
       "    </tr>\n",
       "    <tr>\n",
       "      <th>50%</th>\n",
       "      <td>5.712523e+10</td>\n",
       "      <td>107.000000</td>\n",
       "      <td>0.074000</td>\n",
       "      <td>96.340000</td>\n",
       "      <td>83.780000</td>\n",
       "      <td>0.360000</td>\n",
       "      <td>10.600000</td>\n",
       "    </tr>\n",
       "    <tr>\n",
       "      <th>75%</th>\n",
       "      <td>5.713539e+10</td>\n",
       "      <td>107.000000</td>\n",
       "      <td>0.153000</td>\n",
       "      <td>357.700000</td>\n",
       "      <td>306.990000</td>\n",
       "      <td>3.320000</td>\n",
       "      <td>47.295000</td>\n",
       "    </tr>\n",
       "    <tr>\n",
       "      <th>max</th>\n",
       "      <td>9.000002e+10</td>\n",
       "      <td>108.000000</td>\n",
       "      <td>3.171000</td>\n",
       "      <td>106893.770000</td>\n",
       "      <td>80493.300000</td>\n",
       "      <td>5156.780000</td>\n",
       "      <td>21275.900000</td>\n",
       "    </tr>\n",
       "  </tbody>\n",
       "</table>\n",
       "</div>"
      ],
      "text/plain": [
       "       상세도로망_LinkID          도로등급          링크길이       전체 추정교통량     승용차 추정교통량  \\\n",
       "count  8.197500e+04  81975.000000  81975.000000   81975.000000  81975.000000   \n",
       "mean   5.712641e+10    106.608112      0.120636     483.963280    405.490657   \n",
       "std    9.326520e+08      1.101092      0.153740    2069.872552   1676.803712   \n",
       "min    4.783447e+10    101.000000      0.004000       0.000000      0.000000   \n",
       "25%    5.712450e+10    107.000000      0.036000      24.470000     20.850000   \n",
       "50%    5.712523e+10    107.000000      0.074000      96.340000     83.780000   \n",
       "75%    5.713539e+10    107.000000      0.153000     357.700000    306.990000   \n",
       "max    9.000002e+10    108.000000      3.171000  106893.770000  80493.300000   \n",
       "\n",
       "           버스 추정교통량     화물차 추정교통량  \n",
       "count  81975.000000  81975.000000  \n",
       "mean       8.755831     69.716644  \n",
       "std       66.802921    347.093994  \n",
       "min        0.000000      0.000000  \n",
       "25%        0.030000      1.450000  \n",
       "50%        0.360000     10.600000  \n",
       "75%        3.320000     47.295000  \n",
       "max     5156.780000  21275.900000  "
      ]
     },
     "execution_count": 4,
     "metadata": {},
     "output_type": "execute_result"
    }
   ],
   "source": [
    "교통량 = 시간대별_추정교통량\n",
    "교통량.info() #81975행\n",
    "교통량.describe()"
   ]
  },
  {
   "cell_type": "code",
   "execution_count": 5,
   "metadata": {
    "scrolled": true
   },
   "outputs": [
    {
     "data": {
      "text/plain": [
       "전일    3279\n",
       "10    3277\n",
       "11    3277\n",
       "1     3277\n",
       "19    3277\n",
       "18    3277\n",
       "14    3277\n",
       "17    3277\n",
       "15    3277\n",
       "12    3277\n",
       "13    3277\n",
       "2     3277\n",
       "0     3277\n",
       "16    3277\n",
       "8     2600\n",
       "4     2070\n",
       "7     2070\n",
       "6     2070\n",
       "3     2070\n",
       "5     2070\n",
       "23    1989\n",
       "9     1989\n",
       "22    1989\n",
       "21    1989\n",
       "20    1733\n",
       "20    1546\n",
       "9     1290\n",
       "21    1290\n",
       "22    1290\n",
       "23    1290\n",
       "3     1209\n",
       "4     1209\n",
       "5     1209\n",
       "6     1209\n",
       "7     1209\n",
       "8      679\n",
       "1        2\n",
       "2        2\n",
       "16       2\n",
       "10       2\n",
       "11       2\n",
       "12       2\n",
       "13       2\n",
       "14       2\n",
       "15       2\n",
       "17       2\n",
       "18       2\n",
       "19       2\n",
       "0        2\n",
       "Name: 시간적범위, dtype: int64"
      ]
     },
     "execution_count": 5,
     "metadata": {},
     "output_type": "execute_result"
    }
   ],
   "source": [
    "교통량.시간적범위.value_counts() ## 왜이렇게 나오지??? >> type이 str/ int 섞임"
   ]
  },
  {
   "cell_type": "code",
   "execution_count": 6,
   "metadata": {
    "scrolled": true
   },
   "outputs": [
    {
     "name": "stderr",
     "output_type": "stream",
     "text": [
      "/opt/app-root/lib/python3.6/site-packages/ipykernel_launcher.py:1: SettingWithCopyWarning: \n",
      "A value is trying to be set on a copy of a slice from a DataFrame\n",
      "\n",
      "See the caveats in the documentation: http://pandas.pydata.org/pandas-docs/stable/indexing.html#indexing-view-versus-copy\n",
      "  \"\"\"Entry point for launching an IPython kernel.\n"
     ]
    }
   ],
   "source": [
    "교통량.시간적범위[교통량.시간적범위!='전일'] = 교통량.시간적범위[교통량.시간적범위!='전일'].map(lambda x : int(x))"
   ]
  },
  {
   "cell_type": "code",
   "execution_count": 7,
   "metadata": {},
   "outputs": [
    {
     "data": {
      "text/plain": [
       "전일      3279\n",
       "11.0    3279\n",
       "1.0     3279\n",
       "2.0     3279\n",
       "3.0     3279\n",
       "4.0     3279\n",
       "5.0     3279\n",
       "6.0     3279\n",
       "7.0     3279\n",
       "8.0     3279\n",
       "9.0     3279\n",
       "10.0    3279\n",
       "12.0    3279\n",
       "23.0    3279\n",
       "13.0    3279\n",
       "14.0    3279\n",
       "15.0    3279\n",
       "16.0    3279\n",
       "17.0    3279\n",
       "18.0    3279\n",
       "19.0    3279\n",
       "20.0    3279\n",
       "21.0    3279\n",
       "22.0    3279\n",
       "0.0     3279\n",
       "Name: 시간적범위, dtype: int64"
      ]
     },
     "execution_count": 7,
     "metadata": {},
     "output_type": "execute_result"
    }
   ],
   "source": [
    "교통량.시간적범위.value_counts() # 교통량 전처리 완료"
   ]
  },
  {
   "cell_type": "code",
   "execution_count": 9,
   "metadata": {},
   "outputs": [
    {
     "data": {
      "text/plain": [
       "상세도로망_LinkID        0\n",
       "도로등급                0\n",
       "링크길이                0\n",
       "도로명             12900\n",
       "시도명                 0\n",
       "시군구명                0\n",
       "읍면동명                0\n",
       "시간적범위               0\n",
       "평일주말                0\n",
       "전체 추정교통량            0\n",
       "승용차 추정교통량           0\n",
       "버스 추정교통량            0\n",
       "화물차 추정교통량           0\n",
       "dtype: int64"
      ]
     },
     "execution_count": 9,
     "metadata": {},
     "output_type": "execute_result"
    }
   ],
   "source": [
    "교통량.isnull().sum() # 도로명만 nan값 존재"
   ]
  },
  {
   "cell_type": "markdown",
   "metadata": {},
   "source": [
    "- 26. 혼잡시간강도 (26번 data)"
   ]
  },
  {
   "cell_type": "code",
   "execution_count": 14,
   "metadata": {},
   "outputs": [
    {
     "data": {
      "text/html": [
       "<div>\n",
       "<style scoped>\n",
       "    .dataframe tbody tr th:only-of-type {\n",
       "        vertical-align: middle;\n",
       "    }\n",
       "\n",
       "    .dataframe tbody tr th {\n",
       "        vertical-align: top;\n",
       "    }\n",
       "\n",
       "    .dataframe thead th {\n",
       "        text-align: right;\n",
       "    }\n",
       "</style>\n",
       "<table border=\"1\" class=\"dataframe\">\n",
       "  <thead>\n",
       "    <tr style=\"text-align: right;\">\n",
       "      <th></th>\n",
       "      <th>상세도로망_LinkID</th>\n",
       "      <th>도로등급</th>\n",
       "      <th>링크길이</th>\n",
       "      <th>도로명</th>\n",
       "      <th>시도명</th>\n",
       "      <th>시군구명</th>\n",
       "      <th>읍면동명</th>\n",
       "      <th>시간적범위</th>\n",
       "      <th>평일주말</th>\n",
       "      <th>혼잡시간강도</th>\n",
       "    </tr>\n",
       "  </thead>\n",
       "  <tbody>\n",
       "    <tr>\n",
       "      <th>0</th>\n",
       "      <td>57125499201</td>\n",
       "      <td>101</td>\n",
       "      <td>1.238</td>\n",
       "      <td>경부고속도로</td>\n",
       "      <td>경기도</td>\n",
       "      <td>오산시</td>\n",
       "      <td>대원동</td>\n",
       "      <td>전일</td>\n",
       "      <td>평일</td>\n",
       "      <td>59.66</td>\n",
       "    </tr>\n",
       "    <tr>\n",
       "      <th>1</th>\n",
       "      <td>57125499001</td>\n",
       "      <td>101</td>\n",
       "      <td>1.335</td>\n",
       "      <td>경부고속도로</td>\n",
       "      <td>경기도</td>\n",
       "      <td>오산시</td>\n",
       "      <td>대원동</td>\n",
       "      <td>전일</td>\n",
       "      <td>평일</td>\n",
       "      <td>77.13</td>\n",
       "    </tr>\n",
       "    <tr>\n",
       "      <th>2</th>\n",
       "      <td>57137697901</td>\n",
       "      <td>101</td>\n",
       "      <td>0.093</td>\n",
       "      <td>수도권제2순환고속도로(봉담동탄</td>\n",
       "      <td>경기도</td>\n",
       "      <td>오산시</td>\n",
       "      <td>세마동</td>\n",
       "      <td>전일</td>\n",
       "      <td>평일</td>\n",
       "      <td>50.79</td>\n",
       "    </tr>\n",
       "    <tr>\n",
       "      <th>3</th>\n",
       "      <td>57135249601</td>\n",
       "      <td>101</td>\n",
       "      <td>0.324</td>\n",
       "      <td>수도권제2순환고속도로(봉담동탄</td>\n",
       "      <td>경기도</td>\n",
       "      <td>오산시</td>\n",
       "      <td>세마동</td>\n",
       "      <td>전일</td>\n",
       "      <td>평일</td>\n",
       "      <td>99.75</td>\n",
       "    </tr>\n",
       "    <tr>\n",
       "      <th>4</th>\n",
       "      <td>57135250601</td>\n",
       "      <td>101</td>\n",
       "      <td>0.333</td>\n",
       "      <td>수도권제2순환고속도로(봉담동탄</td>\n",
       "      <td>경기도</td>\n",
       "      <td>오산시</td>\n",
       "      <td>세마동</td>\n",
       "      <td>전일</td>\n",
       "      <td>평일</td>\n",
       "      <td>99.99</td>\n",
       "    </tr>\n",
       "  </tbody>\n",
       "</table>\n",
       "</div>"
      ],
      "text/plain": [
       "   상세도로망_LinkID  도로등급   링크길이               도로명  시도명 시군구명 읍면동명 시간적범위 평일주말  \\\n",
       "0   57125499201   101  1.238            경부고속도로  경기도  오산시  대원동    전일   평일   \n",
       "1   57125499001   101  1.335            경부고속도로  경기도  오산시  대원동    전일   평일   \n",
       "2   57137697901   101  0.093  수도권제2순환고속도로(봉담동탄  경기도  오산시  세마동    전일   평일   \n",
       "3   57135249601   101  0.324  수도권제2순환고속도로(봉담동탄  경기도  오산시  세마동    전일   평일   \n",
       "4   57135250601   101  0.333  수도권제2순환고속도로(봉담동탄  경기도  오산시  세마동    전일   평일   \n",
       "\n",
       "   혼잡시간강도  \n",
       "0   59.66  \n",
       "1   77.13  \n",
       "2   50.79  \n",
       "3   99.75  \n",
       "4   99.99  "
      ]
     },
     "execution_count": 14,
     "metadata": {},
     "output_type": "execute_result"
    }
   ],
   "source": [
    "혼잡시간강도.head() "
   ]
  },
  {
   "cell_type": "code",
   "execution_count": 15,
   "metadata": {},
   "outputs": [
    {
     "data": {
      "text/plain": [
       "상세도로망_LinkID      0\n",
       "도로등급              0\n",
       "링크길이              0\n",
       "도로명             382\n",
       "시도명               0\n",
       "시군구명              0\n",
       "읍면동명              0\n",
       "시간적범위             0\n",
       "평일주말              0\n",
       "혼잡시간강도            0\n",
       "dtype: int64"
      ]
     },
     "execution_count": 15,
     "metadata": {},
     "output_type": "execute_result"
    }
   ],
   "source": [
    "혼잡시간강도.isnull().sum() #도로명만 nan값 존재"
   ]
  },
  {
   "cell_type": "markdown",
   "metadata": {},
   "source": [
    "- 도로명 null 값 382개\n",
    "---------------------------------------------------------------------------------------------------------------------------"
   ]
  },
  {
   "cell_type": "markdown",
   "metadata": {},
   "source": [
    "- 25.혼잡빈도강도 (25번 데이터)"
   ]
  },
  {
   "cell_type": "code",
   "execution_count": 16,
   "metadata": {},
   "outputs": [
    {
     "data": {
      "text/html": [
       "<div>\n",
       "<style scoped>\n",
       "    .dataframe tbody tr th:only-of-type {\n",
       "        vertical-align: middle;\n",
       "    }\n",
       "\n",
       "    .dataframe tbody tr th {\n",
       "        vertical-align: top;\n",
       "    }\n",
       "\n",
       "    .dataframe thead th {\n",
       "        text-align: right;\n",
       "    }\n",
       "</style>\n",
       "<table border=\"1\" class=\"dataframe\">\n",
       "  <thead>\n",
       "    <tr style=\"text-align: right;\">\n",
       "      <th></th>\n",
       "      <th>상세도로망_LinkID</th>\n",
       "      <th>도로등급</th>\n",
       "      <th>링크길이</th>\n",
       "      <th>도로명</th>\n",
       "      <th>시도명</th>\n",
       "      <th>시군구명</th>\n",
       "      <th>읍면동명</th>\n",
       "      <th>시간적범위</th>\n",
       "      <th>평일주말</th>\n",
       "      <th>혼잡빈도강도</th>\n",
       "    </tr>\n",
       "  </thead>\n",
       "  <tbody>\n",
       "    <tr>\n",
       "      <th>0</th>\n",
       "      <td>57125499201</td>\n",
       "      <td>101</td>\n",
       "      <td>1.238</td>\n",
       "      <td>경부고속도로</td>\n",
       "      <td>경기도</td>\n",
       "      <td>오산시</td>\n",
       "      <td>대원동</td>\n",
       "      <td>전일</td>\n",
       "      <td>평일</td>\n",
       "      <td>49.10</td>\n",
       "    </tr>\n",
       "    <tr>\n",
       "      <th>1</th>\n",
       "      <td>57125499001</td>\n",
       "      <td>101</td>\n",
       "      <td>1.335</td>\n",
       "      <td>경부고속도로</td>\n",
       "      <td>경기도</td>\n",
       "      <td>오산시</td>\n",
       "      <td>대원동</td>\n",
       "      <td>전일</td>\n",
       "      <td>평일</td>\n",
       "      <td>70.67</td>\n",
       "    </tr>\n",
       "    <tr>\n",
       "      <th>2</th>\n",
       "      <td>57137697901</td>\n",
       "      <td>101</td>\n",
       "      <td>0.093</td>\n",
       "      <td>수도권제2순환고속도로(봉담동탄</td>\n",
       "      <td>경기도</td>\n",
       "      <td>오산시</td>\n",
       "      <td>세마동</td>\n",
       "      <td>전일</td>\n",
       "      <td>평일</td>\n",
       "      <td>42.61</td>\n",
       "    </tr>\n",
       "    <tr>\n",
       "      <th>3</th>\n",
       "      <td>57135249601</td>\n",
       "      <td>101</td>\n",
       "      <td>0.324</td>\n",
       "      <td>수도권제2순환고속도로(봉담동탄</td>\n",
       "      <td>경기도</td>\n",
       "      <td>오산시</td>\n",
       "      <td>세마동</td>\n",
       "      <td>전일</td>\n",
       "      <td>평일</td>\n",
       "      <td>96.75</td>\n",
       "    </tr>\n",
       "    <tr>\n",
       "      <th>4</th>\n",
       "      <td>57135250601</td>\n",
       "      <td>101</td>\n",
       "      <td>0.333</td>\n",
       "      <td>수도권제2순환고속도로(봉담동탄</td>\n",
       "      <td>경기도</td>\n",
       "      <td>오산시</td>\n",
       "      <td>세마동</td>\n",
       "      <td>전일</td>\n",
       "      <td>평일</td>\n",
       "      <td>99.95</td>\n",
       "    </tr>\n",
       "  </tbody>\n",
       "</table>\n",
       "</div>"
      ],
      "text/plain": [
       "   상세도로망_LinkID  도로등급   링크길이               도로명  시도명 시군구명 읍면동명 시간적범위 평일주말  \\\n",
       "0   57125499201   101  1.238            경부고속도로  경기도  오산시  대원동    전일   평일   \n",
       "1   57125499001   101  1.335            경부고속도로  경기도  오산시  대원동    전일   평일   \n",
       "2   57137697901   101  0.093  수도권제2순환고속도로(봉담동탄  경기도  오산시  세마동    전일   평일   \n",
       "3   57135249601   101  0.324  수도권제2순환고속도로(봉담동탄  경기도  오산시  세마동    전일   평일   \n",
       "4   57135250601   101  0.333  수도권제2순환고속도로(봉담동탄  경기도  오산시  세마동    전일   평일   \n",
       "\n",
       "   혼잡빈도강도  \n",
       "0   49.10  \n",
       "1   70.67  \n",
       "2   42.61  \n",
       "3   96.75  \n",
       "4   99.95  "
      ]
     },
     "execution_count": 16,
     "metadata": {},
     "output_type": "execute_result"
    }
   ],
   "source": [
    "혼잡빈도강도.head() "
   ]
  },
  {
   "cell_type": "code",
   "execution_count": 17,
   "metadata": {},
   "outputs": [
    {
     "data": {
      "text/plain": [
       "상세도로망_LinkID      0\n",
       "도로등급              0\n",
       "링크길이              0\n",
       "도로명             382\n",
       "시도명               0\n",
       "시군구명              0\n",
       "읍면동명              0\n",
       "시간적범위             0\n",
       "평일주말              0\n",
       "혼잡빈도강도            0\n",
       "dtype: int64"
      ]
     },
     "execution_count": 17,
     "metadata": {},
     "output_type": "execute_result"
    }
   ],
   "source": [
    "혼잡빈도강도.isnull().sum() # 도로명만 nan값 존재"
   ]
  },
  {
   "cell_type": "markdown",
   "metadata": {},
   "source": [
    "- 시간강도와 동일하게 도로명 null 값 382개"
   ]
  },
  {
   "cell_type": "code",
   "execution_count": null,
   "metadata": {},
   "outputs": [],
   "source": []
  },
  {
   "cell_type": "code",
   "execution_count": null,
   "metadata": {},
   "outputs": [],
   "source": []
  },
  {
   "cell_type": "markdown",
   "metadata": {},
   "source": [
    "- 23.상세도로망 (23번data)"
   ]
  },
  {
   "cell_type": "code",
   "execution_count": 18,
   "metadata": {
    "scrolled": true
   },
   "outputs": [
    {
     "data": {
      "text/plain": [
       "link_id          0\n",
       "max_speed        0\n",
       "road_name      294\n",
       "road_no          0\n",
       "road_rank        0\n",
       "link_type        0\n",
       "road_type        0\n",
       "facil_name    1842\n",
       "up_lanes         0\n",
       "dw_lanes         0\n",
       "oneway           0\n",
       "length           0\n",
       "width            0\n",
       "car_lane         0\n",
       "num_cross        0\n",
       "barrier          0\n",
       "geometry         0\n",
       "dtype: int64"
      ]
     },
     "execution_count": 18,
     "metadata": {},
     "output_type": "execute_result"
    }
   ],
   "source": [
    "상세도로망.isnull().sum()"
   ]
  },
  {
   "cell_type": "code",
   "execution_count": null,
   "metadata": {},
   "outputs": [],
   "source": []
  },
  {
   "cell_type": "code",
   "execution_count": 19,
   "metadata": {},
   "outputs": [],
   "source": [
    "## Merge data"
   ]
  },
  {
   "cell_type": "code",
   "execution_count": 20,
   "metadata": {},
   "outputs": [
    {
     "name": "stdout",
     "output_type": "stream",
     "text": [
      "<class 'pandas.core.frame.DataFrame'>\n",
      "Int64Index: 3279 entries, 577 to 11384\n",
      "Data columns (total 13 columns):\n",
      "상세도로망_LinkID    3279 non-null int64\n",
      "도로등급            3279 non-null int64\n",
      "링크길이            3279 non-null float64\n",
      "도로명             2763 non-null object\n",
      "시도명             3279 non-null object\n",
      "시군구명            3279 non-null object\n",
      "읍면동명            3279 non-null object\n",
      "시간적범위           3279 non-null object\n",
      "평일주말            3279 non-null object\n",
      "전체 추정교통량        3279 non-null float64\n",
      "승용차 추정교통량       3279 non-null float64\n",
      "버스 추정교통량        3279 non-null float64\n",
      "화물차 추정교통량       3279 non-null float64\n",
      "dtypes: float64(5), int64(2), object(6)\n",
      "memory usage: 358.6+ KB\n"
     ]
    },
    {
     "data": {
      "text/plain": [
       "(81975, 13)"
      ]
     },
     "execution_count": 20,
     "metadata": {},
     "output_type": "execute_result"
    }
   ],
   "source": [
    "# 시간범위가 1시간 단위가 아닌 '전일' 만\n",
    "교통량_전일 = 교통량[교통량['시간적범위'] == '전일']\n",
    "교통량_전일.info()\n",
    "교통량.shape"
   ]
  },
  {
   "cell_type": "markdown",
   "metadata": {},
   "source": [
    "### 전일 기준으로 24(추정교통량) + 25,26(혼잡시간강도, 혼잡빈도강도) merge"
   ]
  },
  {
   "cell_type": "code",
   "execution_count": 21,
   "metadata": {},
   "outputs": [
    {
     "data": {
      "text/plain": [
       "(3032, 10)"
      ]
     },
     "execution_count": 21,
     "metadata": {},
     "output_type": "execute_result"
    }
   ],
   "source": [
    "혼잡시간강도_전일 = 혼잡시간강도[['상세도로망_LinkID','혼잡시간강도']]\n",
    "혼잡빈도강도_전일 = 혼잡빈도강도[['상세도로망_LinkID','혼잡빈도강도']]\n",
    "혼잡빈도강도.shape"
   ]
  },
  {
   "cell_type": "code",
   "execution_count": 22,
   "metadata": {},
   "outputs": [
    {
     "name": "stdout",
     "output_type": "stream",
     "text": [
      "<class 'pandas.core.frame.DataFrame'>\n",
      "Int64Index: 3279 entries, 0 to 3278\n",
      "Data columns (total 15 columns):\n",
      "상세도로망_LinkID    3279 non-null int64\n",
      "도로등급            3279 non-null int64\n",
      "링크길이            3279 non-null float64\n",
      "도로명             2763 non-null object\n",
      "시도명             3279 non-null object\n",
      "시군구명            3279 non-null object\n",
      "읍면동명            3279 non-null object\n",
      "시간적범위           3279 non-null object\n",
      "평일주말            3279 non-null object\n",
      "전체 추정교통량        3279 non-null float64\n",
      "승용차 추정교통량       3279 non-null float64\n",
      "버스 추정교통량        3279 non-null float64\n",
      "화물차 추정교통량       3279 non-null float64\n",
      "혼잡시간강도          3032 non-null float64\n",
      "혼잡빈도강도          3032 non-null float64\n",
      "dtypes: float64(7), int64(2), object(6)\n",
      "memory usage: 409.9+ KB\n"
     ]
    }
   ],
   "source": [
    "교통량_merge_temp = 교통량_전일.merge(혼잡시간강도_전일,on='상세도로망_LinkID',how='outer')\n",
    "교통량_merge = 교통량_merge_temp.merge(혼잡빈도강도_전일,on='상세도로망_LinkID',how='outer')\n",
    "교통량_merge.info()"
   ]
  },
  {
   "cell_type": "markdown",
   "metadata": {},
   "source": [
    "- 마지막 2행에서 연결잘됨 확인(13,14)"
   ]
  },
  {
   "cell_type": "markdown",
   "metadata": {},
   "source": [
    "----------------------------------------------------------------------------------------------------"
   ]
  },
  {
   "cell_type": "markdown",
   "metadata": {},
   "source": [
    "### Merge table + 혼잡시간차량/혼잡빈도차량\n",
    "- 계산을 통해 혼잡시간을 경헙한 차량의 수와 혼잡빈도를 경험한 차량의 수를 수치에서 직접적인 차량의 수로 정량화 시킴\n",
    "- 그 후 merge table에 파생변수 column으로 추가"
   ]
  },
  {
   "cell_type": "code",
   "execution_count": 23,
   "metadata": {
    "scrolled": true
   },
   "outputs": [
    {
     "data": {
      "text/html": [
       "<div>\n",
       "<style scoped>\n",
       "    .dataframe tbody tr th:only-of-type {\n",
       "        vertical-align: middle;\n",
       "    }\n",
       "\n",
       "    .dataframe tbody tr th {\n",
       "        vertical-align: top;\n",
       "    }\n",
       "\n",
       "    .dataframe thead th {\n",
       "        text-align: right;\n",
       "    }\n",
       "</style>\n",
       "<table border=\"1\" class=\"dataframe\">\n",
       "  <thead>\n",
       "    <tr style=\"text-align: right;\">\n",
       "      <th></th>\n",
       "      <th>상세도로망_LinkID</th>\n",
       "      <th>도로등급</th>\n",
       "      <th>링크길이</th>\n",
       "      <th>도로명</th>\n",
       "      <th>읍면동명</th>\n",
       "      <th>전체 추정교통량</th>\n",
       "      <th>승용차 추정교통량</th>\n",
       "      <th>버스 추정교통량</th>\n",
       "      <th>화물차 추정교통량</th>\n",
       "      <th>혼잡시간강도</th>\n",
       "      <th>혼잡빈도강도</th>\n",
       "      <th>혼잡시간_car</th>\n",
       "      <th>혼잡빈도_car</th>\n",
       "    </tr>\n",
       "  </thead>\n",
       "  <tbody>\n",
       "    <tr>\n",
       "      <th>0</th>\n",
       "      <td>57125499201</td>\n",
       "      <td>101</td>\n",
       "      <td>1.238</td>\n",
       "      <td>경부고속도로</td>\n",
       "      <td>대원동</td>\n",
       "      <td>104794.49</td>\n",
       "      <td>78556.90</td>\n",
       "      <td>5128.22</td>\n",
       "      <td>21109.36</td>\n",
       "      <td>59.66</td>\n",
       "      <td>49.10</td>\n",
       "      <td>62520.392734</td>\n",
       "      <td>51454.094590</td>\n",
       "    </tr>\n",
       "    <tr>\n",
       "      <th>1</th>\n",
       "      <td>57125499001</td>\n",
       "      <td>101</td>\n",
       "      <td>1.335</td>\n",
       "      <td>경부고속도로</td>\n",
       "      <td>대원동</td>\n",
       "      <td>101620.94</td>\n",
       "      <td>76522.02</td>\n",
       "      <td>5156.78</td>\n",
       "      <td>19942.14</td>\n",
       "      <td>77.13</td>\n",
       "      <td>70.67</td>\n",
       "      <td>78380.231022</td>\n",
       "      <td>71815.518298</td>\n",
       "    </tr>\n",
       "    <tr>\n",
       "      <th>2</th>\n",
       "      <td>57137697901</td>\n",
       "      <td>101</td>\n",
       "      <td>0.093</td>\n",
       "      <td>수도권제2순환고속도로(봉담동탄</td>\n",
       "      <td>세마동</td>\n",
       "      <td>30228.45</td>\n",
       "      <td>22684.54</td>\n",
       "      <td>958.95</td>\n",
       "      <td>6584.96</td>\n",
       "      <td>50.79</td>\n",
       "      <td>42.61</td>\n",
       "      <td>15353.029755</td>\n",
       "      <td>12880.342545</td>\n",
       "    </tr>\n",
       "    <tr>\n",
       "      <th>3</th>\n",
       "      <td>57135249601</td>\n",
       "      <td>101</td>\n",
       "      <td>0.324</td>\n",
       "      <td>수도권제2순환고속도로(봉담동탄</td>\n",
       "      <td>세마동</td>\n",
       "      <td>2219.96</td>\n",
       "      <td>1667.75</td>\n",
       "      <td>80.49</td>\n",
       "      <td>471.71</td>\n",
       "      <td>99.75</td>\n",
       "      <td>96.75</td>\n",
       "      <td>2214.410100</td>\n",
       "      <td>2147.811300</td>\n",
       "    </tr>\n",
       "    <tr>\n",
       "      <th>4</th>\n",
       "      <td>57135250601</td>\n",
       "      <td>101</td>\n",
       "      <td>0.333</td>\n",
       "      <td>수도권제2순환고속도로(봉담동탄</td>\n",
       "      <td>세마동</td>\n",
       "      <td>1848.42</td>\n",
       "      <td>1270.28</td>\n",
       "      <td>47.78</td>\n",
       "      <td>530.35</td>\n",
       "      <td>99.99</td>\n",
       "      <td>99.95</td>\n",
       "      <td>1848.235158</td>\n",
       "      <td>1847.495790</td>\n",
       "    </tr>\n",
       "  </tbody>\n",
       "</table>\n",
       "</div>"
      ],
      "text/plain": [
       "   상세도로망_LinkID  도로등급   링크길이               도로명 읍면동명   전체 추정교통량  승용차 추정교통량  \\\n",
       "0   57125499201   101  1.238            경부고속도로  대원동  104794.49   78556.90   \n",
       "1   57125499001   101  1.335            경부고속도로  대원동  101620.94   76522.02   \n",
       "2   57137697901   101  0.093  수도권제2순환고속도로(봉담동탄  세마동   30228.45   22684.54   \n",
       "3   57135249601   101  0.324  수도권제2순환고속도로(봉담동탄  세마동    2219.96    1667.75   \n",
       "4   57135250601   101  0.333  수도권제2순환고속도로(봉담동탄  세마동    1848.42    1270.28   \n",
       "\n",
       "   버스 추정교통량  화물차 추정교통량  혼잡시간강도  혼잡빈도강도      혼잡시간_car      혼잡빈도_car  \n",
       "0   5128.22   21109.36   59.66   49.10  62520.392734  51454.094590  \n",
       "1   5156.78   19942.14   77.13   70.67  78380.231022  71815.518298  \n",
       "2    958.95    6584.96   50.79   42.61  15353.029755  12880.342545  \n",
       "3     80.49     471.71   99.75   96.75   2214.410100   2147.811300  \n",
       "4     47.78     530.35   99.99   99.95   1848.235158   1847.495790  "
      ]
     },
     "execution_count": 23,
     "metadata": {},
     "output_type": "execute_result"
    }
   ],
   "source": [
    "# 혼잡 경험한 지나가는 차량 대수 >> 교통량 * (시간or 빈도)강도/100  [혼잡시간_car/혼잡빈도_car]\n",
    "교통량_merge['혼잡시간_car'] = 교통량_merge['전체 추정교통량'] * (교통량_merge['혼잡시간강도']/100)\n",
    "교통량_merge['혼잡빈도_car'] = 교통량_merge['전체 추정교통량'] * (교통량_merge['혼잡빈도강도']/100)\n",
    "교통량_merge = 교통량_merge.drop(['시도명','시군구명','시간적범위','평일주말'], axis =1)\n",
    "교통량_merge.head()"
   ]
  },
  {
   "cell_type": "code",
   "execution_count": null,
   "metadata": {},
   "outputs": [],
   "source": []
  },
  {
   "cell_type": "markdown",
   "metadata": {},
   "source": [
    "#### 주의!\n",
    "- 12 기준  (11~12)시\n",
    "- 13 기준부터 (13~14)시\n",
    "    - (12~13)시 데이터는 없음\n"
   ]
  },
  {
   "cell_type": "markdown",
   "metadata": {},
   "source": [
    "## 23(상세도로망) + 24,25,26(혼잡시간/혼잡빈도/추정교통량) 최종 merge\n",
    "#### 상세도로망 분리 ( 상행과 하행)\n",
    "- 01 상행 /  02 하행\n",
    "- 01은 상행만 있고, 02는 상/하행 다 있음 >> 하행만 있는 경우는 없다"
   ]
  },
  {
   "cell_type": "code",
   "execution_count": 29,
   "metadata": {},
   "outputs": [
    {
     "data": {
      "text/plain": [
       "0    57125499201\n",
       "1    57125499001\n",
       "2    57137697901\n",
       "3    57135249601\n",
       "4    57135250601\n",
       "Name: 상세도로망_LinkID, dtype: object"
      ]
     },
     "execution_count": 29,
     "metadata": {},
     "output_type": "execute_result"
    }
   ],
   "source": [
    "교통량_merge.상세도로망_LinkID.head()"
   ]
  },
  {
   "cell_type": "code",
   "execution_count": 30,
   "metadata": {},
   "outputs": [],
   "source": [
    "교통량_merge['상세도로망_LinkID'] = 교통량_merge['상세도로망_LinkID'].apply(str)"
   ]
  },
  {
   "cell_type": "code",
   "execution_count": 31,
   "metadata": {},
   "outputs": [],
   "source": [
    "# 총 11자리 끝에 01/02 분류\n",
    "# 상 하행 분리해서 merge table에 상/하행 파생변수 column 추가\n",
    "교통량_merge['link_id'] = 교통량_merge['상세도로망_LinkID'].str[0:9]\n",
    "교통량_merge['상하행'] = 교통량_merge['상세도로망_LinkID'][:].str[9:11].replace({'01':'상행','02':'하행'})"
   ]
  },
  {
   "cell_type": "code",
   "execution_count": 32,
   "metadata": {
    "scrolled": true
   },
   "outputs": [
    {
     "data": {
      "text/html": [
       "<div>\n",
       "<style scoped>\n",
       "    .dataframe tbody tr th:only-of-type {\n",
       "        vertical-align: middle;\n",
       "    }\n",
       "\n",
       "    .dataframe tbody tr th {\n",
       "        vertical-align: top;\n",
       "    }\n",
       "\n",
       "    .dataframe thead th {\n",
       "        text-align: right;\n",
       "    }\n",
       "</style>\n",
       "<table border=\"1\" class=\"dataframe\">\n",
       "  <thead>\n",
       "    <tr style=\"text-align: right;\">\n",
       "      <th></th>\n",
       "      <th>상세도로망_LinkID</th>\n",
       "      <th>도로등급</th>\n",
       "      <th>링크길이</th>\n",
       "      <th>도로명</th>\n",
       "      <th>읍면동명</th>\n",
       "      <th>전체 추정교통량</th>\n",
       "      <th>승용차 추정교통량</th>\n",
       "      <th>버스 추정교통량</th>\n",
       "      <th>화물차 추정교통량</th>\n",
       "      <th>혼잡시간강도</th>\n",
       "      <th>혼잡빈도강도</th>\n",
       "      <th>혼잡시간_car</th>\n",
       "      <th>혼잡빈도_car</th>\n",
       "      <th>link_id</th>\n",
       "      <th>상하행</th>\n",
       "    </tr>\n",
       "  </thead>\n",
       "  <tbody>\n",
       "    <tr>\n",
       "      <th>0</th>\n",
       "      <td>57125499201</td>\n",
       "      <td>101</td>\n",
       "      <td>1.238</td>\n",
       "      <td>경부고속도로</td>\n",
       "      <td>대원동</td>\n",
       "      <td>104794.49</td>\n",
       "      <td>78556.90</td>\n",
       "      <td>5128.22</td>\n",
       "      <td>21109.36</td>\n",
       "      <td>59.66</td>\n",
       "      <td>49.10</td>\n",
       "      <td>62520.392734</td>\n",
       "      <td>51454.094590</td>\n",
       "      <td>571254992</td>\n",
       "      <td>상행</td>\n",
       "    </tr>\n",
       "    <tr>\n",
       "      <th>1</th>\n",
       "      <td>57125499001</td>\n",
       "      <td>101</td>\n",
       "      <td>1.335</td>\n",
       "      <td>경부고속도로</td>\n",
       "      <td>대원동</td>\n",
       "      <td>101620.94</td>\n",
       "      <td>76522.02</td>\n",
       "      <td>5156.78</td>\n",
       "      <td>19942.14</td>\n",
       "      <td>77.13</td>\n",
       "      <td>70.67</td>\n",
       "      <td>78380.231022</td>\n",
       "      <td>71815.518298</td>\n",
       "      <td>571254990</td>\n",
       "      <td>상행</td>\n",
       "    </tr>\n",
       "    <tr>\n",
       "      <th>2</th>\n",
       "      <td>57137697901</td>\n",
       "      <td>101</td>\n",
       "      <td>0.093</td>\n",
       "      <td>수도권제2순환고속도로(봉담동탄</td>\n",
       "      <td>세마동</td>\n",
       "      <td>30228.45</td>\n",
       "      <td>22684.54</td>\n",
       "      <td>958.95</td>\n",
       "      <td>6584.96</td>\n",
       "      <td>50.79</td>\n",
       "      <td>42.61</td>\n",
       "      <td>15353.029755</td>\n",
       "      <td>12880.342545</td>\n",
       "      <td>571376979</td>\n",
       "      <td>상행</td>\n",
       "    </tr>\n",
       "    <tr>\n",
       "      <th>3</th>\n",
       "      <td>57135249601</td>\n",
       "      <td>101</td>\n",
       "      <td>0.324</td>\n",
       "      <td>수도권제2순환고속도로(봉담동탄</td>\n",
       "      <td>세마동</td>\n",
       "      <td>2219.96</td>\n",
       "      <td>1667.75</td>\n",
       "      <td>80.49</td>\n",
       "      <td>471.71</td>\n",
       "      <td>99.75</td>\n",
       "      <td>96.75</td>\n",
       "      <td>2214.410100</td>\n",
       "      <td>2147.811300</td>\n",
       "      <td>571352496</td>\n",
       "      <td>상행</td>\n",
       "    </tr>\n",
       "    <tr>\n",
       "      <th>4</th>\n",
       "      <td>57135250601</td>\n",
       "      <td>101</td>\n",
       "      <td>0.333</td>\n",
       "      <td>수도권제2순환고속도로(봉담동탄</td>\n",
       "      <td>세마동</td>\n",
       "      <td>1848.42</td>\n",
       "      <td>1270.28</td>\n",
       "      <td>47.78</td>\n",
       "      <td>530.35</td>\n",
       "      <td>99.99</td>\n",
       "      <td>99.95</td>\n",
       "      <td>1848.235158</td>\n",
       "      <td>1847.495790</td>\n",
       "      <td>571352506</td>\n",
       "      <td>상행</td>\n",
       "    </tr>\n",
       "  </tbody>\n",
       "</table>\n",
       "</div>"
      ],
      "text/plain": [
       "  상세도로망_LinkID  도로등급   링크길이               도로명 읍면동명   전체 추정교통량  승용차 추정교통량  \\\n",
       "0  57125499201   101  1.238            경부고속도로  대원동  104794.49   78556.90   \n",
       "1  57125499001   101  1.335            경부고속도로  대원동  101620.94   76522.02   \n",
       "2  57137697901   101  0.093  수도권제2순환고속도로(봉담동탄  세마동   30228.45   22684.54   \n",
       "3  57135249601   101  0.324  수도권제2순환고속도로(봉담동탄  세마동    2219.96    1667.75   \n",
       "4  57135250601   101  0.333  수도권제2순환고속도로(봉담동탄  세마동    1848.42    1270.28   \n",
       "\n",
       "   버스 추정교통량  화물차 추정교통량  혼잡시간강도  혼잡빈도강도      혼잡시간_car      혼잡빈도_car    link_id  \\\n",
       "0   5128.22   21109.36   59.66   49.10  62520.392734  51454.094590  571254992   \n",
       "1   5156.78   19942.14   77.13   70.67  78380.231022  71815.518298  571254990   \n",
       "2    958.95    6584.96   50.79   42.61  15353.029755  12880.342545  571376979   \n",
       "3     80.49     471.71   99.75   96.75   2214.410100   2147.811300  571352496   \n",
       "4     47.78     530.35   99.99   99.95   1848.235158   1847.495790  571352506   \n",
       "\n",
       "  상하행  \n",
       "0  상행  \n",
       "1  상행  \n",
       "2  상행  \n",
       "3  상행  \n",
       "4  상행  "
      ]
     },
     "execution_count": 32,
     "metadata": {},
     "output_type": "execute_result"
    }
   ],
   "source": [
    "교통량_merge.head()"
   ]
  },
  {
   "cell_type": "code",
   "execution_count": 33,
   "metadata": {
    "scrolled": true
   },
   "outputs": [
    {
     "data": {
      "text/plain": [
       "상행    1838\n",
       "하행    1441\n",
       "Name: 상하행, dtype: int64"
      ]
     },
     "execution_count": 33,
     "metadata": {},
     "output_type": "execute_result"
    }
   ],
   "source": [
    "교통량_merge.상하행.value_counts()"
   ]
  },
  {
   "cell_type": "markdown",
   "metadata": {},
   "source": [
    "- 여태까지의 merge table 바탕으로 link_id와 읍면동명으로 grouping"
   ]
  },
  {
   "cell_type": "code",
   "execution_count": 34,
   "metadata": {},
   "outputs": [
    {
     "data": {
      "text/html": [
       "<div>\n",
       "<style scoped>\n",
       "    .dataframe tbody tr th:only-of-type {\n",
       "        vertical-align: middle;\n",
       "    }\n",
       "\n",
       "    .dataframe tbody tr th {\n",
       "        vertical-align: top;\n",
       "    }\n",
       "\n",
       "    .dataframe thead th {\n",
       "        text-align: right;\n",
       "    }\n",
       "</style>\n",
       "<table border=\"1\" class=\"dataframe\">\n",
       "  <thead>\n",
       "    <tr style=\"text-align: right;\">\n",
       "      <th></th>\n",
       "      <th>link_id</th>\n",
       "      <th>읍면동명</th>\n",
       "      <th>도로등급</th>\n",
       "      <th>링크길이</th>\n",
       "      <th>전체 추정교통량</th>\n",
       "      <th>승용차 추정교통량</th>\n",
       "      <th>버스 추정교통량</th>\n",
       "      <th>화물차 추정교통량</th>\n",
       "      <th>혼잡시간강도</th>\n",
       "      <th>혼잡빈도강도</th>\n",
       "      <th>혼잡시간_car</th>\n",
       "      <th>혼잡빈도_car</th>\n",
       "    </tr>\n",
       "  </thead>\n",
       "  <tbody>\n",
       "    <tr>\n",
       "      <th>750</th>\n",
       "      <td>571250878</td>\n",
       "      <td>중앙동</td>\n",
       "      <td>101</td>\n",
       "      <td>1.235</td>\n",
       "      <td>106893.77</td>\n",
       "      <td>80488.27</td>\n",
       "      <td>5129.60</td>\n",
       "      <td>21275.90</td>\n",
       "      <td>65.29</td>\n",
       "      <td>54.94</td>\n",
       "      <td>69790.942433</td>\n",
       "      <td>58727.437238</td>\n",
       "    </tr>\n",
       "    <tr>\n",
       "      <th>751</th>\n",
       "      <td>571250880</td>\n",
       "      <td>중앙동</td>\n",
       "      <td>101</td>\n",
       "      <td>0.285</td>\n",
       "      <td>106888.21</td>\n",
       "      <td>80493.30</td>\n",
       "      <td>5127.94</td>\n",
       "      <td>21266.97</td>\n",
       "      <td>67.91</td>\n",
       "      <td>52.66</td>\n",
       "      <td>72587.783411</td>\n",
       "      <td>56287.331386</td>\n",
       "    </tr>\n",
       "    <tr>\n",
       "      <th>1017</th>\n",
       "      <td>571254992</td>\n",
       "      <td>대원동</td>\n",
       "      <td>101</td>\n",
       "      <td>1.238</td>\n",
       "      <td>104794.49</td>\n",
       "      <td>78556.90</td>\n",
       "      <td>5128.22</td>\n",
       "      <td>21109.36</td>\n",
       "      <td>59.66</td>\n",
       "      <td>49.10</td>\n",
       "      <td>62520.392734</td>\n",
       "      <td>51454.094590</td>\n",
       "    </tr>\n",
       "    <tr>\n",
       "      <th>1016</th>\n",
       "      <td>571254990</td>\n",
       "      <td>대원동</td>\n",
       "      <td>101</td>\n",
       "      <td>1.335</td>\n",
       "      <td>101620.94</td>\n",
       "      <td>76522.02</td>\n",
       "      <td>5156.78</td>\n",
       "      <td>19942.14</td>\n",
       "      <td>77.13</td>\n",
       "      <td>70.67</td>\n",
       "      <td>78380.231022</td>\n",
       "      <td>71815.518298</td>\n",
       "    </tr>\n",
       "    <tr>\n",
       "      <th>802</th>\n",
       "      <td>571251376</td>\n",
       "      <td>중앙동</td>\n",
       "      <td>101</td>\n",
       "      <td>0.265</td>\n",
       "      <td>100928.09</td>\n",
       "      <td>76283.58</td>\n",
       "      <td>5080.15</td>\n",
       "      <td>19564.36</td>\n",
       "      <td>73.85</td>\n",
       "      <td>63.64</td>\n",
       "      <td>74535.394465</td>\n",
       "      <td>64230.636476</td>\n",
       "    </tr>\n",
       "  </tbody>\n",
       "</table>\n",
       "</div>"
      ],
      "text/plain": [
       "        link_id 읍면동명  도로등급   링크길이   전체 추정교통량  승용차 추정교통량  버스 추정교통량  화물차 추정교통량  \\\n",
       "750   571250878  중앙동   101  1.235  106893.77   80488.27   5129.60   21275.90   \n",
       "751   571250880  중앙동   101  0.285  106888.21   80493.30   5127.94   21266.97   \n",
       "1017  571254992  대원동   101  1.238  104794.49   78556.90   5128.22   21109.36   \n",
       "1016  571254990  대원동   101  1.335  101620.94   76522.02   5156.78   19942.14   \n",
       "802   571251376  중앙동   101  0.265  100928.09   76283.58   5080.15   19564.36   \n",
       "\n",
       "      혼잡시간강도  혼잡빈도강도      혼잡시간_car      혼잡빈도_car  \n",
       "750    65.29   54.94  69790.942433  58727.437238  \n",
       "751    67.91   52.66  72587.783411  56287.331386  \n",
       "1017   59.66   49.10  62520.392734  51454.094590  \n",
       "1016   77.13   70.67  78380.231022  71815.518298  \n",
       "802    73.85   63.64  74535.394465  64230.636476  "
      ]
     },
     "execution_count": 34,
     "metadata": {},
     "output_type": "execute_result"
    }
   ],
   "source": [
    "# 지역별 평균 전체 추정교통량\n",
    "교통량_group = 교통량_merge.groupby(['link_id','읍면동명'],as_index=False).mean()\n",
    "교통량_group = 교통량_group.sort_values('전체 추정교통량',ascending=False)\n",
    "교통량_group.head()"
   ]
  },
  {
   "cell_type": "code",
   "execution_count": null,
   "metadata": {},
   "outputs": [],
   "source": [
    "#### 상하행 한번 더 확인"
   ]
  },
  {
   "cell_type": "code",
   "execution_count": 44,
   "metadata": {
    "scrolled": true
   },
   "outputs": [],
   "source": [
    "a = 상세도로망[['link_id','up_lanes','dw_lanes']]"
   ]
  },
  {
   "cell_type": "code",
   "execution_count": 45,
   "metadata": {
    "scrolled": true
   },
   "outputs": [],
   "source": [
    "b = 교통량_merge[['link_id','상하행']]"
   ]
  },
  {
   "cell_type": "code",
   "execution_count": 47,
   "metadata": {
    "scrolled": true
   },
   "outputs": [
    {
     "data": {
      "text/html": [
       "<div>\n",
       "<style scoped>\n",
       "    .dataframe tbody tr th:only-of-type {\n",
       "        vertical-align: middle;\n",
       "    }\n",
       "\n",
       "    .dataframe tbody tr th {\n",
       "        vertical-align: top;\n",
       "    }\n",
       "\n",
       "    .dataframe thead th {\n",
       "        text-align: right;\n",
       "    }\n",
       "</style>\n",
       "<table border=\"1\" class=\"dataframe\">\n",
       "  <thead>\n",
       "    <tr style=\"text-align: right;\">\n",
       "      <th></th>\n",
       "      <th>link_id</th>\n",
       "      <th>up_lanes</th>\n",
       "      <th>dw_lanes</th>\n",
       "      <th>상하행</th>\n",
       "    </tr>\n",
       "  </thead>\n",
       "  <tbody>\n",
       "    <tr>\n",
       "      <th>0</th>\n",
       "      <td>478344684</td>\n",
       "      <td>1</td>\n",
       "      <td>0</td>\n",
       "      <td>상행</td>\n",
       "    </tr>\n",
       "    <tr>\n",
       "      <th>1</th>\n",
       "      <td>478344686</td>\n",
       "      <td>2</td>\n",
       "      <td>0</td>\n",
       "      <td>상행</td>\n",
       "    </tr>\n",
       "    <tr>\n",
       "      <th>2</th>\n",
       "      <td>478344690</td>\n",
       "      <td>1</td>\n",
       "      <td>0</td>\n",
       "      <td>상행</td>\n",
       "    </tr>\n",
       "    <tr>\n",
       "      <th>3</th>\n",
       "      <td>478344696</td>\n",
       "      <td>1</td>\n",
       "      <td>0</td>\n",
       "      <td>상행</td>\n",
       "    </tr>\n",
       "    <tr>\n",
       "      <th>4</th>\n",
       "      <td>478344700</td>\n",
       "      <td>1</td>\n",
       "      <td>0</td>\n",
       "      <td>상행</td>\n",
       "    </tr>\n",
       "    <tr>\n",
       "      <th>...</th>\n",
       "      <td>...</td>\n",
       "      <td>...</td>\n",
       "      <td>...</td>\n",
       "      <td>...</td>\n",
       "    </tr>\n",
       "    <tr>\n",
       "      <th>3274</th>\n",
       "      <td>571376981</td>\n",
       "      <td>2</td>\n",
       "      <td>0</td>\n",
       "      <td>상행</td>\n",
       "    </tr>\n",
       "    <tr>\n",
       "      <th>3275</th>\n",
       "      <td>571376982</td>\n",
       "      <td>2</td>\n",
       "      <td>0</td>\n",
       "      <td>상행</td>\n",
       "    </tr>\n",
       "    <tr>\n",
       "      <th>3276</th>\n",
       "      <td>571376983</td>\n",
       "      <td>2</td>\n",
       "      <td>0</td>\n",
       "      <td>상행</td>\n",
       "    </tr>\n",
       "    <tr>\n",
       "      <th>3277</th>\n",
       "      <td>900000166</td>\n",
       "      <td>1</td>\n",
       "      <td>0</td>\n",
       "      <td>상행</td>\n",
       "    </tr>\n",
       "    <tr>\n",
       "      <th>3278</th>\n",
       "      <td>900000167</td>\n",
       "      <td>1</td>\n",
       "      <td>0</td>\n",
       "      <td>상행</td>\n",
       "    </tr>\n",
       "  </tbody>\n",
       "</table>\n",
       "<p>3279 rows × 4 columns</p>\n",
       "</div>"
      ],
      "text/plain": [
       "        link_id up_lanes dw_lanes 상하행\n",
       "0     478344684        1        0  상행\n",
       "1     478344686        2        0  상행\n",
       "2     478344690        1        0  상행\n",
       "3     478344696        1        0  상행\n",
       "4     478344700        1        0  상행\n",
       "...         ...      ...      ...  ..\n",
       "3274  571376981        2        0  상행\n",
       "3275  571376982        2        0  상행\n",
       "3276  571376983        2        0  상행\n",
       "3277  900000166        1        0  상행\n",
       "3278  900000167        1        0  상행\n",
       "\n",
       "[3279 rows x 4 columns]"
      ]
     },
     "execution_count": 47,
     "metadata": {},
     "output_type": "execute_result"
    }
   ],
   "source": [
    "ab = a.merge(b,on='link_id')\n",
    "ab.head(100)\n",
    "ab"
   ]
  },
  {
   "cell_type": "code",
   "execution_count": 48,
   "metadata": {
    "scrolled": true
   },
   "outputs": [
    {
     "data": {
      "text/html": [
       "<div>\n",
       "<style scoped>\n",
       "    .dataframe tbody tr th:only-of-type {\n",
       "        vertical-align: middle;\n",
       "    }\n",
       "\n",
       "    .dataframe tbody tr th {\n",
       "        vertical-align: top;\n",
       "    }\n",
       "\n",
       "    .dataframe thead th {\n",
       "        text-align: right;\n",
       "    }\n",
       "</style>\n",
       "<table border=\"1\" class=\"dataframe\">\n",
       "  <thead>\n",
       "    <tr style=\"text-align: right;\">\n",
       "      <th></th>\n",
       "      <th>link_id</th>\n",
       "      <th>up_lanes</th>\n",
       "      <th>dw_lanes</th>\n",
       "      <th>상하행</th>\n",
       "    </tr>\n",
       "  </thead>\n",
       "  <tbody>\n",
       "  </tbody>\n",
       "</table>\n",
       "</div>"
      ],
      "text/plain": [
       "Empty DataFrame\n",
       "Columns: [link_id, up_lanes, dw_lanes, 상하행]\n",
       "Index: []"
      ]
     },
     "execution_count": 48,
     "metadata": {},
     "output_type": "execute_result"
    }
   ],
   "source": [
    "ab[ab.up_lanes=='0'] # 상행이 0인 곳은 없음!!! 즉 상행과 상/하행 동시에 있는양방향으로 나뉜다"
   ]
  },
  {
   "cell_type": "code",
   "execution_count": 38,
   "metadata": {},
   "outputs": [],
   "source": [
    "# Shapely 형태의 데이터를 받아 내부 좌표들을 List안에 반환\n",
    "def line_string_to_coordinates(line_string):\n",
    "    if isinstance(line_string, shapely.geometry.linestring.LineString):\n",
    "        lon, lat = line_string.xy\n",
    "        return [[x, y] for x, y in zip(lon, lat)]\n",
    "    elif isinstance(line_string, shapely.geometry.multilinestring.MultiLineString):\n",
    "        ret = []\n",
    "        for i in range(len(line_string)):\n",
    "            lon, lat = line_string[i].xy\n",
    "            for x, y in zip(lon, lat):\n",
    "                ret.append([x, y])\n",
    "        return ret"
   ]
  },
  {
   "cell_type": "code",
   "execution_count": 39,
   "metadata": {},
   "outputs": [],
   "source": [
    "상세도로망_c = 상세도로망.copy()"
   ]
  },
  {
   "cell_type": "code",
   "execution_count": 40,
   "metadata": {},
   "outputs": [
    {
     "name": "stderr",
     "output_type": "stream",
     "text": [
      "/opt/app-root/lib/python3.6/site-packages/geopandas/geodataframe.py:852: UserWarning: Geometry column does not contain geometry.\n",
      "  warnings.warn(\"Geometry column does not contain geometry.\")\n"
     ]
    }
   ],
   "source": [
    "# 도로폭 정규화\n",
    "상세도로망_c['norm_width'] = 상세도로망_c['width'].apply(int)/상세도로망_c['width'].apply(int).max()\n",
    "# geometry 변환\n",
    "상세도로망_c['geometry'] = 상세도로망_c['geometry'].apply(line_string_to_coordinates)"
   ]
  },
  {
   "cell_type": "code",
   "execution_count": 41,
   "metadata": {},
   "outputs": [
    {
     "name": "stdout",
     "output_type": "stream",
     "text": [
      "<class 'pandas.core.frame.DataFrame'>\n",
      "RangeIndex: 1875 entries, 0 to 1874\n",
      "Data columns (total 18 columns):\n",
      "link_id       1875 non-null object\n",
      "max_speed     1875 non-null object\n",
      "road_name     1581 non-null object\n",
      "road_no       1875 non-null object\n",
      "road_rank     1875 non-null object\n",
      "link_type     1875 non-null object\n",
      "road_type     1875 non-null object\n",
      "facil_name    33 non-null object\n",
      "up_lanes      1875 non-null object\n",
      "dw_lanes      1875 non-null object\n",
      "oneway        1875 non-null object\n",
      "length        1875 non-null object\n",
      "width         1875 non-null object\n",
      "car_lane      1875 non-null object\n",
      "num_cross     1875 non-null object\n",
      "barrier       1875 non-null object\n",
      "geometry      1875 non-null object\n",
      "norm_width    1875 non-null float64\n",
      "dtypes: float64(1), object(17)\n",
      "memory usage: 263.8+ KB\n"
     ]
    }
   ],
   "source": [
    "상세도로망_c = pd.DataFrame(상세도로망_c) # geopanadas 가 아닌 pandas 의 데이터프레임으로 꼭 바꿔야 함.\n",
    "상세도로망_c.info()"
   ]
  },
  {
   "cell_type": "markdown",
   "metadata": {},
   "source": [
    "- 앞에서 상하행 분리했던 link_id로 상세도로망 데이터와 비로소 merge"
   ]
  },
  {
   "cell_type": "code",
   "execution_count": 42,
   "metadata": {},
   "outputs": [],
   "source": [
    "교통량_c = 교통량_group.merge(상세도로망_c, on = 'link_id')"
   ]
  },
  {
   "cell_type": "code",
   "execution_count": 43,
   "metadata": {},
   "outputs": [
    {
     "data": {
      "text/plain": [
       "Index(['link_id', '읍면동명', '도로등급', '링크길이', '전체 추정교통량', '승용차 추정교통량', '버스 추정교통량',\n",
       "       '화물차 추정교통량', '혼잡시간강도', '혼잡빈도강도', '혼잡시간_car', '혼잡빈도_car', 'max_speed',\n",
       "       'road_name', 'road_no', 'road_rank', 'link_type', 'road_type',\n",
       "       'facil_name', 'up_lanes', 'dw_lanes', 'oneway', 'length', 'width',\n",
       "       'car_lane', 'num_cross', 'barrier', 'geometry', 'norm_width'],\n",
       "      dtype='object')"
      ]
     },
     "execution_count": 43,
     "metadata": {},
     "output_type": "execute_result"
    }
   ],
   "source": [
    "df = 교통량_c\n",
    "df.columns"
   ]
  },
  {
   "cell_type": "code",
   "execution_count": 44,
   "metadata": {},
   "outputs": [
    {
     "data": {
      "text/plain": [
       "\"<bound method IndexOpsMixin.tolist of Index(['link_id', '읍면동명', '도로등급', '링크길이', '전체 추정교통량', '승용차 추정교통량', '버스 추정교통량',\\n       '화물차 추정교통량', '혼잡시간강도', '혼잡빈도강도', '혼잡시간_car', '혼잡빈도_car', 'max_speed',\\n       'road_name', 'road_no', 'road_rank', 'link_type', 'road_type',\\n       'facil_name', 'up_lanes', 'dw_lanes', 'oneway', 'length', 'width',\\n       'car_lane', 'num_cross', 'barrier', 'geometry', 'norm_width'],\\n      dtype='object')>\""
      ]
     },
     "execution_count": 44,
     "metadata": {},
     "output_type": "execute_result"
    }
   ],
   "source": [
    "str(df.columns.tolist)"
   ]
  },
  {
   "cell_type": "code",
   "execution_count": 45,
   "metadata": {
    "scrolled": true
   },
   "outputs": [
    {
     "name": "stdout",
     "output_type": "stream",
     "text": [
      "<class 'pandas.core.frame.DataFrame'>\n",
      "Int64Index: 1843 entries, 0 to 1842\n",
      "Data columns (total 29 columns):\n",
      "link_id       1843 non-null object\n",
      "읍면동명          1843 non-null object\n",
      "도로등급          1843 non-null int64\n",
      "링크길이          1843 non-null float64\n",
      "전체 추정교통량      1843 non-null float64\n",
      "승용차 추정교통량     1843 non-null float64\n",
      "버스 추정교통량      1843 non-null float64\n",
      "화물차 추정교통량     1843 non-null float64\n",
      "혼잡시간강도        1724 non-null float64\n",
      "혼잡빈도강도        1724 non-null float64\n",
      "혼잡시간_car      1724 non-null float64\n",
      "혼잡빈도_car      1724 non-null float64\n",
      "max_speed     1843 non-null object\n",
      "road_name     1556 non-null object\n",
      "road_no       1843 non-null object\n",
      "road_rank     1843 non-null object\n",
      "link_type     1843 non-null object\n",
      "road_type     1843 non-null object\n",
      "facil_name    33 non-null object\n",
      "up_lanes      1843 non-null object\n",
      "dw_lanes      1843 non-null object\n",
      "oneway        1843 non-null object\n",
      "length        1843 non-null object\n",
      "width         1843 non-null object\n",
      "car_lane      1843 non-null object\n",
      "num_cross     1843 non-null object\n",
      "barrier       1843 non-null object\n",
      "geometry      1843 non-null object\n",
      "norm_width    1843 non-null float64\n",
      "dtypes: float64(10), int64(1), object(18)\n",
      "memory usage: 432.0+ KB\n"
     ]
    }
   ],
   "source": [
    "교통량_c.info()"
   ]
  },
  {
   "cell_type": "code",
   "execution_count": 46,
   "metadata": {},
   "outputs": [
    {
     "data": {
      "text/html": [
       "<div>\n",
       "<style scoped>\n",
       "    .dataframe tbody tr th:only-of-type {\n",
       "        vertical-align: middle;\n",
       "    }\n",
       "\n",
       "    .dataframe tbody tr th {\n",
       "        vertical-align: top;\n",
       "    }\n",
       "\n",
       "    .dataframe thead th {\n",
       "        text-align: right;\n",
       "    }\n",
       "</style>\n",
       "<table border=\"1\" class=\"dataframe\">\n",
       "  <thead>\n",
       "    <tr style=\"text-align: right;\">\n",
       "      <th></th>\n",
       "      <th>link_id</th>\n",
       "      <th>읍면동명</th>\n",
       "      <th>도로등급</th>\n",
       "      <th>링크길이</th>\n",
       "      <th>전체 추정교통량</th>\n",
       "      <th>승용차 추정교통량</th>\n",
       "      <th>버스 추정교통량</th>\n",
       "      <th>화물차 추정교통량</th>\n",
       "      <th>혼잡시간강도</th>\n",
       "      <th>혼잡빈도강도</th>\n",
       "      <th>...</th>\n",
       "      <th>up_lanes</th>\n",
       "      <th>dw_lanes</th>\n",
       "      <th>oneway</th>\n",
       "      <th>length</th>\n",
       "      <th>width</th>\n",
       "      <th>car_lane</th>\n",
       "      <th>num_cross</th>\n",
       "      <th>barrier</th>\n",
       "      <th>geometry</th>\n",
       "      <th>norm_width</th>\n",
       "    </tr>\n",
       "  </thead>\n",
       "  <tbody>\n",
       "    <tr>\n",
       "      <th>0</th>\n",
       "      <td>571250878</td>\n",
       "      <td>중앙동</td>\n",
       "      <td>101</td>\n",
       "      <td>1.235</td>\n",
       "      <td>106893.77</td>\n",
       "      <td>80488.27</td>\n",
       "      <td>5129.60</td>\n",
       "      <td>21275.90</td>\n",
       "      <td>65.29</td>\n",
       "      <td>54.94</td>\n",
       "      <td>...</td>\n",
       "      <td>5</td>\n",
       "      <td>0</td>\n",
       "      <td>1</td>\n",
       "      <td>1.235</td>\n",
       "      <td>4</td>\n",
       "      <td>1</td>\n",
       "      <td>0</td>\n",
       "      <td>0</td>\n",
       "      <td>[[127.08438444992294, 37.143317324961025], [12...</td>\n",
       "      <td>1.0</td>\n",
       "    </tr>\n",
       "    <tr>\n",
       "      <th>1</th>\n",
       "      <td>571250880</td>\n",
       "      <td>중앙동</td>\n",
       "      <td>101</td>\n",
       "      <td>0.285</td>\n",
       "      <td>106888.21</td>\n",
       "      <td>80493.30</td>\n",
       "      <td>5127.94</td>\n",
       "      <td>21266.97</td>\n",
       "      <td>67.91</td>\n",
       "      <td>52.66</td>\n",
       "      <td>...</td>\n",
       "      <td>5</td>\n",
       "      <td>0</td>\n",
       "      <td>1</td>\n",
       "      <td>0.285</td>\n",
       "      <td>4</td>\n",
       "      <td>1</td>\n",
       "      <td>0</td>\n",
       "      <td>0</td>\n",
       "      <td>[[127.0859807099439, 37.15409227885504], [127....</td>\n",
       "      <td>1.0</td>\n",
       "    </tr>\n",
       "    <tr>\n",
       "      <th>2</th>\n",
       "      <td>571254992</td>\n",
       "      <td>대원동</td>\n",
       "      <td>101</td>\n",
       "      <td>1.238</td>\n",
       "      <td>104794.49</td>\n",
       "      <td>78556.90</td>\n",
       "      <td>5128.22</td>\n",
       "      <td>21109.36</td>\n",
       "      <td>59.66</td>\n",
       "      <td>49.10</td>\n",
       "      <td>...</td>\n",
       "      <td>5</td>\n",
       "      <td>0</td>\n",
       "      <td>1</td>\n",
       "      <td>1.238</td>\n",
       "      <td>4</td>\n",
       "      <td>1</td>\n",
       "      <td>0</td>\n",
       "      <td>0</td>\n",
       "      <td>[[127.09157446032921, 37.13102674174111], [127...</td>\n",
       "      <td>1.0</td>\n",
       "    </tr>\n",
       "    <tr>\n",
       "      <th>3</th>\n",
       "      <td>571254990</td>\n",
       "      <td>대원동</td>\n",
       "      <td>101</td>\n",
       "      <td>1.335</td>\n",
       "      <td>101620.94</td>\n",
       "      <td>76522.02</td>\n",
       "      <td>5156.78</td>\n",
       "      <td>19942.14</td>\n",
       "      <td>77.13</td>\n",
       "      <td>70.67</td>\n",
       "      <td>...</td>\n",
       "      <td>5</td>\n",
       "      <td>0</td>\n",
       "      <td>1</td>\n",
       "      <td>1.335</td>\n",
       "      <td>4</td>\n",
       "      <td>1</td>\n",
       "      <td>0</td>\n",
       "      <td>0</td>\n",
       "      <td>[[127.08480915187941, 37.141347445057605], [12...</td>\n",
       "      <td>1.0</td>\n",
       "    </tr>\n",
       "    <tr>\n",
       "      <th>4</th>\n",
       "      <td>571251376</td>\n",
       "      <td>중앙동</td>\n",
       "      <td>101</td>\n",
       "      <td>0.265</td>\n",
       "      <td>100928.09</td>\n",
       "      <td>76283.58</td>\n",
       "      <td>5080.15</td>\n",
       "      <td>19564.36</td>\n",
       "      <td>73.85</td>\n",
       "      <td>63.64</td>\n",
       "      <td>...</td>\n",
       "      <td>5</td>\n",
       "      <td>0</td>\n",
       "      <td>1</td>\n",
       "      <td>0.265</td>\n",
       "      <td>4</td>\n",
       "      <td>1</td>\n",
       "      <td>0</td>\n",
       "      <td>0</td>\n",
       "      <td>[[127.08719726088344, 37.15728734851213], [127...</td>\n",
       "      <td>1.0</td>\n",
       "    </tr>\n",
       "  </tbody>\n",
       "</table>\n",
       "<p>5 rows × 29 columns</p>\n",
       "</div>"
      ],
      "text/plain": [
       "     link_id 읍면동명  도로등급   링크길이   전체 추정교통량  승용차 추정교통량  버스 추정교통량  화물차 추정교통량  \\\n",
       "0  571250878  중앙동   101  1.235  106893.77   80488.27   5129.60   21275.90   \n",
       "1  571250880  중앙동   101  0.285  106888.21   80493.30   5127.94   21266.97   \n",
       "2  571254992  대원동   101  1.238  104794.49   78556.90   5128.22   21109.36   \n",
       "3  571254990  대원동   101  1.335  101620.94   76522.02   5156.78   19942.14   \n",
       "4  571251376  중앙동   101  0.265  100928.09   76283.58   5080.15   19564.36   \n",
       "\n",
       "   혼잡시간강도  혼잡빈도강도    ...      up_lanes  dw_lanes oneway length width car_lane  \\\n",
       "0   65.29   54.94    ...             5         0      1  1.235     4        1   \n",
       "1   67.91   52.66    ...             5         0      1  0.285     4        1   \n",
       "2   59.66   49.10    ...             5         0      1  1.238     4        1   \n",
       "3   77.13   70.67    ...             5         0      1  1.335     4        1   \n",
       "4   73.85   63.64    ...             5         0      1  0.265     4        1   \n",
       "\n",
       "  num_cross barrier                                           geometry  \\\n",
       "0         0       0  [[127.08438444992294, 37.143317324961025], [12...   \n",
       "1         0       0  [[127.0859807099439, 37.15409227885504], [127....   \n",
       "2         0       0  [[127.09157446032921, 37.13102674174111], [127...   \n",
       "3         0       0  [[127.08480915187941, 37.141347445057605], [12...   \n",
       "4         0       0  [[127.08719726088344, 37.15728734851213], [127...   \n",
       "\n",
       "  norm_width  \n",
       "0        1.0  \n",
       "1        1.0  \n",
       "2        1.0  \n",
       "3        1.0  \n",
       "4        1.0  \n",
       "\n",
       "[5 rows x 29 columns]"
      ]
     },
     "execution_count": 46,
     "metadata": {},
     "output_type": "execute_result"
    }
   ],
   "source": [
    "교통량_c.head()"
   ]
  },
  {
   "cell_type": "code",
   "execution_count": 53,
   "metadata": {},
   "outputs": [],
   "source": [
    "# 필요한것만 subset\n",
    "# cols = ['link_id', '전체 추정교통량', '혼잡시간_car', '혼잡빈도_car', 'label', 'link_type', 'length', 'width', 'geometry', 'norm_width']\n",
    "# df_subset = df[cols]"
   ]
  },
  {
   "cell_type": "markdown",
   "metadata": {},
   "source": [
    "### 추정교통량 + 혼잡시간빈도 + 혼잡시간강도+ 상세도로망 >>> 교통량 관련 data 하나의 datatable로 병합 완료"
   ]
  },
  {
   "cell_type": "code",
   "execution_count": null,
   "metadata": {},
   "outputs": [],
   "source": []
  },
  {
   "cell_type": "code",
   "execution_count": null,
   "metadata": {},
   "outputs": [],
   "source": []
  },
  {
   "cell_type": "code",
   "execution_count": null,
   "metadata": {},
   "outputs": [],
   "source": []
  },
  {
   "cell_type": "code",
   "execution_count": null,
   "metadata": {},
   "outputs": [],
   "source": []
  },
  {
   "cell_type": "code",
   "execution_count": null,
   "metadata": {},
   "outputs": [],
   "source": []
  },
  {
   "cell_type": "code",
   "execution_count": null,
   "metadata": {},
   "outputs": [],
   "source": []
  },
  {
   "cell_type": "code",
   "execution_count": null,
   "metadata": {},
   "outputs": [],
   "source": []
  },
  {
   "cell_type": "code",
   "execution_count": null,
   "metadata": {},
   "outputs": [],
   "source": []
  },
  {
   "cell_type": "code",
   "execution_count": null,
   "metadata": {},
   "outputs": [],
   "source": []
  }
 ],
 "metadata": {
  "kernelspec": {
   "display_name": "Python 3",
   "language": "python",
   "name": "python3"
  },
  "language_info": {
   "codemirror_mode": {
    "name": "ipython",
    "version": 3
   },
   "file_extension": ".py",
   "mimetype": "text/x-python",
   "name": "python",
   "nbconvert_exporter": "python",
   "pygments_lexer": "ipython3",
   "version": "3.6.9"
  }
 },
 "nbformat": 4,
 "nbformat_minor": 2
}
