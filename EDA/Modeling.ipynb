{
 "cells": [
  {
   "cell_type": "code",
   "execution_count": 1,
   "metadata": {},
   "outputs": [],
   "source": [
    "import pandas as pd\n",
    "import folium\n",
    "from haversine import haversine\n",
    "import numpy as np\n",
    "import seaborn as sns\n",
    "import json\n",
    "import os\n",
    "from copy import deepcopy \n",
    "import geopandas as gpd\n",
    "from shapely.geometry import Point\n",
    "sns.set()"
   ]
  },
  {
   "cell_type": "code",
   "execution_count": 2,
   "metadata": {},
   "outputs": [],
   "source": [
    "# Local\n",
    "# Font\n",
    "import matplotlib\n",
    "from matplotlib import font_manager, rc\n",
    "import platform\n",
    "if platform.system()==\"Windows\":\n",
    "    font_name=font_manager.FontProperties(fname=\"c:/Windows/Fonts/malgun.ttf\").get_name()\n",
    "    rc('font', family=font_name)\n",
    "matplotlib.rcParams['axes.unicode_minus']=False\n",
    "\n",
    "import warnings\n",
    "warnings.filterwarnings(\"ignore\")"
   ]
  },
  {
   "cell_type": "code",
   "execution_count": 3,
   "metadata": {},
   "outputs": [],
   "source": [
    "path = \"D:\\COMPAS\\SBJ_2012_001\""
   ]
  },
  {
   "cell_type": "code",
   "execution_count": 22,
   "metadata": {},
   "outputs": [
    {
     "data": {
      "text/html": [
       "<div>\n",
       "<style scoped>\n",
       "    .dataframe tbody tr th:only-of-type {\n",
       "        vertical-align: middle;\n",
       "    }\n",
       "\n",
       "    .dataframe tbody tr th {\n",
       "        vertical-align: top;\n",
       "    }\n",
       "\n",
       "    .dataframe thead th {\n",
       "        text-align: right;\n",
       "    }\n",
       "</style>\n",
       "<table border=\"1\" class=\"dataframe\">\n",
       "  <thead>\n",
       "    <tr style=\"text-align: right;\">\n",
       "      <th></th>\n",
       "      <th>gid</th>\n",
       "      <th>accident_cnt</th>\n",
       "      <th>유치원_count_300</th>\n",
       "      <th>초등학교_count_300</th>\n",
       "      <th>방지턱_count_300</th>\n",
       "      <th>불법주정차_cam_count_300</th>\n",
       "      <th>정류장_count_100</th>\n",
       "      <th>정류장_count_300</th>\n",
       "      <th>유동인구_sum</th>\n",
       "      <th>유소년인구_count_200</th>\n",
       "      <th>...</th>\n",
       "      <th>운산초통학구역</th>\n",
       "      <th>운암초통학구역</th>\n",
       "      <th>원동초통학구역</th>\n",
       "      <th>필봉초통학구역</th>\n",
       "      <th>화성초통학구역</th>\n",
       "      <th>주정차_count_300</th>\n",
       "      <th>총인구_count_100</th>\n",
       "      <th>생산가능인구_count_100</th>\n",
       "      <th>고령인구_count_100</th>\n",
       "      <th>geometry</th>\n",
       "    </tr>\n",
       "  </thead>\n",
       "  <tbody>\n",
       "    <tr>\n",
       "      <th>0</th>\n",
       "      <td>다사561083</td>\n",
       "      <td>1</td>\n",
       "      <td>0</td>\n",
       "      <td>0</td>\n",
       "      <td>0</td>\n",
       "      <td>0</td>\n",
       "      <td>0</td>\n",
       "      <td>2</td>\n",
       "      <td>43.435676</td>\n",
       "      <td>0.0</td>\n",
       "      <td>...</td>\n",
       "      <td>0</td>\n",
       "      <td>0</td>\n",
       "      <td>0</td>\n",
       "      <td>0</td>\n",
       "      <td>0</td>\n",
       "      <td>2</td>\n",
       "      <td>0.0</td>\n",
       "      <td>0.0</td>\n",
       "      <td>0.0</td>\n",
       "      <td>MULTIPOLYGON (((127.00549 37.17243, 127.00549 ...</td>\n",
       "    </tr>\n",
       "  </tbody>\n",
       "</table>\n",
       "<p>1 rows × 71 columns</p>\n",
       "</div>"
      ],
      "text/plain": [
       "        gid  accident_cnt  유치원_count_300  초등학교_count_300  방지턱_count_300  \\\n",
       "0  다사561083             1              0               0              0   \n",
       "\n",
       "   불법주정차_cam_count_300  정류장_count_100  정류장_count_300   유동인구_sum  \\\n",
       "0                    0              0              2  43.435676   \n",
       "\n",
       "   유소년인구_count_200  ...  운산초통학구역  운암초통학구역  원동초통학구역  필봉초통학구역  화성초통학구역  \\\n",
       "0              0.0  ...        0        0        0        0        0   \n",
       "\n",
       "   주정차_count_300  총인구_count_100  생산가능인구_count_100  고령인구_count_100  \\\n",
       "0              2            0.0               0.0             0.0   \n",
       "\n",
       "                                            geometry  \n",
       "0  MULTIPOLYGON (((127.00549 37.17243, 127.00549 ...  \n",
       "\n",
       "[1 rows x 71 columns]"
      ]
     },
     "execution_count": 22,
     "metadata": {},
     "output_type": "execute_result"
    }
   ],
   "source": [
    "total = gpd.read_file(os.path.join(path,'total.geojson'))\n",
    "total.head(1)"
   ]
  },
  {
   "cell_type": "markdown",
   "metadata": {},
   "source": [
    "# X ,Y 생성"
   ]
  },
  {
   "cell_type": "code",
   "execution_count": 10,
   "metadata": {},
   "outputs": [
    {
     "data": {
      "text/plain": [
       "((345, 12), (345,))"
      ]
     },
     "execution_count": 10,
     "metadata": {},
     "output_type": "execute_result"
    }
   ],
   "source": [
    "X = pd.DataFrame(total.drop([\"gid\",\"accident_cnt\",\"geometry\"],axis=1))\n",
    "cols = X.columns\n",
    "Y = pd.Series(total[\"accident_cnt\"])\n",
    "X.shape , Y.shape"
   ]
  },
  {
   "cell_type": "markdown",
   "metadata": {},
   "source": [
    "# Train-Test split"
   ]
  },
  {
   "cell_type": "code",
   "execution_count": 11,
   "metadata": {},
   "outputs": [
    {
     "data": {
      "text/plain": [
       "((258, 12), (87, 12))"
      ]
     },
     "execution_count": 11,
     "metadata": {},
     "output_type": "execute_result"
    }
   ],
   "source": [
    "from sklearn.preprocessing import MinMaxScaler , StandardScaler\n",
    "from sklearn.model_selection import train_test_split\n",
    "\n",
    "scaler = StandardScaler()\n",
    "m_scaler = MinMaxScaler()\n",
    "X = scaler.fit_transform(X)\n",
    "\n",
    "x_train,x_test,y_train,y_test = train_test_split(X,Y,test_size=0.25)\n",
    "x_train.shape , x_test.shape"
   ]
  },
  {
   "cell_type": "markdown",
   "metadata": {},
   "source": [
    "# Linear Regressor"
   ]
  },
  {
   "cell_type": "code",
   "execution_count": 12,
   "metadata": {},
   "outputs": [
    {
     "name": "stdout",
     "output_type": "stream",
     "text": [
      "0.013902144370005254\n"
     ]
    }
   ],
   "source": [
    "from sklearn.linear_model import LinearRegression\n",
    "\n",
    "LR = LinearRegression()\n",
    "LR.fit(x_train, y_train)\n",
    "\n",
    "score = LR.score(x_test,y_test)\n",
    "print(score)"
   ]
  },
  {
   "cell_type": "code",
   "execution_count": 13,
   "metadata": {},
   "outputs": [
    {
     "name": "stdout",
     "output_type": "stream",
     "text": [
      "[1.77685988]\n",
      "[ 0.18314508  0.03755685  0.00848777  0.0356217  -0.07755756  0.07159313\n",
      " -0.01661443  0.1586965  -0.07861593  0.04516493 -0.11837979  0.10907059]\n"
     ]
    }
   ],
   "source": [
    "print(LR.predict(x_test[0].reshape(1,-1)))\n",
    "print(LR.coef_)"
   ]
  },
  {
   "cell_type": "markdown",
   "metadata": {},
   "source": [
    "# AdaBoostRegressor"
   ]
  },
  {
   "cell_type": "code",
   "execution_count": 19,
   "metadata": {},
   "outputs": [
    {
     "name": "stdout",
     "output_type": "stream",
     "text": [
      "-0.022250404533341595\n"
     ]
    }
   ],
   "source": [
    "from sklearn.ensemble import AdaBoostRegressor\n",
    "\n",
    "ada = AdaBoostRegressor(n_estimators=20,learning_rate=0.1,loss=\"square\",random_state=42)\n",
    "ada.fit(x_train, y_train)\n",
    "\n",
    "score = ada.score(x_test,y_test)\n",
    "print(score)"
   ]
  },
  {
   "cell_type": "code",
   "execution_count": 15,
   "metadata": {},
   "outputs": [
    {
     "name": "stdout",
     "output_type": "stream",
     "text": [
      "Top3 주요 특성 : ['유동인구_sum' '학원수_count_300' '어린이집_count']\n"
     ]
    }
   ],
   "source": [
    "top3 = np.argsort(ada.feature_importances_)[::-1][:3]\n",
    "print(\"Top3 주요 특성 :\",cols[top3].values)"
   ]
  },
  {
   "cell_type": "code",
   "execution_count": null,
   "metadata": {},
   "outputs": [],
   "source": []
  },
  {
   "cell_type": "code",
   "execution_count": null,
   "metadata": {},
   "outputs": [],
   "source": []
  },
  {
   "cell_type": "code",
   "execution_count": 20,
   "metadata": {},
   "outputs": [
    {
     "name": "stdout",
     "output_type": "stream",
     "text": [
      "-8.950593560226125e+25\n",
      "[1.75805664]\n",
      "[ 4.24967651e-02  2.47747670e-02  9.17837654e-02 -2.23965110e-02\n",
      "  1.99963541e-01  1.26636423e-01 -2.36317800e-02 -1.71610044e-01\n",
      "  3.02975235e-02  6.39971923e-02 -1.13350670e-01  8.64967542e-02\n",
      " -1.36347176e-01 -9.46688244e-02 -1.85521148e-01 -2.50834178e-01\n",
      "  9.35952732e+12 -2.65364356e-01 -7.03386555e-02 -3.62951799e+12\n",
      "  8.44836743e-02 -3.15113633e-02  1.90612388e+12  8.66332292e+12\n",
      " -3.74158043e-01 -5.31738583e+12  1.04416693e-02  5.78566293e+11\n",
      " -9.74256425e-02 -8.40385107e-02  1.90612388e+12 -7.28611763e-02\n",
      " -2.14273137e-01 -7.12890625e-02 -7.61718750e-02  4.99114990e-01\n",
      "  7.83081055e-02  4.34797012e+12 -7.67420301e+12 -4.99895550e+12\n",
      "  1.15966797e-01  1.39282227e-01  1.17614746e-01 -5.78566293e+11\n",
      "  3.62548828e-02 -5.94831973e+12  6.16455078e-02  9.32617188e-02\n",
      "  2.08740234e-02  1.61621094e-01  1.07299805e-01  3.07895764e+12\n",
      "  1.53808594e-02  2.49206543e-01  2.09960938e-02  8.88671875e-02\n",
      "  8.78906250e-03  1.90429688e-02  1.73583984e-01 -2.29492188e-02\n",
      " -4.54101562e-02  1.13769531e-01  1.03515625e-01 -7.45641105e+12\n",
      "  1.44042969e-01]\n"
     ]
    }
   ],
   "source": [
    "total = gpd.read_file(os.path.join(path,'total.geojson'))\n",
    "X = pd.DataFrame(total.drop([\"gid\",\"accident_cnt\",\"geometry\"],axis=1))\n",
    "cols = X.columns\n",
    "Y = pd.Series(total[\"accident_cnt\"])\n",
    "X.shape , Y.shape\n",
    "scaler = StandardScaler()\n",
    "m_scaler = MinMaxScaler()\n",
    "X = scaler.fit_transform(X)\n",
    "\n",
    "x_train,x_test,y_train,y_test = train_test_split(X,Y,test_size=0.25)\n",
    "x_train.shape , x_test.shape\n",
    "LR = LinearRegression()\n",
    "LR.fit(x_train, y_train)\n",
    "\n",
    "score = LR.score(x_test,y_test)\n",
    "print(score)\n",
    "print(LR.predict(x_test[0].reshape(1,-1)))\n",
    "print(LR.coef_)"
   ]
  },
  {
   "cell_type": "code",
   "execution_count": 21,
   "metadata": {},
   "outputs": [
    {
     "name": "stdout",
     "output_type": "stream",
     "text": [
      "0.11217197855221372\n",
      "Top3 주요 특성 : ['신호등_count_100' '정류장_count_100' '횡단보도_count_100']\n"
     ]
    }
   ],
   "source": [
    "ada = AdaBoostRegressor(n_estimators=20,learning_rate=0.1,loss=\"square\",random_state=42)\n",
    "ada.fit(x_train, y_train)\n",
    "\n",
    "score = ada.score(x_test,y_test)\n",
    "print(score)\n",
    "top3 = np.argsort(ada.feature_importances_)[::-1][:3]\n",
    "print(\"Top3 주요 특성 :\",cols[top3].values)"
   ]
  },
  {
   "cell_type": "code",
   "execution_count": null,
   "metadata": {},
   "outputs": [],
   "source": []
  },
  {
   "cell_type": "code",
   "execution_count": null,
   "metadata": {},
   "outputs": [],
   "source": []
  },
  {
   "cell_type": "code",
   "execution_count": null,
   "metadata": {},
   "outputs": [],
   "source": []
  },
  {
   "cell_type": "code",
   "execution_count": null,
   "metadata": {},
   "outputs": [],
   "source": []
  }
 ],
 "metadata": {
  "kernelspec": {
   "display_name": "Python 3",
   "language": "python",
   "name": "python3"
  },
  "language_info": {
   "codemirror_mode": {
    "name": "ipython",
    "version": 3
   },
   "file_extension": ".py",
   "mimetype": "text/x-python",
   "name": "python",
   "nbconvert_exporter": "python",
   "pygments_lexer": "ipython3",
   "version": "3.8.6"
  }
 },
 "nbformat": 4,
 "nbformat_minor": 4
}
