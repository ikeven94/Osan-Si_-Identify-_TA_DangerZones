{
 "cells": [
  {
   "cell_type": "code",
   "execution_count": 1,
   "metadata": {},
   "outputs": [],
   "source": [
    "import pandas as pd\n",
    "import folium\n",
    "from haversine import haversine\n",
    "import numpy as np\n",
    "import seaborn as sns\n",
    "import json\n",
    "import os\n",
    "from copy import deepcopy \n",
    "import geopandas as gpd\n",
    "from shapely.geometry import Point\n",
    "sns.set()"
   ]
  },
  {
   "cell_type": "code",
   "execution_count": 2,
   "metadata": {},
   "outputs": [],
   "source": [
    "# Local\n",
    "# Font\n",
    "import matplotlib\n",
    "from matplotlib import font_manager, rc\n",
    "import platform\n",
    "if platform.system()==\"Windows\":\n",
    "    font_name=font_manager.FontProperties(fname=\"c:/Windows/Fonts/malgun.ttf\").get_name()\n",
    "    rc('font', family=font_name)\n",
    "matplotlib.rcParams['axes.unicode_minus']=False\n",
    "\n",
    "import warnings\n",
    "warnings.filterwarnings(\"ignore\")"
   ]
  },
  {
   "cell_type": "code",
   "execution_count": 3,
   "metadata": {},
   "outputs": [],
   "source": [
    "path = \"D:\\COMPAS\\SBJ_2012_001\""
   ]
  },
  {
   "cell_type": "code",
   "execution_count": 22,
   "metadata": {},
   "outputs": [
    {
     "data": {
      "text/html": [
       "<div>\n",
       "<style scoped>\n",
       "    .dataframe tbody tr th:only-of-type {\n",
       "        vertical-align: middle;\n",
       "    }\n",
       "\n",
       "    .dataframe tbody tr th {\n",
       "        vertical-align: top;\n",
       "    }\n",
       "\n",
       "    .dataframe thead th {\n",
       "        text-align: right;\n",
       "    }\n",
       "</style>\n",
       "<table border=\"1\" class=\"dataframe\">\n",
       "  <thead>\n",
       "    <tr style=\"text-align: right;\">\n",
       "      <th></th>\n",
       "      <th>gid</th>\n",
       "      <th>accident_cnt</th>\n",
       "      <th>유치원_count_300</th>\n",
       "      <th>초등학교_count_300</th>\n",
       "      <th>방지턱_count_300</th>\n",
       "      <th>불법주정차_cam_count_300</th>\n",
       "      <th>정류장_count_100</th>\n",
       "      <th>정류장_count_300</th>\n",
       "      <th>유동인구_sum</th>\n",
       "      <th>유소년인구_count_200</th>\n",
       "      <th>...</th>\n",
       "      <th>운산초통학구역</th>\n",
       "      <th>운암초통학구역</th>\n",
       "      <th>원동초통학구역</th>\n",
       "      <th>필봉초통학구역</th>\n",
       "      <th>화성초통학구역</th>\n",
       "      <th>주정차_count_300</th>\n",
       "      <th>총인구_count_100</th>\n",
       "      <th>생산가능인구_count_100</th>\n",
       "      <th>고령인구_count_100</th>\n",
       "      <th>geometry</th>\n",
       "    </tr>\n",
       "  </thead>\n",
       "  <tbody>\n",
       "    <tr>\n",
       "      <th>0</th>\n",
       "      <td>다사561083</td>\n",
       "      <td>1</td>\n",
       "      <td>0</td>\n",
       "      <td>0</td>\n",
       "      <td>0</td>\n",
       "      <td>0</td>\n",
       "      <td>0</td>\n",
       "      <td>2</td>\n",
       "      <td>43.435676</td>\n",
       "      <td>0.0</td>\n",
       "      <td>...</td>\n",
       "      <td>0</td>\n",
       "      <td>0</td>\n",
       "      <td>0</td>\n",
       "      <td>0</td>\n",
       "      <td>0</td>\n",
       "      <td>2</td>\n",
       "      <td>0.0</td>\n",
       "      <td>0.0</td>\n",
       "      <td>0.0</td>\n",
       "      <td>MULTIPOLYGON (((127.00549 37.17243, 127.00549 ...</td>\n",
       "    </tr>\n",
       "  </tbody>\n",
       "</table>\n",
       "<p>1 rows × 71 columns</p>\n",
       "</div>"
      ],
      "text/plain": [
       "        gid  accident_cnt  유치원_count_300  초등학교_count_300  방지턱_count_300  \\\n",
       "0  다사561083             1              0               0              0   \n",
       "\n",
       "   불법주정차_cam_count_300  정류장_count_100  정류장_count_300   유동인구_sum  \\\n",
       "0                    0              0              2  43.435676   \n",
       "\n",
       "   유소년인구_count_200  ...  운산초통학구역  운암초통학구역  원동초통학구역  필봉초통학구역  화성초통학구역  \\\n",
       "0              0.0  ...        0        0        0        0        0   \n",
       "\n",
       "   주정차_count_300  총인구_count_100  생산가능인구_count_100  고령인구_count_100  \\\n",
       "0              2            0.0               0.0             0.0   \n",
       "\n",
       "                                            geometry  \n",
       "0  MULTIPOLYGON (((127.00549 37.17243, 127.00549 ...  \n",
       "\n",
       "[1 rows x 71 columns]"
      ]
     },
     "execution_count": 22,
     "metadata": {},
     "output_type": "execute_result"
    }
   ],
   "source": [
    "total = gpd.read_file(os.path.join(path,'total.geojson'))\n",
    "total.head(1)"
   ]
  },
  {
   "cell_type": "markdown",
   "metadata": {},
   "source": [
    "# X ,Y 생성"
   ]
  },
  {
   "cell_type": "code",
   "execution_count": 10,
   "metadata": {},
   "outputs": [
    {
     "data": {
      "text/plain": [
       "((345, 12), (345,))"
      ]
     },
     "execution_count": 10,
     "metadata": {},
     "output_type": "execute_result"
    }
   ],
   "source": [
    "X = pd.DataFrame(total.drop([\"gid\",\"accident_cnt\",\"geometry\"],axis=1))\n",
    "cols = X.columns\n",
    "Y = pd.Series(total[\"accident_cnt\"])\n",
    "X.shape , Y.shape"
   ]
  },
  {
   "cell_type": "markdown",
   "metadata": {},
   "source": [
    "# Train-Test split"
   ]
  },
  {
   "cell_type": "code",
   "execution_count": 11,
   "metadata": {},
   "outputs": [
    {
     "data": {
      "text/plain": [
       "((258, 12), (87, 12))"
      ]
     },
     "execution_count": 11,
     "metadata": {},
     "output_type": "execute_result"
    }
   ],
   "source": [
    "from sklearn.preprocessing import MinMaxScaler , StandardScaler\n",
    "from sklearn.model_selection import train_test_split\n",
    "\n",
    "scaler = StandardScaler()\n",
    "m_scaler = MinMaxScaler()\n",
    "X = scaler.fit_transform(X)\n",
    "\n",
    "x_train,x_test,y_train,y_test = train_test_split(X,Y,test_size=0.25)\n",
    "x_train.shape , x_test.shape"
   ]
  },
  {
   "cell_type": "markdown",
   "metadata": {},
   "source": [
    "# Validation func gen"
   ]
  },
  {
   "cell_type": "code",
   "execution_count": 23,
   "metadata": {},
   "outputs": [],
   "source": [
    "from sklearn.model_selection import KFold\n",
    "from sklearn.metrics import mean_squared_error,make_scorer\n",
    "from sklearn.model_selection import cross_val_score"
   ]
  },
  {
   "cell_type": "code",
   "execution_count": 24,
   "metadata": {},
   "outputs": [],
   "source": [
    "my_scorer = make_scorer(mean_squared_error,greater_is_better=False)\n",
    "\n",
    "kf = KFold(n_splits=10,shuffle=True,random_state=2021)"
   ]
  },
  {
   "cell_type": "markdown",
   "metadata": {},
   "source": [
    "__usage__  \n",
    "score = cross_val_score(best_model,rand_xtest,rand_ytest,cv=kf,scoring=my_scorer)  \n",
    "score.mean()*(-1)"
   ]
  },
  {
   "cell_type": "markdown",
   "metadata": {},
   "source": [
    "# Linear Regressor"
   ]
  },
  {
   "cell_type": "code",
   "execution_count": 12,
   "metadata": {},
   "outputs": [
    {
     "name": "stdout",
     "output_type": "stream",
     "text": [
      "0.013902144370005254\n"
     ]
    }
   ],
   "source": [
    "from sklearn.linear_model import LinearRegression\n",
    "\n",
    "LR = LinearRegression()\n",
    "LR.fit(x_train, y_train)\n",
    "\n",
    "score = LR.score(x_test,y_test)\n",
    "print(score)"
   ]
  },
  {
   "cell_type": "code",
   "execution_count": 13,
   "metadata": {},
   "outputs": [
    {
     "name": "stdout",
     "output_type": "stream",
     "text": [
      "[1.77685988]\n",
      "[ 0.18314508  0.03755685  0.00848777  0.0356217  -0.07755756  0.07159313\n",
      " -0.01661443  0.1586965  -0.07861593  0.04516493 -0.11837979  0.10907059]\n"
     ]
    }
   ],
   "source": [
    "print(LR.predict(x_test[0].reshape(1,-1)))\n",
    "print(LR.coef_)"
   ]
  },
  {
   "cell_type": "markdown",
   "metadata": {},
   "source": [
    "# AdaBoostRegressor"
   ]
  },
  {
   "cell_type": "code",
   "execution_count": 39,
   "metadata": {},
   "outputs": [
    {
     "name": "stdout",
     "output_type": "stream",
     "text": [
      "Rscore : 0.11162321677920595\n",
      "MSE : 0.8162168627606896\n"
     ]
    }
   ],
   "source": [
    "from sklearn.ensemble import AdaBoostRegressor\n",
    "\n",
    "ada = AdaBoostRegressor(n_estimators=200,learning_rate=0.1,loss=\"square\",random_state=2021)\n",
    "ada.fit(x_train, y_train)\n",
    "\n",
    "Rscore = ada.score(x_test,y_test)\n",
    "print(\"Rscore :\",Rscore)\n",
    "\n",
    "score = cross_val_score(ada,x_test,y_test,cv=kf,scoring=my_scorer)  \n",
    "print(\"MSE :\",score.mean()*(-1))"
   ]
  },
  {
   "cell_type": "code",
   "execution_count": 40,
   "metadata": {},
   "outputs": [
    {
     "name": "stdout",
     "output_type": "stream",
     "text": [
      "Top3 주요 특성 : ['신호등_count_100' '정류장_count_100' '어린이집_count']\n"
     ]
    }
   ],
   "source": [
    "top3 = np.argsort(ada.feature_importances_)[::-1][:3]\n",
    "print(\"Top3 주요 특성 :\",cols[top3].values)"
   ]
  },
  {
   "cell_type": "markdown",
   "metadata": {},
   "source": [
    "# SVR"
   ]
  },
  {
   "cell_type": "code",
   "execution_count": 37,
   "metadata": {},
   "outputs": [],
   "source": [
    "from sklearn.svm import LinearSVR"
   ]
  },
  {
   "cell_type": "code",
   "execution_count": 38,
   "metadata": {},
   "outputs": [
    {
     "name": "stdout",
     "output_type": "stream",
     "text": [
      "Rscore : -0.06599364532167407\n",
      "val MSE : 1.6708432345578181\n"
     ]
    }
   ],
   "source": [
    "svr = LinearSVR()\n",
    "svr.fit(x_train,y_train)\n",
    "\n",
    "Rscore = svr.score(x_test,y_test)\n",
    "print(\"Rscore :\",Rscore)\n",
    "score = cross_val_score(svr,x_test,y_test,cv=kf,scoring=my_scorer)  \n",
    "print(\"val MSE :\",score.mean()*(-1))"
   ]
  },
  {
   "cell_type": "code",
   "execution_count": null,
   "metadata": {},
   "outputs": [],
   "source": []
  },
  {
   "cell_type": "markdown",
   "metadata": {},
   "source": [
    "# LGBM"
   ]
  },
  {
   "cell_type": "code",
   "execution_count": null,
   "metadata": {},
   "outputs": [],
   "source": []
  },
  {
   "cell_type": "code",
   "execution_count": null,
   "metadata": {},
   "outputs": [],
   "source": []
  },
  {
   "cell_type": "code",
   "execution_count": null,
   "metadata": {},
   "outputs": [],
   "source": []
  },
  {
   "cell_type": "code",
   "execution_count": null,
   "metadata": {},
   "outputs": [],
   "source": []
  }
 ],
 "metadata": {
  "kernelspec": {
   "display_name": "Python 3",
   "language": "python",
   "name": "python3"
  },
  "language_info": {
   "codemirror_mode": {
    "name": "ipython",
    "version": 3
   },
   "file_extension": ".py",
   "mimetype": "text/x-python",
   "name": "python",
   "nbconvert_exporter": "python",
   "pygments_lexer": "ipython3",
   "version": "3.8.6"
  }
 },
 "nbformat": 4,
 "nbformat_minor": 4
}
