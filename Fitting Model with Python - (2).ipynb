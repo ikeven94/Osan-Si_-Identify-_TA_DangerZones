{
 "cells": [
  {
   "cell_type": "code",
   "execution_count": 4,
   "id": "noticed-puzzle",
   "metadata": {},
   "outputs": [],
   "source": [
    "import pandas as pd\n",
    "import matplot.pyplot as plt"
   ]
  },
  {
   "cell_type": "code",
   "execution_count": 23,
   "id": "criminal-consolidation",
   "metadata": {},
   "outputs": [
    {
     "data": {
      "text/html": [
       "<div>\n",
       "<style scoped>\n",
       "    .dataframe tbody tr th:only-of-type {\n",
       "        vertical-align: middle;\n",
       "    }\n",
       "\n",
       "    .dataframe tbody tr th {\n",
       "        vertical-align: top;\n",
       "    }\n",
       "\n",
       "    .dataframe thead th {\n",
       "        text-align: right;\n",
       "    }\n",
       "</style>\n",
       "<table border=\"1\" class=\"dataframe\">\n",
       "  <thead>\n",
       "    <tr style=\"text-align: right;\">\n",
       "      <th></th>\n",
       "      <th>accident_cnt</th>\n",
       "      <th>고령인구_count_100</th>\n",
       "      <th>생산가능인구_count_100</th>\n",
       "      <th>신호등_sum</th>\n",
       "      <th>유동인구_sum</th>\n",
       "      <th>유소년인구_count_100</th>\n",
       "      <th>유소년인구_count_200</th>\n",
       "      <th>주정차_count_300</th>\n",
       "      <th>차량등록_count_200</th>\n",
       "      <th>학원수_count_100</th>\n",
       "      <th>...</th>\n",
       "      <th>학구.raw오산원일초통학구역</th>\n",
       "      <th>학구.raw오산초가수초공동통학구역</th>\n",
       "      <th>학구.raw오산초통학구역</th>\n",
       "      <th>학구.raw운산초통학구역</th>\n",
       "      <th>학구.raw운암초통학구역</th>\n",
       "      <th>학구.raw원동초통학구역</th>\n",
       "      <th>학구.raw필봉초통학구역</th>\n",
       "      <th>학구.raw화성초통학구역</th>\n",
       "      <th>정류장_count_200</th>\n",
       "      <th>총인구_count_100</th>\n",
       "    </tr>\n",
       "  </thead>\n",
       "  <tbody>\n",
       "    <tr>\n",
       "      <th>1</th>\n",
       "      <td>1</td>\n",
       "      <td>0</td>\n",
       "      <td>0</td>\n",
       "      <td>0</td>\n",
       "      <td>43.435676</td>\n",
       "      <td>0</td>\n",
       "      <td>0</td>\n",
       "      <td>2</td>\n",
       "      <td>0</td>\n",
       "      <td>0</td>\n",
       "      <td>...</td>\n",
       "      <td>0</td>\n",
       "      <td>0</td>\n",
       "      <td>0</td>\n",
       "      <td>0</td>\n",
       "      <td>0</td>\n",
       "      <td>0</td>\n",
       "      <td>0</td>\n",
       "      <td>0</td>\n",
       "      <td>2</td>\n",
       "      <td>0</td>\n",
       "    </tr>\n",
       "    <tr>\n",
       "      <th>2</th>\n",
       "      <td>1</td>\n",
       "      <td>0</td>\n",
       "      <td>0</td>\n",
       "      <td>0</td>\n",
       "      <td>9.633417</td>\n",
       "      <td>0</td>\n",
       "      <td>0</td>\n",
       "      <td>2</td>\n",
       "      <td>0</td>\n",
       "      <td>0</td>\n",
       "      <td>...</td>\n",
       "      <td>0</td>\n",
       "      <td>0</td>\n",
       "      <td>0</td>\n",
       "      <td>0</td>\n",
       "      <td>0</td>\n",
       "      <td>0</td>\n",
       "      <td>0</td>\n",
       "      <td>0</td>\n",
       "      <td>0</td>\n",
       "      <td>0</td>\n",
       "    </tr>\n",
       "    <tr>\n",
       "      <th>3</th>\n",
       "      <td>1</td>\n",
       "      <td>0</td>\n",
       "      <td>0</td>\n",
       "      <td>0</td>\n",
       "      <td>0.215500</td>\n",
       "      <td>0</td>\n",
       "      <td>0</td>\n",
       "      <td>2</td>\n",
       "      <td>0</td>\n",
       "      <td>0</td>\n",
       "      <td>...</td>\n",
       "      <td>0</td>\n",
       "      <td>0</td>\n",
       "      <td>0</td>\n",
       "      <td>0</td>\n",
       "      <td>0</td>\n",
       "      <td>0</td>\n",
       "      <td>0</td>\n",
       "      <td>0</td>\n",
       "      <td>1</td>\n",
       "      <td>0</td>\n",
       "    </tr>\n",
       "    <tr>\n",
       "      <th>4</th>\n",
       "      <td>1</td>\n",
       "      <td>0</td>\n",
       "      <td>13</td>\n",
       "      <td>0</td>\n",
       "      <td>0.662000</td>\n",
       "      <td>0</td>\n",
       "      <td>0</td>\n",
       "      <td>0</td>\n",
       "      <td>1</td>\n",
       "      <td>0</td>\n",
       "      <td>...</td>\n",
       "      <td>0</td>\n",
       "      <td>0</td>\n",
       "      <td>0</td>\n",
       "      <td>0</td>\n",
       "      <td>0</td>\n",
       "      <td>0</td>\n",
       "      <td>0</td>\n",
       "      <td>0</td>\n",
       "      <td>0</td>\n",
       "      <td>13</td>\n",
       "    </tr>\n",
       "    <tr>\n",
       "      <th>5</th>\n",
       "      <td>1</td>\n",
       "      <td>0</td>\n",
       "      <td>0</td>\n",
       "      <td>8</td>\n",
       "      <td>8.104333</td>\n",
       "      <td>0</td>\n",
       "      <td>0</td>\n",
       "      <td>6</td>\n",
       "      <td>0</td>\n",
       "      <td>0</td>\n",
       "      <td>...</td>\n",
       "      <td>0</td>\n",
       "      <td>0</td>\n",
       "      <td>0</td>\n",
       "      <td>0</td>\n",
       "      <td>0</td>\n",
       "      <td>0</td>\n",
       "      <td>0</td>\n",
       "      <td>0</td>\n",
       "      <td>4</td>\n",
       "      <td>0</td>\n",
       "    </tr>\n",
       "    <tr>\n",
       "      <th>...</th>\n",
       "      <td>...</td>\n",
       "      <td>...</td>\n",
       "      <td>...</td>\n",
       "      <td>...</td>\n",
       "      <td>...</td>\n",
       "      <td>...</td>\n",
       "      <td>...</td>\n",
       "      <td>...</td>\n",
       "      <td>...</td>\n",
       "      <td>...</td>\n",
       "      <td>...</td>\n",
       "      <td>...</td>\n",
       "      <td>...</td>\n",
       "      <td>...</td>\n",
       "      <td>...</td>\n",
       "      <td>...</td>\n",
       "      <td>...</td>\n",
       "      <td>...</td>\n",
       "      <td>...</td>\n",
       "      <td>...</td>\n",
       "      <td>...</td>\n",
       "    </tr>\n",
       "    <tr>\n",
       "      <th>341</th>\n",
       "      <td>1</td>\n",
       "      <td>0</td>\n",
       "      <td>0</td>\n",
       "      <td>0</td>\n",
       "      <td>18.696500</td>\n",
       "      <td>0</td>\n",
       "      <td>240</td>\n",
       "      <td>4</td>\n",
       "      <td>0</td>\n",
       "      <td>0</td>\n",
       "      <td>...</td>\n",
       "      <td>0</td>\n",
       "      <td>0</td>\n",
       "      <td>0</td>\n",
       "      <td>0</td>\n",
       "      <td>0</td>\n",
       "      <td>0</td>\n",
       "      <td>0</td>\n",
       "      <td>0</td>\n",
       "      <td>1</td>\n",
       "      <td>0</td>\n",
       "    </tr>\n",
       "    <tr>\n",
       "      <th>342</th>\n",
       "      <td>1</td>\n",
       "      <td>120</td>\n",
       "      <td>872</td>\n",
       "      <td>0</td>\n",
       "      <td>74.573667</td>\n",
       "      <td>176</td>\n",
       "      <td>543</td>\n",
       "      <td>7</td>\n",
       "      <td>0</td>\n",
       "      <td>0</td>\n",
       "      <td>...</td>\n",
       "      <td>0</td>\n",
       "      <td>0</td>\n",
       "      <td>0</td>\n",
       "      <td>0</td>\n",
       "      <td>0</td>\n",
       "      <td>0</td>\n",
       "      <td>0</td>\n",
       "      <td>0</td>\n",
       "      <td>5</td>\n",
       "      <td>1168</td>\n",
       "    </tr>\n",
       "    <tr>\n",
       "      <th>343</th>\n",
       "      <td>1</td>\n",
       "      <td>31</td>\n",
       "      <td>256</td>\n",
       "      <td>3</td>\n",
       "      <td>63.209333</td>\n",
       "      <td>6</td>\n",
       "      <td>231</td>\n",
       "      <td>4</td>\n",
       "      <td>0</td>\n",
       "      <td>0</td>\n",
       "      <td>...</td>\n",
       "      <td>0</td>\n",
       "      <td>0</td>\n",
       "      <td>0</td>\n",
       "      <td>0</td>\n",
       "      <td>0</td>\n",
       "      <td>0</td>\n",
       "      <td>0</td>\n",
       "      <td>0</td>\n",
       "      <td>4</td>\n",
       "      <td>296</td>\n",
       "    </tr>\n",
       "    <tr>\n",
       "      <th>344</th>\n",
       "      <td>1</td>\n",
       "      <td>0</td>\n",
       "      <td>0</td>\n",
       "      <td>0</td>\n",
       "      <td>85.970583</td>\n",
       "      <td>0</td>\n",
       "      <td>0</td>\n",
       "      <td>2</td>\n",
       "      <td>0</td>\n",
       "      <td>0</td>\n",
       "      <td>...</td>\n",
       "      <td>0</td>\n",
       "      <td>0</td>\n",
       "      <td>0</td>\n",
       "      <td>0</td>\n",
       "      <td>0</td>\n",
       "      <td>0</td>\n",
       "      <td>0</td>\n",
       "      <td>0</td>\n",
       "      <td>2</td>\n",
       "      <td>0</td>\n",
       "    </tr>\n",
       "    <tr>\n",
       "      <th>345</th>\n",
       "      <td>1</td>\n",
       "      <td>9</td>\n",
       "      <td>13</td>\n",
       "      <td>0</td>\n",
       "      <td>47.054500</td>\n",
       "      <td>0</td>\n",
       "      <td>42</td>\n",
       "      <td>4</td>\n",
       "      <td>0</td>\n",
       "      <td>0</td>\n",
       "      <td>...</td>\n",
       "      <td>0</td>\n",
       "      <td>0</td>\n",
       "      <td>0</td>\n",
       "      <td>0</td>\n",
       "      <td>0</td>\n",
       "      <td>0</td>\n",
       "      <td>0</td>\n",
       "      <td>0</td>\n",
       "      <td>0</td>\n",
       "      <td>22</td>\n",
       "    </tr>\n",
       "  </tbody>\n",
       "</table>\n",
       "<p>345 rows × 81 columns</p>\n",
       "</div>"
      ],
      "text/plain": [
       "     accident_cnt  고령인구_count_100  생산가능인구_count_100  신호등_sum   유동인구_sum  \\\n",
       "1               1               0                 0        0  43.435676   \n",
       "2               1               0                 0        0   9.633417   \n",
       "3               1               0                 0        0   0.215500   \n",
       "4               1               0                13        0   0.662000   \n",
       "5               1               0                 0        8   8.104333   \n",
       "..            ...             ...               ...      ...        ...   \n",
       "341             1               0                 0        0  18.696500   \n",
       "342             1             120               872        0  74.573667   \n",
       "343             1              31               256        3  63.209333   \n",
       "344             1               0                 0        0  85.970583   \n",
       "345             1               9                13        0  47.054500   \n",
       "\n",
       "     유소년인구_count_100  유소년인구_count_200  주정차_count_300  차량등록_count_200  \\\n",
       "1                  0                0              2               0   \n",
       "2                  0                0              2               0   \n",
       "3                  0                0              2               0   \n",
       "4                  0                0              0               1   \n",
       "5                  0                0              6               0   \n",
       "..               ...              ...            ...             ...   \n",
       "341                0              240              4               0   \n",
       "342              176              543              7               0   \n",
       "343                6              231              4               0   \n",
       "344                0                0              2               0   \n",
       "345                0               42              4               0   \n",
       "\n",
       "     학원수_count_100  ...  학구.raw오산원일초통학구역  학구.raw오산초가수초공동통학구역  학구.raw오산초통학구역  \\\n",
       "1                0  ...                0                   0              0   \n",
       "2                0  ...                0                   0              0   \n",
       "3                0  ...                0                   0              0   \n",
       "4                0  ...                0                   0              0   \n",
       "5                0  ...                0                   0              0   \n",
       "..             ...  ...              ...                 ...            ...   \n",
       "341              0  ...                0                   0              0   \n",
       "342              0  ...                0                   0              0   \n",
       "343              0  ...                0                   0              0   \n",
       "344              0  ...                0                   0              0   \n",
       "345              0  ...                0                   0              0   \n",
       "\n",
       "     학구.raw운산초통학구역  학구.raw운암초통학구역  학구.raw원동초통학구역  학구.raw필봉초통학구역  \\\n",
       "1                0              0              0              0   \n",
       "2                0              0              0              0   \n",
       "3                0              0              0              0   \n",
       "4                0              0              0              0   \n",
       "5                0              0              0              0   \n",
       "..             ...            ...            ...            ...   \n",
       "341              0              0              0              0   \n",
       "342              0              0              0              0   \n",
       "343              0              0              0              0   \n",
       "344              0              0              0              0   \n",
       "345              0              0              0              0   \n",
       "\n",
       "     학구.raw화성초통학구역  정류장_count_200  총인구_count_100  \n",
       "1                0              2              0  \n",
       "2                0              0              0  \n",
       "3                0              1              0  \n",
       "4                0              0             13  \n",
       "5                0              4              0  \n",
       "..             ...            ...            ...  \n",
       "341              0              1              0  \n",
       "342              0              5           1168  \n",
       "343              0              4            296  \n",
       "344              0              2              0  \n",
       "345              0              0             22  \n",
       "\n",
       "[345 rows x 81 columns]"
      ]
     },
     "execution_count": 23,
     "metadata": {},
     "output_type": "execute_result"
    }
   ],
   "source": [
    "total = pd.read_csv('total_sub.csv',index_col='Unnamed: 0')\n",
    "total.sample(6)"
   ]
  },
  {
   "cell_type": "code",
   "execution_count": 20,
   "id": "offshore-female",
   "metadata": {},
   "outputs": [
    {
     "data": {
      "text/plain": [
       "Index(['accident_cnt', '고령인구_count_100', '생산가능인구_count_100', '신호등_sum',\n",
       "       '유동인구_sum', '유소년인구_count_100', '유소년인구_count_200', '주정차_count_300',\n",
       "       '차량등록_count_200', '학원수_count_100', '학원수_count_300', '횡단보도_sum',\n",
       "       '방지턱_count', '방지턱_count_100', '방지턱_count_200', '불법주정차_cam_count',\n",
       "       '어린이집_count', '어린이집_count_100', '어린이집_count_200', '유치원_count',\n",
       "       '유치원_count_100', '유치원_count_200', '정류장_count_100', '정류장_count_300',\n",
       "       '초등학교_count', '초등학교_count_100', '초등학교_count_200', '동.raw가수동',\n",
       "       '동.raw가장동', '동.raw갈곶동', '동.raw고현동', '동.raw궐동', '동.raw금암동', '동.raw내삼미동',\n",
       "       '동.raw누읍동', '동.raw벌음동', '동.raw부산동', '동.raw서동', '동.raw서랑동', '동.raw세교동',\n",
       "       '동.raw수청동', '동.raw양산동', '동.raw오산동', '동.raw외삼미동', '동.raw원동', '동.raw은계동',\n",
       "       '동.raw지곶동', '동.raw청학동', '동.raw청호동', '동.raw탑동', '학구.raw가수초통학구역',\n",
       "       '학구.raw광성초양산초병점초공동통학구역', '학구.raw광성초통학구역', '학구.raw금암초통학구역',\n",
       "       '학구.raw대호초성산초공동통학구역', '학구.raw대호초통학구역', '학구.raw매홀초삼미분교수청초필봉초공동통학구역',\n",
       "       '학구.raw매홀초삼미분교장통학구역', '학구.raw매홀초통학구역', '학구.raw문시초통학구역', '학구.raw성산초통학구역',\n",
       "       '학구.raw성호초운암초공동통학구역', '학구.raw성호초통학구역', '학구.raw세미초통학구역', '학구.raw수청초통학구역',\n",
       "       '학구.raw양산초통학구역', '학구.raw오산고현초오산원당초공동통학구역', '학구.raw오산고현초통학구역',\n",
       "       '학구.raw오산대원초원동초공동통학구역', '학구.raw오산대원초통학구역', '학구.raw오산원당초통학구역',\n",
       "       '학구.raw오산원일초통학구역', '학구.raw오산초가수초공동통학구역', '학구.raw오산초통학구역',\n",
       "       '학구.raw운산초통학구역', '학구.raw운암초통학구역', '학구.raw원동초통학구역', '학구.raw필봉초통학구역',\n",
       "       '학구.raw화성초통학구역', '정류장_count_200', '총인구_count_100'],\n",
       "      dtype='object')"
      ]
     },
     "execution_count": 20,
     "metadata": {},
     "output_type": "execute_result"
    }
   ],
   "source": [
    "total.columns"
   ]
  },
  {
   "cell_type": "code",
   "execution_count": 22,
   "id": "chemical-cigarette",
   "metadata": {},
   "outputs": [
    {
     "data": {
      "text/plain": [
       "((345, 80), (345,))"
      ]
     },
     "execution_count": 22,
     "metadata": {},
     "output_type": "execute_result"
    }
   ],
   "source": [
    "'''\n",
    "X = pd.DataFrame(total.drop(['gid','geometry','가장동','갈곶동','고현동','궐동','금암동','내삼미동','부산동','누읍동','벌음동','부산동','서동','서랑동',\n",
    "                                '세교동','수청동','양산동','오산동','외삼미동','원동','은계동','지곶동','청학동','청호동','탑동',\n",
    "                                '광성초양산초병점초공동통학구역','광성초통학구역','금암초통학구역','대호초성산초공동통학구역',\n",
    "                                '대호초통학구역','매홀초삼미분교수청초필봉초공동통학구역','매홀초삼미분교장통학구역','매홀초통학구역',\n",
    "                                '문시초통학구역','성산초통학구역','성호초운암초공동통학구역','성호초통학구역','세미초통학구역','수청초통학구역',\n",
    "                                '양산초통학구역', '오산고현초오산원당초공동통학구역','오산고현초통학구역','오산대원초원동초공동통학구역','오산대원초통학구역',\n",
    "                                '오산원당초통학구역','오산원일초통학구역','오산초가수초공동통학구역','오산초통학구역','운산초통학구역','운암초통학구역',\n",
    "                                '원동초통학구역','필봉초통학구역','화성초통학구역'],axis=1))\n",
    "'''\n",
    "X = pd.DataFrame(total.drop(['accident_cnt'],axis=1))\n",
    "cols = X.columns\n",
    "Y = pd.Series(total[\"accident_cnt\"])\n",
    "X.shape , Y.shape"
   ]
  },
  {
   "cell_type": "markdown",
   "id": "worldwide-focus",
   "metadata": {},
   "source": [
    "### - split validation set"
   ]
  },
  {
   "cell_type": "code",
   "execution_count": 23,
   "id": "consistent-digest",
   "metadata": {},
   "outputs": [
    {
     "data": {
      "text/plain": [
       "((276, 80), (69, 80))"
      ]
     },
     "execution_count": 23,
     "metadata": {},
     "output_type": "execute_result"
    }
   ],
   "source": [
    "from sklearn.preprocessing import MinMaxScaler , StandardScaler\n",
    "from sklearn.model_selection import train_test_split\n",
    "\n",
    "scaler = StandardScaler()\n",
    "m_scaler = MinMaxScaler()\n",
    "X = scaler.fit_transform(X)\n",
    "\n",
    "x_train,x_test,y_train,y_test = train_test_split(X,Y,test_size=0.2)\n",
    "x_train.shape , x_test.shape"
   ]
  },
  {
   "cell_type": "code",
   "execution_count": 24,
   "id": "competitive-analysis",
   "metadata": {},
   "outputs": [],
   "source": [
    "from sklearn.model_selection import KFold\n",
    "from sklearn.metrics import mean_squared_error,make_scorer\n",
    "from sklearn.model_selection import cross_val_score"
   ]
  },
  {
   "cell_type": "code",
   "execution_count": 26,
   "id": "accredited-publisher",
   "metadata": {},
   "outputs": [],
   "source": [
    "my_scorer = make_scorer(mean_squared_error,greater_is_better=False)\n",
    "\n",
    "kf = KFold(n_splits=10,shuffle=True,random_state=2021)"
   ]
  },
  {
   "cell_type": "markdown",
   "id": "essential-jewel",
   "metadata": {},
   "source": [
    "## Fitting AdaBoost Model"
   ]
  },
  {
   "cell_type": "code",
   "execution_count": 40,
   "id": "contrary-creator",
   "metadata": {},
   "outputs": [
    {
     "name": "stdout",
     "output_type": "stream",
     "text": [
      "Rscore : 0.11457687631551483\n",
      "MSE : 1.635230601859972\n"
     ]
    }
   ],
   "source": [
    "from sklearn.ensemble import AdaBoostRegressor\n",
    "\n",
    "ada = AdaBoostRegressor(n_estimators=200,learning_rate=0.1,loss=\"linear\",random_state=2021)\n",
    "ada.fit(x_train, y_train)\n",
    "\n",
    "Rscore = ada.score(x_test,y_test)\n",
    "print(\"Rscore :\",Rscore)\n",
    "\n",
    "score = cross_val_score(ada,x_test,y_test,cv=kf,scoring=my_scorer)  \n",
    "print(\"MSE :\",score.mean()*(-1))"
   ]
  },
  {
   "cell_type": "code",
   "execution_count": 41,
   "id": "greenhouse-flashing",
   "metadata": {},
   "outputs": [
    {
     "name": "stdout",
     "output_type": "stream",
     "text": [
      "Rscore : 0.09594142742268863\n",
      "MSE : 2.048130637760575\n"
     ]
    }
   ],
   "source": [
    "from sklearn.ensemble import AdaBoostRegressor\n",
    "\n",
    "ada = AdaBoostRegressor(n_estimators=200,learning_rate=0.1,loss=\"exponential\",random_state=2021)\n",
    "ada.fit(x_train, y_train)\n",
    "\n",
    "Rscore = ada.score(x_test,y_test)\n",
    "print(\"Rscore :\",Rscore)\n",
    "\n",
    "score = cross_val_score(ada,x_test,y_test,cv=kf,scoring=my_scorer)  \n",
    "print(\"MSE :\",score.mean()*(-1))"
   ]
  },
  {
   "cell_type": "markdown",
   "id": "multiple-march",
   "metadata": {},
   "source": [
    "## Fitting XGBoost Model"
   ]
  },
  {
   "cell_type": "code",
   "execution_count": 34,
   "id": "lovely-polls",
   "metadata": {},
   "outputs": [
    {
     "name": "stdout",
     "output_type": "stream",
     "text": [
      "Rscore : -0.10617663747462891\n",
      "MSE : 1.7728204601676247\n"
     ]
    }
   ],
   "source": [
    "import xgboost\n",
    "xgb_model = xgboost.XGBRegressor(n_estimators=200, learning_rate=0.08, gamma=0, subsample=0.75,\n",
    "                           colsample_bytree=1, max_depth=7)\n",
    "\n",
    "xgb_model.fit(x_train,y_train)\n",
    "\n",
    "Rscore = xgb_model.score(x_test,y_test)\n",
    "print(\"Rscore :\",Rscore)\n",
    "\n",
    "score = cross_val_score(xgb_model,x_test,y_test,cv=kf,scoring=my_scorer)  \n",
    "print(\"MSE :\",score.mean()*(-1))"
   ]
  },
  {
   "cell_type": "code",
   "execution_count": 48,
   "id": "surprised-stretch",
   "metadata": {},
   "outputs": [
    {
     "data": {
      "text/plain": [
       "<AxesSubplot:title={'center':'Feature importance'}, xlabel='F score', ylabel='Features'>"
      ]
     },
     "execution_count": 48,
     "metadata": {},
     "output_type": "execute_result"
    },
    {
     "data": {
      "image/png": "[encoded data removed]",
      "text/plain": [
       "<Figure size 432x288 with 1 Axes>"
      ]
     },
     "metadata": {
      "needs_background": "light"
     },
     "output_type": "display_data"
    }
   ],
   "source": [
    "import matplotlib.pyplot as plt\n",
    "xgboost.plot_importance(xgb_model)"
   ]
  },
  {
   "cell_type": "markdown",
   "id": "latest-evanescence",
   "metadata": {},
   "source": [
    "### 전체 모델들의 MSE 시각화"
   ]
  },
  {
   "cell_type": "code",
   "execution_count": 5,
   "id": "organizational-joshua",
   "metadata": {},
   "outputs": [],
   "source": [
    "data = [['Linear Regression',1.0499],['Ridge Regression',0.97336],['Lasso Regression', 0.94607],['Eleastic Regerssion',0.88615],\n",
    "       ['SVM -linear',1.4186], ['SVM-radial',1.33959],['Regression Tree',0.99607],['Random Forest',0.98421],['Gradient Boosting',1.0391],\n",
    "       ['AdaBoost',1.63523],['XGBoost', 1.77282]]"
   ]
  },
  {
   "cell_type": "code",
   "execution_count": 6,
   "id": "natural-major",
   "metadata": {},
   "outputs": [],
   "source": [
    "df = pd.DataFrame(data,columns=['Model','MSE'])"
   ]
  },
  {
   "cell_type": "code",
   "execution_count": 7,
   "id": "organizational-virgin",
   "metadata": {},
   "outputs": [
    {
     "data": {
      "text/html": [
       "<div>\n",
       "<style scoped>\n",
       "    .dataframe tbody tr th:only-of-type {\n",
       "        vertical-align: middle;\n",
       "    }\n",
       "\n",
       "    .dataframe tbody tr th {\n",
       "        vertical-align: top;\n",
       "    }\n",
       "\n",
       "    .dataframe thead th {\n",
       "        text-align: right;\n",
       "    }\n",
       "</style>\n",
       "<table border=\"1\" class=\"dataframe\">\n",
       "  <thead>\n",
       "    <tr style=\"text-align: right;\">\n",
       "      <th></th>\n",
       "      <th>Model</th>\n",
       "      <th>MSE</th>\n",
       "    </tr>\n",
       "  </thead>\n",
       "  <tbody>\n",
       "    <tr>\n",
       "      <th>0</th>\n",
       "      <td>Linear Regression</td>\n",
       "      <td>1.04990</td>\n",
       "    </tr>\n",
       "    <tr>\n",
       "      <th>1</th>\n",
       "      <td>Ridge Regression</td>\n",
       "      <td>0.97336</td>\n",
       "    </tr>\n",
       "    <tr>\n",
       "      <th>2</th>\n",
       "      <td>Lasso Regression</td>\n",
       "      <td>0.94607</td>\n",
       "    </tr>\n",
       "    <tr>\n",
       "      <th>3</th>\n",
       "      <td>Eleastic Regerssion</td>\n",
       "      <td>0.88615</td>\n",
       "    </tr>\n",
       "    <tr>\n",
       "      <th>4</th>\n",
       "      <td>SVM -linear</td>\n",
       "      <td>1.41860</td>\n",
       "    </tr>\n",
       "    <tr>\n",
       "      <th>5</th>\n",
       "      <td>SVM-radial</td>\n",
       "      <td>1.33959</td>\n",
       "    </tr>\n",
       "    <tr>\n",
       "      <th>6</th>\n",
       "      <td>Regression Tree</td>\n",
       "      <td>0.99607</td>\n",
       "    </tr>\n",
       "    <tr>\n",
       "      <th>7</th>\n",
       "      <td>Random Forest</td>\n",
       "      <td>0.98421</td>\n",
       "    </tr>\n",
       "    <tr>\n",
       "      <th>8</th>\n",
       "      <td>Gradient Boosting</td>\n",
       "      <td>1.03910</td>\n",
       "    </tr>\n",
       "    <tr>\n",
       "      <th>9</th>\n",
       "      <td>AdaBoost</td>\n",
       "      <td>1.63523</td>\n",
       "    </tr>\n",
       "    <tr>\n",
       "      <th>10</th>\n",
       "      <td>XGBoost</td>\n",
       "      <td>1.77282</td>\n",
       "    </tr>\n",
       "  </tbody>\n",
       "</table>\n",
       "</div>"
      ],
      "text/plain": [
       "                  Model      MSE\n",
       "0     Linear Regression  1.04990\n",
       "1      Ridge Regression  0.97336\n",
       "2      Lasso Regression  0.94607\n",
       "3   Eleastic Regerssion  0.88615\n",
       "4           SVM -linear  1.41860\n",
       "5            SVM-radial  1.33959\n",
       "6       Regression Tree  0.99607\n",
       "7         Random Forest  0.98421\n",
       "8     Gradient Boosting  1.03910\n",
       "9              AdaBoost  1.63523\n",
       "10              XGBoost  1.77282"
      ]
     },
     "execution_count": 7,
     "metadata": {},
     "output_type": "execute_result"
    }
   ],
   "source": [
    "df"
   ]
  },
  {
   "cell_type": "code",
   "execution_count": null,
   "id": "dirty-photographer",
   "metadata": {},
   "outputs": [],
   "source": []
  },
  {
   "cell_type": "code",
   "execution_count": 12,
   "id": "crazy-heating",
   "metadata": {},
   "outputs": [
    {
     "data": {
      "text/plain": [
       "10    1.77282\n",
       "9     1.63523\n",
       "4     1.41860\n",
       "5     1.33959\n",
       "0     1.04990\n",
       "8     1.03910\n",
       "6     0.99607\n",
       "7     0.98421\n",
       "1     0.97336\n",
       "2     0.94607\n",
       "3     0.88615\n",
       "Name: MSE, dtype: float64"
      ]
     },
     "execution_count": 12,
     "metadata": {},
     "output_type": "execute_result"
    }
   ],
   "source": [
    "df2 = df.sort_values(by='MSE',axis=0,ascending=False)"
   ]
  },
  {
   "cell_type": "code",
   "execution_count": 21,
   "id": "relevant-memory",
   "metadata": {
    "scrolled": true
   },
   "outputs": [
    {
     "data": {
      "text/plain": [
       "([0, 1, 2, 3, 4, 5, 6, 7, 8, 9, 10],\n",
       " [Text(0, 0, ''),\n",
       "  Text(0, 0, ''),\n",
       "  Text(0, 0, ''),\n",
       "  Text(0, 0, ''),\n",
       "  Text(0, 0, ''),\n",
       "  Text(0, 0, ''),\n",
       "  Text(0, 0, ''),\n",
       "  Text(0, 0, ''),\n",
       "  Text(0, 0, ''),\n",
       "  Text(0, 0, ''),\n",
       "  Text(0, 0, '')])"
      ]
     },
     "execution_count": 21,
     "metadata": {},
     "output_type": "execute_result"
    },
    {
     "data": {
      "image/png": "[encoded data removed]",
      "text/plain": [
       "<Figure size 864x576 with 1 Axes>"
      ]
     },
     "metadata": {
      "needs_background": "light"
     },
     "output_type": "display_data"
    }
   ],
   "source": [
    "plt.figure(figsize=(12,8))\n",
    "plt.bar(df2.Model,df2.MSE, align='edge', color='springgreen',)\n",
    "plt.xticks(rotation = 45)"
   ]
  },
  {
   "cell_type": "code",
   "execution_count": 17,
   "id": "chicken-wealth",
   "metadata": {},
   "outputs": [],
   "source": []
  },
  {
   "cell_type": "code",
   "execution_count": null,
   "id": "virgin-arena",
   "metadata": {},
   "outputs": [],
   "source": []
  }
 ],
 "metadata": {
  "kernelspec": {
   "display_name": "Python 3",
   "language": "python",
   "name": "python3"
  },
  "language_info": {
   "codemirror_mode": {
    "name": "ipython",
    "version": 3
   },
   "file_extension": ".py",
   "mimetype": "text/x-python",
   "name": "python",
   "nbconvert_exporter": "python",
   "pygments_lexer": "ipython3",
   "version": "3.6.9"
  }
 },
 "nbformat": 4,
 "nbformat_minor": 5
}
