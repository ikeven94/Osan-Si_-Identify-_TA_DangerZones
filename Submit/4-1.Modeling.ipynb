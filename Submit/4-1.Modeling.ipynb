{
 "cells": [
  {
   "cell_type": "markdown",
   "metadata": {},
   "source": [
    "# 4-1.Modeling"
   ]
  },
  {
   "cell_type": "code",
   "execution_count": 2,
   "metadata": {},
   "outputs": [],
   "source": [
    "import os\n",
    "import pathlib\n",
    "import pandas as pd\n",
    "import numpy as np\n",
    "import geopandas as gpd\n",
    "import folium\n",
    "from haversine import haversine\n",
    "import seaborn as sns\n",
    "import json\n",
    "from shapely.geometry import Point\n",
    "sns.set()"
   ]
  },
  {
   "cell_type": "code",
   "execution_count": 3,
   "metadata": {},
   "outputs": [],
   "source": [
    "#Font\n",
    "import matplotlib\n",
    "from matplotlib import font_manager\n",
    "import matplotlib.pyplot as plt\n",
    "import warnings\n",
    "\n",
    "warnings.filterwarnings(\"ignore\")\n",
    "matplotlib.rcParams['axes.unicode_minus']=False\n",
    "\n",
    "font_fname = '/opt/app-root/lib/python3.6/site-packages/matplotlib/mpl-data/fonts/ttf/malgun.ttf'\n",
    "font_family = font_manager.FontProperties(fname=font_fname).get_name()\n",
    "plt.rcParams[\"font.family\"] = font_family"
   ]
  },
  {
   "cell_type": "code",
   "execution_count": 4,
   "metadata": {},
   "outputs": [],
   "source": [
    "path = pathlib.Path('./data')"
   ]
  },
  {
   "cell_type": "code",
   "execution_count": 5,
   "metadata": {},
   "outputs": [],
   "source": [
    "주정차단속 = pd.read_csv(os.path.join(path,'1.오산시_주정차단속(2018~2020).csv'),encoding=\"utf-8\")\n",
    "어린이교통사고_격자 = gpd.read_file(os.path.join(path,'2.오산시_어린이교통사고_격자.geojson'))\n",
    "차량등록현황_격자 = gpd.read_file(os.path.join(path,'3.오산시_차량등록현황_격자.geojson'))\n",
    "거주인구격자_총인구 = gpd.read_file(os.path.join(path,'4.오산시_연령별_거주인구격자(총인구).geojson'))\n",
    "거주인구격자_유소년 = gpd.read_file(os.path.join(path,'5.오산시_연령별_거주인구격자(유소년).geojson'))\n",
    "거주인구격자_생산가능 = gpd.read_file(os.path.join(path,'6.오산시_연령별_거주인구격자(생산가능인구).geojson'))\n",
    "거주인구격자_고령 = gpd.read_file(os.path.join(path,'7.오산시_연령별_거주인구격자(고령).geojson'))\n",
    "유동인구 = pd.read_csv(os.path.join(path,'8.오산시_유동인구(2019).csv'),encoding=\"utf-8\")\n",
    "어린이보호구역 = pd.read_csv(os.path.join(path,'9.오산시_어린이보호구역.csv'),encoding=\"utf-8\")\n",
    "학교위치정보 = pd.read_csv(os.path.join(path,'10.오산시_학교위치정보.csv'),encoding=\"utf-8\")\n",
    "초등학교_통학구 = gpd.read_file(os.path.join(path,'11.오산시_초등학교_통학구.geojson'))\n",
    "중학교_학군 = gpd.read_file(os.path.join(path,'12.오산시_중학교_학군.geojson'))\n",
    "어린이집_유치원현황 = pd.read_csv(os.path.join(path,'13.오산시_어린이집_유치원현황.csv'),encoding=\"utf-8\")\n",
    "기상데이터 = pd.read_csv(os.path.join(path,'14.오산시_기상데이터(2010~2019).csv'),encoding=\"utf-8\")\n",
    "무인교통단속카메라 = pd.read_csv(os.path.join(path,'15.오산시_무인교통단속카메라.csv'),encoding=\"utf-8\")\n",
    "도로안전표지 = pd.read_csv(os.path.join(path,'16.오산시_도로안전표지표준데이터.csv'),encoding=\"utf-8\")\n",
    "횡단보도 = gpd.read_file(os.path.join(path,'17.오산시_횡단보도.geojson'))\n",
    "과속방지턱 = pd.read_csv(os.path.join(path,'18.오산시_과속방지턱표준데이터.csv'),encoding=\"utf-8\")\n",
    "신호등 = gpd.read_file(os.path.join(path,'19.오산시_신호등.geojson'))\n",
    "CCTV설치현황 = pd.read_csv(os.path.join(path,'20.오산시_CCTV설치현황.csv'),encoding=\"utf-8\")\n",
    "인도 = gpd.read_file(os.path.join(path,'21.오산시_인도.geojson'))\n",
    "버스정류장 = pd.read_csv(os.path.join(path,'22.오산시_버스정류장.csv'),encoding=\"utf-8\")\n",
    "상세도로망 = gpd.read_file(os.path.join(path,'23.오산시_상세도로망_LV6.geojson'))\n",
    "시간대별_추정교통량 = pd.read_csv(os.path.join(path,'24.평일_전일,시간대별_오산시_추정교통량_Level6.csv'),encoding=\"utf-8\")\n",
    "혼잡빈도강도 = pd.read_csv(os.path.join(path,'25.평일_전일_오산시_혼잡빈도강도_Level6.csv'),encoding=\"utf-8\")\n",
    "혼잡시간강도 = pd.read_csv(os.path.join(path,'26.평일_전일_오산시_혼잡시간강도_Level6.csv'),encoding=\"utf-8\")\n",
    "도로명주소_건물 = gpd.read_file(os.path.join(path,'27.오산시_도로명주소_건물.geojson'))\n",
    "건물연면적_격자 = gpd.read_file(os.path.join(path,'28.오산시_건물연면적_격자.geojson'))\n",
    "체육시설현황 = pd.read_csv(os.path.join(path,'29.오산시_체육시설현황.csv'),encoding=\"utf-8\")\n",
    "학원_및_교습소_현황 = pd.read_csv(os.path.join(path,'30.오산시_학원_및_교습소_현황.csv'),encoding=\"utf-8\")\n",
    "법정경계_시군구 = gpd.read_file(os.path.join(path,'31.오산시_법정경계(시군구).geojson'))\n",
    "행정경계_읍면동 = gpd.read_file(os.path.join(path,'32.오산시_행정경계(읍면동).geojson'))\n",
    "법정경계_읍면동 = gpd.read_file(os.path.join(path,'33.오산시_법정경계(읍면동).geojson'))\n",
    "지적도 = gpd.read_file(os.path.join(path,'34.오산시_지적도.geojson'))"
   ]
  },
  {
   "cell_type": "markdown",
   "metadata": {},
   "source": [
    "# [과제 1] 모델링을 위한 feature column 생성"
   ]
  },
  {
   "cell_type": "markdown",
   "metadata": {},
   "source": [
    "__어린이 교통사고 격자 데이터를 기본으로 칼럼을 누적__"
   ]
  },
  {
   "cell_type": "code",
   "execution_count": 6,
   "metadata": {},
   "outputs": [],
   "source": [
    "data = 어린이교통사고_격자[어린이교통사고_격자.accident_cnt>0].reset_index().copy()\n",
    "data = data.drop([\"index\"],axis=1)"
   ]
  },
  {
   "cell_type": "code",
   "execution_count": 7,
   "metadata": {},
   "outputs": [
    {
     "data": {
      "text/html": [
       "<div>\n",
       "<style scoped>\n",
       "    .dataframe tbody tr th:only-of-type {\n",
       "        vertical-align: middle;\n",
       "    }\n",
       "\n",
       "    .dataframe tbody tr th {\n",
       "        vertical-align: top;\n",
       "    }\n",
       "\n",
       "    .dataframe thead th {\n",
       "        text-align: right;\n",
       "    }\n",
       "</style>\n",
       "<table border=\"1\" class=\"dataframe\">\n",
       "  <thead>\n",
       "    <tr style=\"text-align: right;\">\n",
       "      <th></th>\n",
       "      <th>gid</th>\n",
       "      <th>accident_cnt</th>\n",
       "      <th>geometry</th>\n",
       "    </tr>\n",
       "  </thead>\n",
       "  <tbody>\n",
       "    <tr>\n",
       "      <th>0</th>\n",
       "      <td>다사561083</td>\n",
       "      <td>1</td>\n",
       "      <td>MULTIPOLYGON (((127.00549 37.17243, 127.00549 ...</td>\n",
       "    </tr>\n",
       "    <tr>\n",
       "      <th>1</th>\n",
       "      <td>다사564096</td>\n",
       "      <td>1</td>\n",
       "      <td>MULTIPOLYGON (((127.00880 37.18416, 127.00879 ...</td>\n",
       "    </tr>\n",
       "    <tr>\n",
       "      <th>2</th>\n",
       "      <td>다사566102</td>\n",
       "      <td>1</td>\n",
       "      <td>MULTIPOLYGON (((127.01101 37.18958, 127.01101 ...</td>\n",
       "    </tr>\n",
       "  </tbody>\n",
       "</table>\n",
       "</div>"
      ],
      "text/plain": [
       "        gid  accident_cnt                                           geometry\n",
       "0  다사561083             1  MULTIPOLYGON (((127.00549 37.17243, 127.00549 ...\n",
       "1  다사564096             1  MULTIPOLYGON (((127.00880 37.18416, 127.00879 ...\n",
       "2  다사566102             1  MULTIPOLYGON (((127.01101 37.18958, 127.01101 ..."
      ]
     },
     "execution_count": 7,
     "metadata": {},
     "output_type": "execute_result"
    }
   ],
   "source": [
    "data.head(3)"
   ]
  },
  {
   "cell_type": "markdown",
   "metadata": {},
   "source": [
    "> __사고 격자 내 평균 유동인구 (col_name = 유동인구_sum)__"
   ]
  },
  {
   "cell_type": "code",
   "execution_count": null,
   "metadata": {},
   "outputs": [],
   "source": [
    "def ppl_flow(geo_obj):\n",
    "    \n",
    "    global 유동인구\n",
    "    \n",
    "    ret_cnt = 0\n",
    "    \n",
    "    for (lon,lat,cnt) in 유동인구.iloc:\n",
    "        current_point = Point(lon,lat)\n",
    "        if geo_obj.contains(current_point):\n",
    "            ret_cnt+=cnt\n",
    "    return ret_cnt\n",
    "\n",
    "data['유동인구_sum'] = data['geometry'].apply(ppl_flow)"
   ]
  },
  {
   "cell_type": "markdown",
   "metadata": {},
   "source": [
    "> __사고 격자 주변(100m , 200m) 유소년 인구 (col_name = 유소년_count_100 , 유소년_count_200)__"
   ]
  },
  {
   "cell_type": "code",
   "execution_count": null,
   "metadata": {},
   "outputs": [],
   "source": [
    "def young_living_nearby(geo_obj,rad):\n",
    "    \n",
    "    global 거주인구격자_유소년\n",
    "    \n",
    "    ret_cnt = 0\n",
    "    y,x = geo_obj.centroid.coords[0]\n",
    "    \n",
    "    for (_,cnt,square) in 거주인구격자_유소년.iloc:\n",
    "        c_y,c_x = square.centroid.coords[0]\n",
    "        \n",
    "        if haversine((x,y),(c_x,c_y),unit=\"m\") <= rad:\n",
    "            ret_cnt+=cnt\n",
    "            \n",
    "    return ret_cnt\n",
    "\n",
    "data['유소년인구_count_100'] = data['geometry'].apply(lambda x:young_living_nearby(x,100))\n",
    "data['유소년인구_count_200'] = data['geometry'].apply(lambda x:young_living_nearby(x,200))"
   ]
  },
  {
   "cell_type": "markdown",
   "metadata": {},
   "source": [
    "> __사고 격자 주변(100m) 생산가능,고령,총 인구 (col_name = 생산가능인구_count_100 , 고령인구_count_100 , 총인구_count_100)__"
   ]
  },
  {
   "cell_type": "code",
   "execution_count": null,
   "metadata": {},
   "outputs": [],
   "source": [
    "def other_living_nearby(geo_obj,other):\n",
    "    \n",
    "    ret_cnt = 0\n",
    "    y,x = geo_obj.centroid.coords[0]\n",
    "    \n",
    "    for (_,cnt,square) in other.iloc:\n",
    "        c_y,c_x = square.centroid.coords[0]\n",
    "        \n",
    "        if haversine((x,y),(c_x,c_y),unit=\"m\") <= 100:\n",
    "            ret_cnt+=cnt\n",
    "            \n",
    "    return ret_cnt\n",
    "\n",
    "data['생산가능인구_count_100'] = data['geometry'].apply(lambda x:other_living_nearby(x,거주인구격자_생산가능))\n",
    "data['고령인구_count_100'] = data['geometry'].apply(lambda x:other_living_nearby(x,거주인구격자_고령))\n",
    "data['총인구_count_100'] = data['geometry'].apply(lambda x:other_living_nearby(x,거주인구격자_총인구))"
   ]
  },
  {
   "cell_type": "markdown",
   "metadata": {},
   "source": [
    "> __사고 격자 주변(100m , 300m) 학원 수 (col_name = 학원수_count_100 , 학원수_count_300)__"
   ]
  },
  {
   "cell_type": "code",
   "execution_count": null,
   "metadata": {},
   "outputs": [],
   "source": [
    "def hakwon_nearby(geo_obj,rad):\n",
    "    \n",
    "    global 학원_및_교습소_현황\n",
    "    \n",
    "    ret_cnt = 0\n",
    "    y,x = geo_obj.centroid.coords[0]\n",
    "    \n",
    "    for (_1,_2,c_y,c_x) in 학원_및_교습소_현황.iloc:\n",
    "        if haversine((x,y),(c_x,c_y),unit=\"m\") <= rad:\n",
    "            ret_cnt+=1\n",
    "    \n",
    "    return ret_cnt\n",
    "\n",
    "data['학원수_count_100'] = data['geometry'].apply(lambda x : hakwon_nearby(x,100))\n",
    "data['학원수_count_300'] = data['geometry'].apply(lambda x : hakwon_nearby(x,300))"
   ]
  },
  {
   "cell_type": "markdown",
   "metadata": {},
   "source": [
    "> __사고 격자 소속 동 (col_name = 동_구분)__"
   ]
  },
  {
   "cell_type": "code",
   "execution_count": null,
   "metadata": {},
   "outputs": [],
   "source": [
    "def dong_assigned(geo_obj):\n",
    "    \n",
    "    global 법정경계_읍면동\n",
    "    \n",
    "    point = geo_obj.centroid\n",
    "    \n",
    "    for line in 법정경계_읍면동.iloc:\n",
    "        dong = line.geometry\n",
    "        if dong.contains(point):\n",
    "            return line.EMD_KOR_NM\n",
    "    return np.nan\n",
    "\n",
    "data[\"동_구분\"] = data[\"geometry\"].map(dong_assigned)\n",
    "data = data.join(pd.dummies(data[\"동_구분\"],drop_first=True,prefix=\"동\")) # One-Hot-Encoding 칼럼 별도 추가"
   ]
  },
  {
   "cell_type": "markdown",
   "metadata": {},
   "source": [
    "> __사고 격자 소속 초등학교 통학구 (col_name = 통학구_구분)__"
   ]
  },
  {
   "cell_type": "code",
   "execution_count": null,
   "metadata": {},
   "outputs": [],
   "source": [
    "def tonghakgu(geo_obj):\n",
    "    \n",
    "    global 초등학교_통학구\n",
    "    \n",
    "    point = geo_obj.centroid\n",
    "    \n",
    "    for line in 초등학교_통학구.iloc:\n",
    "        dong = line.geometry\n",
    "        if dong.contains(point):\n",
    "            return line[\"학구명\"]\n",
    "    return np.nan\n",
    "\n",
    "data[\"통학구_구분\"] = data[\"geometry\"].map(tonghakgu)\n",
    "data = data.join(pd.dummies(data[\"통학구_구분\"],drop_first=True,prefix=\"통학구\")) # One-Hot-Encoding 칼럼 별도 추가"
   ]
  },
  {
   "cell_type": "markdown",
   "metadata": {},
   "source": [
    "> __사고 격자 내 신호등 수 (col_name = 신호등_sum)__"
   ]
  },
  {
   "cell_type": "code",
   "execution_count": null,
   "metadata": {},
   "outputs": [],
   "source": [
    "def traffic_light(geo_obj):\n",
    "    \n",
    "    global 신호등\n",
    "\n",
    "    cnt = 0\n",
    "    for line in 신호등.iloc:\n",
    "        _,obj = line\n",
    "        if geo_obj.contains(obj):\n",
    "            cnt+=1\n",
    "    return cnt\n",
    "\n",
    "data[\"신호등_sum\"] = data[\"geometry\"].map(traffic_light)"
   ]
  },
  {
   "cell_type": "markdown",
   "metadata": {},
   "source": [
    "> __사고 격자 내 횡단보도 수 (col_name = 횡단보도_sum)__"
   ]
  },
  {
   "cell_type": "code",
   "execution_count": null,
   "metadata": {},
   "outputs": [],
   "source": [
    "def cross_walk(geo_obj):\n",
    "    \n",
    "    global 횡단보도\n",
    "\n",
    "    cnt = 0\n",
    "    for line in 횡단보도.iloc:\n",
    "        _,obj = line\n",
    "        if geo_obj.contains(obj):\n",
    "            cnt+=1\n",
    "    return cnt\n",
    "\n",
    "data[\"횡단보도_sum\"] = data[\"geometry\"].map(cross_walk)"
   ]
  },
  {
   "cell_type": "markdown",
   "metadata": {},
   "source": [
    "> __사고 격자 주변(200m) 차량 등록 수 (col_name = 차량등록_count_200)__"
   ]
  },
  {
   "cell_type": "code",
   "execution_count": null,
   "metadata": {},
   "outputs": [],
   "source": [
    "def car_registered(geo_obj):\n",
    "    \n",
    "    global 차량등록현황_격자\n",
    "    \n",
    "    y,x = geo_obj.centroid.coords[0]\n",
    "    cnt=0\n",
    "    for line in 차량등록현황_격자[차량등록현황_격자.car_cnt>0].iloc:\n",
    "        _,val,obj_ = line\n",
    "\n",
    "        if haversine((x,y),(obj_.centroid.coords[0][::-1]),unit=\"m\")<=200:\n",
    "            cnt+=val\n",
    "    return cnt\n",
    "\n",
    "data[\"차량등록_count_200\"] = data[\"geometry\"].map(car_registered)"
   ]
  },
  {
   "cell_type": "markdown",
   "metadata": {},
   "source": [
    "> __사고 격자 주변(300m) 주정차 단속 건수 (col_name = 주정차_count_300)__"
   ]
  },
  {
   "cell_type": "code",
   "execution_count": null,
   "metadata": {},
   "outputs": [],
   "source": [
    "def joojeong(geo_obj):\n",
    "    \n",
    "    global 주정차단속\n",
    "    \n",
    "    cnt=0\n",
    "    for line in 주정차단속.iloc:\n",
    "        y,x = line[-3],line[-2]\n",
    "\n",
    "        if haversine((x,y),(geo_obj.centroid.coords[0][::-1]),unit=\"m\")<=300:\n",
    "            cnt+=1\n",
    "    return cnt\n",
    "\n",
    "data[\"주정차_count_300\"] = data[\"geometry\"].map(joojeong)"
   ]
  },
  {
   "cell_type": "code",
   "execution_count": null,
   "metadata": {},
   "outputs": [],
   "source": []
  },
  {
   "cell_type": "code",
   "execution_count": null,
   "metadata": {},
   "outputs": [],
   "source": []
  },
  {
   "cell_type": "code",
   "execution_count": null,
   "metadata": {},
   "outputs": [],
   "source": []
  },
  {
   "cell_type": "code",
   "execution_count": null,
   "metadata": {},
   "outputs": [],
   "source": []
  },
  {
   "cell_type": "code",
   "execution_count": null,
   "metadata": {},
   "outputs": [],
   "source": []
  },
  {
   "cell_type": "code",
   "execution_count": null,
   "metadata": {},
   "outputs": [],
   "source": []
  },
  {
   "cell_type": "code",
   "execution_count": null,
   "metadata": {},
   "outputs": [],
   "source": []
  },
  {
   "cell_type": "code",
   "execution_count": null,
   "metadata": {},
   "outputs": [],
   "source": []
  },
  {
   "cell_type": "code",
   "execution_count": null,
   "metadata": {},
   "outputs": [],
   "source": []
  },
  {
   "cell_type": "code",
   "execution_count": null,
   "metadata": {},
   "outputs": [],
   "source": []
  },
  {
   "cell_type": "code",
   "execution_count": null,
   "metadata": {},
   "outputs": [],
   "source": []
  },
  {
   "cell_type": "code",
   "execution_count": null,
   "metadata": {},
   "outputs": [],
   "source": []
  },
  {
   "cell_type": "code",
   "execution_count": null,
   "metadata": {},
   "outputs": [],
   "source": []
  },
  {
   "cell_type": "code",
   "execution_count": null,
   "metadata": {},
   "outputs": [],
   "source": []
  },
  {
   "cell_type": "code",
   "execution_count": null,
   "metadata": {},
   "outputs": [],
   "source": []
  },
  {
   "cell_type": "code",
   "execution_count": null,
   "metadata": {},
   "outputs": [],
   "source": []
  },
  {
   "cell_type": "code",
   "execution_count": null,
   "metadata": {},
   "outputs": [],
   "source": []
  },
  {
   "cell_type": "code",
   "execution_count": null,
   "metadata": {},
   "outputs": [],
   "source": []
  },
  {
   "cell_type": "code",
   "execution_count": null,
   "metadata": {},
   "outputs": [],
   "source": []
  },
  {
   "cell_type": "code",
   "execution_count": null,
   "metadata": {},
   "outputs": [],
   "source": []
  },
  {
   "cell_type": "code",
   "execution_count": null,
   "metadata": {},
   "outputs": [],
   "source": []
  },
  {
   "cell_type": "code",
   "execution_count": null,
   "metadata": {},
   "outputs": [],
   "source": []
  },
  {
   "cell_type": "code",
   "execution_count": null,
   "metadata": {},
   "outputs": [],
   "source": []
  },
  {
   "cell_type": "code",
   "execution_count": null,
   "metadata": {},
   "outputs": [],
   "source": []
  },
  {
   "cell_type": "code",
   "execution_count": null,
   "metadata": {},
   "outputs": [],
   "source": []
  },
  {
   "cell_type": "code",
   "execution_count": null,
   "metadata": {},
   "outputs": [],
   "source": []
  },
  {
   "cell_type": "code",
   "execution_count": null,
   "metadata": {},
   "outputs": [],
   "source": []
  },
  {
   "cell_type": "code",
   "execution_count": null,
   "metadata": {},
   "outputs": [],
   "source": []
  },
  {
   "cell_type": "code",
   "execution_count": null,
   "metadata": {},
   "outputs": [],
   "source": []
  },
  {
   "cell_type": "code",
   "execution_count": null,
   "metadata": {},
   "outputs": [],
   "source": []
  },
  {
   "cell_type": "code",
   "execution_count": null,
   "metadata": {},
   "outputs": [],
   "source": []
  }
 ],
 "metadata": {
  "kernelspec": {
   "display_name": "Python 3",
   "language": "python",
   "name": "python3"
  },
  "language_info": {
   "codemirror_mode": {
    "name": "ipython",
    "version": 3
   },
   "file_extension": ".py",
   "mimetype": "text/x-python",
   "name": "python",
   "nbconvert_exporter": "python",
   "pygments_lexer": "ipython3",
   "version": "3.6.9"
  }
 },
 "nbformat": 4,
 "nbformat_minor": 4
}
