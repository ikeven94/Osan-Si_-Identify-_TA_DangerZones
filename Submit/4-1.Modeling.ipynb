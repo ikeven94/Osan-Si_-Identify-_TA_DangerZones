{
 "cells": [
  {
   "cell_type": "markdown",
   "metadata": {},
   "source": [
    "# 4-1.Modeling"
   ]
  },
  {
   "cell_type": "code",
   "execution_count": 1,
   "metadata": {},
   "outputs": [],
   "source": [
    "import os\n",
    "import pathlib\n",
    "import pandas as pd\n",
    "import numpy as np\n",
    "import geopandas as gpd\n",
    "import folium\n",
    "from haversine import haversine\n",
    "import seaborn as sns\n",
    "import json\n",
    "from shapely.geometry import Point\n",
    "sns.set()"
   ]
  },
  {
   "cell_type": "code",
   "execution_count": 2,
   "metadata": {},
   "outputs": [],
   "source": [
    "#Font\n",
    "import matplotlib\n",
    "from matplotlib import font_manager\n",
    "import matplotlib.pyplot as plt\n",
    "import warnings\n",
    "\n",
    "warnings.filterwarnings(\"ignore\")\n",
    "matplotlib.rcParams['axes.unicode_minus']=False\n",
    "\n",
    "font_fname = '/opt/app-root/lib/python3.6/site-packages/matplotlib/mpl-data/fonts/ttf/malgun.ttf'\n",
    "font_family = font_manager.FontProperties(fname=font_fname).get_name()\n",
    "plt.rcParams[\"font.family\"] = font_family"
   ]
  },
  {
   "cell_type": "code",
   "execution_count": 3,
   "metadata": {},
   "outputs": [],
   "source": [
    "path = pathlib.Path('./data')"
   ]
  },
  {
   "cell_type": "code",
   "execution_count": 4,
   "metadata": {},
   "outputs": [],
   "source": [
    "주정차단속 = pd.read_csv(os.path.join(path,'1.오산시_주정차단속(2018~2020).csv'),encoding=\"utf-8\")\n",
    "어린이교통사고_격자 = gpd.read_file(os.path.join(path,'2.오산시_어린이교통사고_격자.geojson'))\n",
    "차량등록현황_격자 = gpd.read_file(os.path.join(path,'3.오산시_차량등록현황_격자.geojson'))\n",
    "거주인구격자_총인구 = gpd.read_file(os.path.join(path,'4.오산시_연령별_거주인구격자(총인구).geojson'))\n",
    "거주인구격자_유소년 = gpd.read_file(os.path.join(path,'5.오산시_연령별_거주인구격자(유소년).geojson'))\n",
    "거주인구격자_생산가능 = gpd.read_file(os.path.join(path,'6.오산시_연령별_거주인구격자(생산가능인구).geojson'))\n",
    "거주인구격자_고령 = gpd.read_file(os.path.join(path,'7.오산시_연령별_거주인구격자(고령).geojson'))\n",
    "유동인구 = pd.read_csv(os.path.join(path,'8.오산시_유동인구(2019).csv'),encoding=\"utf-8\")\n",
    "어린이보호구역 = pd.read_csv(os.path.join(path,'9.오산시_어린이보호구역.csv'),encoding=\"utf-8\")\n",
    "학교위치정보 = pd.read_csv(os.path.join(path,'10.오산시_학교위치정보.csv'),encoding=\"utf-8\")\n",
    "초등학교_통학구 = gpd.read_file(os.path.join(path,'11.오산시_초등학교_통학구.geojson'))\n",
    "중학교_학군 = gpd.read_file(os.path.join(path,'12.오산시_중학교_학군.geojson'))\n",
    "어린이집_유치원현황 = pd.read_csv(os.path.join(path,'13.오산시_어린이집_유치원현황.csv'),encoding=\"utf-8\")\n",
    "기상데이터 = pd.read_csv(os.path.join(path,'14.오산시_기상데이터(2010~2019).csv'),encoding=\"utf-8\")\n",
    "무인교통단속카메라 = pd.read_csv(os.path.join(path,'15.오산시_무인교통단속카메라.csv'),encoding=\"utf-8\")\n",
    "도로안전표지 = pd.read_csv(os.path.join(path,'16.오산시_도로안전표지표준데이터.csv'),encoding=\"utf-8\")\n",
    "횡단보도 = gpd.read_file(os.path.join(path,'17.오산시_횡단보도.geojson'))\n",
    "과속방지턱 = pd.read_csv(os.path.join(path,'18.오산시_과속방지턱표준데이터.csv'),encoding=\"utf-8\")\n",
    "신호등 = gpd.read_file(os.path.join(path,'19.오산시_신호등.geojson'))\n",
    "CCTV설치현황 = pd.read_csv(os.path.join(path,'20.오산시_CCTV설치현황.csv'),encoding=\"utf-8\")\n",
    "인도 = gpd.read_file(os.path.join(path,'21.오산시_인도.geojson'))\n",
    "버스정류장 = pd.read_csv(os.path.join(path,'22.오산시_버스정류장.csv'),encoding=\"utf-8\")\n",
    "상세도로망 = gpd.read_file(os.path.join(path,'23.오산시_상세도로망_LV6.geojson'))\n",
    "시간대별_추정교통량 = pd.read_csv(os.path.join(path,'24.평일_전일,시간대별_오산시_추정교통량_Level6.csv'),encoding=\"utf-8\")\n",
    "혼잡빈도강도 = pd.read_csv(os.path.join(path,'25.평일_전일_오산시_혼잡빈도강도_Level6.csv'),encoding=\"utf-8\")\n",
    "혼잡시간강도 = pd.read_csv(os.path.join(path,'26.평일_전일_오산시_혼잡시간강도_Level6.csv'),encoding=\"utf-8\")\n",
    "도로명주소_건물 = gpd.read_file(os.path.join(path,'27.오산시_도로명주소_건물.geojson'))\n",
    "건물연면적_격자 = gpd.read_file(os.path.join(path,'28.오산시_건물연면적_격자.geojson'))\n",
    "체육시설현황 = pd.read_csv(os.path.join(path,'29.오산시_체육시설현황.csv'),encoding=\"utf-8\")\n",
    "학원_및_교습소_현황 = pd.read_csv(os.path.join(path,'30.오산시_학원_및_교습소_현황.csv'),encoding=\"utf-8\")\n",
    "법정경계_시군구 = gpd.read_file(os.path.join(path,'31.오산시_법정경계(시군구).geojson'))\n",
    "행정경계_읍면동 = gpd.read_file(os.path.join(path,'32.오산시_행정경계(읍면동).geojson'))\n",
    "법정경계_읍면동 = gpd.read_file(os.path.join(path,'33.오산시_법정경계(읍면동).geojson'))\n",
    "지적도 = gpd.read_file(os.path.join(path,'34.오산시_지적도.geojson'))\n",
    "\n",
    "관심학원_현황= pd.read_csv(os.path.join(path,'관심학원_현황.csv'),encoding=\"utf-8\")\n",
    "초등학교위치정보= pd.read_csv(os.path.join(path,'초등학교위치정보.csv'),encoding=\"utf-8\")\n",
    "평균유동인구= pd.read_csv(os.path.join(path,'평균유동인구.csv'),encoding=\"utf-8\")"
   ]
  },
  {
   "cell_type": "markdown",
   "metadata": {},
   "source": [
    "# [과제 1] 모델링을 위한 feature column 생성"
   ]
  },
  {
   "cell_type": "markdown",
   "metadata": {},
   "source": [
    "__어린이 교통사고 격자 데이터를 기본으로 칼럼을 누적__"
   ]
  },
  {
   "cell_type": "code",
   "execution_count": 13,
   "metadata": {},
   "outputs": [],
   "source": [
    "data = 어린이교통사고_격자[어린이교통사고_격자.accident_cnt>0].reset_index().copy()\n",
    "data = data.drop([\"index\"],axis=1)"
   ]
  },
  {
   "cell_type": "code",
   "execution_count": 14,
   "metadata": {},
   "outputs": [
    {
     "data": {
      "text/html": [
       "<div>\n",
       "<style scoped>\n",
       "    .dataframe tbody tr th:only-of-type {\n",
       "        vertical-align: middle;\n",
       "    }\n",
       "\n",
       "    .dataframe tbody tr th {\n",
       "        vertical-align: top;\n",
       "    }\n",
       "\n",
       "    .dataframe thead th {\n",
       "        text-align: right;\n",
       "    }\n",
       "</style>\n",
       "<table border=\"1\" class=\"dataframe\">\n",
       "  <thead>\n",
       "    <tr style=\"text-align: right;\">\n",
       "      <th></th>\n",
       "      <th>gid</th>\n",
       "      <th>accident_cnt</th>\n",
       "      <th>geometry</th>\n",
       "    </tr>\n",
       "  </thead>\n",
       "  <tbody>\n",
       "    <tr>\n",
       "      <th>0</th>\n",
       "      <td>다사561083</td>\n",
       "      <td>1</td>\n",
       "      <td>MULTIPOLYGON (((127.00549 37.17243, 127.00549 ...</td>\n",
       "    </tr>\n",
       "    <tr>\n",
       "      <th>1</th>\n",
       "      <td>다사564096</td>\n",
       "      <td>1</td>\n",
       "      <td>MULTIPOLYGON (((127.00880 37.18416, 127.00879 ...</td>\n",
       "    </tr>\n",
       "    <tr>\n",
       "      <th>2</th>\n",
       "      <td>다사566102</td>\n",
       "      <td>1</td>\n",
       "      <td>MULTIPOLYGON (((127.01101 37.18958, 127.01101 ...</td>\n",
       "    </tr>\n",
       "  </tbody>\n",
       "</table>\n",
       "</div>"
      ],
      "text/plain": [
       "        gid  accident_cnt                                           geometry\n",
       "0  다사561083             1  MULTIPOLYGON (((127.00549 37.17243, 127.00549 ...\n",
       "1  다사564096             1  MULTIPOLYGON (((127.00880 37.18416, 127.00879 ...\n",
       "2  다사566102             1  MULTIPOLYGON (((127.01101 37.18958, 127.01101 ..."
      ]
     },
     "execution_count": 14,
     "metadata": {},
     "output_type": "execute_result"
    }
   ],
   "source": [
    "data.head(3)"
   ]
  },
  {
   "cell_type": "markdown",
   "metadata": {},
   "source": [
    "> __사고 격자 내 평균 유동인구__  \n",
    "(col_name = 유동인구_sum)"
   ]
  },
  {
   "cell_type": "code",
   "execution_count": null,
   "metadata": {},
   "outputs": [],
   "source": [
    "def ppl_flow(geo_obj):\n",
    "    \n",
    "    global 평균유동인구\n",
    "    \n",
    "    ret_cnt = 0\n",
    "    \n",
    "    for (lon,lat,cnt) in 평균유동인구.iloc:\n",
    "        current_point = Point(lon,lat)\n",
    "        if geo_obj.contains(current_point):\n",
    "            ret_cnt+=cnt\n",
    "    return ret_cnt\n",
    "\n",
    "data['유동인구_sum'] = data['geometry'].apply(ppl_flow)"
   ]
  },
  {
   "cell_type": "markdown",
   "metadata": {},
   "source": [
    "> __사고 격자 주변 유소년 인구 (100m , 200m)__  \n",
    "(col_name = 유소년_count_100 , 유소년_count_200)"
   ]
  },
  {
   "cell_type": "code",
   "execution_count": null,
   "metadata": {},
   "outputs": [],
   "source": [
    "def young_living_nearby(geo_obj,rad):\n",
    "    \n",
    "    global 거주인구격자_유소년\n",
    "    \n",
    "    ret_cnt = 0\n",
    "    y,x = geo_obj.centroid.coords[0]\n",
    "    \n",
    "    for (_,cnt,square) in 거주인구격자_유소년.iloc:\n",
    "        c_y,c_x = square.centroid.coords[0]\n",
    "        \n",
    "        if haversine((x,y),(c_x,c_y),unit=\"m\") <= rad:\n",
    "            ret_cnt+=cnt\n",
    "            \n",
    "    return ret_cnt\n",
    "\n",
    "data['유소년인구_count_100'] = data['geometry'].apply(lambda x:young_living_nearby(x,100))\n",
    "data['유소년인구_count_200'] = data['geometry'].apply(lambda x:young_living_nearby(x,200))"
   ]
  },
  {
   "cell_type": "markdown",
   "metadata": {},
   "source": [
    "> __사고 격자 주변 생산가능,고령,총 인구 (100m)__  \n",
    "(col_name = 생산가능인구_count_100 , 고령인구_count_100 , 총인구_count_100)"
   ]
  },
  {
   "cell_type": "code",
   "execution_count": null,
   "metadata": {},
   "outputs": [],
   "source": [
    "def other_living_nearby(geo_obj,other):\n",
    "    \n",
    "    ret_cnt = 0\n",
    "    y,x = geo_obj.centroid.coords[0]\n",
    "    \n",
    "    for (_,cnt,square) in other.iloc:\n",
    "        c_y,c_x = square.centroid.coords[0]\n",
    "        \n",
    "        if haversine((x,y),(c_x,c_y),unit=\"m\") <= 100:\n",
    "            ret_cnt+=cnt\n",
    "            \n",
    "    return ret_cnt\n",
    "\n",
    "data['생산가능인구_count_100'] = data['geometry'].apply(lambda x:other_living_nearby(x,거주인구격자_생산가능))\n",
    "data['고령인구_count_100'] = data['geometry'].apply(lambda x:other_living_nearby(x,거주인구격자_고령))\n",
    "data['총인구_count_100'] = data['geometry'].apply(lambda x:other_living_nearby(x,거주인구격자_총인구))"
   ]
  },
  {
   "cell_type": "markdown",
   "metadata": {},
   "source": [
    "> __사고 격자 주변 학원 수 (100m , 300m)__  \n",
    "(col_name = 학원수_count_100 , 학원수_count_300)"
   ]
  },
  {
   "cell_type": "code",
   "execution_count": null,
   "metadata": {},
   "outputs": [],
   "source": [
    "def hakwon_nearby(geo_obj,rad):\n",
    "    \n",
    "    global 관심학원_현황\n",
    "    \n",
    "    ret_cnt = 0\n",
    "    y,x = geo_obj.centroid.coords[0]\n",
    "    \n",
    "    for (_1,_2,c_y,c_x) in 관심학원_현황.iloc:\n",
    "        if haversine((x,y),(c_x,c_y),unit=\"m\") <= rad:\n",
    "            ret_cnt+=1\n",
    "    \n",
    "    return ret_cnt\n",
    "\n",
    "data['학원수_count_100'] = data['geometry'].apply(lambda x : hakwon_nearby(x,100))\n",
    "data['학원수_count_300'] = data['geometry'].apply(lambda x : hakwon_nearby(x,300))"
   ]
  },
  {
   "cell_type": "markdown",
   "metadata": {},
   "source": [
    "> __사고 격자 소속 동__  \n",
    "(col_name = 동_구분)"
   ]
  },
  {
   "cell_type": "code",
   "execution_count": null,
   "metadata": {},
   "outputs": [],
   "source": [
    "def dong_assigned(geo_obj):\n",
    "    \n",
    "    global 법정경계_읍면동\n",
    "    \n",
    "    point = geo_obj.centroid\n",
    "    \n",
    "    for line in 법정경계_읍면동.iloc:\n",
    "        dong = line.geometry\n",
    "        if dong.contains(point):\n",
    "            return line.EMD_KOR_NM\n",
    "    return np.nan\n",
    "\n",
    "data[\"동_구분\"] = data[\"geometry\"].map(dong_assigned)\n",
    "data = data.join(pd.dummies(data[\"동_구분\"],drop_first=True,prefix=\"동\")) # One-Hot-Encoding 칼럼 별도 추가"
   ]
  },
  {
   "cell_type": "markdown",
   "metadata": {},
   "source": [
    "> __사고 격자 소속 초등학교 통학구__  \n",
    "(col_name = 통학구_구분)"
   ]
  },
  {
   "cell_type": "code",
   "execution_count": null,
   "metadata": {},
   "outputs": [],
   "source": [
    "def tonghakgu(geo_obj):\n",
    "    \n",
    "    global 초등학교_통학구\n",
    "    \n",
    "    point = geo_obj.centroid\n",
    "    \n",
    "    for line in 초등학교_통학구.iloc:\n",
    "        dong = line.geometry\n",
    "        if dong.contains(point):\n",
    "            return line[\"학구명\"]\n",
    "    return np.nan\n",
    "\n",
    "data[\"통학구_구분\"] = data[\"geometry\"].map(tonghakgu)\n",
    "data = data.join(pd.dummies(data[\"통학구_구분\"],drop_first=True,prefix=\"통학구\")) # One-Hot-Encoding 칼럼 별도 추가"
   ]
  },
  {
   "cell_type": "markdown",
   "metadata": {},
   "source": [
    "> __사고 격자 내 신호등 수__  \n",
    "(col_name = 신호등_sum)"
   ]
  },
  {
   "cell_type": "code",
   "execution_count": null,
   "metadata": {},
   "outputs": [],
   "source": [
    "def traffic_light(geo_obj):\n",
    "    \n",
    "    global 신호등\n",
    "\n",
    "    cnt = 0\n",
    "    for line in 신호등.iloc:\n",
    "        _,obj = line\n",
    "        if geo_obj.contains(obj):\n",
    "            cnt+=1\n",
    "    return cnt\n",
    "\n",
    "data[\"신호등_sum\"] = data[\"geometry\"].map(traffic_light)"
   ]
  },
  {
   "cell_type": "markdown",
   "metadata": {},
   "source": [
    "> __사고 격자 내 횡단보도 수__  \n",
    "(col_name = 횡단보도_sum)"
   ]
  },
  {
   "cell_type": "code",
   "execution_count": null,
   "metadata": {},
   "outputs": [],
   "source": [
    "def cross_walk(geo_obj):\n",
    "    \n",
    "    global 횡단보도\n",
    "\n",
    "    cnt = 0\n",
    "    for line in 횡단보도.iloc:\n",
    "        _,obj = line\n",
    "        if geo_obj.contains(obj):\n",
    "            cnt+=1\n",
    "    return cnt\n",
    "\n",
    "data[\"횡단보도_sum\"] = data[\"geometry\"].map(cross_walk)"
   ]
  },
  {
   "cell_type": "markdown",
   "metadata": {},
   "source": [
    "> __사고 격자 주변 차량 등록 수 (200m)__  \n",
    "(col_name = 차량등록_count_200)"
   ]
  },
  {
   "cell_type": "code",
   "execution_count": null,
   "metadata": {},
   "outputs": [],
   "source": [
    "def car_registered(geo_obj):\n",
    "    \n",
    "    global 차량등록현황_격자\n",
    "    \n",
    "    y,x = geo_obj.centroid.coords[0]\n",
    "    cnt=0\n",
    "    for line in 차량등록현황_격자[차량등록현황_격자.car_cnt>0].iloc:\n",
    "        _,val,obj_ = line\n",
    "\n",
    "        if haversine((x,y),(obj_.centroid.coords[0][::-1]),unit=\"m\")<=200:\n",
    "            cnt+=val\n",
    "    return cnt\n",
    "\n",
    "data[\"차량등록_count_200\"] = data[\"geometry\"].map(car_registered)"
   ]
  },
  {
   "cell_type": "markdown",
   "metadata": {},
   "source": [
    "> __사고 격자 주변 주정차 단속 건수 (300m)__  \n",
    "(col_name = 주정차_count_300)"
   ]
  },
  {
   "cell_type": "code",
   "execution_count": null,
   "metadata": {},
   "outputs": [],
   "source": [
    "def joojeong(geo_obj):\n",
    "    \n",
    "    global 주정차단속\n",
    "    \n",
    "    cnt=0\n",
    "    for line in 주정차단속.iloc:\n",
    "        y,x = line[-3],line[-2]\n",
    "\n",
    "        if haversine((x,y),(geo_obj.centroid.coords[0][::-1]),unit=\"m\")<=300:\n",
    "            cnt+=1\n",
    "    return cnt\n",
    "\n",
    "data[\"주정차_count_300\"] = data[\"geometry\"].map(joojeong)"
   ]
  },
  {
   "cell_type": "markdown",
   "metadata": {},
   "source": [
    "> __사고 격자 주변 과속방지턱 수 (100m , 200m , 300m)__  \n",
    "(col_name = 방지턱_count_100 , 방지턱_count_200 , 방지턱_count_300)"
   ]
  },
  {
   "cell_type": "code",
   "execution_count": null,
   "metadata": {},
   "outputs": [],
   "source": [
    "def count_in_grid(geo_obj,table,lon_col,lat_col,rad):\n",
    "    cnt=0\n",
    "    y,x = geo_obj.centroid.coords[0]\n",
    "    \n",
    "    for line in table.iloc:\n",
    "        tar_x,tar_y = line[lat_col],line[lon_col]\n",
    "        if haversine((x,y),(tar_x,tar_y),unit=\"m\")<=rad:\n",
    "            cnt+=1\n",
    "        \n",
    "    return cnt\n",
    "\n",
    "data[\"방지턱_count_300\"] = data[\"geometry\"].map(lambda x :count_in_grid(x,과속방지턱,\"설치위치_경도\",\"설치위치_위도\",300))\n",
    "data[\"방지턱_count_200\"] = data[\"geometry\"].map(lambda x :count_in_grid(x,과속방지턱,\"설치위치_경도\",\"설치위치_위도\",200))\n",
    "data[\"방지턱_count_100\"] = data[\"geometry\"].map(lambda x :count_in_grid(x,과속방지턱,\"설치위치_경도\",\"설치위치_위도\",100))"
   ]
  },
  {
   "cell_type": "markdown",
   "metadata": {},
   "source": [
    "> __사고 격자 주변 무인교통단속카메라 수 (300m)__  \n",
    "(col_name = 무인교통단속카메라_count_300)"
   ]
  },
  {
   "cell_type": "code",
   "execution_count": null,
   "metadata": {},
   "outputs": [],
   "source": [
    "data[\"무인교통단속카메라_count_300\"] = data[\"geometry\"].map(lambda x :count_in_grid(x,무인교통단속카메라,\"설치위치_경도\",\"설치위치_위도\",300))"
   ]
  },
  {
   "cell_type": "markdown",
   "metadata": {},
   "source": [
    "> __사고 격자 주변 버스정류장 수 (100m , 200m , 300m)__  \n",
    "(col_name = 버스정류장_count_100 , 버스정류장_count_200 , 버스정류장_count_300)"
   ]
  },
  {
   "cell_type": "code",
   "execution_count": null,
   "metadata": {},
   "outputs": [],
   "source": [
    "data[\"버스정류장_count_300\"] = data[\"geometry\"].map(lambda x :count_in_grid(x,버스정류장,\"정류장 위치_경도\",\"정류장 위치_위도\",300))\n",
    "data[\"버스정류장_count_200\"] = data[\"geometry\"].map(lambda x :count_in_grid(x,버스정류장,\"정류장 위치_경도\",\"정류장 위치_위도\",200))\n",
    "data[\"버스정류장_count_100\"] = data[\"geometry\"].map(lambda x :count_in_grid(x,버스정류장,\"정류장 위치_경도\",\"정류장 위치_위도\",100))"
   ]
  },
  {
   "cell_type": "markdown",
   "metadata": {},
   "source": [
    "> __사고 격자 주변 초등학교 수 (100m , 200m , 300m)__  \n",
    "(col_name = 초등학교_count_100 , 초등학교_count_200 , 초등학교_count_300)"
   ]
  },
  {
   "cell_type": "code",
   "execution_count": null,
   "metadata": {},
   "outputs": [],
   "source": [
    "data[\"초등학교_count_300\"] = data[\"geometry\"].map(lambda x :count_in_grid(x,초등학교위치정보,\"학교위치_경도\",\"학교위치_위도\",300))\n",
    "data[\"초등학교_count_200\"] = data[\"geometry\"].map(lambda x :count_in_grid(x,초등학교위치정보,\"학교위치_경도\",\"학교위치_위도\",200))\n",
    "data[\"초등학교_count_100\"] = data[\"geometry\"].map(lambda x :count_in_grid(x,초등학교위치정보,\"학교위치_경도\",\"학교위치_위도\",100))"
   ]
  },
  {
   "cell_type": "markdown",
   "metadata": {},
   "source": [
    "> __사고 격자 주변 어린이집 수 (100m , 200m , 300m)__  \n",
    "(col_name = 어린이집_count_100 , 어린이집_count_200 , 어린이집_count_300)"
   ]
  },
  {
   "cell_type": "code",
   "execution_count": null,
   "metadata": {},
   "outputs": [],
   "source": [
    "어린이집_현황 = 어린이집_유치원현황[어린이집_유치원현황[\"시설구분\"]==\"어린이집\"]\n",
    "data[\"어린이집_count_300\"] = data[\"geometry\"].map(lambda x :count_in_grid(x,어린이집_현황,\"시설위치_경도\",\"시설위치_위도\",300))\n",
    "data[\"어린이집_count_200\"] = data[\"geometry\"].map(lambda x :count_in_grid(x,어린이집_현황,\"시설위치_경도\",\"시설위치_위도\",200))\n",
    "data[\"어린이집_count_100\"] = data[\"geometry\"].map(lambda x :count_in_grid(x,어린이집_현황,\"시설위치_경도\",\"시설위치_위도\",100))"
   ]
  },
  {
   "cell_type": "markdown",
   "metadata": {},
   "source": [
    "> __사고 격자 주변 유치원 수 (100m , 200m , 300m)__  \n",
    "(col_name = 유치원_count_100 , 유치원_count_200 , 유치원_count_300)"
   ]
  },
  {
   "cell_type": "code",
   "execution_count": null,
   "metadata": {},
   "outputs": [],
   "source": [
    "유치원_현황 = 어린이집_유치원현황[어린이집_유치원현황[\"시설구분\"]==\"유치원\"]\n",
    "data[\"유치원_count_300\"] = data[\"geometry\"].map(lambda x :count_in_grid(x,유치원_현황,\"시설위치_경도\",\"시설위치_위도\",300))\n",
    "data[\"유치원_count_200\"] = data[\"geometry\"].map(lambda x :count_in_grid(x,유치원_현황,\"시설위치_경도\",\"시설위치_위도\",200))\n",
    "data[\"유치원_count_100\"] = data[\"geometry\"].map(lambda x :count_in_grid(x,유치원_현황,\"시설위치_경도\",\"시설위치_위도\",100))"
   ]
  },
  {
   "cell_type": "markdown",
   "metadata": {},
   "source": [
    "> __학습데이터 저장__"
   ]
  },
  {
   "cell_type": "code",
   "execution_count": null,
   "metadata": {},
   "outputs": [],
   "source": [
    "data1.describe()"
   ]
  },
  {
   "cell_type": "code",
   "execution_count": null,
   "metadata": {},
   "outputs": [],
   "source": [
    "data.to_file(os.path.join(path,'data_for_task1.geojson'),driver='GeoJSON')\n",
    "data_df = pd.DataFrame(data)\n",
    "data_df.to_csv(os.path.join(path,'data_for_task1.csv'),encoding=\"utf-8\",index=False)"
   ]
  },
  {
   "cell_type": "markdown",
   "metadata": {},
   "source": [
    "# [과제 2] 모델링을 위한 feature column 생성"
   ]
  },
  {
   "cell_type": "markdown",
   "metadata": {},
   "source": [
    "__어린이보호구역 데이터를 기본으로 칼럼을 누적__"
   ]
  },
  {
   "cell_type": "code",
   "execution_count": 88,
   "metadata": {},
   "outputs": [
    {
     "data": {
      "text/html": [
       "<div>\n",
       "<style scoped>\n",
       "    .dataframe tbody tr th:only-of-type {\n",
       "        vertical-align: middle;\n",
       "    }\n",
       "\n",
       "    .dataframe tbody tr th {\n",
       "        vertical-align: top;\n",
       "    }\n",
       "\n",
       "    .dataframe thead th {\n",
       "        text-align: right;\n",
       "    }\n",
       "</style>\n",
       "<table border=\"1\" class=\"dataframe\">\n",
       "  <thead>\n",
       "    <tr style=\"text-align: right;\">\n",
       "      <th></th>\n",
       "      <th>시설종류</th>\n",
       "      <th>시설명</th>\n",
       "      <th>CCTV설치여부</th>\n",
       "      <th>CCTV설치대수</th>\n",
       "      <th>보호구역도로폭</th>\n",
       "      <th>보호구역_경도</th>\n",
       "      <th>보호구역_위도</th>\n",
       "    </tr>\n",
       "  </thead>\n",
       "  <tbody>\n",
       "    <tr>\n",
       "      <th>0</th>\n",
       "      <td>특수학교</td>\n",
       "      <td>성심학교</td>\n",
       "      <td>N</td>\n",
       "      <td>0</td>\n",
       "      <td>25</td>\n",
       "      <td>127.017521</td>\n",
       "      <td>37.176762</td>\n",
       "    </tr>\n",
       "    <tr>\n",
       "      <th>1</th>\n",
       "      <td>초등학교</td>\n",
       "      <td>가수초등학교</td>\n",
       "      <td>Y</td>\n",
       "      <td>1</td>\n",
       "      <td>12</td>\n",
       "      <td>127.047957</td>\n",
       "      <td>37.148103</td>\n",
       "    </tr>\n",
       "    <tr>\n",
       "      <th>2</th>\n",
       "      <td>초등학교</td>\n",
       "      <td>광성초등학교</td>\n",
       "      <td>Y</td>\n",
       "      <td>2</td>\n",
       "      <td>12</td>\n",
       "      <td>127.039709</td>\n",
       "      <td>37.184197</td>\n",
       "    </tr>\n",
       "  </tbody>\n",
       "</table>\n",
       "</div>"
      ],
      "text/plain": [
       "   시설종류     시설명 CCTV설치여부  CCTV설치대수  보호구역도로폭     보호구역_경도    보호구역_위도\n",
       "0  특수학교    성심학교        N         0       25  127.017521  37.176762\n",
       "1  초등학교  가수초등학교        Y         1       12  127.047957  37.148103\n",
       "2  초등학교  광성초등학교        Y         2       12  127.039709  37.184197"
      ]
     },
     "execution_count": 88,
     "metadata": {},
     "output_type": "execute_result"
    }
   ],
   "source": [
    "data2 = 어린이보호구역.copy()\n",
    "data2.head(3)"
   ]
  },
  {
   "cell_type": "markdown",
   "metadata": {},
   "source": [
    "> __보호구역 주변 어린이 교통사고 건수 (300m)__  \n",
    "(col_name = 어린이교통사고횟수)"
   ]
  },
  {
   "cell_type": "code",
   "execution_count": 89,
   "metadata": {},
   "outputs": [],
   "source": [
    "def check_accident(row):\n",
    "    global 어린이교통사고_격자\n",
    "    lat = row['보호구역_위도']\n",
    "    lng = row['보호구역_경도']\n",
    "    cnt = 0\n",
    "    for grid in 어린이교통사고_격자[어린이교통사고_격자[\"accident_cnt\"]>0].iloc:\n",
    "        if haversine((lat, lng), grid['geometry'].centroid.coords[0][::-1], unit=\"m\") <= 300:\n",
    "            cnt+=grid['accident_cnt']\n",
    "    return cnt\n",
    "\n",
    "data2['어린이교통사고횟수']=data2.apply(check_accident, axis=1)"
   ]
  },
  {
   "cell_type": "markdown",
   "metadata": {},
   "source": [
    "> __보호구역 주변 주택 수 (300m)__  \n",
    "(col_name = 주택수)"
   ]
  },
  {
   "cell_type": "code",
   "execution_count": 90,
   "metadata": {},
   "outputs": [],
   "source": [
    "def check_house(row):\n",
    "    global 주택\n",
    "    lat = row['보호구역_위도']\n",
    "    lng = row['보호구역_경도']\n",
    "    cnt = 0\n",
    "    for grid in 주택.iloc:\n",
    "        if haversine((lat, lng), grid['geometry'].centroid.coords[0][::-1], unit=\"m\") <= 300:\n",
    "            cnt+=1\n",
    "    return cnt\n",
    "\n",
    "주택 = 도로명주소_건물[(도로명주소_건물['BDTYP_CD'] =='01001')|(도로명주소_건물['BDTYP_CD'] =='02001')|(도로명주소_건물['BDTYP_CD'] =='01003')]\n",
    "\n",
    "data2['주택수']=data2.apply(check_house, axis=1)"
   ]
  },
  {
   "cell_type": "markdown",
   "metadata": {},
   "source": [
    "> __보호구역 주변 과속단속 CCTV 수 (300m)__  \n",
    "(col_name = 과속cctv수)"
   ]
  },
  {
   "cell_type": "code",
   "execution_count": 91,
   "metadata": {},
   "outputs": [],
   "source": [
    "def check_cctv(row):\n",
    "    global 과속CCTV설치현황\n",
    "    lat = row['보호구역_위도']\n",
    "    lng = row['보호구역_경도']\n",
    "    cnt=0\n",
    "    \n",
    "    for line in 과속CCTV설치현황.iloc:\n",
    "        tar_x,tar_y = line['설치위치_위도'],line['설치위치_경도']       \n",
    "        #if haversine((lat, lng),(tar_x, tar_y), unit=\"m\") <= 300:\n",
    "        if haversine((lat, lng),(tar_x,tar_y))*1000 <=300:\n",
    "            cnt+=1           \n",
    "    return cnt\n",
    "\n",
    "과속CCTV설치현황=CCTV설치현황[CCTV설치현황['CCTV 유형코드']=='E']\n",
    "\n",
    "data2['과속cctv수'] = data2.apply(check_cctv,axis=1)"
   ]
  },
  {
   "cell_type": "code",
   "execution_count": 92,
   "metadata": {},
   "outputs": [
    {
     "data": {
      "text/plain": [
       "count    91.0\n",
       "mean      0.0\n",
       "std       0.0\n",
       "min       0.0\n",
       "25%       0.0\n",
       "50%       0.0\n",
       "75%       0.0\n",
       "max       0.0\n",
       "Name: 과속cctv수, dtype: float64"
      ]
     },
     "execution_count": 92,
     "metadata": {},
     "output_type": "execute_result"
    }
   ],
   "source": [
    "data2['과속cctv수'].describe()"
   ]
  },
  {
   "cell_type": "markdown",
   "metadata": {},
   "source": [
    "> __보호구역 주변 과속방지턱 수 (300m)__  \n",
    "(col_name = 과속방지턱수)"
   ]
  },
  {
   "cell_type": "code",
   "execution_count": 93,
   "metadata": {},
   "outputs": [],
   "source": [
    "def check_bump(row):\n",
    "    global 과속방지턱\n",
    "    lat = row['보호구역_위도']\n",
    "    lng = row['보호구역_경도']\n",
    "    cnt=0\n",
    "    \n",
    "    for line in 과속방지턱.iloc:\n",
    "        tar_x,tar_y = line['설치위치_위도'],line['설치위치_경도']       \n",
    "        if haversine((lat, lng),(tar_x, tar_y), unit=\"m\") <= 300:\n",
    "            cnt+=1           \n",
    "    return cnt\n",
    "\n",
    "data2['과속방지턱수'] = data2.apply(check_bump,axis=1)"
   ]
  },
  {
   "cell_type": "markdown",
   "metadata": {},
   "source": [
    "> __보호구역 내부 최대속도 별 도로수 (최대속도 : 30,50,60,70,80)__  \n",
    "(col_name = 최대속도30 , 최대속도50 , 최대속도60 , 최대속도70 , 최대속도80)"
   ]
  },
  {
   "cell_type": "code",
   "execution_count": 94,
   "metadata": {},
   "outputs": [],
   "source": [
    "def check_lanes(row,speed):\n",
    "    global 상세도로망\n",
    "    lat = row['보호구역_위도']\n",
    "    lng = row['보호구역_경도']\n",
    "    cnt = 0\n",
    "    for grid in 상세도로망[상세도로망.max_speed==str(speed)].iloc:\n",
    "        if haversine((lat, lng), grid['geometry'].centroid.coords[0][::-1], unit=\"m\") <= 300:\n",
    "            cnt+=1\n",
    "    return cnt\n",
    "\n",
    "data2['최대속도30']=data2.apply(lambda x:check_lanes(x,30), axis=1)\n",
    "data2['최대속도50']=data2.apply(lambda x:check_lanes(x,50), axis=1)\n",
    "data2['최대속도60']=data2.apply(lambda x:check_lanes(x,60), axis=1)\n",
    "data2['최대속도70']=data2.apply(lambda x:check_lanes(x,70), axis=1)\n",
    "data2['최대속도80']=data2.apply(lambda x:check_lanes(x,80), axis=1)"
   ]
  },
  {
   "cell_type": "markdown",
   "metadata": {},
   "source": [
    "> __보호구역 주변 무인교통단속 카메라 수 (100m)__  \n",
    "(col_name = 주정차단속CCTV대수)"
   ]
  },
  {
   "cell_type": "code",
   "execution_count": 95,
   "metadata": {},
   "outputs": [],
   "source": [
    "def check_parkingcamera(row):\n",
    "    global 무인교통단속카메라\n",
    "    lat = row['보호구역_위도']\n",
    "    lng = row['보호구역_경도']\n",
    "    cnt = 0\n",
    "    \n",
    "    for row2 in 무인교통단속카메라.iloc:\n",
    "        if haversine((lat, lng), (row2['설치위치_위도'], row2['설치위치_경도']), unit=\"m\") <= 100:\n",
    "            cnt+=1\n",
    "    return cnt\n",
    "\n",
    "data2['주정차단속CCTV대수']=data2.apply(check_parkingcamera, axis=1)"
   ]
  },
  {
   "cell_type": "markdown",
   "metadata": {},
   "source": [
    "> __보호구역 내부 평균 유동인구 수 (300m)__  \n",
    "(col_name = 평균유동인구)"
   ]
  },
  {
   "cell_type": "code",
   "execution_count": 96,
   "metadata": {},
   "outputs": [],
   "source": [
    "def check_movingppl(row):\n",
    "    global 평균유동인구\n",
    "    lat = row['보호구역_위도']\n",
    "    lng = row['보호구역_경도']\n",
    "    cnt = 0\n",
    "    \n",
    "    for row2 in 평균유동인구.iloc:\n",
    "        if haversine((lat, lng), (row2['lat'], row2['lon']), unit=\"m\") <= 300:\n",
    "            cnt += row2['평균유동인구']\n",
    "    return cnt\n",
    "\n",
    "data2['평균유동인구']=data2.apply(check_movingppl, axis=1)"
   ]
  },
  {
   "cell_type": "markdown",
   "metadata": {},
   "source": [
    "> __보호구역 주변 주정차 단속 건수 (300m)__  \n",
    "(col_name = 이동형CCTV단속횟수)"
   ]
  },
  {
   "cell_type": "code",
   "execution_count": 97,
   "metadata": {},
   "outputs": [],
   "source": [
    "def check_movingcctv(row):\n",
    "    global 주정차단속\n",
    "    lat = row['보호구역_위도']\n",
    "    lng = row['보호구역_경도']\n",
    "    cnt = 0\n",
    "    for row2 in 주정차단속[주정차단속[\"스쿨존여부\"]==\"Y\"].iloc:\n",
    "        if haversine((lat, lng), (row2['단속위치_위도'], row2['단속위치_경도']), unit=\"m\") <= 300:\n",
    "            cnt += 1\n",
    "    return cnt\n",
    "\n",
    "data2['이동형CCTV단속횟수']=data2.apply(check_movingcctv, axis=1)"
   ]
  },
  {
   "cell_type": "markdown",
   "metadata": {},
   "source": [
    "> __학습데이터 저장__"
   ]
  },
  {
   "cell_type": "code",
   "execution_count": 98,
   "metadata": {},
   "outputs": [
    {
     "data": {
      "text/html": [
       "<div>\n",
       "<style scoped>\n",
       "    .dataframe tbody tr th:only-of-type {\n",
       "        vertical-align: middle;\n",
       "    }\n",
       "\n",
       "    .dataframe tbody tr th {\n",
       "        vertical-align: top;\n",
       "    }\n",
       "\n",
       "    .dataframe thead th {\n",
       "        text-align: right;\n",
       "    }\n",
       "</style>\n",
       "<table border=\"1\" class=\"dataframe\">\n",
       "  <thead>\n",
       "    <tr style=\"text-align: right;\">\n",
       "      <th></th>\n",
       "      <th>CCTV설치대수</th>\n",
       "      <th>보호구역도로폭</th>\n",
       "      <th>보호구역_경도</th>\n",
       "      <th>보호구역_위도</th>\n",
       "      <th>어린이교통사고횟수</th>\n",
       "      <th>주택수</th>\n",
       "      <th>과속cctv수</th>\n",
       "      <th>과속방지턱수</th>\n",
       "      <th>최대속도30</th>\n",
       "      <th>최대속도50</th>\n",
       "      <th>최대속도60</th>\n",
       "      <th>최대속도70</th>\n",
       "      <th>최대속도80</th>\n",
       "      <th>주정차단속CCTV대수</th>\n",
       "      <th>평균유동인구</th>\n",
       "      <th>이동형CCTV단속횟수</th>\n",
       "    </tr>\n",
       "  </thead>\n",
       "  <tbody>\n",
       "    <tr>\n",
       "      <th>count</th>\n",
       "      <td>91.000000</td>\n",
       "      <td>91.000000</td>\n",
       "      <td>91.000000</td>\n",
       "      <td>91.000000</td>\n",
       "      <td>91.000000</td>\n",
       "      <td>91.000000</td>\n",
       "      <td>91.0</td>\n",
       "      <td>91.000000</td>\n",
       "      <td>91.000000</td>\n",
       "      <td>91.000000</td>\n",
       "      <td>91.000000</td>\n",
       "      <td>91.000000</td>\n",
       "      <td>91.000000</td>\n",
       "      <td>91.000000</td>\n",
       "      <td>91.000000</td>\n",
       "      <td>91.000000</td>\n",
       "    </tr>\n",
       "    <tr>\n",
       "      <th>mean</th>\n",
       "      <td>1.153846</td>\n",
       "      <td>8.494505</td>\n",
       "      <td>127.062625</td>\n",
       "      <td>37.156908</td>\n",
       "      <td>8.395604</td>\n",
       "      <td>132.747253</td>\n",
       "      <td>0.0</td>\n",
       "      <td>0.505495</td>\n",
       "      <td>1.736264</td>\n",
       "      <td>2.351648</td>\n",
       "      <td>4.472527</td>\n",
       "      <td>0.296703</td>\n",
       "      <td>2.626374</td>\n",
       "      <td>0.263736</td>\n",
       "      <td>618.568406</td>\n",
       "      <td>1.934066</td>\n",
       "    </tr>\n",
       "    <tr>\n",
       "      <th>std</th>\n",
       "      <td>0.801708</td>\n",
       "      <td>4.796697</td>\n",
       "      <td>0.015165</td>\n",
       "      <td>0.017997</td>\n",
       "      <td>6.987098</td>\n",
       "      <td>112.001448</td>\n",
       "      <td>0.0</td>\n",
       "      <td>0.947202</td>\n",
       "      <td>3.017855</td>\n",
       "      <td>5.445434</td>\n",
       "      <td>3.739699</td>\n",
       "      <td>1.260463</td>\n",
       "      <td>3.877709</td>\n",
       "      <td>0.490695</td>\n",
       "      <td>420.618170</td>\n",
       "      <td>8.266132</td>\n",
       "    </tr>\n",
       "    <tr>\n",
       "      <th>min</th>\n",
       "      <td>0.000000</td>\n",
       "      <td>3.000000</td>\n",
       "      <td>127.017521</td>\n",
       "      <td>37.127317</td>\n",
       "      <td>0.000000</td>\n",
       "      <td>3.000000</td>\n",
       "      <td>0.0</td>\n",
       "      <td>0.000000</td>\n",
       "      <td>0.000000</td>\n",
       "      <td>0.000000</td>\n",
       "      <td>0.000000</td>\n",
       "      <td>0.000000</td>\n",
       "      <td>0.000000</td>\n",
       "      <td>0.000000</td>\n",
       "      <td>27.610148</td>\n",
       "      <td>0.000000</td>\n",
       "    </tr>\n",
       "    <tr>\n",
       "      <th>25%</th>\n",
       "      <td>1.000000</td>\n",
       "      <td>6.000000</td>\n",
       "      <td>127.053149</td>\n",
       "      <td>37.141538</td>\n",
       "      <td>3.000000</td>\n",
       "      <td>36.500000</td>\n",
       "      <td>0.0</td>\n",
       "      <td>0.000000</td>\n",
       "      <td>0.000000</td>\n",
       "      <td>0.000000</td>\n",
       "      <td>1.000000</td>\n",
       "      <td>0.000000</td>\n",
       "      <td>0.000000</td>\n",
       "      <td>0.000000</td>\n",
       "      <td>295.740673</td>\n",
       "      <td>0.000000</td>\n",
       "    </tr>\n",
       "    <tr>\n",
       "      <th>50%</th>\n",
       "      <td>1.000000</td>\n",
       "      <td>6.000000</td>\n",
       "      <td>127.064386</td>\n",
       "      <td>37.155951</td>\n",
       "      <td>6.000000</td>\n",
       "      <td>102.000000</td>\n",
       "      <td>0.0</td>\n",
       "      <td>0.000000</td>\n",
       "      <td>0.000000</td>\n",
       "      <td>0.000000</td>\n",
       "      <td>4.000000</td>\n",
       "      <td>0.000000</td>\n",
       "      <td>0.000000</td>\n",
       "      <td>0.000000</td>\n",
       "      <td>563.877972</td>\n",
       "      <td>0.000000</td>\n",
       "    </tr>\n",
       "    <tr>\n",
       "      <th>75%</th>\n",
       "      <td>1.500000</td>\n",
       "      <td>12.000000</td>\n",
       "      <td>127.072358</td>\n",
       "      <td>37.167227</td>\n",
       "      <td>14.000000</td>\n",
       "      <td>192.000000</td>\n",
       "      <td>0.0</td>\n",
       "      <td>1.000000</td>\n",
       "      <td>3.000000</td>\n",
       "      <td>2.000000</td>\n",
       "      <td>6.500000</td>\n",
       "      <td>0.000000</td>\n",
       "      <td>5.000000</td>\n",
       "      <td>0.000000</td>\n",
       "      <td>848.287152</td>\n",
       "      <td>1.000000</td>\n",
       "    </tr>\n",
       "    <tr>\n",
       "      <th>max</th>\n",
       "      <td>3.000000</td>\n",
       "      <td>25.000000</td>\n",
       "      <td>127.090958</td>\n",
       "      <td>37.197877</td>\n",
       "      <td>27.000000</td>\n",
       "      <td>495.000000</td>\n",
       "      <td>0.0</td>\n",
       "      <td>3.000000</td>\n",
       "      <td>17.000000</td>\n",
       "      <td>28.000000</td>\n",
       "      <td>15.000000</td>\n",
       "      <td>7.000000</td>\n",
       "      <td>18.000000</td>\n",
       "      <td>2.000000</td>\n",
       "      <td>1800.153568</td>\n",
       "      <td>57.000000</td>\n",
       "    </tr>\n",
       "  </tbody>\n",
       "</table>\n",
       "</div>"
      ],
      "text/plain": [
       "        CCTV설치대수    보호구역도로폭     보호구역_경도    보호구역_위도  어린이교통사고횟수         주택수  \\\n",
       "count  91.000000  91.000000   91.000000  91.000000  91.000000   91.000000   \n",
       "mean    1.153846   8.494505  127.062625  37.156908   8.395604  132.747253   \n",
       "std     0.801708   4.796697    0.015165   0.017997   6.987098  112.001448   \n",
       "min     0.000000   3.000000  127.017521  37.127317   0.000000    3.000000   \n",
       "25%     1.000000   6.000000  127.053149  37.141538   3.000000   36.500000   \n",
       "50%     1.000000   6.000000  127.064386  37.155951   6.000000  102.000000   \n",
       "75%     1.500000  12.000000  127.072358  37.167227  14.000000  192.000000   \n",
       "max     3.000000  25.000000  127.090958  37.197877  27.000000  495.000000   \n",
       "\n",
       "       과속cctv수     과속방지턱수     최대속도30     최대속도50     최대속도60     최대속도70  \\\n",
       "count     91.0  91.000000  91.000000  91.000000  91.000000  91.000000   \n",
       "mean       0.0   0.505495   1.736264   2.351648   4.472527   0.296703   \n",
       "std        0.0   0.947202   3.017855   5.445434   3.739699   1.260463   \n",
       "min        0.0   0.000000   0.000000   0.000000   0.000000   0.000000   \n",
       "25%        0.0   0.000000   0.000000   0.000000   1.000000   0.000000   \n",
       "50%        0.0   0.000000   0.000000   0.000000   4.000000   0.000000   \n",
       "75%        0.0   1.000000   3.000000   2.000000   6.500000   0.000000   \n",
       "max        0.0   3.000000  17.000000  28.000000  15.000000   7.000000   \n",
       "\n",
       "          최대속도80  주정차단속CCTV대수       평균유동인구  이동형CCTV단속횟수  \n",
       "count  91.000000    91.000000    91.000000    91.000000  \n",
       "mean    2.626374     0.263736   618.568406     1.934066  \n",
       "std     3.877709     0.490695   420.618170     8.266132  \n",
       "min     0.000000     0.000000    27.610148     0.000000  \n",
       "25%     0.000000     0.000000   295.740673     0.000000  \n",
       "50%     0.000000     0.000000   563.877972     0.000000  \n",
       "75%     5.000000     0.000000   848.287152     1.000000  \n",
       "max    18.000000     2.000000  1800.153568    57.000000  "
      ]
     },
     "execution_count": 98,
     "metadata": {},
     "output_type": "execute_result"
    }
   ],
   "source": [
    "data2.describe()"
   ]
  },
  {
   "cell_type": "code",
   "execution_count": null,
   "metadata": {},
   "outputs": [],
   "source": [
    "data2.to_file(os.path.join(path,'data_for_task2.geojson'),driver='GeoJSON')\n",
    "data2_df = pd.DataFrame(data2)\n",
    "data2_df.to_csv(os.path.join(path,'data_for_task2.csv'),encoding=\"utf-8\",index=False)"
   ]
  }
 ],
 "metadata": {
  "kernelspec": {
   "display_name": "Python 3",
   "language": "python",
   "name": "python3"
  },
  "language_info": {
   "codemirror_mode": {
    "name": "ipython",
    "version": 3
   },
   "file_extension": ".py",
   "mimetype": "text/x-python",
   "name": "python",
   "nbconvert_exporter": "python",
   "pygments_lexer": "ipython3",
   "version": "3.6.9"
  }
 },
 "nbformat": 4,
 "nbformat_minor": 4
}
