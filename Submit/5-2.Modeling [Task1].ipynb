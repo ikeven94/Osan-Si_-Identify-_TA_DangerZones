{
 "cells": [
  {
   "cell_type": "markdown",
   "id": "wound-blocking",
   "metadata": {},
   "source": [
    "# 5-2.Modeling [Task1]"
   ]
  },
  {
   "cell_type": "markdown",
   "id": "exempt-southeast",
   "metadata": {},
   "source": [
    "## 모델링 진행 과정:  \n",
    "- 10가지 ML 모델의 MSE 검증 결과 비교  \n",
    "`Linear Regression` , `Lasso` , `Ridge` , `Elastic` , `SVR` , `Regression Tree` , `Random Forest` , `Gradient Boost` , `AdaBoost` , `XGBoost`  \n",
    "  \n",
    "---  \n",
    "\n",
    "- 5-1.Modeling [Task1] 파일에서는 R언어를 활용하여 8가지 모델  \n",
    "`Linear Regression` , `Lasso` , `Ridge` , `Elastic` , `SVR` , `Regression Tree` , `Random Forest` , `Gradient Boost` 생성 및 성능을 확인  \n",
    "  \n",
    "  \n",
    "- 5-2.Modeling [Task1] 파일에서는 Python언어를 활용하여 2가지 모델(Compas Jupyter 의 R버전에 따른 패키지 호환성 때문에 python으로 진행)  \n",
    "`AdaBoost` , `XGBoost` 생성 및 성능을 확인 "
   ]
  },
  {
   "cell_type": "code",
   "execution_count": 1,
   "id": "athletic-american",
   "metadata": {},
   "outputs": [],
   "source": [
    "import pandas as pd\n",
    "import numpy as np\n",
    "import matplotlib.pyplot as plt\n",
    "from sklearn.preprocessing import MinMaxScaler , StandardScaler\n",
    "from sklearn.model_selection import train_test_split\n",
    "from sklearn.model_selection import KFold\n",
    "from sklearn.metrics import mean_squared_error,make_scorer\n",
    "from sklearn.model_selection import cross_val_score\n",
    "import seaborn as sns"
   ]
  },
  {
   "cell_type": "code",
   "execution_count": 2,
   "id": "upper-funds",
   "metadata": {},
   "outputs": [],
   "source": [
    "#Font\n",
    "import matplotlib\n",
    "from matplotlib import font_manager\n",
    "import matplotlib.pyplot as plt\n",
    "import warnings\n",
    "\n",
    "warnings.filterwarnings(\"ignore\")\n",
    "matplotlib.rcParams['axes.unicode_minus']=False\n",
    "\n",
    "font_fname = '/opt/app-root/lib/python3.6/site-packages/matplotlib/mpl-data/fonts/ttf/malgun.ttf'\n",
    "font_family = font_manager.FontProperties(fname=font_fname).get_name()\n",
    "plt.rcParams[\"font.family\"] = font_family\n",
    "#sns.set(font=font_family)"
   ]
  },
  {
   "cell_type": "code",
   "execution_count": 2,
   "id": "spatial-moisture",
   "metadata": {
    "scrolled": true
   },
   "outputs": [
    {
     "data": {
      "text/html": [
       "<div>\n",
       "<style scoped>\n",
       "    .dataframe tbody tr th:only-of-type {\n",
       "        vertical-align: middle;\n",
       "    }\n",
       "\n",
       "    .dataframe tbody tr th {\n",
       "        vertical-align: top;\n",
       "    }\n",
       "\n",
       "    .dataframe thead th {\n",
       "        text-align: right;\n",
       "    }\n",
       "</style>\n",
       "<table border=\"1\" class=\"dataframe\">\n",
       "  <thead>\n",
       "    <tr style=\"text-align: right;\">\n",
       "      <th></th>\n",
       "      <th>accident_cnt</th>\n",
       "      <th>고령인구_count_100</th>\n",
       "      <th>생산가능인구_count_100</th>\n",
       "      <th>신호등_sum</th>\n",
       "      <th>유동인구_sum</th>\n",
       "      <th>유소년인구_count_100</th>\n",
       "      <th>유소년인구_count_200</th>\n",
       "      <th>주정차_count_300</th>\n",
       "      <th>차량등록_count_200</th>\n",
       "      <th>학원수_count_100</th>\n",
       "      <th>...</th>\n",
       "      <th>학구.raw오산원일초통학구역</th>\n",
       "      <th>학구.raw오산초가수초공동통학구역</th>\n",
       "      <th>학구.raw오산초통학구역</th>\n",
       "      <th>학구.raw운산초통학구역</th>\n",
       "      <th>학구.raw운암초통학구역</th>\n",
       "      <th>학구.raw원동초통학구역</th>\n",
       "      <th>학구.raw필봉초통학구역</th>\n",
       "      <th>학구.raw화성초통학구역</th>\n",
       "      <th>정류장_count_200</th>\n",
       "      <th>총인구_count_100</th>\n",
       "    </tr>\n",
       "  </thead>\n",
       "  <tbody>\n",
       "    <tr>\n",
       "      <th>195</th>\n",
       "      <td>5</td>\n",
       "      <td>25</td>\n",
       "      <td>64</td>\n",
       "      <td>3</td>\n",
       "      <td>31.521083</td>\n",
       "      <td>6</td>\n",
       "      <td>24</td>\n",
       "      <td>9</td>\n",
       "      <td>0</td>\n",
       "      <td>0</td>\n",
       "      <td>...</td>\n",
       "      <td>0</td>\n",
       "      <td>0</td>\n",
       "      <td>0</td>\n",
       "      <td>0</td>\n",
       "      <td>0</td>\n",
       "      <td>0</td>\n",
       "      <td>0</td>\n",
       "      <td>0</td>\n",
       "      <td>5</td>\n",
       "      <td>98</td>\n",
       "    </tr>\n",
       "    <tr>\n",
       "      <th>84</th>\n",
       "      <td>1</td>\n",
       "      <td>0</td>\n",
       "      <td>366</td>\n",
       "      <td>0</td>\n",
       "      <td>81.903417</td>\n",
       "      <td>6</td>\n",
       "      <td>45</td>\n",
       "      <td>9</td>\n",
       "      <td>0</td>\n",
       "      <td>0</td>\n",
       "      <td>...</td>\n",
       "      <td>0</td>\n",
       "      <td>0</td>\n",
       "      <td>0</td>\n",
       "      <td>0</td>\n",
       "      <td>0</td>\n",
       "      <td>0</td>\n",
       "      <td>0</td>\n",
       "      <td>0</td>\n",
       "      <td>4</td>\n",
       "      <td>383</td>\n",
       "    </tr>\n",
       "  </tbody>\n",
       "</table>\n",
       "<p>2 rows × 81 columns</p>\n",
       "</div>"
      ],
      "text/plain": [
       "     accident_cnt  고령인구_count_100  생산가능인구_count_100  신호등_sum   유동인구_sum  \\\n",
       "195             5              25                64        3  31.521083   \n",
       "84              1               0               366        0  81.903417   \n",
       "\n",
       "     유소년인구_count_100  유소년인구_count_200  주정차_count_300  차량등록_count_200  \\\n",
       "195                6               24              9               0   \n",
       "84                 6               45              9               0   \n",
       "\n",
       "     학원수_count_100  ...  학구.raw오산원일초통학구역  학구.raw오산초가수초공동통학구역  학구.raw오산초통학구역  \\\n",
       "195              0  ...                0                   0              0   \n",
       "84               0  ...                0                   0              0   \n",
       "\n",
       "     학구.raw운산초통학구역  학구.raw운암초통학구역  학구.raw원동초통학구역  학구.raw필봉초통학구역  \\\n",
       "195              0              0              0              0   \n",
       "84               0              0              0              0   \n",
       "\n",
       "     학구.raw화성초통학구역  정류장_count_200  총인구_count_100  \n",
       "195              0              5             98  \n",
       "84               0              4            383  \n",
       "\n",
       "[2 rows x 81 columns]"
      ]
     },
     "execution_count": 2,
     "metadata": {},
     "output_type": "execute_result"
    }
   ],
   "source": [
    "total = pd.read_csv('./data/total_sub.csv',index_col='Unnamed: 0')\n",
    "total.sample(2)"
   ]
  },
  {
   "cell_type": "markdown",
   "id": "plastic-peter",
   "metadata": {},
   "source": [
    "## __Generate X , Y data__"
   ]
  },
  {
   "cell_type": "code",
   "execution_count": 3,
   "id": "fourth-escape",
   "metadata": {},
   "outputs": [
    {
     "data": {
      "text/plain": [
       "((345, 80), (345,))"
      ]
     },
     "execution_count": 3,
     "metadata": {},
     "output_type": "execute_result"
    }
   ],
   "source": [
    "X = pd.DataFrame(total.drop(['accident_cnt'],axis=1))\n",
    "Y = pd.Series(total[\"accident_cnt\"])\n",
    "X.shape , Y.shape"
   ]
  },
  {
   "cell_type": "markdown",
   "id": "rational-auction",
   "metadata": {},
   "source": [
    "## __Train | Test set split__"
   ]
  },
  {
   "cell_type": "code",
   "execution_count": 4,
   "id": "reasonable-slave",
   "metadata": {},
   "outputs": [
    {
     "data": {
      "text/plain": [
       "((276, 80), (69, 80))"
      ]
     },
     "execution_count": 4,
     "metadata": {},
     "output_type": "execute_result"
    }
   ],
   "source": [
    "scaler = StandardScaler()\n",
    "m_scaler = MinMaxScaler()\n",
    "X = scaler.fit_transform(X)\n",
    "\n",
    "x_train,x_test,y_train,y_test = train_test_split(X,Y,test_size=0.2,random_state=2021)\n",
    "x_train.shape , x_test.shape"
   ]
  },
  {
   "cell_type": "markdown",
   "id": "sudden-ontario",
   "metadata": {},
   "source": [
    "## __Make validator__"
   ]
  },
  {
   "cell_type": "code",
   "execution_count": 5,
   "id": "explicit-border",
   "metadata": {},
   "outputs": [],
   "source": [
    "my_scorer = make_scorer(mean_squared_error,greater_is_better=False)\n",
    "\n",
    "kf = KFold(n_splits=10,shuffle=True,random_state=2021)"
   ]
  },
  {
   "cell_type": "markdown",
   "id": "fluid-burke",
   "metadata": {},
   "source": [
    "# 9. AdaBoost Model"
   ]
  },
  {
   "cell_type": "code",
   "execution_count": 6,
   "id": "tracked-stake",
   "metadata": {},
   "outputs": [
    {
     "name": "stdout",
     "output_type": "stream",
     "text": [
      "AdaBoost(linear) MSE : 0.5345846963982313\n"
     ]
    }
   ],
   "source": [
    "from sklearn.ensemble import AdaBoostRegressor\n",
    "\n",
    "ada = AdaBoostRegressor(n_estimators=200,learning_rate=0.1,loss=\"linear\",random_state=2021)\n",
    "ada.fit(x_train, y_train)\n",
    "\n",
    "score = cross_val_score(ada,x_test,y_test,cv=kf,scoring=my_scorer)  \n",
    "print(\"AdaBoost(linear) MSE :\",score.mean()*(-1))"
   ]
  },
  {
   "cell_type": "code",
   "execution_count": 7,
   "id": "coupled-royal",
   "metadata": {},
   "outputs": [
    {
     "name": "stdout",
     "output_type": "stream",
     "text": [
      "AdaBoost(exponential) MSE : 0.47954329369814125\n"
     ]
    }
   ],
   "source": [
    "from sklearn.ensemble import AdaBoostRegressor\n",
    "\n",
    "ada = AdaBoostRegressor(n_estimators=200,learning_rate=0.1,loss=\"exponential\",random_state=2021)\n",
    "ada.fit(x_train, y_train)\n",
    "\n",
    "score = cross_val_score(ada,x_test,y_test,cv=kf,scoring=my_scorer)  \n",
    "print(\"AdaBoost(exponential) MSE :\",score.mean()*(-1))"
   ]
  },
  {
   "cell_type": "markdown",
   "id": "downtown-invasion",
   "metadata": {},
   "source": [
    "# 10. XGBoost Model"
   ]
  },
  {
   "cell_type": "code",
   "execution_count": 8,
   "id": "loved-execution",
   "metadata": {},
   "outputs": [
    {
     "name": "stdout",
     "output_type": "stream",
     "text": [
      "XGBoost MSE : 0.5918947791711247\n"
     ]
    }
   ],
   "source": [
    "import xgboost\n",
    "xgb_model = xgboost.XGBRegressor(n_estimators=200, learning_rate=0.08, gamma=0, subsample=0.75,colsample_bytree=1, max_depth=7)\n",
    "xgb_model.fit(x_train,y_train)\n",
    "\n",
    "score = cross_val_score(xgb_model,x_test,y_test,cv=kf,scoring=my_scorer)  \n",
    "print(\"XGBoost MSE :\",score.mean()*(-1))"
   ]
  },
  {
   "cell_type": "code",
   "execution_count": 9,
   "id": "mighty-thanks",
   "metadata": {},
   "outputs": [
    {
     "data": {
      "text/plain": [
       "<AxesSubplot:title={'center':'Feature importance'}, xlabel='F score', ylabel='Features'>"
      ]
     },
     "execution_count": 9,
     "metadata": {},
     "output_type": "execute_result"
    },
    {
     "data": {
      "image/png": "[encoded data removed]",
      "text/plain": [
       "<Figure size 432x288 with 1 Axes>"
      ]
     },
     "metadata": {
      "needs_background": "light"
     },
     "output_type": "display_data"
    }
   ],
   "source": [
    "xgboost.plot_importance(xgb_model)"
   ]
  },
  {
   "cell_type": "markdown",
   "id": "unlimited-overhead",
   "metadata": {},
   "source": [
    "# 전체 모델들의 MSE 비교 시각화"
   ]
  },
  {
   "cell_type": "code",
   "execution_count": 4,
   "id": "mediterranean-roommate",
   "metadata": {
    "scrolled": false
   },
   "outputs": [
    {
     "data": {
      "image/png": "[encoded data removed]",
      "text/plain": [
       "<Figure size 864x576 with 1 Axes>"
      ]
     },
     "metadata": {
      "needs_background": "light"
     },
     "output_type": "display_data"
    }
   ],
   "source": [
    "data = [['Linear Regression',1.0499],['Ridge Regression',0.97336],['Lasso Regression', 0.94607],['Eleastic Regerssion',0.88615],\n",
    "       ['SVM -linear',1.4186],['Regression Tree',0.99607],['Random Forest',0.98421],['Gradient Boosting',1.0391],\n",
    "       ['AdaBoost',0.47954],['XGBoost', 0.59189]]\n",
    "\n",
    "df = pd.DataFrame(data,columns=['Model','MSE'])\n",
    "df = df.sort_values(by='MSE',axis=0,ascending=False)\n",
    "\n",
    "colors_ = sns.color_palette('GnBu',df.shape[0])\n",
    "plt.figure(figsize=(12,8))\n",
    "plt.bar(df.Model,df.MSE, align='edge', color=colors_,edgecolor=\"red\", linewidth=1.5)\n",
    "plt.xticks(rotation = 45)\n",
    "plt.title(\"모델 MSE 성능 비교\",fontsize=20)\n",
    "plt.xlabel(\"Model\",fontsize=13)\n",
    "plt.ylabel(\"MSE\",fontsize=13)\n",
    "\n",
    "plt.show()"
   ]
  },
  {
   "cell_type": "markdown",
   "id": "professional-reputation",
   "metadata": {},
   "source": [
    "> ##  MSE가 가장 낮은 `AdaBoost` 모델을 최종 모델로 선정"
   ]
  }
 ],
 "metadata": {
  "kernelspec": {
   "display_name": "Python 3",
   "language": "python",
   "name": "python3"
  },
  "language_info": {
   "codemirror_mode": {
    "name": "ipython",
    "version": 3
   },
   "file_extension": ".py",
   "mimetype": "text/x-python",
   "name": "python",
   "nbconvert_exporter": "python",
   "pygments_lexer": "ipython3",
   "version": "3.6.9"
  }
 },
 "nbformat": 4,
 "nbformat_minor": 5
}
