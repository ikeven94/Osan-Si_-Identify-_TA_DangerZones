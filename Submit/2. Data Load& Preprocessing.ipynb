{
 "cells": [
  {
   "cell_type": "markdown",
   "metadata": {},
   "source": [
    "# 2. Data Load& Preprocessing"
   ]
  },
  {
   "cell_type": "code",
   "execution_count": 22,
   "metadata": {},
   "outputs": [],
   "source": [
    "import os\n",
    "import pathlib\n",
    "import pandas as pd\n",
    "import numpy as np\n",
    "import geopandas as gpd\n",
    "from geoband.API import GetCompasData\n",
    "import json"
   ]
  },
  {
   "cell_type": "code",
   "execution_count": 23,
   "metadata": {},
   "outputs": [],
   "source": [
    "#Font\n",
    "import matplotlib\n",
    "from matplotlib import font_manager\n",
    "import matplotlib.pyplot as plt\n",
    "import warnings\n",
    "\n",
    "warnings.filterwarnings(\"ignore\")\n",
    "matplotlib.rcParams['axes.unicode_minus']=False\n",
    "\n",
    "font_fname = '/opt/app-root/lib/python3.6/site-packages/matplotlib/mpl-data/fonts/ttf/malgun.ttf'\n",
    "font_family = font_manager.FontProperties(fname=font_fname).get_name()\n",
    "plt.rcParams[\"font.family\"] = font_family"
   ]
  },
  {
   "cell_type": "code",
   "execution_count": 24,
   "metadata": {},
   "outputs": [],
   "source": [
    "path = pathlib.Path('./data')"
   ]
  },
  {
   "cell_type": "markdown",
   "metadata": {},
   "source": [
    "> ## __Get data__ "
   ]
  },
  {
   "cell_type": "code",
   "execution_count": 25,
   "metadata": {},
   "outputs": [],
   "source": [
    "if not path.is_dir():\n",
    "    path.mkdir()\n",
    "    \n",
    "    GetCompasData('SBJ_2012_001', '1', path.joinpath('1.오산시_주정차단속(2018~2020).csv'))\n",
    "    GetCompasData('SBJ_2012_001', '2', path.joinpath('2.오산시_어린이교통사고_격자.geojson'))\n",
    "    GetCompasData('SBJ_2012_001', '3', path.joinpath('3.오산시_차량등록현황_격자.geojson'))\n",
    "    GetCompasData('SBJ_2012_001', '4', path.joinpath('4.오산시_연령별_거주인구격자(총인구).geojson'))\n",
    "    GetCompasData('SBJ_2012_001', '5', path.joinpath('5.오산시_연령별_거주인구격자(유소년).geojson'))\n",
    "    GetCompasData('SBJ_2012_001', '6', path.joinpath('6.오산시_연령별_거주인구격자(생산가능인구).geojson'))\n",
    "    GetCompasData('SBJ_2012_001', '7', path.joinpath('7.오산시_연령별_거주인구격자(고령).geojson'))\n",
    "    GetCompasData('SBJ_2012_001', '8', path.joinpath('8.오산시_유동인구(2019).csv'))\n",
    "    GetCompasData('SBJ_2012_001', '9', path.joinpath('9.오산시_어린이보호구역.csv'))\n",
    "    GetCompasData('SBJ_2012_001', '10', path.joinpath('10.오산시_학교위치정보.csv'))\n",
    "    GetCompasData('SBJ_2012_001', '11', path.joinpath('11.오산시_초등학교_통학구.geojson'))\n",
    "    GetCompasData('SBJ_2012_001', '12', path.joinpath('12.오산시_중학교_학군.geojson'))\n",
    "    GetCompasData('SBJ_2012_001', '13', path.joinpath('13.오산시_어린이집_유치원현황.csv'))\n",
    "    GetCompasData('SBJ_2012_001', '14', path.joinpath('14.오산시_기상데이터(2010~2019).csv'))\n",
    "    GetCompasData('SBJ_2012_001', '15', path.joinpath('15.오산시_무인교통단속카메라.csv'))\n",
    "    GetCompasData('SBJ_2012_001', '16', path.joinpath('16.오산시_도로안전표지표준데이터.csv'))\n",
    "    GetCompasData('SBJ_2012_001', '17', path.joinpath('17.오산시_횡단보도.geojson'))\n",
    "    GetCompasData('SBJ_2012_001', '18', path.joinpath('18.오산시_과속방지턱표준데이터.csv'))\n",
    "    GetCompasData('SBJ_2012_001', '19', path.joinpath('19.오산시_신호등.geojson'))\n",
    "    GetCompasData('SBJ_2012_001', '20', path.joinpath('20.오산시_CCTV설치현황.csv'))\n",
    "    GetCompasData('SBJ_2012_001', '21', path.joinpath('21.오산시_인도.geojson'))\n",
    "    GetCompasData('SBJ_2012_001', '22', path.joinpath('22.오산시_버스정류장.csv'))\n",
    "    GetCompasData('SBJ_2012_001', '23', path.joinpath('23.오산시_상세도로망_LV6.geojson'))\n",
    "    GetCompasData('SBJ_2012_001', '24', path.joinpath('24.평일_전일,시간대별_오산시_추정교통량_Level6.csv'))\n",
    "    GetCompasData('SBJ_2012_001', '25', path.joinpath('25.평일_전일_오산시_혼잡빈도강도_Level6.csv'))\n",
    "    GetCompasData('SBJ_2012_001', '26', path.joinpath('26.평일_전일_오산시_혼잡시간강도_Level6.csv'))\n",
    "    GetCompasData('SBJ_2012_001', '27', path.joinpath('27.오산시_도로명주소_건물.geojson'))\n",
    "    GetCompasData('SBJ_2012_001', '28', path.joinpath('28.오산시_건물연면적_격자.geojson'))\n",
    "    GetCompasData('SBJ_2012_001', '29', path.joinpath('29.오산시_체육시설현황.csv'))\n",
    "    GetCompasData('SBJ_2012_001', '30', path.joinpath('30.오산시_학원_및_교습소_현황.csv'))\n",
    "    GetCompasData('SBJ_2012_001', '31', path.joinpath('31.오산시_법정경계(시군구).geojson'))\n",
    "    GetCompasData('SBJ_2012_001', '32', path.joinpath('32.오산시_행정경계(읍면동).geojson'))\n",
    "    GetCompasData('SBJ_2012_001', '33', path.joinpath('33.오산시_법정경계(읍면동).geojson'))\n",
    "    GetCompasData('SBJ_2012_001', '34', path.joinpath('34.오산시_지적도.geojson'))\n",
    "    GetCompasData('SBJ_2012_001', '35', path.joinpath('35.코드정의서.xlsx'))"
   ]
  },
  {
   "cell_type": "markdown",
   "metadata": {},
   "source": [
    "> ## __Load Data__ "
   ]
  },
  {
   "cell_type": "code",
   "execution_count": 26,
   "metadata": {},
   "outputs": [],
   "source": [
    "주정차단속 = pd.read_csv(os.path.join(path,'1.오산시_주정차단속(2018~2020).csv'),encoding=\"utf-8\")\n",
    "어린이교통사고_격자 = gpd.read_file(os.path.join(path,'2.오산시_어린이교통사고_격자.geojson'))\n",
    "차량등록현황_격자 = gpd.read_file(os.path.join(path,'3.오산시_차량등록현황_격자.geojson'))\n",
    "거주인구격자_총인구 = gpd.read_file(os.path.join(path,'4.오산시_연령별_거주인구격자(총인구).geojson'))\n",
    "거주인구격자_유소년 = gpd.read_file(os.path.join(path,'5.오산시_연령별_거주인구격자(유소년).geojson'))\n",
    "거주인구격자_생산가능 = gpd.read_file(os.path.join(path,'6.오산시_연령별_거주인구격자(생산가능인구).geojson'))\n",
    "거주인구격자_고령 = gpd.read_file(os.path.join(path,'7.오산시_연령별_거주인구격자(고령).geojson'))\n",
    "유동인구 = pd.read_csv(os.path.join(path,'8.오산시_유동인구(2019).csv'),encoding=\"utf-8\")\n",
    "어린이보호구역 = pd.read_csv(os.path.join(path,'9.오산시_어린이보호구역.csv'),encoding=\"utf-8\")\n",
    "학교위치정보 = pd.read_csv(os.path.join(path,'10.오산시_학교위치정보.csv'),encoding=\"utf-8\")\n",
    "초등학교_통학구 = gpd.read_file(os.path.join(path,'11.오산시_초등학교_통학구.geojson'))\n",
    "중학교_학군 = gpd.read_file(os.path.join(path,'12.오산시_중학교_학군.geojson'))\n",
    "어린이집_유치원현황 = pd.read_csv(os.path.join(path,'13.오산시_어린이집_유치원현황.csv'),encoding=\"utf-8\")\n",
    "기상데이터 = pd.read_csv(os.path.join(path,'14.오산시_기상데이터(2010~2019).csv'),encoding=\"utf-8\")\n",
    "무인교통단속카메라 = pd.read_csv(os.path.join(path,'15.오산시_무인교통단속카메라.csv'),encoding=\"utf-8\")\n",
    "도로안전표지 = pd.read_csv(os.path.join(path,'16.오산시_도로안전표지표준데이터.csv'),encoding=\"utf-8\")\n",
    "횡단보도 = gpd.read_file(os.path.join(path,'17.오산시_횡단보도.geojson'))\n",
    "과속방지턱 = pd.read_csv(os.path.join(path,'18.오산시_과속방지턱표준데이터.csv'),encoding=\"utf-8\")\n",
    "신호등 = gpd.read_file(os.path.join(path,'19.오산시_신호등.geojson'))\n",
    "CCTV설치현황 = pd.read_csv(os.path.join(path,'20.오산시_CCTV설치현황.csv'),encoding=\"utf-8\")\n",
    "인도 = gpd.read_file(os.path.join(path,'21.오산시_인도.geojson'))\n",
    "버스정류장 = pd.read_csv(os.path.join(path,'22.오산시_버스정류장.csv'),encoding=\"utf-8\")\n",
    "상세도로망 = gpd.read_file(os.path.join(path,'23.오산시_상세도로망_LV6.geojson'))\n",
    "시간대별_추정교통량 = pd.read_csv(os.path.join(path,'24.평일_전일,시간대별_오산시_추정교통량_Level6.csv'),encoding=\"utf-8\")\n",
    "혼잡빈도강도 = pd.read_csv(os.path.join(path,'25.평일_전일_오산시_혼잡빈도강도_Level6.csv'),encoding=\"utf-8\")\n",
    "혼잡시간강도 = pd.read_csv(os.path.join(path,'26.평일_전일_오산시_혼잡시간강도_Level6.csv'),encoding=\"utf-8\")\n",
    "도로명주소_건물 = gpd.read_file(os.path.join(path,'27.오산시_도로명주소_건물.geojson'))\n",
    "건물연면적_격자 = gpd.read_file(os.path.join(path,'28.오산시_건물연면적_격자.geojson'))\n",
    "체육시설현황 = pd.read_csv(os.path.join(path,'29.오산시_체육시설현황.csv'),encoding=\"utf-8\")\n",
    "학원_및_교습소_현황 = pd.read_csv(os.path.join(path,'30.오산시_학원_및_교습소_현황.csv'),encoding=\"utf-8\")\n",
    "법정경계_시군구 = gpd.read_file(os.path.join(path,'31.오산시_법정경계(시군구).geojson'))\n",
    "행정경계_읍면동 = gpd.read_file(os.path.join(path,'32.오산시_행정경계(읍면동).geojson'))\n",
    "법정경계_읍면동 = gpd.read_file(os.path.join(path,'33.오산시_법정경계(읍면동).geojson'))\n",
    "지적도 = gpd.read_file(os.path.join(path,'34.오산시_지적도.geojson'))"
   ]
  },
  {
   "cell_type": "markdown",
   "metadata": {},
   "source": [
    "> ## __Preprocessing__  "
   ]
  },
  {
   "cell_type": "markdown",
   "metadata": {},
   "source": [
    "> __1.주정차 단속 데이터 : 오입력 제거 및 결측치 대체__"
   ]
  },
  {
   "cell_type": "code",
   "execution_count": 27,
   "metadata": {},
   "outputs": [
    {
     "name": "stdout",
     "output_type": "stream",
     "text": [
      "원본 데이터: 61701\n",
      "제거 후 데이터: 61033\n",
      "오입력 데이터 예시,\n"
     ]
    },
    {
     "data": {
      "text/html": [
       "<div>\n",
       "<style scoped>\n",
       "    .dataframe tbody tr th:only-of-type {\n",
       "        vertical-align: middle;\n",
       "    }\n",
       "\n",
       "    .dataframe tbody tr th {\n",
       "        vertical-align: top;\n",
       "    }\n",
       "\n",
       "    .dataframe thead th {\n",
       "        text-align: right;\n",
       "    }\n",
       "</style>\n",
       "<table border=\"1\" class=\"dataframe\">\n",
       "  <thead>\n",
       "    <tr style=\"text-align: right;\">\n",
       "      <th></th>\n",
       "      <th>단속일자</th>\n",
       "      <th>단속위치</th>\n",
       "      <th>행정구역</th>\n",
       "      <th>스쿨존여부</th>\n",
       "      <th>단속위치_경도</th>\n",
       "      <th>단속위치_위도</th>\n",
       "      <th>단속종류</th>\n",
       "    </tr>\n",
       "  </thead>\n",
       "  <tbody>\n",
       "    <tr>\n",
       "      <th>117</th>\n",
       "      <td>20181108</td>\n",
       "      <td>오산동 성호대로55번길</td>\n",
       "      <td>경기도 화성시 오산동</td>\n",
       "      <td>N</td>\n",
       "      <td>127.067995</td>\n",
       "      <td>37.150662</td>\n",
       "      <td>이동형CCTV단속</td>\n",
       "    </tr>\n",
       "  </tbody>\n",
       "</table>\n",
       "</div>"
      ],
      "text/plain": [
       "         단속일자          단속위치         행정구역 스쿨존여부     단속위치_경도    단속위치_위도  \\\n",
       "117  20181108  오산동 성호대로55번길  경기도 화성시 오산동     N  127.067995  37.150662   \n",
       "\n",
       "          단속종류  \n",
       "117  이동형CCTV단속  "
      ]
     },
     "execution_count": 27,
     "metadata": {},
     "output_type": "execute_result"
    }
   ],
   "source": [
    "# 행정구역 오입력 데이터 제거\n",
    "print(\"원본 데이터:\",주정차단속.shape[0])\n",
    "to_drop = 주정차단속[주정차단속['행정구역'].str.contains('오산시')==False]\n",
    "주정차단속.drop(to_drop.index,inplace=True)\n",
    "print(\"제거 후 데이터:\",주정차단속.shape[0])\n",
    "print(\"오입력 데이터 예시,\")\n",
    "to_drop.head(1)"
   ]
  },
  {
   "cell_type": "code",
   "execution_count": 28,
   "metadata": {
    "scrolled": false
   },
   "outputs": [
    {
     "name": "stdout",
     "output_type": "stream",
     "text": [
      "각 칼럼 별 결측 비율(%) :\n",
      "단속일자       0.000000\n",
      "단속위치       0.000000\n",
      "행정구역       0.000000\n",
      "스쿨존여부      0.000000\n",
      "단속위치_경도    0.306392\n",
      "단속위치_위도    0.306392\n",
      "단속종류       0.000000\n",
      "dtype: float64\n",
      "위/경도 결측 데이터 단속 위치 ['유탑유블레스  남측']\n"
     ]
    }
   ],
   "source": [
    "# 결측 데이터 조사 및 단속 위치 확인\n",
    "print(\"각 칼럼 별 결측 비율(%) :\")\n",
    "print(주정차단속.isnull().sum()*100/주정차단속.shape[0])\n",
    "print(\"위/경도 결측 데이터 단속 위치\",주정차단속[주정차단속[\"단속위치_경도\"].isnull()][\"단속위치\"].unique())"
   ]
  },
  {
   "cell_type": "markdown",
   "metadata": {},
   "source": [
    "[구글맵 : 오산시 유탑유블레스](https://www.google.co.kr/maps/search/%EA%B2%BD%EA%B8%B0%EB%8F%84+%EC%98%A4%EC%82%B0%EC%8B%9C+%EC%9B%90%EB%8F%99+360-15+%EB%B2%88%EC%A7%80+%EC%99%B8+3%ED%95%84%EC%A7%80/@37.1414858,127.0701808,17z/data=!3m1!4b1?hl=ko)  "
   ]
  },
  {
   "cell_type": "code",
   "execution_count": 29,
   "metadata": {},
   "outputs": [
    {
     "data": {
      "text/plain": [
       "단속일자       0\n",
       "단속위치       0\n",
       "행정구역       0\n",
       "스쿨존여부      0\n",
       "단속위치_경도    0\n",
       "단속위치_위도    0\n",
       "단속종류       0\n",
       "dtype: int64"
      ]
     },
     "execution_count": 29,
     "metadata": {},
     "output_type": "execute_result"
    }
   ],
   "source": [
    "# 구글맵 기반 오산시 유탑유블레스 남측 위/경도 입력\n",
    "주정차단속[\"단속위치_경도\"].fillna(127.0701808,inplace=True)\n",
    "주정차단속[\"단속위치_위도\"].fillna(37.1414858,inplace=True)\n",
    "주정차단속.isnull().sum()"
   ]
  },
  {
   "cell_type": "markdown",
   "metadata": {},
   "source": [
    "> __2. ~ 3. : 결측 데이터 없음__  \n",
    "(어린이 교통사고 데이터 , 차량등록 현황)"
   ]
  },
  {
   "cell_type": "markdown",
   "metadata": {},
   "source": [
    "> __4.~7.연령별 거주인구 격자데이터 (총인구, 유소년인구, 생산가능인구, 고령인구) : 결측치 대체__"
   ]
  },
  {
   "cell_type": "code",
   "execution_count": 30,
   "metadata": {},
   "outputs": [
    {
     "name": "stdout",
     "output_type": "stream",
     "text": [
      "총 인구 데이터 결측비율 : 0.6476718403547672\n",
      "유소년 인구 데이터 결측비율 : 0.7855875831485588\n",
      "생산가능 인구 데이터 결측비율 : 0.6618625277161863\n",
      "고령 인구 데이터 결측비율 : 0.7128603104212861\n"
     ]
    }
   ],
   "source": [
    "# 각 정보별 결측 데이터 비율\n",
    "print(\"총 인구 데이터 결측비율 :\",거주인구격자_총인구.isnull().sum().sum()/거주인구격자_총인구.shape[0])\n",
    "print(\"유소년 인구 데이터 결측비율 :\",거주인구격자_유소년.isnull().sum().sum()/거주인구격자_유소년.shape[0])\n",
    "print(\"생산가능 인구 데이터 결측비율 :\",거주인구격자_생산가능.isnull().sum().sum()/거주인구격자_생산가능.shape[0])\n",
    "print(\"고령 인구 데이터 결측비율 :\",거주인구격자_고령.isnull().sum().sum()/거주인구격자_고령.shape[0])"
   ]
  },
  {
   "cell_type": "code",
   "execution_count": 31,
   "metadata": {},
   "outputs": [
    {
     "name": "stdout",
     "output_type": "stream",
     "text": [
      "총 인구 데이터 결측비율 : 0.0\n",
      "유소년 인구 데이터 결측비율 : 0.0\n",
      "생산가능 인구 데이터 결측비율 : 0.0\n",
      "고령 인구 데이터 결측비율 : 0.0\n"
     ]
    }
   ],
   "source": [
    "# 각 정보 결측 데이터 성격 : 격자내의 총 인구수\n",
    "# 0명으로 결측값 처리\n",
    "\n",
    "거주인구격자_총인구.fillna(0,inplace=True)\n",
    "거주인구격자_유소년.fillna(0,inplace=True)\n",
    "거주인구격자_생산가능.fillna(0,inplace=True)\n",
    "거주인구격자_고령.fillna(0,inplace=True)\n",
    "\n",
    "print(\"총 인구 데이터 결측비율 :\",거주인구격자_총인구.isnull().sum().sum()/거주인구격자_총인구.shape[0])\n",
    "print(\"유소년 인구 데이터 결측비율 :\",거주인구격자_유소년.isnull().sum().sum()/거주인구격자_유소년.shape[0])\n",
    "print(\"생산가능 인구 데이터 결측비율 :\",거주인구격자_생산가능.isnull().sum().sum()/거주인구격자_생산가능.shape[0])\n",
    "print(\"고령 인구 데이터 결측비율 :\",거주인구격자_고령.isnull().sum().sum()/거주인구격자_고령.shape[0])"
   ]
  },
  {
   "cell_type": "markdown",
   "metadata": {},
   "source": [
    "> __8.유동인구 : 관심 데이터 재구조 및 별도 저장__  "
   ]
  },
  {
   "cell_type": "code",
   "execution_count": 32,
   "metadata": {},
   "outputs": [
    {
     "data": {
      "text/html": [
       "<div>\n",
       "<style scoped>\n",
       "    .dataframe tbody tr th:only-of-type {\n",
       "        vertical-align: middle;\n",
       "    }\n",
       "\n",
       "    .dataframe tbody tr th {\n",
       "        vertical-align: top;\n",
       "    }\n",
       "\n",
       "    .dataframe thead th {\n",
       "        text-align: right;\n",
       "    }\n",
       "</style>\n",
       "<table border=\"1\" class=\"dataframe\">\n",
       "  <thead>\n",
       "    <tr style=\"text-align: right;\">\n",
       "      <th></th>\n",
       "      <th>lon</th>\n",
       "      <th>lat</th>\n",
       "      <th>평균유동인구</th>\n",
       "    </tr>\n",
       "  </thead>\n",
       "  <tbody>\n",
       "    <tr>\n",
       "      <th>0</th>\n",
       "      <td>126.995142</td>\n",
       "      <td>37.177153</td>\n",
       "      <td>0.546000</td>\n",
       "    </tr>\n",
       "    <tr>\n",
       "      <th>1</th>\n",
       "      <td>126.995145</td>\n",
       "      <td>37.176703</td>\n",
       "      <td>0.882000</td>\n",
       "    </tr>\n",
       "    <tr>\n",
       "      <th>2</th>\n",
       "      <td>126.995148</td>\n",
       "      <td>37.176252</td>\n",
       "      <td>0.219429</td>\n",
       "    </tr>\n",
       "  </tbody>\n",
       "</table>\n",
       "</div>"
      ],
      "text/plain": [
       "          lon        lat    평균유동인구\n",
       "0  126.995142  37.177153  0.546000\n",
       "1  126.995145  37.176703  0.882000\n",
       "2  126.995148  37.176252  0.219429"
      ]
     },
     "execution_count": 32,
     "metadata": {},
     "output_type": "execute_result"
    }
   ],
   "source": [
    "# 등*하교 시간대를 관심시간대로 설정하여 월/시간별 데이터 전체의 평균 유동인구 계산\n",
    "\n",
    "관심시간대 = [\"TMST_08\",\"TMST_09\",\"TMST_10\",\"TMST_12\",\"TMST_13\",\"TMST_14\",\"TMST_15\",\"TMST_16\",\"TMST_17\",\"TMST_18\"]\n",
    "\n",
    "평균유동인구 = 유동인구.drop([\"STD_YM\"],axis=1).groupby(['lon','lat']).mean()[관심시간대].mean(axis=1)\n",
    "평균유동인구 = 평균유동인구.reset_index().rename(columns={0:\"평균유동인구\"})\n",
    "평균유동인구.head(3)"
   ]
  },
  {
   "cell_type": "markdown",
   "metadata": {},
   "source": [
    "> __9.어린이보호구역 현황 : 오입력 데이터 제거__  "
   ]
  },
  {
   "cell_type": "code",
   "execution_count": 33,
   "metadata": {},
   "outputs": [
    {
     "data": {
      "text/html": [
       "<div>\n",
       "<style scoped>\n",
       "    .dataframe tbody tr th:only-of-type {\n",
       "        vertical-align: middle;\n",
       "    }\n",
       "\n",
       "    .dataframe tbody tr th {\n",
       "        vertical-align: top;\n",
       "    }\n",
       "\n",
       "    .dataframe thead th {\n",
       "        text-align: right;\n",
       "    }\n",
       "</style>\n",
       "<table border=\"1\" class=\"dataframe\">\n",
       "  <thead>\n",
       "    <tr style=\"text-align: right;\">\n",
       "      <th></th>\n",
       "      <th>시설종류</th>\n",
       "      <th>시설명</th>\n",
       "      <th>CCTV설치여부</th>\n",
       "      <th>CCTV설치대수</th>\n",
       "      <th>보호구역도로폭</th>\n",
       "      <th>보호구역_경도</th>\n",
       "      <th>보호구역_위도</th>\n",
       "    </tr>\n",
       "  </thead>\n",
       "  <tbody>\n",
       "    <tr>\n",
       "      <th>23</th>\n",
       "      <td>초등학교</td>\n",
       "      <td>세미초등학교</td>\n",
       "      <td>N</td>\n",
       "      <td>1</td>\n",
       "      <td>15</td>\n",
       "      <td>127.064386</td>\n",
       "      <td>37.174482</td>\n",
       "    </tr>\n",
       "  </tbody>\n",
       "</table>\n",
       "</div>"
      ],
      "text/plain": [
       "    시설종류     시설명 CCTV설치여부  CCTV설치대수  보호구역도로폭     보호구역_경도    보호구역_위도\n",
       "23  초등학교  세미초등학교        N         1       15  127.064386  37.174482"
      ]
     },
     "execution_count": 33,
     "metadata": {},
     "output_type": "execute_result"
    }
   ],
   "source": [
    "# CCTV 설치 여부 정보와 CCTV 설치대수 정보가 서로 모순인 행 존재 : 제거\n",
    "condition1 = ((어린이보호구역[\"CCTV설치여부\"]==\"Y\")&(어린이보호구역[\"CCTV설치대수\"]==0))\n",
    "condition2 = ((어린이보호구역[\"CCTV설치여부\"]==\"N\")&(어린이보호구역[\"CCTV설치대수\"]!=0))\n",
    "어린이보호구역[condition1|condition2]"
   ]
  },
  {
   "cell_type": "code",
   "execution_count": 34,
   "metadata": {},
   "outputs": [],
   "source": [
    "어린이보호구역.drop([23],inplace=True)"
   ]
  },
  {
   "cell_type": "markdown",
   "metadata": {},
   "source": [
    "> __10.학교위치정보 : 관심 데이터 추출 및 별도 저장__"
   ]
  },
  {
   "cell_type": "code",
   "execution_count": 35,
   "metadata": {},
   "outputs": [
    {
     "name": "stdout",
     "output_type": "stream",
     "text": [
      "기존 데이터: 41\n",
      "전처리 후 데이터: 24\n"
     ]
    }
   ],
   "source": [
    "# 관심 학교위치 정보 추출\n",
    "print(\"기존 데이터:\",학교위치정보.shape[0])\n",
    "초등학교위치정보 = 학교위치정보[학교위치정보.학교구분==\"초등학교\"]\n",
    "print(\"전처리 후 데이터:\",초등학교위치정보.shape[0])"
   ]
  },
  {
   "cell_type": "markdown",
   "metadata": {},
   "source": [
    "> __11. ~ 13. : 결측치 없음__  \n",
    "(초등학교 통학구 , 중학교 학군 , 어린이집_유치원 현황)"
   ]
  },
  {
   "cell_type": "markdown",
   "metadata": {},
   "source": [
    "> __14.기상데이터 : 분석과정에서 미사용__"
   ]
  },
  {
   "cell_type": "markdown",
   "metadata": {},
   "source": [
    "> __15. ~ 19. : 결측치 없음__  \n",
    "(무인교통단속카메라 , 도로안전표지 , 횡단보도 , 과속방지턱 , 신호등)"
   ]
  },
  {
   "cell_type": "markdown",
   "metadata": {},
   "source": [
    "> __20.CCTV 설치 현황 : 결측치 제거__"
   ]
  },
  {
   "cell_type": "code",
   "execution_count": 36,
   "metadata": {
    "scrolled": false
   },
   "outputs": [
    {
     "name": "stdout",
     "output_type": "stream",
     "text": [
      "각 칼럼 별 결측 비율(%) :\n"
     ]
    },
    {
     "data": {
      "text/plain": [
       "CCTV 유형코드      0.000000\n",
       "설치위치_도로명주소    38.977072\n",
       "설치위치_위도        0.000000\n",
       "설치위치_경도        0.000000\n",
       "dtype: float64"
      ]
     },
     "execution_count": 36,
     "metadata": {},
     "output_type": "execute_result"
    }
   ],
   "source": [
    "print(\"각 칼럼 별 결측 비율(%) :\")\n",
    "CCTV설치현황.isnull().sum()*100/CCTV설치현황.shape[0]"
   ]
  },
  {
   "cell_type": "code",
   "execution_count": 37,
   "metadata": {},
   "outputs": [
    {
     "name": "stdout",
     "output_type": "stream",
     "text": [
      "각 칼럼 별 결측 비율(%) :\n"
     ]
    },
    {
     "data": {
      "text/plain": [
       "CCTV 유형코드     0.0\n",
       "설치위치_도로명주소    0.0\n",
       "설치위치_위도       0.0\n",
       "설치위치_경도       0.0\n",
       "dtype: float64"
      ]
     },
     "execution_count": 37,
     "metadata": {},
     "output_type": "execute_result"
    }
   ],
   "source": [
    "# 설치위치_도로명주소 결측치 : \"미기재\" 로 대체\n",
    "CCTV설치현황[\"설치위치_도로명주소\"].fillna(\"미기재\",inplace=True)\n",
    "\n",
    "print(\"각 칼럼 별 결측 비율(%) :\")\n",
    "CCTV설치현황.isnull().sum()*100/CCTV설치현황.shape[0]"
   ]
  },
  {
   "cell_type": "markdown",
   "metadata": {},
   "source": [
    "> __21. ~ 22. : 결측치 없음__  \n",
    "(인도 , 버스정류장)"
   ]
  },
  {
   "cell_type": "markdown",
   "metadata": {},
   "source": [
    "> __23.상세 도로망 데이터__"
   ]
  },
  {
   "cell_type": "code",
   "execution_count": 38,
   "metadata": {},
   "outputs": [
    {
     "name": "stdout",
     "output_type": "stream",
     "text": [
      "각 칼럼 별 결측 비율(%) :\n"
     ]
    },
    {
     "data": {
      "text/plain": [
       "link_id        0.00\n",
       "max_speed      0.00\n",
       "road_name     15.68\n",
       "road_no        0.00\n",
       "road_rank      0.00\n",
       "link_type      0.00\n",
       "road_type      0.00\n",
       "facil_name    98.24\n",
       "up_lanes       0.00\n",
       "dw_lanes       0.00\n",
       "oneway         0.00\n",
       "length         0.00\n",
       "width          0.00\n",
       "car_lane       0.00\n",
       "num_cross      0.00\n",
       "barrier        0.00\n",
       "geometry       0.00\n",
       "dtype: float64"
      ]
     },
     "execution_count": 38,
     "metadata": {},
     "output_type": "execute_result"
    }
   ],
   "source": [
    "print(\"각 칼럼 별 결측 비율(%) :\")\n",
    "상세도로망.isnull().sum()*100/상세도로망.shape[0]"
   ]
  },
  {
   "cell_type": "code",
   "execution_count": 39,
   "metadata": {},
   "outputs": [
    {
     "name": "stdout",
     "output_type": "stream",
     "text": [
      "전처리 후 각 칼럼 별 결측 비율(%) :\n"
     ]
    },
    {
     "data": {
      "text/plain": [
       "link_id      0.0\n",
       "max_speed    0.0\n",
       "road_name    0.0\n",
       "road_no      0.0\n",
       "road_rank    0.0\n",
       "link_type    0.0\n",
       "road_type    0.0\n",
       "up_lanes     0.0\n",
       "dw_lanes     0.0\n",
       "oneway       0.0\n",
       "length       0.0\n",
       "width        0.0\n",
       "car_lane     0.0\n",
       "num_cross    0.0\n",
       "barrier      0.0\n",
       "geometry     0.0\n",
       "dtype: float64"
      ]
     },
     "execution_count": 39,
     "metadata": {},
     "output_type": "execute_result"
    }
   ],
   "source": [
    "# 결측을 제외한 정보량이 크게 부족한 facil_name 의 경우 drop , road_name 의 경우 \"미기재\" 로 대체\n",
    "\n",
    "상세도로망.drop([\"facil_name\"],axis=1,inplace=True)\n",
    "상세도로망[\"road_name\"].fillna(\"미기재\",inplace=True)\n",
    "\n",
    "print(\"전처리 후 각 칼럼 별 결측 비율(%) :\")\n",
    "상세도로망.isnull().sum()*100/상세도로망.shape[0]"
   ]
  },
  {
   "cell_type": "markdown",
   "metadata": {},
   "source": [
    "> __24.시간대별 추정 교통량 데이터__"
   ]
  },
  {
   "cell_type": "code",
   "execution_count": 40,
   "metadata": {},
   "outputs": [
    {
     "name": "stdout",
     "output_type": "stream",
     "text": [
      "각 칼럼별 결측 데이터 비율(%) :\n"
     ]
    },
    {
     "data": {
      "text/plain": [
       "상세도로망_LinkID     0.000000\n",
       "도로등급             0.000000\n",
       "링크길이             0.000000\n",
       "도로명             15.736505\n",
       "시도명              0.000000\n",
       "시군구명             0.000000\n",
       "읍면동명             0.000000\n",
       "시간적범위            0.000000\n",
       "평일주말             0.000000\n",
       "전체 추정교통량         0.000000\n",
       "승용차 추정교통량        0.000000\n",
       "버스 추정교통량         0.000000\n",
       "화물차 추정교통량        0.000000\n",
       "dtype: float64"
      ]
     },
     "execution_count": 40,
     "metadata": {},
     "output_type": "execute_result"
    }
   ],
   "source": [
    "print(\"각 칼럼별 결측 데이터 비율(%) :\")\n",
    "시간대별_추정교통량.isnull().sum()*100/시간대별_추정교통량.shape[0]"
   ]
  },
  {
   "cell_type": "code",
   "execution_count": 41,
   "metadata": {},
   "outputs": [
    {
     "name": "stdout",
     "output_type": "stream",
     "text": [
      "전처리 후 각 칼럼별 결측 데이터 비율(%) :\n"
     ]
    },
    {
     "data": {
      "text/plain": [
       "상세도로망_LinkID    0.0\n",
       "도로등급            0.0\n",
       "링크길이            0.0\n",
       "도로명             0.0\n",
       "시도명             0.0\n",
       "시군구명            0.0\n",
       "읍면동명            0.0\n",
       "시간적범위           0.0\n",
       "평일주말            0.0\n",
       "전체 추정교통량        0.0\n",
       "승용차 추정교통량       0.0\n",
       "버스 추정교통량        0.0\n",
       "화물차 추정교통량       0.0\n",
       "dtype: float64"
      ]
     },
     "execution_count": 41,
     "metadata": {},
     "output_type": "execute_result"
    }
   ],
   "source": [
    "# 도로명 결측 데이터 : \"미기재\" 로 대체\n",
    "시간대별_추정교통량[\"도로명\"].fillna(\"미기재\",inplace=True)\n",
    "\n",
    "print(\"전처리 후 각 칼럼별 결측 데이터 비율(%) :\")\n",
    "시간대별_추정교통량.isnull().sum()*100/시간대별_추정교통량.shape[0]"
   ]
  },
  {
   "cell_type": "code",
   "execution_count": 42,
   "metadata": {
    "scrolled": false
   },
   "outputs": [
    {
     "name": "stdout",
     "output_type": "stream",
     "text": [
      "원본 시간 칼럼 데이터 타입: [<class 'str'> <class 'int'>]\n",
      "수정 후 시간 칼럼 데이터 타입: [<class 'float'>]\n"
     ]
    },
    {
     "data": {
      "text/plain": [
       "전일      3279\n",
       "11.0    3279\n",
       "1.0     3279\n",
       "2.0     3279\n",
       "3.0     3279\n",
       "4.0     3279\n",
       "5.0     3279\n",
       "6.0     3279\n",
       "7.0     3279\n",
       "8.0     3279\n",
       "9.0     3279\n",
       "10.0    3279\n",
       "12.0    3279\n",
       "23.0    3279\n",
       "13.0    3279\n",
       "14.0    3279\n",
       "15.0    3279\n",
       "16.0    3279\n",
       "17.0    3279\n",
       "18.0    3279\n",
       "19.0    3279\n",
       "20.0    3279\n",
       "21.0    3279\n",
       "22.0    3279\n",
       "0.0     3279\n",
       "Name: 시간적범위, dtype: int64"
      ]
     },
     "execution_count": 42,
     "metadata": {},
     "output_type": "execute_result"
    }
   ],
   "source": [
    "# 시간 데이터에 데이터타입 혼용으로 float 타입으로 통일\n",
    "print(\"원본 시간 칼럼 데이터 타입:\",시간대별_추정교통량[\"시간적범위\"][시간대별_추정교통량[\"시간적범위\"]!=\"전일\"].map(type).unique())\n",
    "    \n",
    "시간대별_추정교통량[\"시간적범위\"][시간대별_추정교통량[\"시간적범위\"]!=\"전일\"]=시간대별_추정교통량[\"시간적범위\"][시간대별_추정교통량[\"시간적범위\"]!=\"전일\"].map(np.int32)\n",
    "print(\"수정 후 시간 칼럼 데이터 타입:\",시간대별_추정교통량[\"시간적범위\"][시간대별_추정교통량[\"시간적범위\"]!=\"전일\"].map(type).unique())\n",
    "시간대별_추정교통량[\"시간적범위\"].value_counts()"
   ]
  },
  {
   "cell_type": "code",
   "execution_count": 43,
   "metadata": {},
   "outputs": [
    {
     "data": {
      "text/html": [
       "<div>\n",
       "<style scoped>\n",
       "    .dataframe tbody tr th:only-of-type {\n",
       "        vertical-align: middle;\n",
       "    }\n",
       "\n",
       "    .dataframe tbody tr th {\n",
       "        vertical-align: top;\n",
       "    }\n",
       "\n",
       "    .dataframe thead th {\n",
       "        text-align: right;\n",
       "    }\n",
       "</style>\n",
       "<table border=\"1\" class=\"dataframe\">\n",
       "  <thead>\n",
       "    <tr style=\"text-align: right;\">\n",
       "      <th></th>\n",
       "      <th>상세도로망_LinkID</th>\n",
       "      <th>도로등급</th>\n",
       "      <th>링크길이</th>\n",
       "      <th>도로명</th>\n",
       "      <th>시도명</th>\n",
       "      <th>시군구명</th>\n",
       "      <th>읍면동명</th>\n",
       "      <th>시간적범위</th>\n",
       "      <th>평일주말</th>\n",
       "      <th>전체 추정교통량</th>\n",
       "      <th>승용차 추정교통량</th>\n",
       "      <th>버스 추정교통량</th>\n",
       "      <th>화물차 추정교통량</th>\n",
       "      <th>상하행</th>\n",
       "    </tr>\n",
       "  </thead>\n",
       "  <tbody>\n",
       "    <tr>\n",
       "      <th>0</th>\n",
       "      <td>571376979</td>\n",
       "      <td>101</td>\n",
       "      <td>0.093</td>\n",
       "      <td>수도권제2순환고속도로(봉담동탄</td>\n",
       "      <td>경기도</td>\n",
       "      <td>오산시</td>\n",
       "      <td>세마동</td>\n",
       "      <td>0</td>\n",
       "      <td>평일</td>\n",
       "      <td>268.55</td>\n",
       "      <td>193.43</td>\n",
       "      <td>11.99</td>\n",
       "      <td>63.13</td>\n",
       "      <td>상행</td>\n",
       "    </tr>\n",
       "    <tr>\n",
       "      <th>1</th>\n",
       "      <td>571352496</td>\n",
       "      <td>101</td>\n",
       "      <td>0.324</td>\n",
       "      <td>수도권제2순환고속도로(봉담동탄</td>\n",
       "      <td>경기도</td>\n",
       "      <td>오산시</td>\n",
       "      <td>세마동</td>\n",
       "      <td>0</td>\n",
       "      <td>평일</td>\n",
       "      <td>21.98</td>\n",
       "      <td>15.48</td>\n",
       "      <td>0.75</td>\n",
       "      <td>5.74</td>\n",
       "      <td>상행</td>\n",
       "    </tr>\n",
       "    <tr>\n",
       "      <th>2</th>\n",
       "      <td>571352506</td>\n",
       "      <td>101</td>\n",
       "      <td>0.333</td>\n",
       "      <td>수도권제2순환고속도로(봉담동탄</td>\n",
       "      <td>경기도</td>\n",
       "      <td>오산시</td>\n",
       "      <td>세마동</td>\n",
       "      <td>0</td>\n",
       "      <td>평일</td>\n",
       "      <td>15.77</td>\n",
       "      <td>9.55</td>\n",
       "      <td>1.50</td>\n",
       "      <td>4.73</td>\n",
       "      <td>상행</td>\n",
       "    </tr>\n",
       "  </tbody>\n",
       "</table>\n",
       "</div>"
      ],
      "text/plain": [
       "  상세도로망_LinkID  도로등급   링크길이               도로명  시도명 시군구명 읍면동명 시간적범위 평일주말  \\\n",
       "0    571376979   101  0.093  수도권제2순환고속도로(봉담동탄  경기도  오산시  세마동     0   평일   \n",
       "1    571352496   101  0.324  수도권제2순환고속도로(봉담동탄  경기도  오산시  세마동     0   평일   \n",
       "2    571352506   101  0.333  수도권제2순환고속도로(봉담동탄  경기도  오산시  세마동     0   평일   \n",
       "\n",
       "   전체 추정교통량  승용차 추정교통량  버스 추정교통량  화물차 추정교통량 상하행  \n",
       "0    268.55     193.43     11.99      63.13  상행  \n",
       "1     21.98      15.48      0.75       5.74  상행  \n",
       "2     15.77       9.55      1.50       4.73  상행  "
      ]
     },
     "execution_count": 43,
     "metadata": {},
     "output_type": "execute_result"
    }
   ],
   "source": [
    "# 상세도로망_LinkID 칼럼으로부터 상하행 정보 추출 및 별도 칼럼 저장\n",
    "시간대별_추정교통량['상하행'] = 시간대별_추정교통량['상세도로망_LinkID'].map(lambda x:str(x)[-2:]).replace({'01':'상행','02':'하행'})\n",
    "시간대별_추정교통량[\"상세도로망_LinkID\"]=시간대별_추정교통량[\"상세도로망_LinkID\"].map(lambda x:str(x)[:-2])\n",
    "시간대별_추정교통량.head(3)"
   ]
  },
  {
   "cell_type": "markdown",
   "metadata": {},
   "source": [
    "> __25. ~ 26. 혼잡 강도 데이터 (빈도 , 시간)__"
   ]
  },
  {
   "cell_type": "code",
   "execution_count": 44,
   "metadata": {
    "scrolled": false
   },
   "outputs": [
    {
     "name": "stdout",
     "output_type": "stream",
     "text": [
      "각 칼럼별 결측 데이터 비율(%) :\n"
     ]
    },
    {
     "data": {
      "text/plain": [
       "(상세도로망_LinkID     0.000000\n",
       " 도로등급             0.000000\n",
       " 링크길이             0.000000\n",
       " 도로명             12.598945\n",
       " 시도명              0.000000\n",
       " 시군구명             0.000000\n",
       " 읍면동명             0.000000\n",
       " 시간적범위            0.000000\n",
       " 평일주말             0.000000\n",
       " 혼잡빈도강도           0.000000\n",
       " dtype: float64,\n",
       " 상세도로망_LinkID     0.000000\n",
       " 도로등급             0.000000\n",
       " 링크길이             0.000000\n",
       " 도로명             12.598945\n",
       " 시도명              0.000000\n",
       " 시군구명             0.000000\n",
       " 읍면동명             0.000000\n",
       " 시간적범위            0.000000\n",
       " 평일주말             0.000000\n",
       " 혼잡시간강도           0.000000\n",
       " dtype: float64)"
      ]
     },
     "execution_count": 44,
     "metadata": {},
     "output_type": "execute_result"
    }
   ],
   "source": [
    "print(\"각 칼럼별 결측 데이터 비율(%) :\")\n",
    "혼잡빈도강도.isnull().sum()*100/혼잡빈도강도.shape[0],혼잡시간강도.isnull().sum()*100/혼잡시간강도.shape[0]"
   ]
  },
  {
   "cell_type": "code",
   "execution_count": 45,
   "metadata": {
    "scrolled": false
   },
   "outputs": [
    {
     "name": "stdout",
     "output_type": "stream",
     "text": [
      "동일한 도로에 대해 결측인가 : True\n",
      "전처리 후 각 칼럼별 결측 데이터 비율(%) :\n"
     ]
    },
    {
     "data": {
      "text/plain": [
       "(상세도로망_LinkID    0.0\n",
       " 도로등급            0.0\n",
       " 링크길이            0.0\n",
       " 도로명             0.0\n",
       " 시도명             0.0\n",
       " 시군구명            0.0\n",
       " 읍면동명            0.0\n",
       " 시간적범위           0.0\n",
       " 평일주말            0.0\n",
       " 혼잡빈도강도          0.0\n",
       " dtype: float64,\n",
       " 상세도로망_LinkID    0.0\n",
       " 도로등급            0.0\n",
       " 링크길이            0.0\n",
       " 도로명             0.0\n",
       " 시도명             0.0\n",
       " 시군구명            0.0\n",
       " 읍면동명            0.0\n",
       " 시간적범위           0.0\n",
       " 평일주말            0.0\n",
       " 혼잡시간강도          0.0\n",
       " dtype: float64)"
      ]
     },
     "execution_count": 45,
     "metadata": {},
     "output_type": "execute_result"
    }
   ],
   "source": [
    "# 동일한 도로에 대해 도로명이 결측 : \"미기재\" 로 대체\n",
    "\n",
    "common = set(혼잡빈도강도[혼잡빈도강도[\"도로명\"].isnull()][\"상세도로망_LinkID\"].values)-set(혼잡시간강도[혼잡시간강도[\"도로명\"].isnull()][\"상세도로망_LinkID\"].values)\n",
    "\n",
    "same_nan_idx = True if not common else False\n",
    "print(\"동일한 도로에 대해 결측인가 :\",same_nan_idx)\n",
    "\n",
    "혼잡빈도강도[\"도로명\"].fillna(\"미기재\",inplace=True)\n",
    "혼잡시간강도[\"도로명\"].fillna(\"미기재\",inplace=True)\n",
    "\n",
    "print(\"전처리 후 각 칼럼별 결측 데이터 비율(%) :\")\n",
    "혼잡빈도강도.isnull().sum()*100/혼잡빈도강도.shape[0] , 혼잡시간강도.isnull().sum()*100/혼잡시간강도.shape[0]"
   ]
  },
  {
   "cell_type": "markdown",
   "metadata": {},
   "source": [
    "> __27.도로명주소 건물 데이터__"
   ]
  },
  {
   "cell_type": "code",
   "execution_count": 46,
   "metadata": {},
   "outputs": [
    {
     "name": "stdout",
     "output_type": "stream",
     "text": [
      "각 칼럼별 결측 데이터 비율(%) :\n"
     ]
    },
    {
     "data": {
      "text/plain": [
       "BDTYP_CD       0.000000\n",
       "BULD_NM       66.611952\n",
       "BULD_NM_DC    88.424828\n",
       "BULD_SE_CD     0.000000\n",
       "BUL_MAN_NO     0.000000\n",
       "EMD_CD         0.000000\n",
       "GRO_FLO_CO     0.000000\n",
       "LNBR_MNNM      0.000000\n",
       "LNBR_SLNO      0.000000\n",
       "UND_FLO_CO     0.000000\n",
       "geometry       0.000000\n",
       "dtype: float64"
      ]
     },
     "execution_count": 46,
     "metadata": {},
     "output_type": "execute_result"
    }
   ],
   "source": [
    "print(\"각 칼럼별 결측 데이터 비율(%) :\")\n",
    "도로명주소_건물.isnull().sum()*100/도로명주소_건물.shape[0]"
   ]
  },
  {
   "cell_type": "code",
   "execution_count": 47,
   "metadata": {},
   "outputs": [
    {
     "name": "stdout",
     "output_type": "stream",
     "text": [
      "전처리 후 각 칼럼별 결측 데이터 비율(%) :\n"
     ]
    },
    {
     "data": {
      "text/plain": [
       "BDTYP_CD      0.0\n",
       "BULD_NM       0.0\n",
       "BULD_NM_DC    0.0\n",
       "BULD_SE_CD    0.0\n",
       "BUL_MAN_NO    0.0\n",
       "EMD_CD        0.0\n",
       "GRO_FLO_CO    0.0\n",
       "LNBR_MNNM     0.0\n",
       "LNBR_SLNO     0.0\n",
       "UND_FLO_CO    0.0\n",
       "geometry      0.0\n",
       "dtype: float64"
      ]
     },
     "execution_count": 47,
     "metadata": {},
     "output_type": "execute_result"
    }
   ],
   "source": [
    "# 두 칼럼 모두 결측인 경우 \"미기재\" 로 대체 , 상세건물명(BULD_NM_DC)만 결측인 경우 건물명(BULD_NM)으로 대체\n",
    "\n",
    "도로명주소_건물[\"BULD_NM\"].fillna(\"미기재\",inplace=True)\n",
    "도로명주소_건물[\"BULD_NM_DC\"].fillna(도로명주소_건물[\"BULD_NM\"],inplace=True)\n",
    "\n",
    "print(\"전처리 후 각 칼럼별 결측 데이터 비율(%) :\")\n",
    "도로명주소_건물.isnull().sum()*100/도로명주소_건물.shape[0]"
   ]
  },
  {
   "cell_type": "markdown",
   "metadata": {},
   "source": [
    "> __28.건물연면적 격자 데이터 : 분석과정에서 미사용__"
   ]
  },
  {
   "cell_type": "markdown",
   "metadata": {},
   "source": [
    "> __30.학원 및 교습소 현황 데이터__"
   ]
  },
  {
   "cell_type": "code",
   "execution_count": 48,
   "metadata": {},
   "outputs": [
    {
     "name": "stdout",
     "output_type": "stream",
     "text": [
      "각 칼럼별 결측 데이터 비율(%) :\n"
     ]
    },
    {
     "data": {
      "text/plain": [
       "업종구분명      0.000000\n",
       "교습과정명      0.671892\n",
       "시설위치_경도    0.000000\n",
       "시설위치_위도    0.000000\n",
       "dtype: float64"
      ]
     },
     "execution_count": 48,
     "metadata": {},
     "output_type": "execute_result"
    }
   ],
   "source": [
    "print(\"각 칼럼별 결측 데이터 비율(%) :\")\n",
    "학원_및_교습소_현황.isnull().sum()*100/학원_및_교습소_현황.shape[0]"
   ]
  },
  {
   "cell_type": "code",
   "execution_count": 49,
   "metadata": {},
   "outputs": [
    {
     "name": "stdout",
     "output_type": "stream",
     "text": [
      "전처리 후 각 칼럼별 결측 데이터 비율(%) :\n"
     ]
    },
    {
     "data": {
      "text/plain": [
       "업종구분명      0.0\n",
       "교습과정명      0.0\n",
       "시설위치_경도    0.0\n",
       "시설위치_위도    0.0\n",
       "dtype: float64"
      ]
     },
     "execution_count": 49,
     "metadata": {},
     "output_type": "execute_result"
    }
   ],
   "source": [
    "# 교습과정명 결측 데이터 제거 및 관심 데이터 선정\n",
    "\n",
    "학원_및_교습소_현황.dropna(inplace=True)\n",
    "\n",
    "학원_및_교습소_현황 = 학원_및_교습소_현황[학원_및_교습소_현황[\"업종구분명\"]==\"학교교과교습학원\"] # 평생직업교육학원 및 교습소 제거        \n",
    "\n",
    "drop_list = [\"중등\",\"고등\",\"대학\",\"일반\",\"성인\",\"입시\"] # 필터링 단어 선정\n",
    "\n",
    "def drop_check(name):\n",
    "    if any([True for element in drop_list if element in name]):\n",
    "        return True\n",
    "    return False\n",
    "\n",
    "drop_idx = 학원_및_교습소_현황['교습과정명'].map(drop_check)\n",
    "\n",
    "관심학원_현황 = 학원_및_교습소_현황[drop_idx!=True]\n",
    "\n",
    "print(\"전처리 후 각 칼럼별 결측 데이터 비율(%) :\")\n",
    "학원_및_교습소_현황.isnull().sum()*100/학원_및_교습소_현황.shape[0]"
   ]
  },
  {
   "cell_type": "markdown",
   "metadata": {},
   "source": [
    "> __29. , 31. , 32. , 33. , 34. :결측치 없음__  \n",
    "(체육시설 현황 , 법정경계_시군구 , 행정경계_읍면동 , 법정경계_읍면동 , 지적도)"
   ]
  },
  {
   "cell_type": "markdown",
   "metadata": {},
   "source": [
    "> ## __Save preprocessed data__  "
   ]
  },
  {
   "cell_type": "code",
   "execution_count": 50,
   "metadata": {},
   "outputs": [],
   "source": [
    "주정차단속.to_csv(os.path.join(path,'1.오산시_주정차단속(2018~2020).csv'),encoding=\"utf-8\",index=False)\n",
    "어린이교통사고_격자.to_file(os.path.join(path,'2.오산시_어린이교통사고_격자.geojson'),driver='GeoJSON')\n",
    "차량등록현황_격자.to_file(os.path.join(path,'3.오산시_차량등록현황_격자.geojson'),driver='GeoJSON')\n",
    "거주인구격자_총인구.to_file(os.path.join(path,'4.오산시_연령별_거주인구격자(총인구).geojson'),driver='GeoJSON')\n",
    "거주인구격자_유소년.to_file(os.path.join(path,'5.오산시_연령별_거주인구격자(유소년).geojson'),driver='GeoJSON')\n",
    "거주인구격자_생산가능.to_file(os.path.join(path,'6.오산시_연령별_거주인구격자(생산가능인구).geojson'),driver='GeoJSON')\n",
    "거주인구격자_고령.to_file(os.path.join(path,'7.오산시_연령별_거주인구격자(고령).geojson'),driver='GeoJSON')\n",
    "평균유동인구.to_csv(os.path.join(path,'평균유동인구.csv'),encoding=\"utf-8\",index=False)\n",
    "어린이보호구역.to_csv(os.path.join(path,'9.오산시_어린이보호구역.csv'),encoding=\"utf-8\",index=False)\n",
    "초등학교위치정보.to_csv(os.path.join(path,'초등학교위치정보.csv'),encoding=\"utf-8\",index=False)\n",
    "초등학교_통학구.to_file(os.path.join(path,'11.오산시_초등학교_통학구.geojson'),driver='GeoJSON')\n",
    "중학교_학군.to_file(os.path.join(path,'12.오산시_중학교_학군.geojson'),driver='GeoJSON')\n",
    "어린이집_유치원현황.to_csv(os.path.join(path,'13.오산시_어린이집_유치원현황.csv'),encoding=\"utf-8\",index=False)\n",
    "기상데이터.to_csv(os.path.join(path,'14.오산시_기상데이터(2010~2019).csv'),encoding=\"utf-8\",index=False)\n",
    "무인교통단속카메라.to_csv(os.path.join(path,'15.오산시_무인교통단속카메라.csv'),encoding=\"utf-8\",index=False)\n",
    "도로안전표지.to_csv(os.path.join(path,'16.오산시_도로안전표지표준데이터.csv'),encoding=\"utf-8\",index=False)\n",
    "횡단보도.to_file(os.path.join(path,'17.오산시_횡단보도.geojson'),driver='GeoJSON')\n",
    "과속방지턱.to_csv(os.path.join(path,'18.오산시_과속방지턱표준데이터.csv'),encoding=\"utf-8\",index=False)\n",
    "신호등.to_file(os.path.join(path,'19.오산시_신호등.geojson'),driver='GeoJSON')\n",
    "CCTV설치현황.to_csv(os.path.join(path,'20.오산시_CCTV설치현황.csv'),encoding=\"utf-8\",index=False)\n",
    "인도.to_file(os.path.join(path,'21.오산시_인도.geojson'),driver='GeoJSON')\n",
    "버스정류장.to_csv(os.path.join(path,'22.오산시_버스정류장.csv'),encoding=\"utf-8\",index=False)\n",
    "상세도로망.to_file(os.path.join(path,'23.오산시_상세도로망_LV6.geojson'),driver='GeoJSON')\n",
    "시간대별_추정교통량.to_csv(os.path.join(path,'24.평일_전일,시간대별_오산시_추정교통량_Level6.csv'),encoding=\"utf-8\",index=False)\n",
    "혼잡빈도강도.to_csv(os.path.join(path,'25.평일_전일_오산시_혼잡빈도강도_Level6.csv'),encoding=\"utf-8\",index=False)\n",
    "혼잡시간강도.to_csv(os.path.join(path,'26.평일_전일_오산시_혼잡시간강도_Level6.csv'),encoding=\"utf-8\",index=False)\n",
    "도로명주소_건물.to_file(os.path.join(path,'27.오산시_도로명주소_건물.geojson'),driver='GeoJSON')\n",
    "건물연면적_격자.to_file(os.path.join(path,'28.오산시_건물연면적_격자.geojson'),driver='GeoJSON')\n",
    "체육시설현황.to_csv(os.path.join(path,'29.오산시_체육시설현황.csv'),encoding=\"utf-8\",index=False)\n",
    "학원_및_교습소_현황.to_csv(os.path.join(path,'30.오산시_학원_및_교습소_현황.csv'),encoding=\"utf-8\",index=False)\n",
    "관심학원_현황.to_csv(os.path.join(path,'관심학원_현황.csv'),encoding=\"utf-8\",index=False)\n",
    "법정경계_시군구.to_file(os.path.join(path,'31.오산시_법정경계(시군구).geojson'),driver='GeoJSON')\n",
    "행정경계_읍면동.to_file(os.path.join(path,'32.오산시_행정경계(읍면동).geojson'),driver='GeoJSON')\n",
    "법정경계_읍면동.to_file(os.path.join(path,'33.오산시_법정경계(읍면동).geojson'),driver='GeoJSON')\n",
    "지적도.to_file(os.path.join(path,'34.오산시_지적도.geojson'),driver='GeoJSON')"
   ]
  }
 ],
 "metadata": {
  "kernelspec": {
   "display_name": "Python 3",
   "language": "python",
   "name": "python3"
  },
  "language_info": {
   "codemirror_mode": {
    "name": "ipython",
    "version": 3
   },
   "file_extension": ".py",
   "mimetype": "text/x-python",
   "name": "python",
   "nbconvert_exporter": "python",
   "pygments_lexer": "ipython3",
   "version": "3.6.9"
  }
 },
 "nbformat": 4,
 "nbformat_minor": 4
}
