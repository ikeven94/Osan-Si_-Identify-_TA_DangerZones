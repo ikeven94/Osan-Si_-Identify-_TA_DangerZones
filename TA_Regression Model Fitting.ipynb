{
 "cells": [
  {
   "cell_type": "code",
   "execution_count": 2,
   "metadata": {},
   "outputs": [],
   "source": [
    "acc1 <- read.csv('acc1_final.csv')"
   ]
  },
  {
   "cell_type": "code",
   "execution_count": 3,
   "metadata": {},
   "outputs": [
    {
     "data": {
      "text/html": [
       "<table>\n",
       "<caption>A data.frame: 10 × 24</caption>\n",
       "<thead>\n",
       "\t<tr><th></th><th scope=col>X</th><th scope=col>gid</th><th scope=col>accident_cnt</th><th scope=col>어린이집_count</th><th scope=col>유치원_count</th><th scope=col>초등학교_count</th><th scope=col>방지턱_count</th><th scope=col>불법주정차_cam_count</th><th scope=col>정류장_count_100</th><th scope=col>정류장_count_300</th><th scope=col>⋯</th><th scope=col>어린이집_count_100</th><th scope=col>유치원_count_100</th><th scope=col>초등학교_count_100</th><th scope=col>방지턱_count_100</th><th scope=col>grid_유소년인구_100</th><th scope=col>grid_학원수_100</th><th scope=col>어린이집_count_200</th><th scope=col>유치원_count_200</th><th scope=col>초등학교_count_200</th><th scope=col>방지턱_count_200</th></tr>\n",
       "\t<tr><th></th><th scope=col>&lt;int&gt;</th><th scope=col>&lt;fct&gt;</th><th scope=col>&lt;int&gt;</th><th scope=col>&lt;int&gt;</th><th scope=col>&lt;int&gt;</th><th scope=col>&lt;int&gt;</th><th scope=col>&lt;int&gt;</th><th scope=col>&lt;int&gt;</th><th scope=col>&lt;int&gt;</th><th scope=col>&lt;int&gt;</th><th scope=col>⋯</th><th scope=col>&lt;int&gt;</th><th scope=col>&lt;int&gt;</th><th scope=col>&lt;int&gt;</th><th scope=col>&lt;int&gt;</th><th scope=col>&lt;dbl&gt;</th><th scope=col>&lt;int&gt;</th><th scope=col>&lt;int&gt;</th><th scope=col>&lt;int&gt;</th><th scope=col>&lt;int&gt;</th><th scope=col>&lt;int&gt;</th></tr>\n",
       "</thead>\n",
       "<tbody>\n",
       "\t<tr><th scope=row>1</th><td>0</td><td>다사561083</td><td>1</td><td>0</td><td>0</td><td>0</td><td>0</td><td>0</td><td>2</td><td> 2</td><td>⋯</td><td>0</td><td>0</td><td>0</td><td>0</td><td> 0</td><td>0</td><td>0</td><td>0</td><td>0</td><td>0</td></tr>\n",
       "\t<tr><th scope=row>2</th><td>1</td><td>다사564096</td><td>1</td><td>0</td><td>0</td><td>0</td><td>0</td><td>0</td><td>0</td><td> 2</td><td>⋯</td><td>0</td><td>0</td><td>0</td><td>0</td><td> 0</td><td>0</td><td>0</td><td>0</td><td>0</td><td>0</td></tr>\n",
       "\t<tr><th scope=row>3</th><td>2</td><td>다사566102</td><td>1</td><td>0</td><td>0</td><td>0</td><td>0</td><td>0</td><td>0</td><td> 2</td><td>⋯</td><td>0</td><td>0</td><td>0</td><td>0</td><td> 0</td><td>0</td><td>0</td><td>0</td><td>0</td><td>0</td></tr>\n",
       "\t<tr><th scope=row>4</th><td>3</td><td>다사583093</td><td>1</td><td>0</td><td>0</td><td>0</td><td>0</td><td>0</td><td>0</td><td> 0</td><td>⋯</td><td>0</td><td>0</td><td>0</td><td>0</td><td> 0</td><td>0</td><td>0</td><td>0</td><td>0</td><td>0</td></tr>\n",
       "\t<tr><th scope=row>5</th><td>4</td><td>다사584072</td><td>1</td><td>0</td><td>0</td><td>0</td><td>0</td><td>0</td><td>1</td><td> 6</td><td>⋯</td><td>0</td><td>0</td><td>0</td><td>0</td><td> 0</td><td>0</td><td>0</td><td>0</td><td>0</td><td>0</td></tr>\n",
       "\t<tr><th scope=row>6</th><td>5</td><td>다사585098</td><td>1</td><td>2</td><td>1</td><td>0</td><td>0</td><td>0</td><td>0</td><td> 0</td><td>⋯</td><td>0</td><td>0</td><td>0</td><td>0</td><td>30</td><td>0</td><td>0</td><td>1</td><td>0</td><td>0</td></tr>\n",
       "\t<tr><th scope=row>7</th><td>6</td><td>다사586106</td><td>1</td><td>8</td><td>0</td><td>0</td><td>0</td><td>0</td><td>0</td><td>10</td><td>⋯</td><td>0</td><td>0</td><td>0</td><td>0</td><td>81</td><td>0</td><td>4</td><td>0</td><td>0</td><td>0</td></tr>\n",
       "\t<tr><th scope=row>8</th><td>7</td><td>다사587044</td><td>1</td><td>0</td><td>0</td><td>0</td><td>0</td><td>0</td><td>0</td><td> 3</td><td>⋯</td><td>0</td><td>0</td><td>0</td><td>0</td><td> 0</td><td>0</td><td>0</td><td>0</td><td>0</td><td>0</td></tr>\n",
       "\t<tr><th scope=row>9</th><td>8</td><td>다사587072</td><td>1</td><td>1</td><td>0</td><td>0</td><td>0</td><td>0</td><td>0</td><td> 6</td><td>⋯</td><td>0</td><td>0</td><td>0</td><td>0</td><td> 0</td><td>0</td><td>1</td><td>0</td><td>0</td><td>0</td></tr>\n",
       "\t<tr><th scope=row>10</th><td>9</td><td>다사587098</td><td>1</td><td>0</td><td>1</td><td>0</td><td>0</td><td>0</td><td>0</td><td> 3</td><td>⋯</td><td>0</td><td>0</td><td>0</td><td>0</td><td> 0</td><td>0</td><td>0</td><td>1</td><td>0</td><td>0</td></tr>\n",
       "</tbody>\n",
       "</table>\n"
      ],
      "text/latex": [
       "A data.frame: 10 × 24\n",
       "\\begin{tabular}{r|lllllllllllllllllllll}\n",
       "  & X & gid & accident\\_cnt & 어린이집\\_count & 유치원\\_count & 초등학교\\_count & 방지턱\\_count & 불법주정차\\_cam\\_count & 정류장\\_count\\_100 & 정류장\\_count\\_300 & ⋯ & 어린이집\\_count\\_100 & 유치원\\_count\\_100 & 초등학교\\_count\\_100 & 방지턱\\_count\\_100 & grid\\_유소년인구\\_100 & grid\\_학원수\\_100 & 어린이집\\_count\\_200 & 유치원\\_count\\_200 & 초등학교\\_count\\_200 & 방지턱\\_count\\_200\\\\\n",
       "  & <int> & <fct> & <int> & <int> & <int> & <int> & <int> & <int> & <int> & <int> & ⋯ & <int> & <int> & <int> & <int> & <dbl> & <int> & <int> & <int> & <int> & <int>\\\\\n",
       "\\hline\n",
       "\t1 & 0 & 다사561083 & 1 & 0 & 0 & 0 & 0 & 0 & 2 &  2 & ⋯ & 0 & 0 & 0 & 0 &  0 & 0 & 0 & 0 & 0 & 0\\\\\n",
       "\t2 & 1 & 다사564096 & 1 & 0 & 0 & 0 & 0 & 0 & 0 &  2 & ⋯ & 0 & 0 & 0 & 0 &  0 & 0 & 0 & 0 & 0 & 0\\\\\n",
       "\t3 & 2 & 다사566102 & 1 & 0 & 0 & 0 & 0 & 0 & 0 &  2 & ⋯ & 0 & 0 & 0 & 0 &  0 & 0 & 0 & 0 & 0 & 0\\\\\n",
       "\t4 & 3 & 다사583093 & 1 & 0 & 0 & 0 & 0 & 0 & 0 &  0 & ⋯ & 0 & 0 & 0 & 0 &  0 & 0 & 0 & 0 & 0 & 0\\\\\n",
       "\t5 & 4 & 다사584072 & 1 & 0 & 0 & 0 & 0 & 0 & 1 &  6 & ⋯ & 0 & 0 & 0 & 0 &  0 & 0 & 0 & 0 & 0 & 0\\\\\n",
       "\t6 & 5 & 다사585098 & 1 & 2 & 1 & 0 & 0 & 0 & 0 &  0 & ⋯ & 0 & 0 & 0 & 0 & 30 & 0 & 0 & 1 & 0 & 0\\\\\n",
       "\t7 & 6 & 다사586106 & 1 & 8 & 0 & 0 & 0 & 0 & 0 & 10 & ⋯ & 0 & 0 & 0 & 0 & 81 & 0 & 4 & 0 & 0 & 0\\\\\n",
       "\t8 & 7 & 다사587044 & 1 & 0 & 0 & 0 & 0 & 0 & 0 &  3 & ⋯ & 0 & 0 & 0 & 0 &  0 & 0 & 0 & 0 & 0 & 0\\\\\n",
       "\t9 & 8 & 다사587072 & 1 & 1 & 0 & 0 & 0 & 0 & 0 &  6 & ⋯ & 0 & 0 & 0 & 0 &  0 & 0 & 1 & 0 & 0 & 0\\\\\n",
       "\t10 & 9 & 다사587098 & 1 & 0 & 1 & 0 & 0 & 0 & 0 &  3 & ⋯ & 0 & 0 & 0 & 0 &  0 & 0 & 0 & 1 & 0 & 0\\\\\n",
       "\\end{tabular}\n"
      ],
      "text/markdown": [
       "\n",
       "A data.frame: 10 × 24\n",
       "\n",
       "| <!--/--> | X &lt;int&gt; | gid &lt;fct&gt; | accident_cnt &lt;int&gt; | 어린이집_count &lt;int&gt; | 유치원_count &lt;int&gt; | 초등학교_count &lt;int&gt; | 방지턱_count &lt;int&gt; | 불법주정차_cam_count &lt;int&gt; | 정류장_count_100 &lt;int&gt; | 정류장_count_300 &lt;int&gt; | ⋯ ⋯ | 어린이집_count_100 &lt;int&gt; | 유치원_count_100 &lt;int&gt; | 초등학교_count_100 &lt;int&gt; | 방지턱_count_100 &lt;int&gt; | grid_유소년인구_100 &lt;dbl&gt; | grid_학원수_100 &lt;int&gt; | 어린이집_count_200 &lt;int&gt; | 유치원_count_200 &lt;int&gt; | 초등학교_count_200 &lt;int&gt; | 방지턱_count_200 &lt;int&gt; |\n",
       "|---|---|---|---|---|---|---|---|---|---|---|---|---|---|---|---|---|---|---|---|---|---|\n",
       "| 1 | 0 | 다사561083 | 1 | 0 | 0 | 0 | 0 | 0 | 2 |  2 | ⋯ | 0 | 0 | 0 | 0 |  0 | 0 | 0 | 0 | 0 | 0 |\n",
       "| 2 | 1 | 다사564096 | 1 | 0 | 0 | 0 | 0 | 0 | 0 |  2 | ⋯ | 0 | 0 | 0 | 0 |  0 | 0 | 0 | 0 | 0 | 0 |\n",
       "| 3 | 2 | 다사566102 | 1 | 0 | 0 | 0 | 0 | 0 | 0 |  2 | ⋯ | 0 | 0 | 0 | 0 |  0 | 0 | 0 | 0 | 0 | 0 |\n",
       "| 4 | 3 | 다사583093 | 1 | 0 | 0 | 0 | 0 | 0 | 0 |  0 | ⋯ | 0 | 0 | 0 | 0 |  0 | 0 | 0 | 0 | 0 | 0 |\n",
       "| 5 | 4 | 다사584072 | 1 | 0 | 0 | 0 | 0 | 0 | 1 |  6 | ⋯ | 0 | 0 | 0 | 0 |  0 | 0 | 0 | 0 | 0 | 0 |\n",
       "| 6 | 5 | 다사585098 | 1 | 2 | 1 | 0 | 0 | 0 | 0 |  0 | ⋯ | 0 | 0 | 0 | 0 | 30 | 0 | 0 | 1 | 0 | 0 |\n",
       "| 7 | 6 | 다사586106 | 1 | 8 | 0 | 0 | 0 | 0 | 0 | 10 | ⋯ | 0 | 0 | 0 | 0 | 81 | 0 | 4 | 0 | 0 | 0 |\n",
       "| 8 | 7 | 다사587044 | 1 | 0 | 0 | 0 | 0 | 0 | 0 |  3 | ⋯ | 0 | 0 | 0 | 0 |  0 | 0 | 0 | 0 | 0 | 0 |\n",
       "| 9 | 8 | 다사587072 | 1 | 1 | 0 | 0 | 0 | 0 | 0 |  6 | ⋯ | 0 | 0 | 0 | 0 |  0 | 0 | 1 | 0 | 0 | 0 |\n",
       "| 10 | 9 | 다사587098 | 1 | 0 | 1 | 0 | 0 | 0 | 0 |  3 | ⋯ | 0 | 0 | 0 | 0 |  0 | 0 | 0 | 1 | 0 | 0 |\n",
       "\n"
      ],
      "text/plain": [
       "   X gid        accident_cnt 어린이집_count 유치원_count 초등학교_count\n",
       "1  0 다사561083 1            0              0            0             \n",
       "2  1 다사564096 1            0              0            0             \n",
       "3  2 다사566102 1            0              0            0             \n",
       "4  3 다사583093 1            0              0            0             \n",
       "5  4 다사584072 1            0              0            0             \n",
       "6  5 다사585098 1            2              1            0             \n",
       "7  6 다사586106 1            8              0            0             \n",
       "8  7 다사587044 1            0              0            0             \n",
       "9  8 다사587072 1            1              0            0             \n",
       "10 9 다사587098 1            0              1            0             \n",
       "   방지턱_count 불법주정차_cam_count 정류장_count_100 정류장_count_300 ⋯\n",
       "1  0            0                    2                 2               ⋯\n",
       "2  0            0                    0                 2               ⋯\n",
       "3  0            0                    0                 2               ⋯\n",
       "4  0            0                    0                 0               ⋯\n",
       "5  0            0                    1                 6               ⋯\n",
       "6  0            0                    0                 0               ⋯\n",
       "7  0            0                    0                10               ⋯\n",
       "8  0            0                    0                 3               ⋯\n",
       "9  0            0                    0                 6               ⋯\n",
       "10 0            0                    0                 3               ⋯\n",
       "   어린이집_count_100 유치원_count_100 초등학교_count_100 방지턱_count_100\n",
       "1  0                  0                0                  0               \n",
       "2  0                  0                0                  0               \n",
       "3  0                  0                0                  0               \n",
       "4  0                  0                0                  0               \n",
       "5  0                  0                0                  0               \n",
       "6  0                  0                0                  0               \n",
       "7  0                  0                0                  0               \n",
       "8  0                  0                0                  0               \n",
       "9  0                  0                0                  0               \n",
       "10 0                  0                0                  0               \n",
       "   grid_유소년인구_100 grid_학원수_100 어린이집_count_200 유치원_count_200\n",
       "1   0                  0               0                  0               \n",
       "2   0                  0               0                  0               \n",
       "3   0                  0               0                  0               \n",
       "4   0                  0               0                  0               \n",
       "5   0                  0               0                  0               \n",
       "6  30                  0               0                  1               \n",
       "7  81                  0               4                  0               \n",
       "8   0                  0               0                  0               \n",
       "9   0                  0               1                  0               \n",
       "10  0                  0               0                  1               \n",
       "   초등학교_count_200 방지턱_count_200\n",
       "1  0                  0               \n",
       "2  0                  0               \n",
       "3  0                  0               \n",
       "4  0                  0               \n",
       "5  0                  0               \n",
       "6  0                  0               \n",
       "7  0                  0               \n",
       "8  0                  0               \n",
       "9  0                  0               \n",
       "10 0                  0               "
      ]
     },
     "metadata": {},
     "output_type": "display_data"
    }
   ],
   "source": [
    "head(acc1,10)"
   ]
  },
  {
   "cell_type": "code",
   "execution_count": 4,
   "metadata": {
    "scrolled": true
   },
   "outputs": [
    {
     "name": "stdout",
     "output_type": "stream",
     "text": [
      "'data.frame':\t345 obs. of  24 variables:\n",
      " $ X                   : int  0 1 2 3 4 5 6 7 8 9 ...\n",
      " $ gid                 : Factor w/ 345 levels \"다사561083\",\"다사564096\",..: 1 2 3 4 5 6 7 8 9 10 ...\n",
      " $ accident_cnt        : int  1 1 1 1 1 1 1 1 1 1 ...\n",
      " $ 어린이집_count      : int  0 0 0 0 0 2 8 0 1 0 ...\n",
      " $ 유치원_count        : int  0 0 0 0 0 1 0 0 0 1 ...\n",
      " $ 초등학교_count      : int  0 0 0 0 0 0 0 0 0 0 ...\n",
      " $ 방지턱_count        : int  0 0 0 0 0 0 0 0 0 0 ...\n",
      " $ 불법주정차_cam_count: int  0 0 0 0 0 0 0 0 0 0 ...\n",
      " $ 정류장_count_100    : int  2 0 0 0 1 0 0 0 0 0 ...\n",
      " $ 정류장_count_300    : int  2 2 2 0 6 0 10 3 6 3 ...\n",
      " $ grid_유동인구       : num  43.436 9.633 0.215 0.662 8.104 ...\n",
      " $ grid_유소년인구     : num  0 0 0 0 0 30 411 6 0 11 ...\n",
      " $ grid_학원수         : int  0 0 0 0 0 0 8 0 0 0 ...\n",
      " $ geometry            : Factor w/ 345 levels \"MULTIPOLYGON (((127.0054916936862 37.17242713739633, 127.005485819363 37.17332852036621, 127.0066122372272 37.1\"| __truncated__,..: 1 2 3 4 5 6 7 11 10 9 ...\n",
      " $ 어린이집_count_100  : int  0 0 0 0 0 0 0 0 0 0 ...\n",
      " $ 유치원_count_100    : int  0 0 0 0 0 0 0 0 0 0 ...\n",
      " $ 초등학교_count_100  : int  0 0 0 0 0 0 0 0 0 0 ...\n",
      " $ 방지턱_count_100    : int  0 0 0 0 0 0 0 0 0 0 ...\n",
      " $ grid_유소년인구_100 : num  0 0 0 0 0 30 81 0 0 0 ...\n",
      " $ grid_학원수_100     : int  0 0 0 0 0 0 0 0 0 0 ...\n",
      " $ 어린이집_count_200  : int  0 0 0 0 0 0 4 0 1 0 ...\n",
      " $ 유치원_count_200    : int  0 0 0 0 0 1 0 0 0 1 ...\n",
      " $ 초등학교_count_200  : int  0 0 0 0 0 0 0 0 0 0 ...\n",
      " $ 방지턱_count_200    : int  0 0 0 0 0 0 0 0 0 0 ...\n"
     ]
    }
   ],
   "source": [
    "str(acc1)"
   ]
  },
  {
   "cell_type": "code",
   "execution_count": 5,
   "metadata": {},
   "outputs": [],
   "source": [
    "# 필요없는 열 제거 > X, gid, geometry\n",
    "acc1 <- subset(acc1, select = -c(X,gid,geometry))"
   ]
  },
  {
   "cell_type": "code",
   "execution_count": 6,
   "metadata": {},
   "outputs": [
    {
     "name": "stdout",
     "output_type": "stream",
     "text": [
      "'data.frame':\t345 obs. of  21 variables:\n",
      " $ accident_cnt        : int  1 1 1 1 1 1 1 1 1 1 ...\n",
      " $ 어린이집_count      : int  0 0 0 0 0 2 8 0 1 0 ...\n",
      " $ 유치원_count        : int  0 0 0 0 0 1 0 0 0 1 ...\n",
      " $ 초등학교_count      : int  0 0 0 0 0 0 0 0 0 0 ...\n",
      " $ 방지턱_count        : int  0 0 0 0 0 0 0 0 0 0 ...\n",
      " $ 불법주정차_cam_count: int  0 0 0 0 0 0 0 0 0 0 ...\n",
      " $ 정류장_count_100    : int  2 0 0 0 1 0 0 0 0 0 ...\n",
      " $ 정류장_count_300    : int  2 2 2 0 6 0 10 3 6 3 ...\n",
      " $ grid_유동인구       : num  43.436 9.633 0.215 0.662 8.104 ...\n",
      " $ grid_유소년인구     : num  0 0 0 0 0 30 411 6 0 11 ...\n",
      " $ grid_학원수         : int  0 0 0 0 0 0 8 0 0 0 ...\n",
      " $ 어린이집_count_100  : int  0 0 0 0 0 0 0 0 0 0 ...\n",
      " $ 유치원_count_100    : int  0 0 0 0 0 0 0 0 0 0 ...\n",
      " $ 초등학교_count_100  : int  0 0 0 0 0 0 0 0 0 0 ...\n",
      " $ 방지턱_count_100    : int  0 0 0 0 0 0 0 0 0 0 ...\n",
      " $ grid_유소년인구_100 : num  0 0 0 0 0 30 81 0 0 0 ...\n",
      " $ grid_학원수_100     : int  0 0 0 0 0 0 0 0 0 0 ...\n",
      " $ 어린이집_count_200  : int  0 0 0 0 0 0 4 0 1 0 ...\n",
      " $ 유치원_count_200    : int  0 0 0 0 0 1 0 0 0 1 ...\n",
      " $ 초등학교_count_200  : int  0 0 0 0 0 0 0 0 0 0 ...\n",
      " $ 방지턱_count_200    : int  0 0 0 0 0 0 0 0 0 0 ...\n"
     ]
    }
   ],
   "source": [
    "str(acc1)"
   ]
  },
  {
   "cell_type": "code",
   "execution_count": 7,
   "metadata": {},
   "outputs": [
    {
     "data": {
      "text/plain": [
       "  accident_cnt    어린이집_count    유치원_count   초등학교_count  \n",
       " Min.   : 1.000   Min.   : 0.000   Min.   :0.000   Min.   :0.0000  \n",
       " 1st Qu.: 1.000   1st Qu.: 1.000   1st Qu.:0.000   1st Qu.:0.0000  \n",
       " Median : 1.000   Median : 4.000   Median :1.000   Median :1.0000  \n",
       " Mean   : 1.557   Mean   : 5.429   Mean   :1.026   Mean   :0.6203  \n",
       " 3rd Qu.: 2.000   3rd Qu.: 8.000   3rd Qu.:2.000   3rd Qu.:1.0000  \n",
       " Max.   :10.000   Max.   :23.000   Max.   :4.000   Max.   :2.0000  \n",
       "  방지턱_count    불법주정차_cam_count 정류장_count_100 정류장_count_300\n",
       " Min.   :0.0000   Min.   : 0.000       Min.   :0.000    Min.   : 0.000  \n",
       " 1st Qu.:0.0000   1st Qu.: 0.000       1st Qu.:0.000    1st Qu.: 4.000  \n",
       " Median :0.0000   Median : 2.000       Median :1.000    Median : 7.000  \n",
       " Mean   :0.7507   Mean   : 2.612       Mean   :1.003    Mean   : 6.823  \n",
       " 3rd Qu.:1.0000   3rd Qu.: 4.000       3rd Qu.:2.000    3rd Qu.: 9.000  \n",
       " Max.   :7.0000   Max.   :11.000       Max.   :5.000    Max.   :19.000  \n",
       " grid_유동인구    grid_유소년인구   grid_학원수     어린이집_count_100\n",
       " Min.   :  0.00   Min.   :   0.0   Min.   :  0.00   Min.   :0.0000    \n",
       " 1st Qu.: 12.57   1st Qu.:  21.0   1st Qu.:  0.00   1st Qu.:0.0000    \n",
       " Median : 26.42   Median :  88.0   Median : 12.00   Median :0.0000    \n",
       " Mean   : 38.53   Mean   : 197.8   Mean   : 25.91   Mean   :0.5362    \n",
       " 3rd Qu.: 48.85   3rd Qu.: 349.0   3rd Qu.: 37.00   3rd Qu.:1.0000    \n",
       " Max.   :236.76   Max.   :1008.0   Max.   :145.00   Max.   :7.0000    \n",
       " 유치원_count_100 초등학교_count_100 방지턱_count_100  grid_유소년인구_100\n",
       " Min.   :0.0000   Min.   :0.00000    Min.   :0.00000   Min.   :  0.00     \n",
       " 1st Qu.:0.0000   1st Qu.:0.00000    1st Qu.:0.00000   1st Qu.:  0.00     \n",
       " Median :0.0000   Median :0.00000    Median :0.00000   Median : 15.00     \n",
       " Mean   :0.1014   Mean   :0.05797    Mean   :0.08116   Mean   : 54.52     \n",
       " 3rd Qu.:0.0000   3rd Qu.:0.00000    3rd Qu.:0.00000   3rd Qu.: 80.00     \n",
       " Max.   :1.0000   Max.   :1.00000    Max.   :3.00000   Max.   :473.00     \n",
       " grid_학원수_100  어린이집_count_200 유치원_count_200 초등학교_count_200\n",
       " Min.   : 0.000   Min.   : 0.00      Min.   :0.0000   Min.   :0.0000    \n",
       " 1st Qu.: 0.000   1st Qu.: 0.00      1st Qu.:0.0000   1st Qu.:0.0000    \n",
       " Median : 0.000   Median : 1.00      Median :0.0000   Median :0.0000    \n",
       " Mean   : 4.632   Mean   : 2.47      Mean   :0.4696   Mean   :0.3014    \n",
       " 3rd Qu.: 2.000   3rd Qu.: 4.00      3rd Qu.:1.0000   3rd Qu.:1.0000    \n",
       " Max.   :69.000   Max.   :13.00      Max.   :3.0000   Max.   :2.0000    \n",
       " 방지턱_count_200\n",
       " Min.   :0.0000  \n",
       " 1st Qu.:0.0000  \n",
       " Median :0.0000  \n",
       " Mean   :0.3159  \n",
       " 3rd Qu.:0.0000  \n",
       " Max.   :6.0000  "
      ]
     },
     "metadata": {},
     "output_type": "display_data"
    }
   ],
   "source": [
    "summary(acc1)"
   ]
  },
  {
   "cell_type": "code",
   "execution_count": 10,
   "metadata": {
    "scrolled": true
   },
   "outputs": [
    {
     "data": {
      "text/html": [
       "<style>\n",
       ".dl-inline {width: auto; margin:0; padding: 0}\n",
       ".dl-inline>dt, .dl-inline>dd {float: none; width: auto; display: inline-block}\n",
       ".dl-inline>dt::after {content: \":\\0020\"; padding-right: .5ex}\n",
       ".dl-inline>dt:not(:first-of-type) {padding-left: .5ex}\n",
       "</style><dl class=dl-inline><dt>어린이집_count</dt><dd>6.08101327287095</dd><dt>유치원_count</dt><dd>3.77774023076346</dd><dt>초등학교_count</dt><dd>3.47344592089676</dd><dt>방지턱_count</dt><dd>2.6098745027078</dd><dt>불법주정차_cam_count</dt><dd>1.95671118831882</dd><dt>정류장_count_100</dt><dd>1.28104288609331</dd><dt>정류장_count_300</dt><dd>1.40507513140982</dd><dt>grid_유동인구</dt><dd>1.45828406929812</dd><dt>grid_유소년인구</dt><dd>5.92373852764038</dd><dt>grid_학원수</dt><dd>2.41785780091778</dd><dt>어린이집_count_100</dt><dd>2.09399914768886</dd><dt>유치원_count_100</dt><dd>2.45665423227741</dd><dt>초등학교_count_100</dt><dd>2.35515957521455</dd><dt>방지턱_count_100</dt><dd>1.5245682752933</dd><dt>grid_유소년인구_100</dt><dd>3.46611709086201</dd><dt>grid_학원수_100</dt><dd>1.44573707254672</dd><dt>어린이집_count_200</dt><dd>6.75302384771538</dd><dt>유치원_count_200</dt><dd>5.20251751320601</dd><dt>초등학교_count_200</dt><dd>4.53759829639612</dd><dt>방지턱_count_200</dt><dd>3.01671394780564</dd></dl>\n"
      ],
      "text/latex": [
       "\\begin{description*}\n",
       "\\item[어린이집\\textbackslash{}\\_count] 6.08101327287095\n",
       "\\item[유치원\\textbackslash{}\\_count] 3.77774023076346\n",
       "\\item[초등학교\\textbackslash{}\\_count] 3.47344592089676\n",
       "\\item[방지턱\\textbackslash{}\\_count] 2.6098745027078\n",
       "\\item[불법주정차\\textbackslash{}\\_cam\\textbackslash{}\\_count] 1.95671118831882\n",
       "\\item[정류장\\textbackslash{}\\_count\\textbackslash{}\\_100] 1.28104288609331\n",
       "\\item[정류장\\textbackslash{}\\_count\\textbackslash{}\\_300] 1.40507513140982\n",
       "\\item[grid\\textbackslash{}\\_유동인구] 1.45828406929812\n",
       "\\item[grid\\textbackslash{}\\_유소년인구] 5.92373852764038\n",
       "\\item[grid\\textbackslash{}\\_학원수] 2.41785780091778\n",
       "\\item[어린이집\\textbackslash{}\\_count\\textbackslash{}\\_100] 2.09399914768886\n",
       "\\item[유치원\\textbackslash{}\\_count\\textbackslash{}\\_100] 2.45665423227741\n",
       "\\item[초등학교\\textbackslash{}\\_count\\textbackslash{}\\_100] 2.35515957521455\n",
       "\\item[방지턱\\textbackslash{}\\_count\\textbackslash{}\\_100] 1.5245682752933\n",
       "\\item[grid\\textbackslash{}\\_유소년인구\\textbackslash{}\\_100] 3.46611709086201\n",
       "\\item[grid\\textbackslash{}\\_학원수\\textbackslash{}\\_100] 1.44573707254672\n",
       "\\item[어린이집\\textbackslash{}\\_count\\textbackslash{}\\_200] 6.75302384771538\n",
       "\\item[유치원\\textbackslash{}\\_count\\textbackslash{}\\_200] 5.20251751320601\n",
       "\\item[초등학교\\textbackslash{}\\_count\\textbackslash{}\\_200] 4.53759829639612\n",
       "\\item[방지턱\\textbackslash{}\\_count\\textbackslash{}\\_200] 3.01671394780564\n",
       "\\end{description*}\n"
      ],
      "text/markdown": [
       "어린이집_count\n",
       ":   6.08101327287095유치원_count\n",
       ":   3.77774023076346초등학교_count\n",
       ":   3.47344592089676방지턱_count\n",
       ":   2.6098745027078불법주정차_cam_count\n",
       ":   1.95671118831882정류장_count_100\n",
       ":   1.28104288609331정류장_count_300\n",
       ":   1.40507513140982grid_유동인구\n",
       ":   1.45828406929812grid_유소년인구\n",
       ":   5.92373852764038grid_학원수\n",
       ":   2.41785780091778어린이집_count_100\n",
       ":   2.09399914768886유치원_count_100\n",
       ":   2.45665423227741초등학교_count_100\n",
       ":   2.35515957521455방지턱_count_100\n",
       ":   1.5245682752933grid_유소년인구_100\n",
       ":   3.46611709086201grid_학원수_100\n",
       ":   1.44573707254672어린이집_count_200\n",
       ":   6.75302384771538유치원_count_200\n",
       ":   5.20251751320601초등학교_count_200\n",
       ":   4.53759829639612방지턱_count_200\n",
       ":   3.01671394780564\n",
       "\n"
      ],
      "text/plain": [
       "      어린이집_count         유치원_count       초등학교_count \n",
       "            6.081013             3.777740             3.473446 \n",
       "        방지턱_count 불법주정차_cam_count     정류장_count_100 \n",
       "            2.609875             1.956711             1.281043 \n",
       "    정류장_count_300        grid_유동인구      grid_유소년인구 \n",
       "            1.405075             1.458284             5.923739 \n",
       "         grid_학원수   어린이집_count_100     유치원_count_100 \n",
       "            2.417858             2.093999             2.456654 \n",
       "  초등학교_count_100     방지턱_count_100  grid_유소년인구_100 \n",
       "            2.355160             1.524568             3.466117 \n",
       "     grid_학원수_100   어린이집_count_200     유치원_count_200 \n",
       "            1.445737             6.753024             5.202518 \n",
       "  초등학교_count_200     방지턱_count_200 \n",
       "            4.537598             3.016714 "
      ]
     },
     "metadata": {},
     "output_type": "display_data"
    }
   ],
   "source": [
    "library(car)\n",
    "vif(lm_fit)"
   ]
  },
  {
   "cell_type": "markdown",
   "metadata": {},
   "source": [
    "- 다중공선성 전부 10 미만\n",
    "- 변수가 선형종속 약함"
   ]
  },
  {
   "cell_type": "markdown",
   "metadata": {},
   "source": [
    "### Fitting Linear Model"
   ]
  },
  {
   "cell_type": "code",
   "execution_count": 10,
   "metadata": {
    "scrolled": false
   },
   "outputs": [
    {
     "data": {
      "text/plain": [
       "\n",
       "Call:\n",
       "lm(formula = accident_cnt ~ ., data = acc1)\n",
       "\n",
       "Residuals:\n",
       "    Min      1Q  Median      3Q     Max \n",
       "-1.3998 -0.5608 -0.2970  0.2472  7.8299 \n",
       "\n",
       "Coefficients:\n",
       "                       Estimate Std. Error t value Pr(>|t|)    \n",
       "(Intercept)           1.1843638  0.1465220   8.083 1.27e-14 ***\n",
       "어린이집_count        0.0452167  0.0278152   1.626   0.1050    \n",
       "유치원_count          0.1163800  0.1183207   0.984   0.3260    \n",
       "초등학교_count       -0.0081233  0.1600085  -0.051   0.9595    \n",
       "방지턱_count          0.0192053  0.0798451   0.241   0.8101    \n",
       "불법주정차_cam_count -0.0034368  0.0332635  -0.103   0.9178    \n",
       "정류장_count_100      0.1503724  0.0586619   2.563   0.0108 *  \n",
       "정류장_count_300     -0.0044460  0.0194273  -0.229   0.8191    \n",
       "grid_유동인구         0.0017955  0.0018279   0.982   0.3267    \n",
       "grid_유소년인구      -0.0001490  0.0006407  -0.233   0.8162    \n",
       "grid_학원수           0.0005944  0.0026808   0.222   0.8247    \n",
       "어린이집_count_100   -0.0812489  0.0806626  -1.007   0.3146    \n",
       "유치원_count_100     -0.0139077  0.3028168  -0.046   0.9634    \n",
       "초등학교_count_100    0.2097435  0.3830684   0.548   0.5844    \n",
       "방지턱_count_100      0.0142275  0.2023062   0.070   0.9440    \n",
       "grid_유소년인구_100  -0.0010771  0.0013228  -0.814   0.4161    \n",
       "grid_학원수_100       0.0101799  0.0058067   1.753   0.0805 .  \n",
       "어린이집_count_200   -0.0077328  0.0531525  -0.145   0.8844    \n",
       "유치원_count_200     -0.3691615  0.2004923  -1.841   0.0665 .  \n",
       "초등학교_count_200    0.2411009  0.2397758   1.006   0.3154    \n",
       "방지턱_count_200     -0.0180699  0.1377744  -0.131   0.8957    \n",
       "---\n",
       "Signif. codes:  0 ‘***’ 0.001 ‘**’ 0.01 ‘*’ 0.05 ‘.’ 0.1 ‘ ’ 1\n",
       "\n",
       "Residual standard error: 1.083 on 324 degrees of freedom\n",
       "Multiple R-squared:  0.1012,\tAdjusted R-squared:  0.04568 \n",
       "F-statistic: 1.823 on 20 and 324 DF,  p-value: 0.01758\n"
      ]
     },
     "metadata": {},
     "output_type": "display_data"
    }
   ],
   "source": [
    "lm_fit = lm(accident_cnt~.,acc1)\n",
    "summary(lm_fit)"
   ]
  },
  {
   "cell_type": "code",
   "execution_count": 11,
   "metadata": {},
   "outputs": [
    {
     "name": "stdout",
     "output_type": "stream",
     "text": [
      "Start:  AIC=75.64\n",
      "accident_cnt ~ 어린이집_count + 유치원_count + 초등학교_count + \n",
      "    방지턱_count + 불법주정차_cam_count + 정류장_count_100 + \n",
      "    정류장_count_300 + grid_유동인구 + grid_유소년인구 + \n",
      "    grid_학원수 + 어린이집_count_100 + 유치원_count_100 + \n",
      "    초등학교_count_100 + 방지턱_count_100 + grid_유소년인구_100 + \n",
      "    grid_학원수_100 + 어린이집_count_200 + 유치원_count_200 + \n",
      "    초등학교_count_200 + 방지턱_count_200\n",
      "\n",
      "                       Df Sum of Sq    RSS    AIC\n",
      "- 유치원_count_100      1    0.0025 380.34 73.647\n",
      "- 초등학교_count        1    0.0030 380.34 73.647\n",
      "- 방지턱_count_100      1    0.0058 380.35 73.650\n",
      "- 불법주정차_cam_count  1    0.0125 380.35 73.656\n",
      "- 방지턱_count_200      1    0.0202 380.36 73.663\n",
      "- 어린이집_count_200    1    0.0248 380.36 73.667\n",
      "- grid_학원수           1    0.0577 380.40 73.697\n",
      "- 정류장_count_300      1    0.0615 380.40 73.700\n",
      "- grid_유소년인구       1    0.0635 380.40 73.702\n",
      "- 방지턱_count          1    0.0679 380.41 73.706\n",
      "- 초등학교_count_100    1    0.3519 380.69 73.964\n",
      "- grid_유소년인구_100   1    0.7784 381.12 74.350\n",
      "- grid_유동인구         1    1.1326 381.47 74.670\n",
      "- 유치원_count          1    1.1357 381.48 74.673\n",
      "- 초등학교_count_200    1    1.1869 381.53 74.719\n",
      "- 어린이집_count_100    1    1.1910 381.53 74.723\n",
      "<none>                              380.34 75.644\n",
      "- 어린이집_count        1    3.1021 383.44 76.447\n",
      "- grid_학원수_100       1    3.6079 383.95 76.902\n",
      "- 유치원_count_200      1    3.9798 384.32 77.236\n",
      "- 정류장_count_100      1    7.7135 388.05 80.571\n",
      "\n",
      "Step:  AIC=73.65\n",
      "accident_cnt ~ 어린이집_count + 유치원_count + 초등학교_count + \n",
      "    방지턱_count + 불법주정차_cam_count + 정류장_count_100 + \n",
      "    정류장_count_300 + grid_유동인구 + grid_유소년인구 + \n",
      "    grid_학원수 + 어린이집_count_100 + 초등학교_count_100 + \n",
      "    방지턱_count_100 + grid_유소년인구_100 + grid_학원수_100 + \n",
      "    어린이집_count_200 + 유치원_count_200 + 초등학교_count_200 + \n",
      "    방지턱_count_200\n",
      "\n",
      "                       Df Sum of Sq    RSS    AIC\n",
      "- 초등학교_count        1    0.0033 380.35 71.650\n",
      "- 방지턱_count_100      1    0.0054 380.35 71.652\n",
      "- 불법주정차_cam_count  1    0.0121 380.35 71.658\n",
      "- 방지턱_count_200      1    0.0200 380.36 71.665\n",
      "- 어린이집_count_200    1    0.0257 380.37 71.670\n",
      "- grid_학원수           1    0.0585 380.40 71.700\n",
      "- grid_유소년인구       1    0.0621 380.40 71.703\n",
      "- 정류장_count_300      1    0.0629 380.41 71.704\n",
      "- 방지턱_count          1    0.0668 380.41 71.707\n",
      "- 초등학교_count_100    1    0.5813 380.92 72.174\n",
      "- grid_유소년인구_100   1    0.7829 381.12 72.356\n",
      "- 유치원_count          1    1.1379 381.48 72.677\n",
      "- grid_유동인구         1    1.1506 381.49 72.689\n",
      "- 어린이집_count_100    1    1.1885 381.53 72.723\n",
      "- 초등학교_count_200    1    1.3218 381.66 72.844\n",
      "<none>                              380.34 73.647\n",
      "- 어린이집_count        1    3.0998 383.44 74.447\n",
      "- grid_학원수_100       1    3.6185 383.96 74.913\n",
      "+ 유치원_count_100      1    0.0025 380.34 75.644\n",
      "- 유치원_count_200      1    4.5182 384.86 75.721\n",
      "- 정류장_count_100      1    7.7110 388.05 78.571\n",
      "\n",
      "Step:  AIC=71.65\n",
      "accident_cnt ~ 어린이집_count + 유치원_count + 방지턱_count + \n",
      "    불법주정차_cam_count + 정류장_count_100 + 정류장_count_300 + \n",
      "    grid_유동인구 + grid_유소년인구 + grid_학원수 + \n",
      "    어린이집_count_100 + 초등학교_count_100 + 방지턱_count_100 + \n",
      "    grid_유소년인구_100 + grid_학원수_100 + 어린이집_count_200 + \n",
      "    유치원_count_200 + 초등학교_count_200 + 방지턱_count_200\n",
      "\n",
      "                       Df Sum of Sq    RSS    AIC\n",
      "- 방지턱_count_100      1    0.0052 380.35 69.654\n",
      "- 불법주정차_cam_count  1    0.0133 380.36 69.662\n",
      "- 방지턱_count_200      1    0.0200 380.37 69.668\n",
      "- 어린이집_count_200    1    0.0252 380.37 69.673\n",
      "- grid_학원수           1    0.0577 380.40 69.702\n",
      "- 정류장_count_300      1    0.0649 380.41 69.709\n",
      "- grid_유소년인구       1    0.0657 380.41 69.709\n",
      "- 방지턱_count          1    0.0686 380.41 69.712\n",
      "- 초등학교_count_100    1    0.5827 380.93 70.178\n",
      "- grid_유소년인구_100   1    0.7796 381.13 70.356\n",
      "- grid_유동인구         1    1.1819 381.53 70.720\n",
      "- 어린이집_count_100    1    1.1892 381.53 70.727\n",
      "- 초등학교_count_200    1    1.7021 382.05 71.190\n",
      "- 유치원_count          1    1.8237 382.17 71.300\n",
      "<none>                              380.35 71.650\n",
      "- 어린이집_count        1    3.0990 383.44 72.449\n",
      "- grid_학원수_100       1    3.6511 384.00 72.946\n",
      "+ 초등학교_count        1    0.0033 380.34 73.647\n",
      "+ 유치원_count_100      1    0.0028 380.34 73.647\n",
      "- 유치원_count_200      1    5.0282 385.37 74.181\n",
      "- 정류장_count_100      1    7.7101 388.06 76.573\n",
      "\n",
      "Step:  AIC=69.65\n",
      "accident_cnt ~ 어린이집_count + 유치원_count + 방지턱_count + \n",
      "    불법주정차_cam_count + 정류장_count_100 + 정류장_count_300 + \n",
      "    grid_유동인구 + grid_유소년인구 + grid_학원수 + \n",
      "    어린이집_count_100 + 초등학교_count_100 + grid_유소년인구_100 + \n",
      "    grid_학원수_100 + 어린이집_count_200 + 유치원_count_200 + \n",
      "    초등학교_count_200 + 방지턱_count_200\n",
      "\n",
      "                       Df Sum of Sq    RSS    AIC\n",
      "- 불법주정차_cam_count  1    0.0137 380.36 67.667\n",
      "- 방지턱_count_200      1    0.0149 380.37 67.668\n",
      "- 어린이집_count_200    1    0.0233 380.37 67.676\n",
      "- grid_학원수           1    0.0586 380.41 67.708\n",
      "- 정류장_count_300      1    0.0639 380.41 67.712\n",
      "- grid_유소년인구       1    0.0663 380.42 67.715\n",
      "- 방지턱_count          1    0.0669 380.42 67.715\n",
      "- 초등학교_count_100    1    0.5784 380.93 68.179\n",
      "- grid_유소년인구_100   1    0.7825 381.13 68.364\n",
      "- grid_유동인구         1    1.1839 381.53 68.727\n",
      "- 어린이집_count_100    1    1.1878 381.54 68.730\n",
      "- 초등학교_count_200    1    1.7013 382.05 69.194\n",
      "- 유치원_count          1    1.8185 382.17 69.300\n",
      "<none>                              380.35 69.654\n",
      "- 어린이집_count        1    3.0947 383.45 70.450\n",
      "- grid_학원수_100       1    3.6459 384.00 70.946\n",
      "+ 방지턱_count_100      1    0.0052 380.35 71.650\n",
      "+ 초등학교_count        1    0.0032 380.35 71.652\n",
      "+ 유치원_count_100      1    0.0023 380.35 71.652\n",
      "- 유치원_count_200      1    5.0255 385.38 72.183\n",
      "- 정류장_count_100      1    7.7147 388.07 74.582\n",
      "\n",
      "Step:  AIC=67.67\n",
      "accident_cnt ~ 어린이집_count + 유치원_count + 방지턱_count + \n",
      "    정류장_count_100 + 정류장_count_300 + grid_유동인구 + \n",
      "    grid_유소년인구 + grid_학원수 + 어린이집_count_100 + \n",
      "    초등학교_count_100 + grid_유소년인구_100 + grid_학원수_100 + \n",
      "    어린이집_count_200 + 유치원_count_200 + 초등학교_count_200 + \n",
      "    방지턱_count_200\n",
      "\n",
      "                       Df Sum of Sq    RSS    AIC\n",
      "- 방지턱_count_200      1    0.0147 380.38 65.680\n",
      "- 어린이집_count_200    1    0.0244 380.39 65.689\n",
      "- grid_학원수           1    0.0478 380.41 65.710\n",
      "- 방지턱_count          1    0.0561 380.42 65.718\n",
      "- grid_유소년인구       1    0.0617 380.43 65.723\n",
      "- 정류장_count_300      1    0.0989 380.46 65.757\n",
      "- 초등학교_count_100    1    0.5882 380.95 66.200\n",
      "- grid_유소년인구_100   1    0.7750 381.14 66.369\n",
      "- grid_유동인구         1    1.1702 381.53 66.727\n",
      "- 어린이집_count_100    1    1.2290 381.59 66.780\n",
      "- 초등학교_count_200    1    1.6943 382.06 67.200\n",
      "- 유치원_count          1    1.8049 382.17 67.300\n",
      "<none>                              380.36 67.667\n",
      "- 어린이집_count        1    3.0845 383.45 68.453\n",
      "- grid_학원수_100       1    3.6327 384.00 68.946\n",
      "+ 불법주정차_cam_count  1    0.0137 380.35 69.654\n",
      "+ 방지턱_count_100      1    0.0055 380.36 69.662\n",
      "+ 초등학교_count        1    0.0043 380.36 69.663\n",
      "+ 유치원_count_100      1    0.0020 380.36 69.665\n",
      "- 유치원_count_200      1    5.0728 385.44 70.238\n",
      "- 정류장_count_100      1    7.7164 388.08 72.596\n",
      "\n",
      "Step:  AIC=65.68\n",
      "accident_cnt ~ 어린이집_count + 유치원_count + 방지턱_count + \n",
      "    정류장_count_100 + 정류장_count_300 + grid_유동인구 + \n",
      "    grid_유소년인구 + grid_학원수 + 어린이집_count_100 + \n",
      "    초등학교_count_100 + grid_유소년인구_100 + grid_학원수_100 + \n",
      "    어린이집_count_200 + 유치원_count_200 + 초등학교_count_200\n",
      "\n",
      "                       Df Sum of Sq    RSS    AIC\n",
      "- 어린이집_count_200    1    0.0279 380.41 63.705\n",
      "- grid_학원수           1    0.0457 380.42 63.722\n",
      "- 방지턱_count          1    0.0486 380.43 63.724\n",
      "- grid_유소년인구       1    0.0592 380.44 63.734\n",
      "- 정류장_count_300      1    0.0968 380.48 63.768\n",
      "- 초등학교_count_100    1    0.5862 380.97 64.211\n",
      "- grid_유소년인구_100   1    0.7812 381.16 64.388\n",
      "- grid_유동인구         1    1.1901 381.57 64.758\n",
      "- 어린이집_count_100    1    1.2351 381.61 64.799\n",
      "- 초등학교_count_200    1    1.6970 382.08 65.216\n",
      "- 유치원_count          1    1.8557 382.23 65.359\n",
      "<none>                              380.38 65.680\n",
      "- 어린이집_count        1    3.1421 383.52 66.518\n",
      "- grid_학원수_100       1    3.6561 384.04 66.980\n",
      "+ 방지턱_count_200      1    0.0147 380.36 67.667\n",
      "+ 불법주정차_cam_count  1    0.0134 380.37 67.668\n",
      "+ 초등학교_count        1    0.0045 380.37 67.676\n",
      "+ 유치원_count_100      1    0.0021 380.38 67.678\n",
      "+ 방지턱_count_100      1    0.0002 380.38 67.680\n",
      "- 유치원_count_200      1    5.2694 385.65 68.427\n",
      "- 정류장_count_100      1    7.7169 388.10 70.609\n",
      "\n",
      "Step:  AIC=63.71\n",
      "accident_cnt ~ 어린이집_count + 유치원_count + 방지턱_count + \n",
      "    정류장_count_100 + 정류장_count_300 + grid_유동인구 + \n",
      "    grid_유소년인구 + grid_학원수 + 어린이집_count_100 + \n",
      "    초등학교_count_100 + grid_유소년인구_100 + grid_학원수_100 + \n",
      "    유치원_count_200 + 초등학교_count_200\n",
      "\n",
      "                       Df Sum of Sq    RSS    AIC\n",
      "- 방지턱_count          1    0.0501 380.46 61.751\n",
      "- grid_학원수           1    0.0505 380.46 61.751\n",
      "- grid_유소년인구       1    0.0865 380.49 61.784\n",
      "- 정류장_count_300      1    0.0958 380.50 61.792\n",
      "- 초등학교_count_100    1    0.5590 380.97 62.212\n",
      "- grid_유소년인구_100   1    0.7574 381.16 62.392\n",
      "- grid_유동인구         1    1.1699 381.58 62.765\n",
      "- 초등학교_count_200    1    1.6843 382.09 63.230\n",
      "- 어린이집_count_100    1    1.7482 382.16 63.287\n",
      "- 유치원_count          1    1.8354 382.24 63.366\n",
      "<none>                              380.41 63.705\n",
      "- grid_학원수_100       1    3.6587 384.07 65.008\n",
      "+ 어린이집_count_200    1    0.0279 380.38 65.680\n",
      "+ 방지턱_count_200      1    0.0182 380.39 65.689\n",
      "+ 불법주정차_cam_count  1    0.0146 380.39 65.692\n",
      "+ 초등학교_count        1    0.0040 380.40 65.702\n",
      "+ 유치원_count_100      1    0.0031 380.40 65.703\n",
      "+ 방지턱_count_100      1    0.0001 380.41 65.705\n",
      "- 어린이집_count        1    4.6484 385.06 65.896\n",
      "- 유치원_count_200      1    5.2473 385.65 66.432\n",
      "- 정류장_count_100      1    7.8357 388.24 68.740\n",
      "\n",
      "Step:  AIC=61.75\n",
      "accident_cnt ~ 어린이집_count + 유치원_count + 정류장_count_100 + \n",
      "    정류장_count_300 + grid_유동인구 + grid_유소년인구 + \n",
      "    grid_학원수 + 어린이집_count_100 + 초등학교_count_100 + \n",
      "    grid_유소년인구_100 + grid_학원수_100 + 유치원_count_200 + \n",
      "    초등학교_count_200\n",
      "\n",
      "                       Df Sum of Sq    RSS    AIC\n",
      "- grid_학원수           1    0.0516 380.51 59.798\n",
      "- grid_유소년인구       1    0.0802 380.54 59.824\n",
      "- 정류장_count_300      1    0.0852 380.54 59.828\n",
      "- 초등학교_count_100    1    0.5401 381.00 60.240\n",
      "- grid_유소년인구_100   1    0.7688 381.23 60.447\n",
      "- grid_유동인구         1    1.2091 381.67 60.846\n",
      "- 초등학교_count_200    1    1.6803 382.14 61.271\n",
      "- 어린이집_count_100    1    1.7672 382.22 61.350\n",
      "- 유치원_count          1    1.9281 382.39 61.495\n",
      "<none>                              380.46 61.751\n",
      "- grid_학원수_100       1    3.6818 384.14 63.074\n",
      "+ 방지턱_count          1    0.0501 380.41 63.705\n",
      "+ 어린이집_count_200    1    0.0294 380.43 63.724\n",
      "+ 방지턱_count_100      1    0.0062 380.45 63.745\n",
      "+ 방지턱_count_200      1    0.0061 380.45 63.745\n",
      "+ 초등학교_count        1    0.0052 380.45 63.746\n",
      "+ 유치원_count_100      1    0.0016 380.46 63.749\n",
      "+ 불법주정차_cam_count  1    0.0011 380.46 63.750\n",
      "- 어린이집_count        1    4.5986 385.06 63.896\n",
      "- 유치원_count_200      1    5.2120 385.67 64.445\n",
      "- 정류장_count_100      1    7.7856 388.24 66.740\n",
      "\n",
      "Step:  AIC=59.8\n",
      "accident_cnt ~ 어린이집_count + 유치원_count + 정류장_count_100 + \n",
      "    정류장_count_300 + grid_유동인구 + grid_유소년인구 + \n",
      "    어린이집_count_100 + 초등학교_count_100 + grid_유소년인구_100 + \n",
      "    grid_학원수_100 + 유치원_count_200 + 초등학교_count_200\n",
      "\n",
      "                       Df Sum of Sq    RSS    AIC\n",
      "- 정류장_count_300      1    0.0680 380.58 57.859\n",
      "- grid_유소년인구       1    0.0938 380.60 57.883\n",
      "- 초등학교_count_100    1    0.5126 381.02 58.262\n",
      "- grid_유소년인구_100   1    0.7445 381.25 58.472\n",
      "- grid_유동인구         1    1.4477 381.96 59.108\n",
      "- 초등학교_count_200    1    1.7352 382.24 59.367\n",
      "- 어린이집_count_100    1    1.8035 382.31 59.429\n",
      "- 유치원_count          1    1.9376 382.45 59.550\n",
      "<none>                              380.51 59.798\n",
      "+ grid_학원수           1    0.0516 380.46 61.751\n",
      "+ 방지턱_count          1    0.0512 380.46 61.751\n",
      "+ 어린이집_count_200    1    0.0343 380.47 61.767\n",
      "+ 방지턱_count_100      1    0.0073 380.50 61.791\n",
      "+ 방지턱_count_200      1    0.0072 380.50 61.791\n",
      "+ 초등학교_count        1    0.0035 380.51 61.795\n",
      "+ 유치원_count_100      1    0.0024 380.51 61.796\n",
      "+ 불법주정차_cam_count  1    0.0007 380.51 61.797\n",
      "- grid_학원수_100       1    5.1779 385.69 62.461\n",
      "- 유치원_count_200      1    5.3946 385.90 62.655\n",
      "- 어린이집_count        1    6.1377 386.65 63.318\n",
      "- 정류장_count_100      1    7.7386 388.25 64.744\n",
      "\n",
      "Step:  AIC=57.86\n",
      "accident_cnt ~ 어린이집_count + 유치원_count + 정류장_count_100 + \n",
      "    grid_유동인구 + grid_유소년인구 + 어린이집_count_100 + \n",
      "    초등학교_count_100 + grid_유소년인구_100 + grid_학원수_100 + \n",
      "    유치원_count_200 + 초등학교_count_200\n",
      "\n",
      "                       Df Sum of Sq    RSS    AIC\n",
      "- grid_유소년인구       1    0.0882 380.66 55.939\n",
      "- 초등학교_count_100    1    0.5171 381.09 56.328\n",
      "- grid_유소년인구_100   1    0.7479 381.32 56.537\n",
      "- grid_유동인구         1    1.3808 381.96 57.109\n",
      "- 초등학교_count_200    1    1.6914 382.27 57.389\n",
      "- 어린이집_count_100    1    1.7780 382.35 57.467\n",
      "- 유치원_count          1    1.9030 382.48 57.580\n",
      "<none>                              380.58 57.859\n",
      "+ 정류장_count_300      1    0.0680 380.51 59.798\n",
      "+ 방지턱_count          1    0.0413 380.54 59.822\n",
      "+ grid_학원수           1    0.0344 380.54 59.828\n",
      "+ 어린이집_count_200    1    0.0323 380.54 59.830\n",
      "+ 초등학교_count        1    0.0073 380.57 59.853\n",
      "+ 불법주정차_cam_count  1    0.0057 380.57 59.854\n",
      "+ 방지턱_count_100      1    0.0055 380.57 59.854\n",
      "+ 방지턱_count_200      1    0.0053 380.57 59.855\n",
      "+ 유치원_count_100      1    0.0038 380.57 59.856\n",
      "- grid_학원수_100       1    5.1157 385.69 60.466\n",
      "- 유치원_count_200      1    5.3463 385.92 60.672\n",
      "- 어린이집_count        1    6.0788 386.66 61.326\n",
      "- 정류장_count_100      1    7.7637 388.34 62.826\n",
      "\n",
      "Step:  AIC=55.94\n",
      "accident_cnt ~ 어린이집_count + 유치원_count + 정류장_count_100 + \n",
      "    grid_유동인구 + 어린이집_count_100 + 초등학교_count_100 + \n",
      "    grid_유소년인구_100 + grid_학원수_100 + 유치원_count_200 + \n",
      "    초등학교_count_200\n",
      "\n",
      "                       Df Sum of Sq    RSS    AIC\n",
      "- 초등학교_count_100    1    0.5600 381.22 54.446\n",
      "- grid_유동인구         1    1.5419 382.21 55.334\n",
      "- 초등학교_count_200    1    1.6347 382.30 55.418\n",
      "- 유치원_count          1    1.9187 382.58 55.674\n",
      "- 어린이집_count_100    1    1.9975 382.66 55.745\n",
      "<none>                              380.66 55.939\n",
      "- grid_유소년인구_100   1    2.8494 383.51 56.512\n",
      "+ grid_유소년인구       1    0.0882 380.58 57.859\n",
      "+ 정류장_count_300      1    0.0623 380.60 57.883\n",
      "+ 어린이집_count_200    1    0.0622 380.60 57.883\n",
      "+ grid_학원수           1    0.0458 380.62 57.898\n",
      "+ 방지턱_count          1    0.0359 380.63 57.907\n",
      "+ 초등학교_count        1    0.0119 380.65 57.928\n",
      "+ 방지턱_count_100      1    0.0049 380.66 57.935\n",
      "+ 방지턱_count_200      1    0.0045 380.66 57.935\n",
      "+ 불법주정차_cam_count  1    0.0023 380.66 57.937\n",
      "+ 유치원_count_100      1    0.0022 380.66 57.937\n",
      "- grid_학원수_100       1    5.1019 385.77 58.532\n",
      "- 유치원_count_200      1    5.2834 385.95 58.695\n",
      "- 어린이집_count        1    7.1176 387.78 60.330\n",
      "- 정류장_count_100      1    7.6844 388.35 60.834\n",
      "\n",
      "Step:  AIC=54.45\n",
      "accident_cnt ~ 어린이집_count + 유치원_count + 정류장_count_100 + \n",
      "    grid_유동인구 + 어린이집_count_100 + grid_유소년인구_100 + \n",
      "    grid_학원수_100 + 유치원_count_200 + 초등학교_count_200\n",
      "\n",
      "                       Df Sum of Sq    RSS    AIC\n",
      "- grid_유동인구         1    1.4949 382.72 53.797\n",
      "- 유치원_count          1    1.8356 383.06 54.104\n",
      "- 초등학교_count_200    1    2.1352 383.36 54.373\n",
      "- 어린이집_count_100    1    2.1950 383.42 54.427\n",
      "<none>                              381.22 54.446\n",
      "- grid_유소년인구_100   1    3.0312 384.26 55.179\n",
      "+ 초등학교_count_100    1    0.5600 380.66 55.939\n",
      "+ 유치원_count_100      1    0.2331 380.99 56.235\n",
      "+ grid_유소년인구       1    0.1310 381.09 56.328\n",
      "+ 정류장_count_300      1    0.0657 381.16 56.387\n",
      "+ grid_학원수           1    0.0211 381.20 56.427\n",
      "+ 방지턱_count          1    0.0186 381.21 56.430\n",
      "+ 초등학교_count        1    0.0183 381.21 56.430\n",
      "+ 어린이집_count_200    1    0.0149 381.21 56.433\n",
      "+ 불법주정차_cam_count  1    0.0112 381.21 56.436\n",
      "+ 방지턱_count_200      1    0.0017 381.22 56.445\n",
      "+ 방지턱_count_100      1    0.0011 381.22 56.445\n",
      "- grid_학원수_100       1    4.9127 386.14 56.864\n",
      "- 유치원_count_200      1    5.1632 386.39 57.088\n",
      "- 정류장_count_100      1    7.3768 388.60 59.058\n",
      "- 어린이집_count        1    7.8735 389.10 59.499\n",
      "\n",
      "Step:  AIC=53.8\n",
      "accident_cnt ~ 어린이집_count + 유치원_count + 정류장_count_100 + \n",
      "    어린이집_count_100 + grid_유소년인구_100 + grid_학원수_100 + \n",
      "    유치원_count_200 + 초등학교_count_200\n",
      "\n",
      "                       Df Sum of Sq    RSS    AIC\n",
      "- 초등학교_count_200    1    1.8443 384.56 53.455\n",
      "- 유치원_count          1    1.9093 384.63 53.513\n",
      "<none>                              382.72 53.797\n",
      "- 어린이집_count_100    1    2.3397 385.06 53.899\n",
      "+ grid_유동인구         1    1.4949 381.22 54.446\n",
      "- grid_유소년인구_100   1    3.4410 386.16 54.885\n",
      "+ 초등학교_count_100    1    0.5130 382.21 55.334\n",
      "+ grid_유소년인구       1    0.3102 382.41 55.517\n",
      "+ grid_학원수           1    0.2690 382.45 55.554\n",
      "+ 유치원_count_100      1    0.1441 382.58 55.667\n",
      "+ 초등학교_count        1    0.0648 382.65 55.738\n",
      "+ 방지턱_count          1    0.0587 382.66 55.744\n",
      "+ 불법주정차_cam_count  1    0.0538 382.67 55.748\n",
      "+ 어린이집_count_200    1    0.0132 382.71 55.785\n",
      "+ 방지턱_count_200      1    0.0067 382.71 55.791\n",
      "+ 방지턱_count_100      1    0.0059 382.71 55.791\n",
      "+ 정류장_count_300      1    0.0001 382.72 55.797\n",
      "- 유치원_count_200      1    5.1183 387.84 56.380\n",
      "- grid_학원수_100       1    5.5574 388.28 56.770\n",
      "- 어린이집_count        1    9.3101 392.03 60.089\n",
      "- 정류장_count_100      1   11.2651 393.98 61.805\n",
      "\n",
      "Step:  AIC=53.46\n",
      "accident_cnt ~ 어린이집_count + 유치원_count + 정류장_count_100 + \n",
      "    어린이집_count_100 + grid_유소년인구_100 + grid_학원수_100 + \n",
      "    유치원_count_200\n",
      "\n",
      "                       Df Sum of Sq    RSS    AIC\n",
      "- 유치원_count          1    1.4159 385.98 52.723\n",
      "<none>                              384.56 53.455\n",
      "- 어린이집_count_100    1    2.4301 386.99 53.628\n",
      "+ 초등학교_count_200    1    1.8443 382.72 53.797\n",
      "+ grid_유동인구         1    1.2040 383.36 54.373\n",
      "- grid_유소년인구_100   1    3.2941 387.86 54.398\n",
      "- 유치원_count_200      1    3.4237 387.99 54.513\n",
      "+ 초등학교_count_100    1    0.9622 383.60 54.591\n",
      "+ grid_학원수           1    0.3132 384.25 55.174\n",
      "+ 초등학교_count        1    0.2757 384.29 55.208\n",
      "+ grid_유소년인구       1    0.1875 384.38 55.287\n",
      "+ 불법주정차_cam_count  1    0.1597 384.40 55.312\n",
      "+ 유치원_count_100      1    0.0693 384.49 55.393\n",
      "+ 방지턱_count          1    0.0478 384.52 55.412\n",
      "+ 정류장_count_300      1    0.0051 384.56 55.451\n",
      "+ 방지턱_count_200      1    0.0044 384.56 55.451\n",
      "+ 방지턱_count_100      1    0.0033 384.56 55.452\n",
      "+ 어린이집_count_200    1    0.0000 384.56 55.455\n",
      "- grid_학원수_100       1    5.5405 390.10 56.390\n",
      "- 어린이집_count        1   10.5238 395.09 60.769\n",
      "- 정류장_count_100      1   11.2884 395.85 61.436\n",
      "\n",
      "Step:  AIC=52.72\n",
      "accident_cnt ~ 어린이집_count + 정류장_count_100 + 어린이집_count_100 + \n",
      "    grid_유소년인구_100 + grid_학원수_100 + 유치원_count_200\n",
      "\n",
      "                       Df Sum of Sq    RSS    AIC\n",
      "- 유치원_count_200      1    2.0217 388.00 52.525\n",
      "<none>                              385.98 52.723\n",
      "- 어린이집_count_100    1    2.4862 388.47 52.938\n",
      "+ 유치원_count          1    1.4159 384.56 53.455\n",
      "+ 초등학교_count_200    1    1.3509 384.63 53.513\n",
      "+ grid_유동인구         1    1.2970 384.68 53.562\n",
      "- grid_유소년인구_100   1    3.3103 389.29 53.669\n",
      "+ 초등학교_count        1    1.1751 384.80 53.671\n",
      "+ 초등학교_count_100    1    0.7930 385.19 54.013\n",
      "+ grid_학원수           1    0.3532 385.63 54.407\n",
      "+ 불법주정차_cam_count  1    0.2893 385.69 54.464\n",
      "+ grid_유소년인구       1    0.2215 385.76 54.525\n",
      "+ 방지턱_count          1    0.1327 385.85 54.604\n",
      "+ 유치원_count_100      1    0.0721 385.91 54.659\n",
      "+ 정류장_count_300      1    0.0178 385.96 54.707\n",
      "+ 방지턱_count_200      1    0.0100 385.97 54.714\n",
      "+ 어린이집_count_200    1    0.0012 385.98 54.722\n",
      "+ 방지턱_count_100      1    0.0007 385.98 54.722\n",
      "- grid_학원수_100       1    5.5797 391.56 55.675\n",
      "- 정류장_count_100      1   10.9165 396.90 60.345\n",
      "- 어린이집_count        1   14.1690 400.15 63.161\n",
      "\n",
      "Step:  AIC=52.53\n",
      "accident_cnt ~ 어린이집_count + 정류장_count_100 + 어린이집_count_100 + \n",
      "    grid_유소년인구_100 + grid_학원수_100\n",
      "\n",
      "                       Df Sum of Sq    RSS    AIC\n",
      "<none>                              388.00 52.525\n",
      "+ 유치원_count_200      1    2.0217 385.98 52.723\n",
      "- 어린이집_count_100    1    2.9054 390.91 53.099\n",
      "+ grid_유동인구         1    1.5370 386.46 53.156\n",
      "- grid_유소년인구_100   1    3.7722 391.77 53.863\n",
      "+ grid_학원수           1    0.5975 387.40 53.994\n",
      "+ 불법주정차_cam_count  1    0.3482 387.65 54.216\n",
      "+ 초등학교_count_100    1    0.2329 387.77 54.318\n",
      "+ grid_유소년인구       1    0.1939 387.81 54.353\n",
      "+ 초등학교_count        1    0.1358 387.87 54.405\n",
      "+ 초등학교_count_200    1    0.1000 387.90 54.436\n",
      "+ 유치원_count_100      1    0.0841 387.92 54.451\n",
      "+ 방지턱_count_200      1    0.0467 387.95 54.484\n",
      "+ 방지턱_count          1    0.0318 387.97 54.497\n",
      "+ 유치원_count          1    0.0139 387.99 54.513\n",
      "+ 방지턱_count_100      1    0.0129 387.99 54.514\n",
      "+ 정류장_count_300      1    0.0087 387.99 54.518\n",
      "+ 어린이집_count_200    1    0.0024 388.00 54.523\n",
      "- grid_학원수_100       1    5.1671 393.17 55.089\n",
      "- 정류장_count_100      1   10.2959 398.30 59.561\n",
      "- 어린이집_count        1   12.5702 400.57 61.525\n"
     ]
    },
    {
     "data": {
      "text/plain": [
       "\n",
       "Call:\n",
       "lm(formula = accident_cnt ~ 어린이집_count + 정류장_count_100 + \n",
       "    어린이집_count_100 + grid_유소년인구_100 + grid_학원수_100, \n",
       "    data = acc1)\n",
       "\n",
       "Coefficients:\n",
       "        (Intercept)       어린이집_count     정류장_count_100  \n",
       "           1.224843             0.049207             0.155418  \n",
       " 어린이집_count_100  grid_유소년인구_100      grid_학원수_100  \n",
       "          -0.109778            -0.001495             0.010592  \n"
      ]
     },
     "metadata": {},
     "output_type": "display_data"
    }
   ],
   "source": [
    "step(lm_fit,direction = 'both')"
   ]
  },
  {
   "cell_type": "code",
   "execution_count": 16,
   "metadata": {},
   "outputs": [
    {
     "data": {
      "text/plain": [
       "\n",
       "Call:\n",
       "lm(formula = accident_cnt ~ 어린이집_count + 정류장_count_100 + \n",
       "    어린이집_count_100 + grid_유소년인구_100 + grid_학원수_100, \n",
       "    data = acc1)\n",
       "\n",
       "Residuals:\n",
       "    Min      1Q  Median      3Q     Max \n",
       "-1.2708 -0.5601 -0.2793  0.2844  7.9499 \n",
       "\n",
       "Coefficients:\n",
       "                      Estimate Std. Error t value Pr(>|t|)    \n",
       "(Intercept)          1.2248428  0.0979307  12.507  < 2e-16 ***\n",
       "어린이집_count       0.0492068  0.0148481   3.314  0.00102 ** \n",
       "정류장_count_100     0.1554181  0.0518186   2.999  0.00291 ** \n",
       "어린이집_count_100  -0.1097782  0.0689020  -1.593  0.11204    \n",
       "grid_유소년인구_100 -0.0014953  0.0008237  -1.815  0.07034 .  \n",
       "grid_학원수_100      0.0105922  0.0049851   2.125  0.03433 *  \n",
       "---\n",
       "Signif. codes:  0 ‘***’ 0.001 ‘**’ 0.01 ‘*’ 0.05 ‘.’ 0.1 ‘ ’ 1\n",
       "\n",
       "Residual standard error: 1.07 on 339 degrees of freedom\n",
       "Multiple R-squared:  0.08306,\tAdjusted R-squared:  0.06954 \n",
       "F-statistic: 6.142 on 5 and 339 DF,  p-value: 1.829e-05\n"
      ]
     },
     "metadata": {},
     "output_type": "display_data"
    }
   ],
   "source": [
    "lm_fit2 <- lm(accident_cnt ~ 어린이집_count + 정류장_count_100  + 어린이집_count_100 + grid_유소년인구_100 + grid_학원수_100,acc1)\n",
    "summary(lm_fit2)"
   ]
  },
  {
   "cell_type": "markdown",
   "metadata": {},
   "source": [
    "- 어린이집_count_100 유의성x,  grid_유소년인구_100은 조금 벗어났지만 제거하지 않기로"
   ]
  },
  {
   "cell_type": "code",
   "execution_count": 19,
   "metadata": {
    "scrolled": true
   },
   "outputs": [
    {
     "data": {
      "text/plain": [
       "\n",
       "Call:\n",
       "lm(formula = accident_cnt ~ 어린이집_count + 정류장_count_100 + \n",
       "    grid_유소년인구_100 + grid_학원수_100, data = acc1)\n",
       "\n",
       "Residuals:\n",
       "    Min      1Q  Median      3Q     Max \n",
       "-1.3727 -0.5669 -0.3100  0.2725  7.8574 \n",
       "\n",
       "Coefficients:\n",
       "                     Estimate Std. Error t value Pr(>|t|)    \n",
       "(Intercept)          1.234432   0.097966  12.601  < 2e-16 ***\n",
       "어린이집_count       0.038373   0.013230   2.901  0.00397 ** \n",
       "정류장_count_100     0.160065   0.051853   3.087  0.00219 ** \n",
       "grid_유소년인구_100 -0.001757   0.000809  -2.172  0.03057 *  \n",
       "grid_학원수_100      0.010582   0.004996   2.118  0.03490 *  \n",
       "---\n",
       "Signif. codes:  0 ‘***’ 0.001 ‘**’ 0.01 ‘*’ 0.05 ‘.’ 0.1 ‘ ’ 1\n",
       "\n",
       "Residual standard error: 1.072 on 340 degrees of freedom\n",
       "Multiple R-squared:  0.07619,\tAdjusted R-squared:  0.06532 \n",
       "F-statistic: 7.011 on 4 and 340 DF,  p-value: 1.965e-05\n"
      ]
     },
     "metadata": {},
     "output_type": "display_data"
    }
   ],
   "source": [
    "# 어린이집_count_100 제거\n",
    "lm.final <- lm(accident_cnt ~ 어린이집_count + 정류장_count_100  + grid_유소년인구_100 + grid_학원수_100,acc1)\n",
    "summary(lm.final)"
   ]
  },
  {
   "cell_type": "markdown",
   "metadata": {},
   "source": [
    "- 결정계수 0.07 / 다른 계수들은 유의함\n",
    "- 종속변수가 곡선이기에, 비선형 regression model을 fitting"
   ]
  },
  {
   "cell_type": "code",
   "execution_count": 21,
   "metadata": {
    "scrolled": true
   },
   "outputs": [
    {
     "data": {
      "text/plain": [
       "\n",
       "Call:\n",
       "lm(formula = log(accident_cnt) ~ poly(어린이집_count, 2) + \n",
       "    poly(정류장_count_100, 2) + poly(grid_유소년인구_100, \n",
       "    2) + poly(grid_학원수_100, 2), data = acc1)\n",
       "\n",
       "Residuals:\n",
       "    Min      1Q  Median      3Q     Max \n",
       "-0.7901 -0.2749 -0.1887  0.3435  1.6174 \n",
       "\n",
       "Coefficients:\n",
       "                              Estimate Std. Error t value Pr(>|t|)    \n",
       "(Intercept)                    0.29486    0.02499  11.801  < 2e-16 ***\n",
       "poly(어린이집_count, 2)1       1.71864    0.59379   2.894  0.00405 ** \n",
       "poly(어린이집_count, 2)2       0.53121    0.48673   1.091  0.27588    \n",
       "poly(정류장_count_100, 2)1     1.35539    0.47016   2.883  0.00420 ** \n",
       "poly(정류장_count_100, 2)2     0.54269    0.47421   1.144  0.25327    \n",
       "poly(grid_유소년인구_100, 2)1 -0.89849    0.55705  -1.613  0.10769    \n",
       "poly(grid_유소년인구_100, 2)2  0.05992    0.50979   0.118  0.90651    \n",
       "poly(grid_학원수_100, 2)1      1.59423    0.49335   3.231  0.00135 ** \n",
       "poly(grid_학원수_100, 2)2      0.25439    0.47415   0.537  0.59195    \n",
       "---\n",
       "Signif. codes:  0 ‘***’ 0.001 ‘**’ 0.01 ‘*’ 0.05 ‘.’ 0.1 ‘ ’ 1\n",
       "\n",
       "Residual standard error: 0.4641 on 336 degrees of freedom\n",
       "Multiple R-squared:  0.1037,\tAdjusted R-squared:  0.08238 \n",
       "F-statistic:  4.86 on 8 and 336 DF,  p-value: 1.095e-05\n"
      ]
     },
     "metadata": {},
     "output_type": "display_data"
    }
   ],
   "source": [
    "# (1) 종속변수 logarithm applying / 설명변수 2차항까지 fitting\n",
    "lm.final2 <- lm(log(accident_cnt) ~ poly(어린이집_count,2) + poly(정류장_count_100,2)  + poly(grid_유소년인구_100,2) + poly(grid_학원수_100,2),acc1)\n",
    "summary(lm.final2)"
   ]
  },
  {
   "cell_type": "markdown",
   "metadata": {},
   "source": [
    "- 결정계수 0.07 >> 0.10. 으로 증가, 유의하지 않은 항 제거하기"
   ]
  },
  {
   "cell_type": "code",
   "execution_count": 22,
   "metadata": {},
   "outputs": [
    {
     "data": {
      "text/plain": [
       "\n",
       "Call:\n",
       "lm(formula = accident_cnt ~ poly(어린이집_count, 2) + poly(정류장_count_100, \n",
       "    2) + poly(grid_유소년인구_100, 2) + poly(grid_학원수_100, \n",
       "    2), data = acc1)\n",
       "\n",
       "Residuals:\n",
       "    Min      1Q  Median      3Q     Max \n",
       "-2.2466 -0.4702 -0.3547  0.3536  6.9212 \n",
       "\n",
       "Coefficients:\n",
       "                              Estimate Std. Error t value Pr(>|t|)    \n",
       "(Intercept)                    1.55652    0.05736  27.134  < 2e-16 ***\n",
       "poly(어린이집_count, 2)1       3.91338    1.36318   2.871  0.00435 ** \n",
       "poly(어린이집_count, 2)2       0.81424    1.11740   0.729  0.46670    \n",
       "poly(정류장_count_100, 2)1     3.31157    1.07937   3.068  0.00233 ** \n",
       "poly(정류장_count_100, 2)2     2.91061    1.08866   2.674  0.00787 ** \n",
       "poly(grid_유소년인구_100, 2)1 -2.13117    1.27884  -1.666  0.09655 .  \n",
       "poly(grid_유소년인구_100, 2)2  0.65963    1.17035   0.564  0.57339    \n",
       "poly(grid_학원수_100, 2)1      2.69714    1.13260   2.381  0.01780 *  \n",
       "poly(grid_학원수_100, 2)2      0.58796    1.08852   0.540  0.58945    \n",
       "---\n",
       "Signif. codes:  0 ‘***’ 0.001 ‘**’ 0.01 ‘*’ 0.05 ‘.’ 0.1 ‘ ’ 1\n",
       "\n",
       "Residual standard error: 1.065 on 336 degrees of freedom\n",
       "Multiple R-squared:  0.09854,\tAdjusted R-squared:  0.07708 \n",
       "F-statistic: 4.591 on 8 and 336 DF,  p-value: 2.495e-05\n"
      ]
     },
     "metadata": {},
     "output_type": "display_data"
    }
   ],
   "source": [
    "# (2) 종속변수 logarithm applying (x) / 설명변수 2차항까지 fitting\n",
    "lm.final3 <- lm(accident_cnt ~ poly(어린이집_count,2) + poly(정류장_count_100,2)  + poly(grid_유소년인구_100,2) + poly(grid_학원수_100,2),acc1)\n",
    "summary(lm.final3)"
   ]
  },
  {
   "cell_type": "markdown",
   "metadata": {},
   "source": [
    "- 결정계수 0.07 >> 0.09 증가 \n",
    "- 유의해 보이는 2차항은 정류장_count_100"
   ]
  },
  {
   "cell_type": "code",
   "execution_count": 56,
   "metadata": {
    "scrolled": true
   },
   "outputs": [
    {
     "data": {
      "text/plain": [
       "\n",
       "Call:\n",
       "lm(formula = accident_cnt ~ 어린이집_count + poly(정류장_count_100, \n",
       "    2) + grid_유소년인구_100 + grid_학원수_100, data = acc1)\n",
       "\n",
       "Residuals:\n",
       "    Min      1Q  Median      3Q     Max \n",
       "-2.3196 -0.4902 -0.3316  0.3387  6.9243 \n",
       "\n",
       "Coefficients:\n",
       "                             Estimate Std. Error t value Pr(>|t|)    \n",
       "(Intercept)                 1.3708730  0.0843843  16.246  < 2e-16 ***\n",
       "어린이집_count              0.0386902  0.0131156   2.950  0.00340 ** \n",
       "poly(정류장_count_100, 2)1  3.2762124  1.0749088   3.048  0.00249 ** \n",
       "poly(정류장_count_100, 2)2  2.8638193  1.0851370   2.639  0.00870 ** \n",
       "grid_유소년인구_100        -0.0014535  0.0008102  -1.794  0.07370 .  \n",
       "grid_학원수_100             0.0118409  0.0049760   2.380  0.01788 *  \n",
       "---\n",
       "Signif. codes:  0 ‘***’ 0.001 ‘**’ 0.01 ‘*’ 0.05 ‘.’ 0.1 ‘ ’ 1\n",
       "\n",
       "Residual standard error: 1.063 on 339 degrees of freedom\n",
       "Multiple R-squared:  0.09479,\tAdjusted R-squared:  0.08144 \n",
       "F-statistic:   7.1 on 5 and 339 DF,  p-value: 2.483e-06\n"
      ]
     },
     "metadata": {},
     "output_type": "display_data"
    }
   ],
   "source": [
    "# 유의한 2차항인 정류장_count_100 만 2차항 추가\n",
    "lm.final4 <- lm(accident_cnt~어린이집_count+poly(정류장_count_100,2)+grid_유소년인구_100+grid_학원수_100,acc1)\n",
    "summary(lm.final4)"
   ]
  },
  {
   "cell_type": "markdown",
   "metadata": {},
   "source": [
    "- 설명변수는 줄어들었지만 비슷한 수준의 결정계수를 유지\n",
    "- 마찬가지로 grid_유소년인구_100은 약간 벗어나지만 계속 가져가기로"
   ]
  },
  {
   "cell_type": "code",
   "execution_count": 25,
   "metadata": {
    "scrolled": true
   },
   "outputs": [
    {
     "data": {
      "text/plain": [
       "\n",
       "Call:\n",
       "lm(formula = accident_cnt ~ 어린이집_count + poly(정류장_count_100, \n",
       "    3) + grid_유소년인구_100 + grid_학원수_100, data = acc1)\n",
       "\n",
       "Residuals:\n",
       "    Min      1Q  Median      3Q     Max \n",
       "-3.0121 -0.4836 -0.3363  0.3419  6.2354 \n",
       "\n",
       "Coefficients:\n",
       "                             Estimate Std. Error t value Pr(>|t|)    \n",
       "(Intercept)                 1.3885717  0.0839820  16.534  < 2e-16 ***\n",
       "어린이집_count              0.0353486  0.0130740   2.704  0.00720 ** \n",
       "poly(정류장_count_100, 3)1  3.2770085  1.0661680   3.074  0.00229 ** \n",
       "poly(정류장_count_100, 3)2  2.8296220  1.0763955   2.629  0.00896 ** \n",
       "poly(정류장_count_100, 3)3  2.7232356  1.0615232   2.565  0.01074 *  \n",
       "grid_유소년인구_100        -0.0014611  0.0008036  -1.818  0.06991 .  \n",
       "grid_학원수_100             0.0120265  0.0049361   2.436  0.01535 *  \n",
       "---\n",
       "Signif. codes:  0 ‘***’ 0.001 ‘**’ 0.01 ‘*’ 0.05 ‘.’ 0.1 ‘ ’ 1\n",
       "\n",
       "Residual standard error: 1.054 on 338 degrees of freedom\n",
       "Multiple R-squared:  0.1121,\tAdjusted R-squared:  0.09632 \n",
       "F-statistic: 7.111 on 6 and 338 DF,  p-value: 3.776e-07\n"
      ]
     },
     "metadata": {},
     "output_type": "display_data"
    }
   ],
   "source": [
    "# 3차항도 유의한지, 넣어서 model fitting\n",
    "lm.final5 <- lm(accident_cnt~어린이집_count+poly(정류장_count_100,3)+grid_유소년인구_100+grid_학원수_100,acc1)\n",
    "summary(lm.final5)"
   ]
  },
  {
   "cell_type": "markdown",
   "metadata": {},
   "source": [
    "- 3차항도 유의\n",
    "- grid_유소년인구_100 설명변수의 유의성 또한 증가\n",
    "- 결정계수 0.09 >> 0.11 증가\n",
    "__>> 예비 model adopt__"
   ]
  },
  {
   "cell_type": "code",
   "execution_count": null,
   "metadata": {},
   "outputs": [],
   "source": [
    "# Cohen, J, Statistical Power Analysis for the Behavioral Sciences(2nd Ed.)\n",
    "# Coefficient of R - Squared\n",
    "# 작은 크기 : 2%\n",
    "# 중간 크기 : 13%\n",
    "# 큰   크기 : 35%"
   ]
  },
  {
   "cell_type": "markdown",
   "metadata": {},
   "source": [
    "# - Model Validation\n",
    "- random seed는 2021로 부여\n",
    "### LOOCV Approach"
   ]
  },
  {
   "cell_type": "code",
   "execution_count": 26,
   "metadata": {},
   "outputs": [],
   "source": [
    "library(boot)"
   ]
  },
  {
   "cell_type": "code",
   "execution_count": 29,
   "metadata": {},
   "outputs": [],
   "source": [
    "set.seed(2021)\n",
    "glm.fit = glm(accident_cnt~어린이집_count+poly(정류장_count_100,3)+grid_유소년인구_100+grid_학원수_100,data=acc1)\n",
    "cv.err = cv.glm(acc1,glm.fit)"
   ]
  },
  {
   "cell_type": "code",
   "execution_count": 30,
   "metadata": {},
   "outputs": [
    {
     "data": {
      "text/html": [
       "1.22195173009843"
      ],
      "text/latex": [
       "1.22195173009843"
      ],
      "text/markdown": [
       "1.22195173009843"
      ],
      "text/plain": [
       "[1] 1.221952"
      ]
     },
     "metadata": {},
     "output_type": "display_data"
    }
   ],
   "source": [
    "cv.err$delta[1] # mse 1.2219"
   ]
  },
  {
   "cell_type": "code",
   "execution_count": 31,
   "metadata": {
    "scrolled": true
   },
   "outputs": [
    {
     "data": {
      "text/plain": [
       "      Length Class  Mode   \n",
       "call    3    -none- call   \n",
       "K       1    -none- numeric\n",
       "delta   2    -none- numeric\n",
       "seed  626    -none- numeric"
      ]
     },
     "metadata": {},
     "output_type": "display_data"
    }
   ],
   "source": [
    "summary(cv.err)"
   ]
  },
  {
   "cell_type": "markdown",
   "metadata": {},
   "source": [
    "- LOOCV MSE : 1.2219"
   ]
  },
  {
   "cell_type": "markdown",
   "metadata": {},
   "source": [
    "-----------------------------------------------------------------"
   ]
  },
  {
   "cell_type": "markdown",
   "metadata": {},
   "source": [
    "### K-Fold validation"
   ]
  },
  {
   "cell_type": "code",
   "execution_count": 32,
   "metadata": {},
   "outputs": [
    {
     "data": {
      "text/html": [
       "1.18062388805262"
      ],
      "text/latex": [
       "1.18062388805262"
      ],
      "text/markdown": [
       "1.18062388805262"
      ],
      "text/plain": [
       "[1] 1.180624"
      ]
     },
     "metadata": {},
     "output_type": "display_data"
    }
   ],
   "source": [
    "set.seed(2021)\n",
    "cv.glm(acc1,glm.fit,K=5)$delta[1]"
   ]
  },
  {
   "cell_type": "code",
   "execution_count": 33,
   "metadata": {},
   "outputs": [
    {
     "data": {
      "text/html": [
       "1.22556424918313"
      ],
      "text/latex": [
       "1.22556424918313"
      ],
      "text/markdown": [
       "1.22556424918313"
      ],
      "text/plain": [
       "[1] 1.225564"
      ]
     },
     "metadata": {},
     "output_type": "display_data"
    }
   ],
   "source": [
    "set.seed(2021)\n",
    "cv.glm(acc1,glm.fit,K=10)$delta[1]"
   ]
  },
  {
   "cell_type": "markdown",
   "metadata": {},
   "source": [
    "- 5-fold validation >> MSE : 1.18062\n",
    "- 10-fold validation >> MSE : 1.22556"
   ]
  },
  {
   "cell_type": "markdown",
   "metadata": {},
   "source": [
    "-----------------------------------------------------------------"
   ]
  },
  {
   "cell_type": "markdown",
   "metadata": {},
   "source": [
    "### Validation Set Approach"
   ]
  },
  {
   "cell_type": "code",
   "execution_count": 43,
   "metadata": {},
   "outputs": [
    {
     "data": {
      "text/html": [
       "1.1504824276659"
      ],
      "text/latex": [
       "1.1504824276659"
      ],
      "text/markdown": [
       "1.1504824276659"
      ],
      "text/plain": [
       "[1] 1.150482"
      ]
     },
     "metadata": {},
     "output_type": "display_data"
    }
   ],
   "source": [
    "set.seed(2021)\n",
    "train = sort(sample(1:dim(acc1)[1],dim(acc1)[1]*0.8))       # 8대2 비율로 train set의 index를 random sampling\n",
    "test = setdiff(1:dim(acc1)[1],train)\n",
    "\n",
    "y_test = acc1$accident_cnt[test]      # test set\n",
    "x_test = acc1[test,-1]\n",
    "\n",
    "lm.fit = lm(accident_cnt~어린이집_count+poly(정류장_count_100,3)+grid_유소년인구_100+grid_학원수_100,data=acc1,subset=train)\n",
    "yhat = predict(lm.fit,x_test)         # x_test를 새로운 data로 predict\n",
    "mean((y_test-yhat)^2)"
   ]
  },
  {
   "cell_type": "code",
   "execution_count": 44,
   "metadata": {},
   "outputs": [
    {
     "data": {
      "text/plain": [
       "\n",
       "Call:\n",
       "lm(formula = accident_cnt ~ 어린이집_count + poly(정류장_count_100, \n",
       "    3) + grid_유소년인구_100 + grid_학원수_100, data = acc1, \n",
       "    subset = train)\n",
       "\n",
       "Residuals:\n",
       "    Min      1Q  Median      3Q     Max \n",
       "-3.6415 -0.4946 -0.3323  0.3211  5.6264 \n",
       "\n",
       "Coefficients:\n",
       "                             Estimate Std. Error t value Pr(>|t|)    \n",
       "(Intercept)                 1.3952412  0.0944457  14.773  < 2e-16 ***\n",
       "어린이집_count              0.0269371  0.0144406   1.865  0.06322 .  \n",
       "poly(정류장_count_100, 3)1  3.9062420  1.2167671   3.210  0.00149 ** \n",
       "poly(정류장_count_100, 3)2  3.6515773  1.2322117   2.963  0.00331 ** \n",
       "poly(정류장_count_100, 3)3  3.6223452  1.1851050   3.057  0.00246 ** \n",
       "grid_유소년인구_100        -0.0010818  0.0008489  -1.274  0.20367    \n",
       "grid_학원수_100             0.0133564  0.0058733   2.274  0.02375 *  \n",
       "---\n",
       "Signif. codes:  0 ‘***’ 0.001 ‘**’ 0.01 ‘*’ 0.05 ‘.’ 0.1 ‘ ’ 1\n",
       "\n",
       "Residual standard error: 1.054 on 269 degrees of freedom\n",
       "Multiple R-squared:  0.1333,\tAdjusted R-squared:  0.1139 \n",
       "F-statistic: 6.892 on 6 and 269 DF,  p-value: 8.011e-07\n"
      ]
     },
     "metadata": {},
     "output_type": "display_data"
    }
   ],
   "source": [
    "summary(lm.fit)"
   ]
  },
  {
   "cell_type": "markdown",
   "metadata": {},
   "source": [
    "- train/test(8:2) MSE : 1.1504"
   ]
  },
  {
   "cell_type": "markdown",
   "metadata": {},
   "source": [
    "### Model의 성능은 \n",
    "- Validation set / K-Fold / LOOCV 순\n",
    "- Validation set 모델의 R-squared 도 0.133 으로 상승"
   ]
  },
  {
   "cell_type": "code",
   "execution_count": 57,
   "metadata": {},
   "outputs": [
    {
     "data": {
      "text/html": [
       "1.17655341283567"
      ],
      "text/latex": [
       "1.17655341283567"
      ],
      "text/markdown": [
       "1.17655341283567"
      ],
      "text/plain": [
       "[1] 1.176553"
      ]
     },
     "metadata": {},
     "output_type": "display_data"
    }
   ],
   "source": [
    "# 유의하지 않은 grid_유소년인구_100 변수 제거\n",
    "set.seed(2021)\n",
    "train = sort(sample(1:dim(acc1)[1],dim(acc1)[1]*0.8))       # 5대5 비율로 train set의 index를 random sampling\n",
    "test = setdiff(1:dim(acc1)[1],train)\n",
    "\n",
    "y_test = acc1$accident_cnt[test]      # test set\n",
    "x_test = acc1[test,-1]                # acc1의 첫번째 열이 accident_cnt\n",
    "\n",
    "lm.fit = lm(accident_cnt~어린이집_count+poly(정류장_count_100,3)+grid_학원수_100,data=acc1,subset=train)\n",
    "yhat = predict(lm.fit,x_test)         # x_test를 새로운 data로 predict\n",
    "mean((y_test-yhat)^2)"
   ]
  },
  {
   "cell_type": "code",
   "execution_count": 58,
   "metadata": {},
   "outputs": [
    {
     "data": {
      "text/plain": [
       "\n",
       "Call:\n",
       "lm(formula = accident_cnt ~ 어린이집_count + poly(정류장_count_100, \n",
       "    3) + grid_학원수_100, data = acc1, subset = train)\n",
       "\n",
       "Residuals:\n",
       "    Min      1Q  Median      3Q     Max \n",
       "-3.6717 -0.4980 -0.3394  0.3652  5.5908 \n",
       "\n",
       "Coefficients:\n",
       "                           Estimate Std. Error t value Pr(>|t|)    \n",
       "(Intercept)                1.378417   0.093626  14.723  < 2e-16 ***\n",
       "어린이집_count             0.017999   0.012637   1.424  0.15552    \n",
       "poly(정류장_count_100, 3)1 3.741189   1.211250   3.089  0.00222 ** \n",
       "poly(정류장_count_100, 3)2 3.905168   1.217438   3.208  0.00150 ** \n",
       "poly(정류장_count_100, 3)3 3.647427   1.186309   3.075  0.00232 ** \n",
       "grid_학원수_100            0.013818   0.005869   2.354  0.01927 *  \n",
       "---\n",
       "Signif. codes:  0 ‘***’ 0.001 ‘**’ 0.01 ‘*’ 0.05 ‘.’ 0.1 ‘ ’ 1\n",
       "\n",
       "Residual standard error: 1.055 on 270 degrees of freedom\n",
       "Multiple R-squared:  0.128,\tAdjusted R-squared:  0.1119 \n",
       "F-statistic: 7.928 on 5 and 270 DF,  p-value: 5.488e-07\n"
      ]
     },
     "metadata": {},
     "output_type": "display_data"
    }
   ],
   "source": [
    "summary(lm.fit)"
   ]
  },
  {
   "cell_type": "markdown",
   "metadata": {},
   "source": [
    "- MSE값 증가와 함께, 어린이집_count의 유의성도 떨어짐\n",
    "    - 100m의 유소년 인구를 반경 300m로 넓혀봄 (grid_유소년인구 변수 추가)"
   ]
  },
  {
   "cell_type": "code",
   "execution_count": 59,
   "metadata": {},
   "outputs": [
    {
     "data": {
      "text/html": [
       "1.16909067449966"
      ],
      "text/latex": [
       "1.16909067449966"
      ],
      "text/markdown": [
       "1.16909067449966"
      ],
      "text/plain": [
       "[1] 1.169091"
      ]
     },
     "metadata": {},
     "output_type": "display_data"
    }
   ],
   "source": [
    "# 유의하지 않은 grid_유소년인구_100 변수 제거\n",
    "set.seed(2021)\n",
    "train = sort(sample(1:dim(acc1)[1],dim(acc1)[1]*0.8))       # 5대5 비율로 train set의 index를 random sampling\n",
    "test = setdiff(1:dim(acc1)[1],train)\n",
    "\n",
    "y_test = acc1$accident_cnt[test]      # test set\n",
    "x_test = acc1[test,-1]                # acc1의 첫번째 열이 accident_cnt\n",
    "\n",
    "lm.fit = lm(accident_cnt~어린이집_count+poly(정류장_count_100,3)+grid_유소년인구+grid_학원수_100,data=acc1,subset=train)\n",
    "yhat = predict(lm.fit,x_test)         # x_test를 새로운 data로 predict\n",
    "mean((y_test-yhat)^2)"
   ]
  },
  {
   "cell_type": "code",
   "execution_count": 60,
   "metadata": {},
   "outputs": [
    {
     "data": {
      "text/plain": [
       "\n",
       "Call:\n",
       "lm(formula = accident_cnt ~ 어린이집_count + poly(정류장_count_100, \n",
       "    3) + grid_유소년인구 + grid_학원수_100, data = acc1, \n",
       "    subset = train)\n",
       "\n",
       "Residuals:\n",
       "    Min      1Q  Median      3Q     Max \n",
       "-3.6004 -0.4989 -0.3343  0.2805  5.6036 \n",
       "\n",
       "Coefficients:\n",
       "                             Estimate Std. Error t value Pr(>|t|)    \n",
       "(Intercept)                 1.4041522  0.0945811  14.846  < 2e-16 ***\n",
       "어린이집_count              0.0385661  0.0176151   2.189  0.02943 *  \n",
       "poly(정류장_count_100, 3)1  3.9446651  1.2133871   3.251  0.00130 ** \n",
       "poly(정류장_count_100, 3)2  3.5823219  1.2287240   2.915  0.00385 ** \n",
       "poly(정류장_count_100, 3)3  3.5698312  1.1833100   3.017  0.00280 ** \n",
       "grid_유소년인구            -0.0006546  0.0003919  -1.670  0.09605 .  \n",
       "grid_학원수_100             0.0132500  0.0058594   2.261  0.02454 *  \n",
       "---\n",
       "Signif. codes:  0 ‘***’ 0.001 ‘**’ 0.01 ‘*’ 0.05 ‘.’ 0.1 ‘ ’ 1\n",
       "\n",
       "Residual standard error: 1.052 on 269 degrees of freedom\n",
       "Multiple R-squared:  0.137,\tAdjusted R-squared:  0.1177 \n",
       "F-statistic: 7.115 on 6 and 269 DF,  p-value: 4.734e-07\n"
      ]
     },
     "metadata": {},
     "output_type": "display_data"
    }
   ],
   "source": [
    "summary(lm.fit)"
   ]
  },
  {
   "cell_type": "markdown",
   "metadata": {},
   "source": [
    "- grid 유소년 인구의 유의성은 약간 떨어지지만 다른 변수의 유의성 증가\n",
    "- model의 결정계수 또한 0.137로 증가 및 MSE 1.17 --> 1.16으로 소폭 감소\n",
    "### 최종 모델로 채택"
   ]
  },
  {
   "cell_type": "code",
   "execution_count": null,
   "metadata": {},
   "outputs": [],
   "source": [
    "## 최종 모델\n",
    "yhat = 1.4041522 + 0.0385661* 어린이집_count + 3.9446651*(정류장_count_100)+ \n",
    "        3.5823219*(정류장_count_100)^2 3.5698312*(정류장_count_100)^3 \n",
    "        -0.0006546*grid_유소년인구 +0.0132500*grid_학원수_100"
   ]
  },
  {
   "cell_type": "code",
   "execution_count": 63,
   "metadata": {},
   "outputs": [],
   "source": [
    "yhat <- predict(lm.fit,acc1[-1])"
   ]
  },
  {
   "cell_type": "code",
   "execution_count": 64,
   "metadata": {},
   "outputs": [
    {
     "name": "stdout",
     "output_type": "stream",
     "text": [
      "        1         2         3         4         5         6         7         8 \n",
      "1.3901837 1.2562328 1.2562328 1.2562328 1.5310252 1.3137265 1.2957140 1.2523051 \n",
      "        9        10        11        12        13        14        15        16 \n",
      "1.2947990 1.2490321 1.3196181 1.3901837 1.2947990 1.4003197 2.1814919 1.3572480 \n",
      "       17        18        19        20        21        22        23        24 \n",
      "1.5692109 1.1938753 1.5364662 1.2186027 1.2980494 1.3333651 1.2947990 1.0547252 \n",
      "       25        26        27        28        29        30        31        32 \n",
      "1.3038510 1.7238557 1.2562328 1.4974998 1.2878944 1.3147337 1.4338741 1.4502958 \n",
      "       33        34        35        36        37        38        39        40 \n",
      "1.2562328 1.5310252 1.5310252 1.5459615 2.1766498 1.1939316 1.2842688 1.3771118 \n",
      "       41        42        43        44        45        46        47        48 \n",
      "1.1741241 1.3719312 1.1456172 1.3745643 2.4242174 1.4892069 1.2565741 1.6215445 \n",
      "       49        50        51        52        53        54        55        56 \n",
      "1.4256808 1.6359117 1.5695913 1.4870526 1.3309302 1.4463886 1.2562328 1.4856093 \n",
      "       57        58        59        60        61        62        63        64 \n",
      "1.4788036 1.3950346 1.5579135 1.4658582 1.4877763 1.4287498 1.5137016 1.2562328 \n",
      "       65        66        67        68        69        70        71        72 \n",
      "1.2809394 1.8795368 2.2179307 1.7523480 1.3446633 1.3969340 1.3812231 1.3629502 \n",
      "       73        74        75        76        77        78        79        80 \n",
      "1.2562328 1.3968839 1.9554723 2.2676816 1.4532874 1.5777773 1.3673489 1.4253641 \n",
      "       81        82        83        84        85        86        87        88 \n",
      "1.6130702 1.2562328 1.5310252 1.5015674 1.3560724 1.5101827 1.3891228 1.2562328 \n",
      "       89        90        91        92        93        94        95        96 \n",
      "1.5310252 1.3333651 1.2562328 1.6882811 1.4246736 1.2274297 1.7419116 1.4502600 \n",
      "       97        98        99       100       101       102       103       104 \n",
      "1.2562328 1.3431280 1.3699110 1.5071072 1.2943807 1.2516505 1.2562328 1.4685688 \n",
      "      105       106       107       108       109       110       111       112 \n",
      "1.8442760 1.8505760 1.2504763 1.5264428 1.5310252 1.2333212 1.5519642 1.4368478 \n",
      "      113       114       115       116       117       118       119       120 \n",
      "1.3437585 1.3634212 1.2562328 1.4235128 1.2803974 1.3751111 1.4757696 1.2600479 \n",
      "      121       122       123       124       125       126       127       128 \n",
      "1.1802409 1.3691796 1.2562328 1.4522476 1.4005892 1.5305282 1.2856343 1.2777789 \n",
      "      129       130       131       132       133       134       135       136 \n",
      "1.4038707 1.2822936 1.3986253 1.4411191 0.9197032 1.5020531 1.2562328 1.3770913 \n",
      "      137       138       139       140       141       142       143       144 \n",
      "1.5479889 1.3653287 1.3606660 1.2684453 1.4564300 1.1146666 1.0020724 1.2562328 \n",
      "      145       146       147       148       149       150       151       152 \n",
      "1.4522476 1.6135520 1.5084321 1.5936995 1.5136570 1.4673159 1.4097300 1.4891297 \n",
      "      153       154       155       156       157       158       159       160 \n",
      "1.3430512 1.5492847 1.5710581 1.4489182 1.4332074 1.5603703 1.3058711 1.0855050 \n",
      "      161       162       163       164       165       166       167       168 \n",
      "1.3036820 1.3548502 1.3581233 1.2738512 1.2437951 1.2365943 1.3333651 1.8849958 \n",
      "      169       170       171       172       173       174       175       176 \n",
      "1.6981627 1.5900194 1.1657977 1.2654547 1.4514786 1.3748459 1.2053768 4.2578772 \n",
      "      177       178       179       180       181       182       183       184 \n",
      "1.3554889 1.2529034 1.2136827 1.4116734 1.2790881 1.6091185 1.3525188 1.3568187 \n",
      "      185       186       187       188       189       190       191       192 \n",
      "1.4879463 2.1736365 1.5636997 1.2731966 1.4097659 1.4208944 1.4790306 1.4385127 \n",
      "      193       194       195       196       197       198       199       200 \n",
      "1.4535005 1.4796973 1.6310127 1.2600479 1.4659383 1.4401577 1.3697630 1.5043117 \n",
      "      201       202       203       204       205       206       207       208 \n",
      "1.6929125 2.3647788 2.1916852 2.1115997 1.7140365 1.4868860 1.4980266 2.4153575 \n",
      "      209       210       211       212       213       214       215       216 \n",
      "1.6898238 1.6760686 1.3526094 1.5464662 1.9363118 1.7204269 1.6080375 1.3967503 \n",
      "      217       218       219       220       221       222       223       224 \n",
      "1.5878642 1.6003020 1.4929473 1.3947865 1.6065563 2.3945674 1.5155865 1.8111760 \n",
      "      225       226       227       228       229       230       231       232 \n",
      "1.6283270 2.0454533 1.7955821 1.4379349 1.2745058 1.6399956 1.4084771 1.3587825 \n",
      "      233       234       235       236       237       238       239       240 \n",
      "1.3365818 1.3588388 1.6866340 1.5679446 1.7514192 1.6572991 1.3975528 2.0647712 \n",
      "      241       242       243       244       245       246       247       248 \n",
      "2.2356263 1.7099398 1.4533145 1.2901040 1.2594496 1.2633773 1.4455446 1.2562328 \n",
      "      249       250       251       252       253       254       255       256 \n",
      "1.6521784 1.3636048 1.5213352 1.4770593 4.6003934 4.3964308 1.5601231 1.6680443 \n",
      "      257       258       259       260       261       262       263       264 \n",
      "1.7369797 1.5008554 1.7834663 2.1493301 2.1450999 1.6386428 1.2834452 1.4242904 \n",
      "      265       266       267       268       269       270       271       272 \n",
      "2.0180985 1.7815705 2.2462815 2.3276648 1.3919637 1.4886009 1.4107014 1.6247971 \n",
      "      273       274       275       276       277       278       279       280 \n",
      "1.3352726 1.7862060 2.3093923 2.0817721 2.2937395 2.0635548 1.6295835 1.8404691 \n",
      "      281       282       283       284       285       286       287       288 \n",
      "1.4413558 1.8127147 1.7964056 1.4542440 1.3559388 1.9781077 1.6694794 1.9161231 \n",
      "      289       290       291       292       293       294       295       296 \n",
      "1.4964710 1.8449894 2.0422811 2.3277320 2.2073387 1.3960394 1.4588263 1.4294249 \n",
      "      297       298       299       300       301       302       303       304 \n",
      "1.2023290 1.4202039 1.4575171 1.3947865 1.6642988 1.5787838 1.9283919 2.7064301 \n",
      "      305       306       307       308       309       310       311       312 \n",
      "2.6449953 4.5623094 1.7222104 1.6081574 1.5134200 2.0956300 1.8023462 1.2164285 \n",
      "      313       314       315       316       317       318       319       320 \n",
      "1.5695913 1.4287498 1.5357896 1.8423203 1.6290840 1.4417709 1.5098597 1.6081574 \n",
      "      321       322       323       324       325       326       327       328 \n",
      "1.5695913 1.5126323 1.6174274 1.4202897 1.2562328 1.2562328 1.3796740 1.3901837 \n",
      "      329       330       331       332       333       334       335       336 \n",
      "1.5310252 1.4089423 1.1898913 1.0996104 1.5796157 1.3333651 1.4522476 1.1041927 \n",
      "      337       338       339       340       341       342       343       344 \n",
      "1.4194725 1.2562328 1.2562328 1.3901837 1.1762569 1.6201481 1.3160993 1.3901837 \n",
      "      345 \n",
      "1.2287389 \n"
     ]
    }
   ],
   "source": [
    "print(yhat)"
   ]
  },
  {
   "cell_type": "code",
   "execution_count": 65,
   "metadata": {},
   "outputs": [],
   "source": [
    "acc1['score'] = yhat"
   ]
  },
  {
   "cell_type": "code",
   "execution_count": 66,
   "metadata": {
    "scrolled": true
   },
   "outputs": [
    {
     "data": {
      "text/html": [
       "<table>\n",
       "<caption>A data.frame: 6 × 22</caption>\n",
       "<thead>\n",
       "\t<tr><th></th><th scope=col>accident_cnt</th><th scope=col>어린이집_count</th><th scope=col>유치원_count</th><th scope=col>초등학교_count</th><th scope=col>방지턱_count</th><th scope=col>불법주정차_cam_count</th><th scope=col>정류장_count_100</th><th scope=col>정류장_count_300</th><th scope=col>grid_유동인구</th><th scope=col>grid_유소년인구</th><th scope=col>⋯</th><th scope=col>유치원_count_100</th><th scope=col>초등학교_count_100</th><th scope=col>방지턱_count_100</th><th scope=col>grid_유소년인구_100</th><th scope=col>grid_학원수_100</th><th scope=col>어린이집_count_200</th><th scope=col>유치원_count_200</th><th scope=col>초등학교_count_200</th><th scope=col>방지턱_count_200</th><th scope=col>score</th></tr>\n",
       "\t<tr><th></th><th scope=col>&lt;int&gt;</th><th scope=col>&lt;int&gt;</th><th scope=col>&lt;int&gt;</th><th scope=col>&lt;int&gt;</th><th scope=col>&lt;int&gt;</th><th scope=col>&lt;int&gt;</th><th scope=col>&lt;int&gt;</th><th scope=col>&lt;int&gt;</th><th scope=col>&lt;dbl&gt;</th><th scope=col>&lt;dbl&gt;</th><th scope=col>⋯</th><th scope=col>&lt;int&gt;</th><th scope=col>&lt;int&gt;</th><th scope=col>&lt;int&gt;</th><th scope=col>&lt;dbl&gt;</th><th scope=col>&lt;int&gt;</th><th scope=col>&lt;int&gt;</th><th scope=col>&lt;int&gt;</th><th scope=col>&lt;int&gt;</th><th scope=col>&lt;int&gt;</th><th scope=col>&lt;dbl&gt;</th></tr>\n",
       "</thead>\n",
       "<tbody>\n",
       "\t<tr><th scope=row>1</th><td>1</td><td>0</td><td>0</td><td>0</td><td>0</td><td>0</td><td>2</td><td>2</td><td>43.435676</td><td> 0</td><td>⋯</td><td>0</td><td>0</td><td>0</td><td> 0</td><td>0</td><td>0</td><td>0</td><td>0</td><td>0</td><td>1.390184</td></tr>\n",
       "\t<tr><th scope=row>2</th><td>1</td><td>0</td><td>0</td><td>0</td><td>0</td><td>0</td><td>0</td><td>2</td><td> 9.633417</td><td> 0</td><td>⋯</td><td>0</td><td>0</td><td>0</td><td> 0</td><td>0</td><td>0</td><td>0</td><td>0</td><td>0</td><td>1.256233</td></tr>\n",
       "\t<tr><th scope=row>3</th><td>1</td><td>0</td><td>0</td><td>0</td><td>0</td><td>0</td><td>0</td><td>2</td><td> 0.215500</td><td> 0</td><td>⋯</td><td>0</td><td>0</td><td>0</td><td> 0</td><td>0</td><td>0</td><td>0</td><td>0</td><td>0</td><td>1.256233</td></tr>\n",
       "\t<tr><th scope=row>4</th><td>1</td><td>0</td><td>0</td><td>0</td><td>0</td><td>0</td><td>0</td><td>0</td><td> 0.662000</td><td> 0</td><td>⋯</td><td>0</td><td>0</td><td>0</td><td> 0</td><td>0</td><td>0</td><td>0</td><td>0</td><td>0</td><td>1.256233</td></tr>\n",
       "\t<tr><th scope=row>5</th><td>1</td><td>0</td><td>0</td><td>0</td><td>0</td><td>0</td><td>1</td><td>6</td><td> 8.104333</td><td> 0</td><td>⋯</td><td>0</td><td>0</td><td>0</td><td> 0</td><td>0</td><td>0</td><td>0</td><td>0</td><td>0</td><td>1.531025</td></tr>\n",
       "\t<tr><th scope=row>6</th><td>1</td><td>2</td><td>1</td><td>0</td><td>0</td><td>0</td><td>0</td><td>0</td><td> 2.751254</td><td>30</td><td>⋯</td><td>0</td><td>0</td><td>0</td><td>30</td><td>0</td><td>0</td><td>1</td><td>0</td><td>0</td><td>1.313727</td></tr>\n",
       "</tbody>\n",
       "</table>\n"
      ],
      "text/latex": [
       "A data.frame: 6 × 22\n",
       "\\begin{tabular}{r|lllllllllllllllllllll}\n",
       "  & accident\\_cnt & 어린이집\\_count & 유치원\\_count & 초등학교\\_count & 방지턱\\_count & 불법주정차\\_cam\\_count & 정류장\\_count\\_100 & 정류장\\_count\\_300 & grid\\_유동인구 & grid\\_유소년인구 & ⋯ & 유치원\\_count\\_100 & 초등학교\\_count\\_100 & 방지턱\\_count\\_100 & grid\\_유소년인구\\_100 & grid\\_학원수\\_100 & 어린이집\\_count\\_200 & 유치원\\_count\\_200 & 초등학교\\_count\\_200 & 방지턱\\_count\\_200 & score\\\\\n",
       "  & <int> & <int> & <int> & <int> & <int> & <int> & <int> & <int> & <dbl> & <dbl> & ⋯ & <int> & <int> & <int> & <dbl> & <int> & <int> & <int> & <int> & <int> & <dbl>\\\\\n",
       "\\hline\n",
       "\t1 & 1 & 0 & 0 & 0 & 0 & 0 & 2 & 2 & 43.435676 &  0 & ⋯ & 0 & 0 & 0 &  0 & 0 & 0 & 0 & 0 & 0 & 1.390184\\\\\n",
       "\t2 & 1 & 0 & 0 & 0 & 0 & 0 & 0 & 2 &  9.633417 &  0 & ⋯ & 0 & 0 & 0 &  0 & 0 & 0 & 0 & 0 & 0 & 1.256233\\\\\n",
       "\t3 & 1 & 0 & 0 & 0 & 0 & 0 & 0 & 2 &  0.215500 &  0 & ⋯ & 0 & 0 & 0 &  0 & 0 & 0 & 0 & 0 & 0 & 1.256233\\\\\n",
       "\t4 & 1 & 0 & 0 & 0 & 0 & 0 & 0 & 0 &  0.662000 &  0 & ⋯ & 0 & 0 & 0 &  0 & 0 & 0 & 0 & 0 & 0 & 1.256233\\\\\n",
       "\t5 & 1 & 0 & 0 & 0 & 0 & 0 & 1 & 6 &  8.104333 &  0 & ⋯ & 0 & 0 & 0 &  0 & 0 & 0 & 0 & 0 & 0 & 1.531025\\\\\n",
       "\t6 & 1 & 2 & 1 & 0 & 0 & 0 & 0 & 0 &  2.751254 & 30 & ⋯ & 0 & 0 & 0 & 30 & 0 & 0 & 1 & 0 & 0 & 1.313727\\\\\n",
       "\\end{tabular}\n"
      ],
      "text/markdown": [
       "\n",
       "A data.frame: 6 × 22\n",
       "\n",
       "| <!--/--> | accident_cnt &lt;int&gt; | 어린이집_count &lt;int&gt; | 유치원_count &lt;int&gt; | 초등학교_count &lt;int&gt; | 방지턱_count &lt;int&gt; | 불법주정차_cam_count &lt;int&gt; | 정류장_count_100 &lt;int&gt; | 정류장_count_300 &lt;int&gt; | grid_유동인구 &lt;dbl&gt; | grid_유소년인구 &lt;dbl&gt; | ⋯ ⋯ | 유치원_count_100 &lt;int&gt; | 초등학교_count_100 &lt;int&gt; | 방지턱_count_100 &lt;int&gt; | grid_유소년인구_100 &lt;dbl&gt; | grid_학원수_100 &lt;int&gt; | 어린이집_count_200 &lt;int&gt; | 유치원_count_200 &lt;int&gt; | 초등학교_count_200 &lt;int&gt; | 방지턱_count_200 &lt;int&gt; | score &lt;dbl&gt; |\n",
       "|---|---|---|---|---|---|---|---|---|---|---|---|---|---|---|---|---|---|---|---|---|---|\n",
       "| 1 | 1 | 0 | 0 | 0 | 0 | 0 | 2 | 2 | 43.435676 |  0 | ⋯ | 0 | 0 | 0 |  0 | 0 | 0 | 0 | 0 | 0 | 1.390184 |\n",
       "| 2 | 1 | 0 | 0 | 0 | 0 | 0 | 0 | 2 |  9.633417 |  0 | ⋯ | 0 | 0 | 0 |  0 | 0 | 0 | 0 | 0 | 0 | 1.256233 |\n",
       "| 3 | 1 | 0 | 0 | 0 | 0 | 0 | 0 | 2 |  0.215500 |  0 | ⋯ | 0 | 0 | 0 |  0 | 0 | 0 | 0 | 0 | 0 | 1.256233 |\n",
       "| 4 | 1 | 0 | 0 | 0 | 0 | 0 | 0 | 0 |  0.662000 |  0 | ⋯ | 0 | 0 | 0 |  0 | 0 | 0 | 0 | 0 | 0 | 1.256233 |\n",
       "| 5 | 1 | 0 | 0 | 0 | 0 | 0 | 1 | 6 |  8.104333 |  0 | ⋯ | 0 | 0 | 0 |  0 | 0 | 0 | 0 | 0 | 0 | 1.531025 |\n",
       "| 6 | 1 | 2 | 1 | 0 | 0 | 0 | 0 | 0 |  2.751254 | 30 | ⋯ | 0 | 0 | 0 | 30 | 0 | 0 | 1 | 0 | 0 | 1.313727 |\n",
       "\n"
      ],
      "text/plain": [
       "  accident_cnt 어린이집_count 유치원_count 초등학교_count 방지턱_count\n",
       "1 1            0              0            0              0           \n",
       "2 1            0              0            0              0           \n",
       "3 1            0              0            0              0           \n",
       "4 1            0              0            0              0           \n",
       "5 1            0              0            0              0           \n",
       "6 1            2              1            0              0           \n",
       "  불법주정차_cam_count 정류장_count_100 정류장_count_300 grid_유동인구\n",
       "1 0                    2                2                43.435676    \n",
       "2 0                    0                2                 9.633417    \n",
       "3 0                    0                2                 0.215500    \n",
       "4 0                    0                0                 0.662000    \n",
       "5 0                    1                6                 8.104333    \n",
       "6 0                    0                0                 2.751254    \n",
       "  grid_유소년인구 ⋯ 유치원_count_100 초등학교_count_100 방지턱_count_100\n",
       "1  0              ⋯ 0                0                  0               \n",
       "2  0              ⋯ 0                0                  0               \n",
       "3  0              ⋯ 0                0                  0               \n",
       "4  0              ⋯ 0                0                  0               \n",
       "5  0              ⋯ 0                0                  0               \n",
       "6 30              ⋯ 0                0                  0               \n",
       "  grid_유소년인구_100 grid_학원수_100 어린이집_count_200 유치원_count_200\n",
       "1  0                  0               0                  0               \n",
       "2  0                  0               0                  0               \n",
       "3  0                  0               0                  0               \n",
       "4  0                  0               0                  0               \n",
       "5  0                  0               0                  0               \n",
       "6 30                  0               0                  1               \n",
       "  초등학교_count_200 방지턱_count_200 score   \n",
       "1 0                  0                1.390184\n",
       "2 0                  0                1.256233\n",
       "3 0                  0                1.256233\n",
       "4 0                  0                1.256233\n",
       "5 0                  0                1.531025\n",
       "6 0                  0                1.313727"
      ]
     },
     "metadata": {},
     "output_type": "display_data"
    }
   ],
   "source": [
    "head(acc1)"
   ]
  },
  {
   "cell_type": "code",
   "execution_count": 68,
   "metadata": {},
   "outputs": [],
   "source": [
    "write.csv(acc1,'acc1_model_score.csv')"
   ]
  },
  {
   "cell_type": "code",
   "execution_count": null,
   "metadata": {},
   "outputs": [],
   "source": []
  }
 ],
 "metadata": {
  "kernelspec": {
   "display_name": "R",
   "language": "R",
   "name": "ir"
  },
  "language_info": {
   "codemirror_mode": "r",
   "file_extension": ".r",
   "mimetype": "text/x-r-source",
   "name": "R",
   "pygments_lexer": "r",
   "version": "3.6.0"
  }
 },
 "nbformat": 4,
 "nbformat_minor": 2
}
