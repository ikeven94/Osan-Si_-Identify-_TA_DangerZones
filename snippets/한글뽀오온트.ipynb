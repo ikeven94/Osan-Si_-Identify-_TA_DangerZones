{
 "cells": [
  {
   "cell_type": "markdown",
   "metadata": {},
   "source": [
    "# 관리자 이 멍충아!"
   ]
  },
  {
   "cell_type": "code",
   "execution_count": null,
   "metadata": {},
   "outputs": [],
   "source": []
  },
  {
   "cell_type": "code",
   "execution_count": null,
   "metadata": {},
   "outputs": [],
   "source": []
  },
  {
   "cell_type": "code",
   "execution_count": null,
   "metadata": {},
   "outputs": [],
   "source": []
  },
  {
   "cell_type": "markdown",
   "metadata": {},
   "source": [
    "# Step 1 : 쓰고자 하는 폰트 파일을 compas-jupyter notebook 에 업로드 한다."
   ]
  },
  {
   "cell_type": "markdown",
   "metadata": {},
   "source": [
    "이때 업로드하는 경로랑 폰트 이름 이따가 필요함"
   ]
  },
  {
   "cell_type": "code",
   "execution_count": 1,
   "metadata": {},
   "outputs": [
    {
     "name": "stdout",
     "output_type": "stream",
     "text": [
      "/opt/app-root/src\r\n"
     ]
    }
   ],
   "source": [
    "!pwd # 현재 실행되고 있는 이 .ipynb 파일 위치"
   ]
  },
  {
   "cell_type": "code",
   "execution_count": 2,
   "metadata": {},
   "outputs": [],
   "source": [
    "my_font = \"쓰고자하는폰트.ttf\"  # (.otf 파일은 확인 못해봄 일단 가능하면 .ttf 파일로)"
   ]
  },
  {
   "cell_type": "markdown",
   "metadata": {},
   "source": [
    "# Step 2 : 폰트 파일을 운영체제의 폰트 보관소 (window/Font 같은) 말고  \n",
    "# matplotlib 이 인식하는 폰트 보관소에 옮기자"
   ]
  },
  {
   "cell_type": "markdown",
   "metadata": {},
   "source": [
    "matplotlib 이 인식하는 폰트 보관소"
   ]
  },
  {
   "cell_type": "code",
   "execution_count": 7,
   "metadata": {},
   "outputs": [
    {
     "name": "stdout",
     "output_type": "stream",
     "text": [
      "/opt/app-root/lib/python3.6/site-packages/matplotlib/mpl-data/fonts/ttf/\n"
     ]
    }
   ],
   "source": [
    "import matplotlib\n",
    "\n",
    "print(matplotlib.__path__[0]+\"/mpl-data/fonts/ttf/\") # 요고 밑에 복붙"
   ]
  },
  {
   "cell_type": "markdown",
   "metadata": {},
   "source": [
    "파일 옮기기  \n",
    "> !cp `업로드경로+파일명` `옮길경로`"
   ]
  },
  {
   "cell_type": "code",
   "execution_count": null,
   "metadata": {},
   "outputs": [],
   "source": [
    "# 나같은 경우 이런식이었음\n",
    "!cp /opt/app-root/src/malgun.ttf /opt/app-root/lib/python3.6/site-packages/matplotlib/mpl-data/fonts/ttf/"
   ]
  },
  {
   "cell_type": "markdown",
   "metadata": {},
   "source": [
    "# Step 3 : matplotlib 폰트 보관소 캐시를 싹 삭제  \n",
    "# (커널 재시작하면 새로운 정보로 업데이트)"
   ]
  },
  {
   "cell_type": "markdown",
   "metadata": {},
   "source": [
    "폰트 캐시 경로"
   ]
  },
  {
   "cell_type": "code",
   "execution_count": 8,
   "metadata": {},
   "outputs": [
    {
     "name": "stdout",
     "output_type": "stream",
     "text": [
      "/opt/app-root/src/.cache/matplotlib/*\n"
     ]
    }
   ],
   "source": [
    "print(matplotlib.get_cachedir()+\"/*\")"
   ]
  },
  {
   "cell_type": "markdown",
   "metadata": {},
   "source": [
    "삭제"
   ]
  },
  {
   "cell_type": "code",
   "execution_count": null,
   "metadata": {},
   "outputs": [],
   "source": [
    "rm -rf /opt/app-root/src/.cache/matplotlib/*"
   ]
  },
  {
   "cell_type": "markdown",
   "metadata": {},
   "source": [
    "# Step 4 : 커널을 재시작하고 폰트 설정 해보기  \n",
    "# 별다른 문제 안뜨면 잘 인식된거!"
   ]
  },
  {
   "cell_type": "code",
   "execution_count": 9,
   "metadata": {},
   "outputs": [
    {
     "name": "stdout",
     "output_type": "stream",
     "text": [
      "Malgun Gothic 잘 설치됐구먼\n"
     ]
    }
   ],
   "source": [
    "# 한번 설치하고 나서부터는 모든 주피터 파일에 이 셀 복붙하면됨\n",
    "\n",
    "import matplotlib\n",
    "from matplotlib import font_manager\n",
    "import matplotlib.pyplot as plt\n",
    "import warnings\n",
    "\n",
    "warnings.filterwarnings(\"ignore\")\n",
    "matplotlib.rcParams['axes.unicode_minus']=False\n",
    "\n",
    "font_fname = '/opt/app-root/lib/python3.6/site-packages/matplotlib/mpl-data/fonts/ttf/malgun.ttf'\n",
    "font_family = font_manager.FontProperties(fname=font_fname).get_name()\n",
    "\n",
    "plt.rcParams[\"font.family\"] = font_family\n",
    "\n",
    "print(font_family,\"잘 설치됐구먼\")"
   ]
  },
  {
   "cell_type": "markdown",
   "metadata": {},
   "source": [
    "# 잘 설치됐나 확인해보기"
   ]
  },
  {
   "cell_type": "code",
   "execution_count": 15,
   "metadata": {
    "scrolled": true
   },
   "outputs": [
    {
     "data": {
      "text/plain": [
       "<AxesSubplot:xlabel='기분', ylabel='count'>"
      ]
     },
     "execution_count": 15,
     "metadata": {},
     "output_type": "execute_result"
    },
    {
     "data": {
      "image/png": "[encoded data removed]",
      "text/plain": [
       "<Figure size 1080x360 with 2 Axes>"
      ]
     },
     "metadata": {
      "needs_background": "light"
     },
     "output_type": "display_data"
    }
   ],
   "source": [
    "import seaborn as sns\n",
    "import pandas as pd\n",
    "import matplotlib.pyplot as plt\n",
    "\n",
    "a = pd.DataFrame([{\"요일\":\"월요일\",\"기분\":\"좋아\"},\n",
    "                {\"요일\":\"월요일\",\"기분\":\"죽어줘\"},\n",
    "                {\"요일\":\"월요일\",\"기분\":\"좋아\"},\n",
    "                {\"요일\":\"화요일\",\"기분\":\"끔찍\"},\n",
    "                {\"요일\":\"월요일\",\"기분\":\"끔찍\"},\n",
    "                {\"요일\":\"목요일\",\"기분\":\"좋아\"},\n",
    "                {\"요일\":\"월요일\",\"기분\":\"그냥\"},\n",
    "                {\"요일\":\"일요일\",\"기분\":\"좋아\"}])\n",
    "\n",
    "fig1,(ax1,ax2)=plt.subplots(ncols=2,figsize=(15,5))\n",
    "sns.countplot(x='요일',data=a,ax=ax1)\n",
    "sns.countplot(x='기분',data=a,ax=ax2)"
   ]
  },
  {
   "cell_type": "markdown",
   "metadata": {},
   "source": [
    "재밌으셨다면~ 좋아요와~ 구독과~ 알람설정까지~"
   ]
  }
 ],
 "metadata": {
  "kernelspec": {
   "display_name": "Python 3",
   "language": "python",
   "name": "python3"
  },
  "language_info": {
   "codemirror_mode": {
    "name": "ipython",
    "version": 3
   },
   "file_extension": ".py",
   "mimetype": "text/x-python",
   "name": "python",
   "nbconvert_exporter": "python",
   "pygments_lexer": "ipython3",
   "version": "3.6.9"
  }
 },
 "nbformat": 4,
 "nbformat_minor": 2
}
