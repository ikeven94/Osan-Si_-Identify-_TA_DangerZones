{
 "cells": [
  {
   "cell_type": "markdown",
   "metadata": {},
   "source": [
    "# Cell snippet for data download / load"
   ]
  },
  {
   "cell_type": "markdown",
   "metadata": {},
   "source": [
    "data download"
   ]
  },
  {
   "cell_type": "code",
   "execution_count": 1,
   "metadata": {},
   "outputs": [
    {
     "name": "stderr",
     "output_type": "stream",
     "text": [
      "/opt/app-root/lib/python3.6/site-packages/statsmodels/tools/_testing.py:19: FutureWarning: pandas.util.testing is deprecated. Use the functions in the public API at pandas.testing instead.\n",
      "  import pandas.util.testing as tm\n"
     ]
    }
   ],
   "source": [
    "import pathlib\n",
    "import pandas as pd\n",
    "import geopandas as gpd\n",
    "from geoband.API import GetCompasData\n",
    "import json"
   ]
  },
  {
   "cell_type": "code",
   "execution_count": 2,
   "metadata": {},
   "outputs": [],
   "source": [
    "input_path = pathlib.Path('./data')\n",
    "if not input_path.is_dir():\n",
    "    input_path.mkdir()\n",
    "    \n",
    "    GetCompasData('SBJ_2012_001', '1', input_path.joinpath('1.오산시_주정차단속(2018~2020).csv'))\n",
    "    GetCompasData('SBJ_2012_001', '2', input_path.joinpath('2.오산시_어린이교통사고_격자.geojson'))\n",
    "    GetCompasData('SBJ_2012_001', '3', input_path.joinpath('3.오산시_차량등록현황_격자.geojson'))\n",
    "    GetCompasData('SBJ_2012_001', '4', input_path.joinpath('4.오산시_연령별_거주인구격자(총인구).geojson'))\n",
    "    GetCompasData('SBJ_2012_001', '5', input_path.joinpath('5.오산시_연령별_거주인구격자(유소년).geojson'))\n",
    "    GetCompasData('SBJ_2012_001', '6', input_path.joinpath('6.오산시_연령별_거주인구격자(생산가능인구).geojson'))\n",
    "    GetCompasData('SBJ_2012_001', '7', input_path.joinpath('7.오산시_연령별_거주인구격자(고령).geojson'))\n",
    "    GetCompasData('SBJ_2012_001', '8', input_path.joinpath('8.오산시_유동인구(2019).csv'))\n",
    "    GetCompasData('SBJ_2012_001', '9', input_path.joinpath('9.오산시_어린이보호구역.csv'))\n",
    "    GetCompasData('SBJ_2012_001', '10', input_path.joinpath('10.오산시_학교위치정보.csv'))\n",
    "    GetCompasData('SBJ_2012_001', '11', input_path.joinpath('11.오산시_초등학교_통학구.geojson'))\n",
    "    GetCompasData('SBJ_2012_001', '12', input_path.joinpath('12.오산시_중학교_학군.geojson'))\n",
    "    GetCompasData('SBJ_2012_001', '13', input_path.joinpath('13.오산시_어린이집_유치원현황.csv'))\n",
    "    GetCompasData('SBJ_2012_001', '14', input_path.joinpath('14.오산시_기상데이터(2010~2019).csv'))\n",
    "    GetCompasData('SBJ_2012_001', '15', input_path.joinpath('15.오산시_무인교통단속카메라.csv'))\n",
    "    GetCompasData('SBJ_2012_001', '16', input_path.joinpath('16.오산시_도로안전표지표준데이터.csv'))\n",
    "    GetCompasData('SBJ_2012_001', '17', input_path.joinpath('17.오산시_횡단보도.geojson'))\n",
    "    GetCompasData('SBJ_2012_001', '18', input_path.joinpath('18.오산시_과속방지턱표준데이터.csv'))\n",
    "    GetCompasData('SBJ_2012_001', '19', input_path.joinpath('19.오산시_신호등.geojson'))\n",
    "    GetCompasData('SBJ_2012_001', '20', input_path.joinpath('20.오산시_CCTV설치현황.csv'))\n",
    "    GetCompasData('SBJ_2012_001', '21', input_path.joinpath('21.오산시_인도.geojson'))\n",
    "    GetCompasData('SBJ_2012_001', '22', input_path.joinpath('22.오산시_버스정류장.csv'))\n",
    "    GetCompasData('SBJ_2012_001', '23', input_path.joinpath('23.오산시_상세도로망_LV6.geojson'))\n",
    "    GetCompasData('SBJ_2012_001', '24', input_path.joinpath('24.평일_전일,시간대별_오산시_추정교통량_Level6.csv'))\n",
    "    GetCompasData('SBJ_2012_001', '25', input_path.joinpath('25.평일_전일_오산시_혼잡빈도강도_Level6.csv'))\n",
    "    GetCompasData('SBJ_2012_001', '26', input_path.joinpath('26.평일_전일_오산시_혼잡시간강도_Level6.csv'))\n",
    "    GetCompasData('SBJ_2012_001', '27', input_path.joinpath('27.오산시_도로명주소_건물.geojson'))\n",
    "    GetCompasData('SBJ_2012_001', '28', input_path.joinpath('28.오산시_건물연면적_격자.geojson'))\n",
    "    GetCompasData('SBJ_2012_001', '29', input_path.joinpath('29.오산시_체육시설현황.csv'))\n",
    "    GetCompasData('SBJ_2012_001', '30', input_path.joinpath('30.오산시_학원_및_교습소_현황.csv'))\n",
    "    GetCompasData('SBJ_2012_001', '31', input_path.joinpath('31.오산시_법정경계(시군구).geojson'))\n",
    "    GetCompasData('SBJ_2012_001', '32', input_path.joinpath('32.오산시_행정경계(읍면동).geojson'))\n",
    "    GetCompasData('SBJ_2012_001', '33', input_path.joinpath('33.오산시_법정경계(읍면동).geojson'))\n",
    "    GetCompasData('SBJ_2012_001', '34', input_path.joinpath('34.오산시_지적도.geojson'))\n",
    "    GetCompasData('SBJ_2012_001', '35', input_path.joinpath('35.코드정의서.xlsx'))"
   ]
  },
  {
   "cell_type": "markdown",
   "metadata": {},
   "source": [
    "data load"
   ]
  },
  {
   "cell_type": "code",
   "execution_count": 4,
   "metadata": {},
   "outputs": [],
   "source": [
    "주정차단속 = pd.read_csv(input_path.joinpath('1.오산시_주정차단속(2018~2020).csv'),encoding=\"utf-8\")\n",
    "어린이교통사고_격자 = gpd.read_file(input_path.joinpath('2.오산시_어린이교통사고_격자.geojson'),encoding=\"utf-8\")\n",
    "차량등록현황_격자 = gpd.read_file(input_path.joinpath('3.오산시_차량등록현황_격자.geojson'),encoding=\"utf-8\")\n",
    "거주인구격자_총인구 = gpd.read_file(input_path.joinpath('4.오산시_연령별_거주인구격자(총인구).geojson'),encoding=\"utf-8\")\n",
    "거주인구격자_유소년 = gpd.read_file(input_path.joinpath('5.오산시_연령별_거주인구격자(유소년).geojson'),encoding=\"utf-8\")\n",
    "거주인구격자_생산가능 = gpd.read_file(input_path.joinpath('6.오산시_연령별_거주인구격자(생산가능인구).geojson'),encoding=\"utf-8\")\n",
    "거주인구격자_고령 = gpd.read_file(input_path.joinpath('7.오산시_연령별_거주인구격자(고령).geojson'),encoding=\"utf-8\")\n",
    "유동인구 = pd.read_csv(input_path.joinpath('8.오산시_유동인구(2019).csv'),encoding=\"utf-8\")\n",
    "어린이보호구역 = pd.read_csv(input_path.joinpath('9.오산시_어린이보호구역.csv'),encoding=\"utf-8\")\n",
    "학교위치정보 = pd.read_csv(input_path.joinpath('10.오산시_학교위치정보.csv'),encoding=\"utf-8\")\n",
    "초등학교_통학구 = gpd.read_file(input_path.joinpath('11.오산시_초등학교_통학구.geojson'),encoding=\"utf-8\")\n",
    "중학교_학군 = gpd.read_file(input_path.joinpath('12.오산시_중학교_학군.geojson'),encoding=\"utf-8\")\n",
    "어린이집_유치원현황 = pd.read_csv(input_path.joinpath('13.오산시_어린이집_유치원현황.csv'),encoding=\"utf-8\")\n",
    "기상데이터 = pd.read_csv(input_path.joinpath('14.오산시_기상데이터(2010~2019).csv'),encoding=\"utf-8\")\n",
    "무인교통단속카메라 = pd.read_csv(input_path.joinpath('15.오산시_무인교통단속카메라.csv'),encoding=\"utf-8\")\n",
    "도로안전표지 = pd.read_csv(input_path.joinpath('16.오산시_도로안전표지표준데이터.csv'),encoding=\"utf-8\")\n",
    "횡단보도 = gpd.read_file(input_path.joinpath('17.오산시_횡단보도.geojson'),encoding=\"utf-8\")\n",
    "과속방지턱 = pd.read_csv(input_path.joinpath('18.오산시_과속방지턱표준데이터.csv'),encoding=\"utf-8\")\n",
    "신호등 = gpd.read_file(input_path.joinpath('19.오산시_신호등.geojson'),encoding=\"utf-8\")\n",
    "CCTV설치현황 = pd.read_csv(input_path.joinpath('20.오산시_CCTV설치현황.csv'),encoding=\"utf-8\")\n",
    "인도 = gpd.read_file(input_path.joinpath('21.오산시_인도.geojson'),encoding=\"utf-8\")\n",
    "버스정류장 = pd.read_csv(input_path.joinpath('22.오산시_버스정류장.csv'),encoding=\"utf-8\")\n",
    "상세도로망 = gpd.read_file(input_path.joinpath('23.오산시_상세도로망_LV6.geojson'),encoding=\"utf-8\")\n",
    "시간대별_추정교통량 = pd.read_csv(input_path.joinpath('24.평일_전일,시간대별_오산시_추정교통량_Level6.csv'),encoding=\"utf-8\")\n",
    "혼잡빈도강도 = pd.read_csv(input_path.joinpath('25.평일_전일_오산시_혼잡빈도강도_Level6.csv'),encoding=\"utf-8\")\n",
    "혼잡시간강도 = pd.read_csv(input_path.joinpath('26.평일_전일_오산시_혼잡시간강도_Level6.csv'),encoding=\"utf-8\")\n",
    "도로명주소_건물 = gpd.read_file(input_path.joinpath('27.오산시_도로명주소_건물.geojson'),encoding=\"utf-8\")\n",
    "건물연면적_격자 = gpd.read_file(input_path.joinpath('28.오산시_건물연면적_격자.geojson'),encoding=\"utf-8\")\n",
    "체육시설현황 = pd.read_csv(input_path.joinpath('29.오산시_체육시설현황.csv'),encoding=\"utf-8\")\n",
    "학원_및_교습소_현황 = pd.read_csv(input_path.joinpath('30.오산시_학원_및_교습소_현황.csv'),encoding=\"utf-8\")\n",
    "법정경계_시군구 = gpd.read_file(input_path.joinpath('31.오산시_법정경계(시군구).geojson'),encoding=\"utf-8\")\n",
    "행정경계_읍면동 = gpd.read_file(input_path.joinpath('32.오산시_행정경계(읍면동).geojson'),encoding=\"utf-8\")\n",
    "법정경계_읍면동 = gpd.read_file(input_path.joinpath('33.오산시_법정경계(읍면동).geojson'),encoding=\"utf-8\")\n",
    "지적도 = gpd.read_file(input_path.joinpath('34.오산시_지적도.geojson'),encoding=\"utf-8\")\n",
    "코드정의서 =  pd.read_excel(input_path.joinpath('35.코드정의서.xlsx'))"
   ]
  }
 ],
 "metadata": {
  "kernelspec": {
   "display_name": "Python 3",
   "language": "python",
   "name": "python3"
  },
  "language_info": {
   "codemirror_mode": {
    "name": "ipython",
    "version": 3
   },
   "file_extension": ".py",
   "mimetype": "text/x-python",
   "name": "python",
   "nbconvert_exporter": "python",
   "pygments_lexer": "ipython3",
   "version": "3.8.3"
  }
 },
 "nbformat": 4,
 "nbformat_minor": 2
}
